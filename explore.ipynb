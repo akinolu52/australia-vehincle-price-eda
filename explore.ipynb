{
 "cells": [
  {
   "metadata": {},
   "cell_type": "markdown",
   "source": "### Loading the Data",
   "id": "10edb25830f46db6"
  },
  {
   "cell_type": "code",
   "id": "initial_id",
   "metadata": {
    "collapsed": true,
    "ExecuteTime": {
     "end_time": "2024-07-13T19:57:20.027462Z",
     "start_time": "2024-07-13T19:57:20.025839Z"
    }
   },
   "source": "import pandas as pd",
   "outputs": [],
   "execution_count": 4
  },
  {
   "metadata": {
    "ExecuteTime": {
     "end_time": "2024-07-13T19:57:20.349210Z",
     "start_time": "2024-07-13T19:57:20.310928Z"
    }
   },
   "cell_type": "code",
   "source": "df = pd.read_csv('./Australian Vehicle Prices.csv')",
   "id": "93a7485ab3b26124",
   "outputs": [],
   "execution_count": 5
  },
  {
   "metadata": {
    "ExecuteTime": {
     "end_time": "2024-07-13T19:57:20.358725Z",
     "start_time": "2024-07-13T19:57:20.350288Z"
    }
   },
   "cell_type": "code",
   "source": "df.head()",
   "id": "62ae24e566ad0d92",
   "outputs": [
    {
     "data": {
      "text/plain": [
       "           Brand    Year   Model               Car/Suv  \\\n",
       "0      Ssangyong  2022.0  Rexton  Sutherland Isuzu Ute   \n",
       "1             MG  2022.0     MG3             Hatchback   \n",
       "2            BMW  2022.0    430I                 Coupe   \n",
       "3  Mercedes-Benz  2011.0    E500                 Coupe   \n",
       "4        Renault  2022.0  Arkana                   SUV   \n",
       "\n",
       "                                       Title UsedOrNew Transmission  \\\n",
       "0       2022 Ssangyong Rexton Ultimate (awd)      DEMO    Automatic   \n",
       "1  2022 MG MG3 Auto Excite (with Navigation)      USED    Automatic   \n",
       "2                      2022 BMW 430I M Sport      USED    Automatic   \n",
       "3           2011 Mercedes-Benz E500 Elegance      USED    Automatic   \n",
       "4                 2022 Renault Arkana Intens      USED    Automatic   \n",
       "\n",
       "         Engine DriveType  FuelType FuelConsumption Kilometres   ColourExtInt  \\\n",
       "0  4 cyl, 2.2 L       AWD    Diesel  8.7 L / 100 km       5595  White / Black   \n",
       "1  4 cyl, 1.5 L     Front   Premium  6.7 L / 100 km         16  Black / Black   \n",
       "2    4 cyl, 2 L      Rear   Premium  6.6 L / 100 km       8472   Grey / White   \n",
       "3  8 cyl, 5.5 L      Rear   Premium   11 L / 100 km     136517  White / Brown   \n",
       "4  4 cyl, 1.3 L     Front  Unleaded    6 L / 100 km       1035   Grey / Black   \n",
       "\n",
       "            Location CylindersinEngine   BodyType     Doors     Seats   Price  \n",
       "0     Caringbah, NSW             4 cyl        SUV   4 Doors   7 Seats   51990  \n",
       "1     Brookvale, NSW             4 cyl  Hatchback   5 Doors   5 Seats   19990  \n",
       "2      Sylvania, NSW             4 cyl      Coupe   2 Doors   4 Seats  108988  \n",
       "3  Mount Druitt, NSW             8 cyl      Coupe   2 Doors   4 Seats   32990  \n",
       "4   Castle Hill, NSW             4 cyl        SUV   4 Doors   5 Seats   34990  "
      ],
      "text/html": [
       "<div>\n",
       "<style scoped>\n",
       "    .dataframe tbody tr th:only-of-type {\n",
       "        vertical-align: middle;\n",
       "    }\n",
       "\n",
       "    .dataframe tbody tr th {\n",
       "        vertical-align: top;\n",
       "    }\n",
       "\n",
       "    .dataframe thead th {\n",
       "        text-align: right;\n",
       "    }\n",
       "</style>\n",
       "<table border=\"1\" class=\"dataframe\">\n",
       "  <thead>\n",
       "    <tr style=\"text-align: right;\">\n",
       "      <th></th>\n",
       "      <th>Brand</th>\n",
       "      <th>Year</th>\n",
       "      <th>Model</th>\n",
       "      <th>Car/Suv</th>\n",
       "      <th>Title</th>\n",
       "      <th>UsedOrNew</th>\n",
       "      <th>Transmission</th>\n",
       "      <th>Engine</th>\n",
       "      <th>DriveType</th>\n",
       "      <th>FuelType</th>\n",
       "      <th>FuelConsumption</th>\n",
       "      <th>Kilometres</th>\n",
       "      <th>ColourExtInt</th>\n",
       "      <th>Location</th>\n",
       "      <th>CylindersinEngine</th>\n",
       "      <th>BodyType</th>\n",
       "      <th>Doors</th>\n",
       "      <th>Seats</th>\n",
       "      <th>Price</th>\n",
       "    </tr>\n",
       "  </thead>\n",
       "  <tbody>\n",
       "    <tr>\n",
       "      <th>0</th>\n",
       "      <td>Ssangyong</td>\n",
       "      <td>2022.0</td>\n",
       "      <td>Rexton</td>\n",
       "      <td>Sutherland Isuzu Ute</td>\n",
       "      <td>2022 Ssangyong Rexton Ultimate (awd)</td>\n",
       "      <td>DEMO</td>\n",
       "      <td>Automatic</td>\n",
       "      <td>4 cyl, 2.2 L</td>\n",
       "      <td>AWD</td>\n",
       "      <td>Diesel</td>\n",
       "      <td>8.7 L / 100 km</td>\n",
       "      <td>5595</td>\n",
       "      <td>White / Black</td>\n",
       "      <td>Caringbah, NSW</td>\n",
       "      <td>4 cyl</td>\n",
       "      <td>SUV</td>\n",
       "      <td>4 Doors</td>\n",
       "      <td>7 Seats</td>\n",
       "      <td>51990</td>\n",
       "    </tr>\n",
       "    <tr>\n",
       "      <th>1</th>\n",
       "      <td>MG</td>\n",
       "      <td>2022.0</td>\n",
       "      <td>MG3</td>\n",
       "      <td>Hatchback</td>\n",
       "      <td>2022 MG MG3 Auto Excite (with Navigation)</td>\n",
       "      <td>USED</td>\n",
       "      <td>Automatic</td>\n",
       "      <td>4 cyl, 1.5 L</td>\n",
       "      <td>Front</td>\n",
       "      <td>Premium</td>\n",
       "      <td>6.7 L / 100 km</td>\n",
       "      <td>16</td>\n",
       "      <td>Black / Black</td>\n",
       "      <td>Brookvale, NSW</td>\n",
       "      <td>4 cyl</td>\n",
       "      <td>Hatchback</td>\n",
       "      <td>5 Doors</td>\n",
       "      <td>5 Seats</td>\n",
       "      <td>19990</td>\n",
       "    </tr>\n",
       "    <tr>\n",
       "      <th>2</th>\n",
       "      <td>BMW</td>\n",
       "      <td>2022.0</td>\n",
       "      <td>430I</td>\n",
       "      <td>Coupe</td>\n",
       "      <td>2022 BMW 430I M Sport</td>\n",
       "      <td>USED</td>\n",
       "      <td>Automatic</td>\n",
       "      <td>4 cyl, 2 L</td>\n",
       "      <td>Rear</td>\n",
       "      <td>Premium</td>\n",
       "      <td>6.6 L / 100 km</td>\n",
       "      <td>8472</td>\n",
       "      <td>Grey / White</td>\n",
       "      <td>Sylvania, NSW</td>\n",
       "      <td>4 cyl</td>\n",
       "      <td>Coupe</td>\n",
       "      <td>2 Doors</td>\n",
       "      <td>4 Seats</td>\n",
       "      <td>108988</td>\n",
       "    </tr>\n",
       "    <tr>\n",
       "      <th>3</th>\n",
       "      <td>Mercedes-Benz</td>\n",
       "      <td>2011.0</td>\n",
       "      <td>E500</td>\n",
       "      <td>Coupe</td>\n",
       "      <td>2011 Mercedes-Benz E500 Elegance</td>\n",
       "      <td>USED</td>\n",
       "      <td>Automatic</td>\n",
       "      <td>8 cyl, 5.5 L</td>\n",
       "      <td>Rear</td>\n",
       "      <td>Premium</td>\n",
       "      <td>11 L / 100 km</td>\n",
       "      <td>136517</td>\n",
       "      <td>White / Brown</td>\n",
       "      <td>Mount Druitt, NSW</td>\n",
       "      <td>8 cyl</td>\n",
       "      <td>Coupe</td>\n",
       "      <td>2 Doors</td>\n",
       "      <td>4 Seats</td>\n",
       "      <td>32990</td>\n",
       "    </tr>\n",
       "    <tr>\n",
       "      <th>4</th>\n",
       "      <td>Renault</td>\n",
       "      <td>2022.0</td>\n",
       "      <td>Arkana</td>\n",
       "      <td>SUV</td>\n",
       "      <td>2022 Renault Arkana Intens</td>\n",
       "      <td>USED</td>\n",
       "      <td>Automatic</td>\n",
       "      <td>4 cyl, 1.3 L</td>\n",
       "      <td>Front</td>\n",
       "      <td>Unleaded</td>\n",
       "      <td>6 L / 100 km</td>\n",
       "      <td>1035</td>\n",
       "      <td>Grey / Black</td>\n",
       "      <td>Castle Hill, NSW</td>\n",
       "      <td>4 cyl</td>\n",
       "      <td>SUV</td>\n",
       "      <td>4 Doors</td>\n",
       "      <td>5 Seats</td>\n",
       "      <td>34990</td>\n",
       "    </tr>\n",
       "  </tbody>\n",
       "</table>\n",
       "</div>"
      ]
     },
     "execution_count": 6,
     "metadata": {},
     "output_type": "execute_result"
    }
   ],
   "execution_count": 6
  },
  {
   "metadata": {
    "ExecuteTime": {
     "end_time": "2024-07-13T19:57:20.395976Z",
     "start_time": "2024-07-13T19:57:20.393383Z"
    }
   },
   "cell_type": "code",
   "source": "df.shape",
   "id": "d00727d77b3e84bb",
   "outputs": [
    {
     "data": {
      "text/plain": [
       "(16734, 19)"
      ]
     },
     "execution_count": 7,
     "metadata": {},
     "output_type": "execute_result"
    }
   ],
   "execution_count": 7
  },
  {
   "metadata": {
    "ExecuteTime": {
     "end_time": "2024-07-13T19:57:20.446627Z",
     "start_time": "2024-07-13T19:57:20.430983Z"
    }
   },
   "cell_type": "code",
   "source": "df.info()",
   "id": "93bd49b64457c046",
   "outputs": [
    {
     "name": "stdout",
     "output_type": "stream",
     "text": [
      "<class 'pandas.core.frame.DataFrame'>\n",
      "RangeIndex: 16734 entries, 0 to 16733\n",
      "Data columns (total 19 columns):\n",
      " #   Column             Non-Null Count  Dtype  \n",
      "---  ------             --------------  -----  \n",
      " 0   Brand              16733 non-null  object \n",
      " 1   Year               16733 non-null  float64\n",
      " 2   Model              16733 non-null  object \n",
      " 3   Car/Suv            16706 non-null  object \n",
      " 4   Title              16733 non-null  object \n",
      " 5   UsedOrNew          16733 non-null  object \n",
      " 6   Transmission       16733 non-null  object \n",
      " 7   Engine             16733 non-null  object \n",
      " 8   DriveType          16733 non-null  object \n",
      " 9   FuelType           16733 non-null  object \n",
      " 10  FuelConsumption    16733 non-null  object \n",
      " 11  Kilometres         16733 non-null  object \n",
      " 12  ColourExtInt       16733 non-null  object \n",
      " 13  Location           16284 non-null  object \n",
      " 14  CylindersinEngine  16733 non-null  object \n",
      " 15  BodyType           16452 non-null  object \n",
      " 16  Doors              15130 non-null  object \n",
      " 17  Seats              15029 non-null  object \n",
      " 18  Price              16731 non-null  object \n",
      "dtypes: float64(1), object(18)\n",
      "memory usage: 2.4+ MB\n"
     ]
    }
   ],
   "execution_count": 8
  },
  {
   "metadata": {},
   "cell_type": "markdown",
   "source": "#### Checking for missing values",
   "id": "e4d5bb7c8bca7228"
  },
  {
   "metadata": {
    "ExecuteTime": {
     "end_time": "2024-07-13T19:57:20.502985Z",
     "start_time": "2024-07-13T19:57:20.494568Z"
    }
   },
   "cell_type": "code",
   "source": "df.isna().sum()",
   "id": "9727703921535e5e",
   "outputs": [
    {
     "data": {
      "text/plain": [
       "Brand                   1\n",
       "Year                    1\n",
       "Model                   1\n",
       "Car/Suv                28\n",
       "Title                   1\n",
       "UsedOrNew               1\n",
       "Transmission            1\n",
       "Engine                  1\n",
       "DriveType               1\n",
       "FuelType                1\n",
       "FuelConsumption         1\n",
       "Kilometres              1\n",
       "ColourExtInt            1\n",
       "Location              450\n",
       "CylindersinEngine       1\n",
       "BodyType              282\n",
       "Doors                1604\n",
       "Seats                1705\n",
       "Price                   3\n",
       "dtype: int64"
      ]
     },
     "execution_count": 9,
     "metadata": {},
     "output_type": "execute_result"
    }
   ],
   "execution_count": 9
  },
  {
   "metadata": {
    "ExecuteTime": {
     "end_time": "2024-07-13T19:57:20.530707Z",
     "start_time": "2024-07-13T19:57:20.521443Z"
    }
   },
   "cell_type": "code",
   "source": "df.isna().mean() * 100",
   "id": "61b63ac1470112bb",
   "outputs": [
    {
     "data": {
      "text/plain": [
       "Brand                 0.005976\n",
       "Year                  0.005976\n",
       "Model                 0.005976\n",
       "Car/Suv               0.167324\n",
       "Title                 0.005976\n",
       "UsedOrNew             0.005976\n",
       "Transmission          0.005976\n",
       "Engine                0.005976\n",
       "DriveType             0.005976\n",
       "FuelType              0.005976\n",
       "FuelConsumption       0.005976\n",
       "Kilometres            0.005976\n",
       "ColourExtInt          0.005976\n",
       "Location              2.689136\n",
       "CylindersinEngine     0.005976\n",
       "BodyType              1.685192\n",
       "Doors                 9.585275\n",
       "Seats                10.188837\n",
       "Price                 0.017928\n",
       "dtype: float64"
      ]
     },
     "execution_count": 10,
     "metadata": {},
     "output_type": "execute_result"
    }
   ],
   "execution_count": 10
  },
  {
   "metadata": {},
   "cell_type": "markdown",
   "source": "since the missing values percentage is very small, it's safe to delete and continue exploration",
   "id": "9deda53b076e41a9"
  },
  {
   "metadata": {
    "ExecuteTime": {
     "end_time": "2024-07-13T19:57:20.765597Z",
     "start_time": "2024-07-13T19:57:20.755740Z"
    }
   },
   "cell_type": "code",
   "source": "df.dropna(inplace=True)",
   "id": "8cce6c81fadf09aa",
   "outputs": [],
   "execution_count": 11
  },
  {
   "metadata": {
    "ExecuteTime": {
     "end_time": "2024-07-13T19:57:20.924932Z",
     "start_time": "2024-07-13T19:57:20.916527Z"
    }
   },
   "cell_type": "code",
   "source": [
    "# confirming that missing values does not exist in the dataframe\n",
    "\n",
    "df.isna().sum()"
   ],
   "id": "84ca1c08cf296a00",
   "outputs": [
    {
     "data": {
      "text/plain": [
       "Brand                0\n",
       "Year                 0\n",
       "Model                0\n",
       "Car/Suv              0\n",
       "Title                0\n",
       "UsedOrNew            0\n",
       "Transmission         0\n",
       "Engine               0\n",
       "DriveType            0\n",
       "FuelType             0\n",
       "FuelConsumption      0\n",
       "Kilometres           0\n",
       "ColourExtInt         0\n",
       "Location             0\n",
       "CylindersinEngine    0\n",
       "BodyType             0\n",
       "Doors                0\n",
       "Seats                0\n",
       "Price                0\n",
       "dtype: int64"
      ]
     },
     "execution_count": 12,
     "metadata": {},
     "output_type": "execute_result"
    }
   ],
   "execution_count": 12
  },
  {
   "metadata": {
    "ExecuteTime": {
     "end_time": "2024-07-13T20:12:22.920772Z",
     "start_time": "2024-07-13T20:12:22.908073Z"
    }
   },
   "cell_type": "code",
   "source": [
    "\n",
    "\n",
    "df[[\"Price\", \"Kilometres\"]].describe()"
   ],
   "id": "b0d7ed13a4c16dc8",
   "outputs": [
    {
     "data": {
      "text/plain": [
       "        Price Kilometres\n",
       "count   14586      14586\n",
       "unique   3205      12976\n",
       "top     29990         10\n",
       "freq      233        118"
      ],
      "text/html": [
       "<div>\n",
       "<style scoped>\n",
       "    .dataframe tbody tr th:only-of-type {\n",
       "        vertical-align: middle;\n",
       "    }\n",
       "\n",
       "    .dataframe tbody tr th {\n",
       "        vertical-align: top;\n",
       "    }\n",
       "\n",
       "    .dataframe thead th {\n",
       "        text-align: right;\n",
       "    }\n",
       "</style>\n",
       "<table border=\"1\" class=\"dataframe\">\n",
       "  <thead>\n",
       "    <tr style=\"text-align: right;\">\n",
       "      <th></th>\n",
       "      <th>Price</th>\n",
       "      <th>Kilometres</th>\n",
       "    </tr>\n",
       "  </thead>\n",
       "  <tbody>\n",
       "    <tr>\n",
       "      <th>count</th>\n",
       "      <td>14586</td>\n",
       "      <td>14586</td>\n",
       "    </tr>\n",
       "    <tr>\n",
       "      <th>unique</th>\n",
       "      <td>3205</td>\n",
       "      <td>12976</td>\n",
       "    </tr>\n",
       "    <tr>\n",
       "      <th>top</th>\n",
       "      <td>29990</td>\n",
       "      <td>10</td>\n",
       "    </tr>\n",
       "    <tr>\n",
       "      <th>freq</th>\n",
       "      <td>233</td>\n",
       "      <td>118</td>\n",
       "    </tr>\n",
       "  </tbody>\n",
       "</table>\n",
       "</div>"
      ]
     },
     "execution_count": 36,
     "metadata": {},
     "output_type": "execute_result"
    }
   ],
   "execution_count": 36
  },
  {
   "metadata": {
    "ExecuteTime": {
     "end_time": "2024-07-13T20:12:28.250760Z",
     "start_time": "2024-07-13T20:12:28.242188Z"
    }
   },
   "cell_type": "code",
   "source": "df[[\"Price\", \"Kilometres\"]].describe()",
   "id": "9dcb839d20ae9355",
   "outputs": [
    {
     "data": {
      "text/plain": [
       "        Price Kilometres\n",
       "count   14586      14586\n",
       "unique   3205      12976\n",
       "top     29990         10\n",
       "freq      233        118"
      ],
      "text/html": [
       "<div>\n",
       "<style scoped>\n",
       "    .dataframe tbody tr th:only-of-type {\n",
       "        vertical-align: middle;\n",
       "    }\n",
       "\n",
       "    .dataframe tbody tr th {\n",
       "        vertical-align: top;\n",
       "    }\n",
       "\n",
       "    .dataframe thead th {\n",
       "        text-align: right;\n",
       "    }\n",
       "</style>\n",
       "<table border=\"1\" class=\"dataframe\">\n",
       "  <thead>\n",
       "    <tr style=\"text-align: right;\">\n",
       "      <th></th>\n",
       "      <th>Price</th>\n",
       "      <th>Kilometres</th>\n",
       "    </tr>\n",
       "  </thead>\n",
       "  <tbody>\n",
       "    <tr>\n",
       "      <th>count</th>\n",
       "      <td>14586</td>\n",
       "      <td>14586</td>\n",
       "    </tr>\n",
       "    <tr>\n",
       "      <th>unique</th>\n",
       "      <td>3205</td>\n",
       "      <td>12976</td>\n",
       "    </tr>\n",
       "    <tr>\n",
       "      <th>top</th>\n",
       "      <td>29990</td>\n",
       "      <td>10</td>\n",
       "    </tr>\n",
       "    <tr>\n",
       "      <th>freq</th>\n",
       "      <td>233</td>\n",
       "      <td>118</td>\n",
       "    </tr>\n",
       "  </tbody>\n",
       "</table>\n",
       "</div>"
      ]
     },
     "execution_count": 37,
     "metadata": {},
     "output_type": "execute_result"
    }
   ],
   "execution_count": 37
  },
  {
   "metadata": {
    "ExecuteTime": {
     "end_time": "2024-07-13T20:12:58.695640Z",
     "start_time": "2024-07-13T20:12:58.690511Z"
    }
   },
   "cell_type": "code",
   "source": [
    "# df['Price'] = df['Price'].replace('POA', 0)\n",
    "# df['Kilometres'] = df['Kilometres'].replace('-', 0)"
   ],
   "id": "a1b66cdad4e2edd",
   "outputs": [],
   "execution_count": 40
  },
  {
   "metadata": {
    "ExecuteTime": {
     "end_time": "2024-07-13T20:15:34.392676Z",
     "start_time": "2024-07-13T20:15:34.386314Z"
    }
   },
   "cell_type": "code",
   "source": [
    "df['Kilometres'] = df['Kilometres'].apply(int)\n",
    "df['Price'] = df['Price'].apply(int)"
   ],
   "id": "ded18035c289fc20",
   "outputs": [],
   "execution_count": 56
  },
  {
   "metadata": {
    "ExecuteTime": {
     "end_time": "2024-07-14T04:20:05.071331Z",
     "start_time": "2024-07-14T04:20:04.997994Z"
    }
   },
   "cell_type": "code",
   "source": [
    "def q1(series):\n",
    "    return series.quantile(0.25)\n",
    "\n",
    "\n",
    "def q2(series):\n",
    "    return series.quantile(0.5)\n",
    "\n",
    "\n",
    "def q3(series):\n",
    "    return series.quantile(0.75)\n",
    "\n",
    "\n",
    "def iqr(series):\n",
    "    return q3(series) - q1(series)\n",
    "\n",
    "\n",
    "def lower_outlier(series):\n",
    "    return q1(series) - 1.5 * iqr(series)\n",
    "\n",
    "\n",
    "def upper_outlier(series):\n",
    "    return q3(series) + 1.5 * iqr(series)\n",
    "\n",
    "\n",
    "def data_range(series):\n",
    "    return series.max() - series.min()\n",
    "\n",
    "\n",
    "def mode(series):\n",
    "    return series.mode()[0]\n",
    "\n",
    "\n",
    "calculations = [\n",
    "    \"min\", \"max\", \"count\", \"mean\", \"median\", lambda x: x.mode()[0], data_range,\n",
    "    q1, q2, q3, iqr, \"std\", lower_outlier, upper_outlier\n",
    "]\n",
    "\n",
    "result = df.agg(\n",
    "    {\n",
    "        \"Price\": calculations,\n",
    "        \"Kilometres\": calculations,\n",
    "    }\n",
    ")\n",
    "\n",
    "# rename mode and range column\n",
    "result.rename(index={result.index[5]: 'mode'}, inplace=True)\n",
    "result.rename(index={result.index[6]: 'range'}, inplace=True)\n",
    "\n",
    "# Round the result to 2 decimal places\n",
    "result = result.round(2)\n",
    "\n",
    "result"
   ],
   "id": "515d9c9a3f9fe590",
   "outputs": [
    {
     "data": {
      "text/plain": [
       "                   Price  Kilometres\n",
       "min                 0.00        0.00\n",
       "max            649880.00   526162.00\n",
       "count           14586.00    14586.00\n",
       "mean            34896.31    99202.04\n",
       "median          28990.00    84285.00\n",
       "mode            29990.00       10.00\n",
       "range          649880.00   526162.00\n",
       "q1              18987.00    39787.50\n",
       "q2              28990.00    84285.00\n",
       "q3              42498.00   145862.25\n",
       "iqr             23511.00   106074.75\n",
       "std             29046.73    78350.77\n",
       "lower_outlier  -16279.50  -119324.62\n",
       "upper_outlier   77764.50   304974.38"
      ],
      "text/html": [
       "<div>\n",
       "<style scoped>\n",
       "    .dataframe tbody tr th:only-of-type {\n",
       "        vertical-align: middle;\n",
       "    }\n",
       "\n",
       "    .dataframe tbody tr th {\n",
       "        vertical-align: top;\n",
       "    }\n",
       "\n",
       "    .dataframe thead th {\n",
       "        text-align: right;\n",
       "    }\n",
       "</style>\n",
       "<table border=\"1\" class=\"dataframe\">\n",
       "  <thead>\n",
       "    <tr style=\"text-align: right;\">\n",
       "      <th></th>\n",
       "      <th>Price</th>\n",
       "      <th>Kilometres</th>\n",
       "    </tr>\n",
       "  </thead>\n",
       "  <tbody>\n",
       "    <tr>\n",
       "      <th>min</th>\n",
       "      <td>0.00</td>\n",
       "      <td>0.00</td>\n",
       "    </tr>\n",
       "    <tr>\n",
       "      <th>max</th>\n",
       "      <td>649880.00</td>\n",
       "      <td>526162.00</td>\n",
       "    </tr>\n",
       "    <tr>\n",
       "      <th>count</th>\n",
       "      <td>14586.00</td>\n",
       "      <td>14586.00</td>\n",
       "    </tr>\n",
       "    <tr>\n",
       "      <th>mean</th>\n",
       "      <td>34896.31</td>\n",
       "      <td>99202.04</td>\n",
       "    </tr>\n",
       "    <tr>\n",
       "      <th>median</th>\n",
       "      <td>28990.00</td>\n",
       "      <td>84285.00</td>\n",
       "    </tr>\n",
       "    <tr>\n",
       "      <th>mode</th>\n",
       "      <td>29990.00</td>\n",
       "      <td>10.00</td>\n",
       "    </tr>\n",
       "    <tr>\n",
       "      <th>range</th>\n",
       "      <td>649880.00</td>\n",
       "      <td>526162.00</td>\n",
       "    </tr>\n",
       "    <tr>\n",
       "      <th>q1</th>\n",
       "      <td>18987.00</td>\n",
       "      <td>39787.50</td>\n",
       "    </tr>\n",
       "    <tr>\n",
       "      <th>q2</th>\n",
       "      <td>28990.00</td>\n",
       "      <td>84285.00</td>\n",
       "    </tr>\n",
       "    <tr>\n",
       "      <th>q3</th>\n",
       "      <td>42498.00</td>\n",
       "      <td>145862.25</td>\n",
       "    </tr>\n",
       "    <tr>\n",
       "      <th>iqr</th>\n",
       "      <td>23511.00</td>\n",
       "      <td>106074.75</td>\n",
       "    </tr>\n",
       "    <tr>\n",
       "      <th>std</th>\n",
       "      <td>29046.73</td>\n",
       "      <td>78350.77</td>\n",
       "    </tr>\n",
       "    <tr>\n",
       "      <th>lower_outlier</th>\n",
       "      <td>-16279.50</td>\n",
       "      <td>-119324.62</td>\n",
       "    </tr>\n",
       "    <tr>\n",
       "      <th>upper_outlier</th>\n",
       "      <td>77764.50</td>\n",
       "      <td>304974.38</td>\n",
       "    </tr>\n",
       "  </tbody>\n",
       "</table>\n",
       "</div>"
      ]
     },
     "execution_count": 101,
     "metadata": {},
     "output_type": "execute_result"
    }
   ],
   "execution_count": 101
  },
  {
   "metadata": {
    "ExecuteTime": {
     "end_time": "2024-07-13T20:15:39.656537Z",
     "start_time": "2024-07-13T20:15:39.650601Z"
    }
   },
   "cell_type": "code",
   "source": "df[[\"Price\", \"Kilometres\"]].describe()",
   "id": "90cc9a638d40f84a",
   "outputs": [
    {
     "data": {
      "text/plain": [
       "               Price     Kilometres\n",
       "count   14586.000000   14586.000000\n",
       "mean    34896.309063   99202.037090\n",
       "std     29046.727010   78350.773116\n",
       "min         0.000000       0.000000\n",
       "25%     18987.000000   39787.500000\n",
       "50%     28990.000000   84285.000000\n",
       "75%     42498.000000  145862.250000\n",
       "max    649880.000000  526162.000000"
      ],
      "text/html": [
       "<div>\n",
       "<style scoped>\n",
       "    .dataframe tbody tr th:only-of-type {\n",
       "        vertical-align: middle;\n",
       "    }\n",
       "\n",
       "    .dataframe tbody tr th {\n",
       "        vertical-align: top;\n",
       "    }\n",
       "\n",
       "    .dataframe thead th {\n",
       "        text-align: right;\n",
       "    }\n",
       "</style>\n",
       "<table border=\"1\" class=\"dataframe\">\n",
       "  <thead>\n",
       "    <tr style=\"text-align: right;\">\n",
       "      <th></th>\n",
       "      <th>Price</th>\n",
       "      <th>Kilometres</th>\n",
       "    </tr>\n",
       "  </thead>\n",
       "  <tbody>\n",
       "    <tr>\n",
       "      <th>count</th>\n",
       "      <td>14586.000000</td>\n",
       "      <td>14586.000000</td>\n",
       "    </tr>\n",
       "    <tr>\n",
       "      <th>mean</th>\n",
       "      <td>34896.309063</td>\n",
       "      <td>99202.037090</td>\n",
       "    </tr>\n",
       "    <tr>\n",
       "      <th>std</th>\n",
       "      <td>29046.727010</td>\n",
       "      <td>78350.773116</td>\n",
       "    </tr>\n",
       "    <tr>\n",
       "      <th>min</th>\n",
       "      <td>0.000000</td>\n",
       "      <td>0.000000</td>\n",
       "    </tr>\n",
       "    <tr>\n",
       "      <th>25%</th>\n",
       "      <td>18987.000000</td>\n",
       "      <td>39787.500000</td>\n",
       "    </tr>\n",
       "    <tr>\n",
       "      <th>50%</th>\n",
       "      <td>28990.000000</td>\n",
       "      <td>84285.000000</td>\n",
       "    </tr>\n",
       "    <tr>\n",
       "      <th>75%</th>\n",
       "      <td>42498.000000</td>\n",
       "      <td>145862.250000</td>\n",
       "    </tr>\n",
       "    <tr>\n",
       "      <th>max</th>\n",
       "      <td>649880.000000</td>\n",
       "      <td>526162.000000</td>\n",
       "    </tr>\n",
       "  </tbody>\n",
       "</table>\n",
       "</div>"
      ]
     },
     "execution_count": 58,
     "metadata": {},
     "output_type": "execute_result"
    }
   ],
   "execution_count": 58
  },
  {
   "metadata": {},
   "cell_type": "markdown",
   "source": "## Data Cleaning",
   "id": "321e469be905121a"
  },
  {
   "metadata": {
    "ExecuteTime": {
     "end_time": "2024-07-13T19:57:20.966071Z",
     "start_time": "2024-07-13T19:57:20.961051Z"
    }
   },
   "cell_type": "code",
   "source": "df.dtypes",
   "id": "ce56d4a06137210",
   "outputs": [
    {
     "data": {
      "text/plain": [
       "Brand                 object\n",
       "Year                 float64\n",
       "Model                 object\n",
       "Car/Suv               object\n",
       "Title                 object\n",
       "UsedOrNew             object\n",
       "Transmission          object\n",
       "Engine                object\n",
       "DriveType             object\n",
       "FuelType              object\n",
       "FuelConsumption       object\n",
       "Kilometres            object\n",
       "ColourExtInt          object\n",
       "Location              object\n",
       "CylindersinEngine     object\n",
       "BodyType              object\n",
       "Doors                 object\n",
       "Seats                 object\n",
       "Price                 object\n",
       "dtype: object"
      ]
     },
     "execution_count": 13,
     "metadata": {},
     "output_type": "execute_result"
    }
   ],
   "execution_count": 13
  },
  {
   "metadata": {
    "ExecuteTime": {
     "end_time": "2024-07-13T19:57:21.002966Z",
     "start_time": "2024-07-13T19:57:21.000879Z"
    }
   },
   "cell_type": "code",
   "source": [
    "# define a function that will handle converting from object type to numeric type\n",
    "\n",
    "def extract_number(data: pd.DataFrame, column: str, pattern: str) -> pd.Series:\n",
    "    return data[column].str.extract(pattern, expand=False).astype('float32')\n"
   ],
   "id": "3392fefc890052d2",
   "outputs": [],
   "execution_count": 14
  },
  {
   "metadata": {
    "ExecuteTime": {
     "end_time": "2024-07-13T19:57:21.051813Z",
     "start_time": "2024-07-13T19:57:21.048116Z"
    }
   },
   "cell_type": "code",
   "source": [
    "# Handle the Price columns \n",
    "# convert columns from object datatype to floating point data type\n",
    "\n",
    "df['Price'].unique()"
   ],
   "id": "df01e955100e085f",
   "outputs": [
    {
     "data": {
      "text/plain": [
       "array(['51990', '19990', '108988', ..., '32856', '36770', '35280'],\n",
       "      dtype=object)"
      ]
     },
     "execution_count": 15,
     "metadata": {},
     "output_type": "execute_result"
    }
   ],
   "execution_count": 15
  },
  {
   "metadata": {
    "ExecuteTime": {
     "end_time": "2024-07-13T19:57:22.014243Z",
     "start_time": "2024-07-13T19:57:21.086183Z"
    }
   },
   "cell_type": "code",
   "source": "df['Price'] = df['Price'].astype(float)",
   "id": "66167c934d11696a",
   "outputs": [
    {
     "ename": "ValueError",
     "evalue": "could not convert string to float: 'POA'",
     "output_type": "error",
     "traceback": [
      "\u001B[0;31m---------------------------------------------------------------------------\u001B[0m",
      "\u001B[0;31mValueError\u001B[0m                                Traceback (most recent call last)",
      "Cell \u001B[0;32mIn[16], line 1\u001B[0m\n\u001B[0;32m----> 1\u001B[0m df[\u001B[38;5;124m'\u001B[39m\u001B[38;5;124mPrice\u001B[39m\u001B[38;5;124m'\u001B[39m] \u001B[38;5;241m=\u001B[39m df[\u001B[38;5;124m'\u001B[39m\u001B[38;5;124mPrice\u001B[39m\u001B[38;5;124m'\u001B[39m]\u001B[38;5;241m.\u001B[39mastype(\u001B[38;5;28mfloat\u001B[39m)\n",
      "File \u001B[0;32m~/anaconda3/lib/python3.11/site-packages/pandas/core/generic.py:6324\u001B[0m, in \u001B[0;36mNDFrame.astype\u001B[0;34m(self, dtype, copy, errors)\u001B[0m\n\u001B[1;32m   6317\u001B[0m     results \u001B[38;5;241m=\u001B[39m [\n\u001B[1;32m   6318\u001B[0m         \u001B[38;5;28mself\u001B[39m\u001B[38;5;241m.\u001B[39miloc[:, i]\u001B[38;5;241m.\u001B[39mastype(dtype, copy\u001B[38;5;241m=\u001B[39mcopy)\n\u001B[1;32m   6319\u001B[0m         \u001B[38;5;28;01mfor\u001B[39;00m i \u001B[38;5;129;01min\u001B[39;00m \u001B[38;5;28mrange\u001B[39m(\u001B[38;5;28mlen\u001B[39m(\u001B[38;5;28mself\u001B[39m\u001B[38;5;241m.\u001B[39mcolumns))\n\u001B[1;32m   6320\u001B[0m     ]\n\u001B[1;32m   6322\u001B[0m \u001B[38;5;28;01melse\u001B[39;00m:\n\u001B[1;32m   6323\u001B[0m     \u001B[38;5;66;03m# else, only a single dtype is given\u001B[39;00m\n\u001B[0;32m-> 6324\u001B[0m     new_data \u001B[38;5;241m=\u001B[39m \u001B[38;5;28mself\u001B[39m\u001B[38;5;241m.\u001B[39m_mgr\u001B[38;5;241m.\u001B[39mastype(dtype\u001B[38;5;241m=\u001B[39mdtype, copy\u001B[38;5;241m=\u001B[39mcopy, errors\u001B[38;5;241m=\u001B[39merrors)\n\u001B[1;32m   6325\u001B[0m     \u001B[38;5;28;01mreturn\u001B[39;00m \u001B[38;5;28mself\u001B[39m\u001B[38;5;241m.\u001B[39m_constructor(new_data)\u001B[38;5;241m.\u001B[39m__finalize__(\u001B[38;5;28mself\u001B[39m, method\u001B[38;5;241m=\u001B[39m\u001B[38;5;124m\"\u001B[39m\u001B[38;5;124mastype\u001B[39m\u001B[38;5;124m\"\u001B[39m)\n\u001B[1;32m   6327\u001B[0m \u001B[38;5;66;03m# GH 33113: handle empty frame or series\u001B[39;00m\n",
      "File \u001B[0;32m~/anaconda3/lib/python3.11/site-packages/pandas/core/internals/managers.py:451\u001B[0m, in \u001B[0;36mBaseBlockManager.astype\u001B[0;34m(self, dtype, copy, errors)\u001B[0m\n\u001B[1;32m    448\u001B[0m \u001B[38;5;28;01melif\u001B[39;00m using_copy_on_write():\n\u001B[1;32m    449\u001B[0m     copy \u001B[38;5;241m=\u001B[39m \u001B[38;5;28;01mFalse\u001B[39;00m\n\u001B[0;32m--> 451\u001B[0m \u001B[38;5;28;01mreturn\u001B[39;00m \u001B[38;5;28mself\u001B[39m\u001B[38;5;241m.\u001B[39mapply(\n\u001B[1;32m    452\u001B[0m     \u001B[38;5;124m\"\u001B[39m\u001B[38;5;124mastype\u001B[39m\u001B[38;5;124m\"\u001B[39m,\n\u001B[1;32m    453\u001B[0m     dtype\u001B[38;5;241m=\u001B[39mdtype,\n\u001B[1;32m    454\u001B[0m     copy\u001B[38;5;241m=\u001B[39mcopy,\n\u001B[1;32m    455\u001B[0m     errors\u001B[38;5;241m=\u001B[39merrors,\n\u001B[1;32m    456\u001B[0m     using_cow\u001B[38;5;241m=\u001B[39musing_copy_on_write(),\n\u001B[1;32m    457\u001B[0m )\n",
      "File \u001B[0;32m~/anaconda3/lib/python3.11/site-packages/pandas/core/internals/managers.py:352\u001B[0m, in \u001B[0;36mBaseBlockManager.apply\u001B[0;34m(self, f, align_keys, **kwargs)\u001B[0m\n\u001B[1;32m    350\u001B[0m         applied \u001B[38;5;241m=\u001B[39m b\u001B[38;5;241m.\u001B[39mapply(f, \u001B[38;5;241m*\u001B[39m\u001B[38;5;241m*\u001B[39mkwargs)\n\u001B[1;32m    351\u001B[0m     \u001B[38;5;28;01melse\u001B[39;00m:\n\u001B[0;32m--> 352\u001B[0m         applied \u001B[38;5;241m=\u001B[39m \u001B[38;5;28mgetattr\u001B[39m(b, f)(\u001B[38;5;241m*\u001B[39m\u001B[38;5;241m*\u001B[39mkwargs)\n\u001B[1;32m    353\u001B[0m     result_blocks \u001B[38;5;241m=\u001B[39m extend_blocks(applied, result_blocks)\n\u001B[1;32m    355\u001B[0m out \u001B[38;5;241m=\u001B[39m \u001B[38;5;28mtype\u001B[39m(\u001B[38;5;28mself\u001B[39m)\u001B[38;5;241m.\u001B[39mfrom_blocks(result_blocks, \u001B[38;5;28mself\u001B[39m\u001B[38;5;241m.\u001B[39maxes)\n",
      "File \u001B[0;32m~/anaconda3/lib/python3.11/site-packages/pandas/core/internals/blocks.py:511\u001B[0m, in \u001B[0;36mBlock.astype\u001B[0;34m(self, dtype, copy, errors, using_cow)\u001B[0m\n\u001B[1;32m    491\u001B[0m \u001B[38;5;250m\u001B[39m\u001B[38;5;124;03m\"\"\"\u001B[39;00m\n\u001B[1;32m    492\u001B[0m \u001B[38;5;124;03mCoerce to the new dtype.\u001B[39;00m\n\u001B[1;32m    493\u001B[0m \n\u001B[0;32m   (...)\u001B[0m\n\u001B[1;32m    507\u001B[0m \u001B[38;5;124;03mBlock\u001B[39;00m\n\u001B[1;32m    508\u001B[0m \u001B[38;5;124;03m\"\"\"\u001B[39;00m\n\u001B[1;32m    509\u001B[0m values \u001B[38;5;241m=\u001B[39m \u001B[38;5;28mself\u001B[39m\u001B[38;5;241m.\u001B[39mvalues\n\u001B[0;32m--> 511\u001B[0m new_values \u001B[38;5;241m=\u001B[39m astype_array_safe(values, dtype, copy\u001B[38;5;241m=\u001B[39mcopy, errors\u001B[38;5;241m=\u001B[39merrors)\n\u001B[1;32m    513\u001B[0m new_values \u001B[38;5;241m=\u001B[39m maybe_coerce_values(new_values)\n\u001B[1;32m    515\u001B[0m refs \u001B[38;5;241m=\u001B[39m \u001B[38;5;28;01mNone\u001B[39;00m\n",
      "File \u001B[0;32m~/anaconda3/lib/python3.11/site-packages/pandas/core/dtypes/astype.py:242\u001B[0m, in \u001B[0;36mastype_array_safe\u001B[0;34m(values, dtype, copy, errors)\u001B[0m\n\u001B[1;32m    239\u001B[0m     dtype \u001B[38;5;241m=\u001B[39m dtype\u001B[38;5;241m.\u001B[39mnumpy_dtype\n\u001B[1;32m    241\u001B[0m \u001B[38;5;28;01mtry\u001B[39;00m:\n\u001B[0;32m--> 242\u001B[0m     new_values \u001B[38;5;241m=\u001B[39m astype_array(values, dtype, copy\u001B[38;5;241m=\u001B[39mcopy)\n\u001B[1;32m    243\u001B[0m \u001B[38;5;28;01mexcept\u001B[39;00m (\u001B[38;5;167;01mValueError\u001B[39;00m, \u001B[38;5;167;01mTypeError\u001B[39;00m):\n\u001B[1;32m    244\u001B[0m     \u001B[38;5;66;03m# e.g. _astype_nansafe can fail on object-dtype of strings\u001B[39;00m\n\u001B[1;32m    245\u001B[0m     \u001B[38;5;66;03m#  trying to convert to float\u001B[39;00m\n\u001B[1;32m    246\u001B[0m     \u001B[38;5;28;01mif\u001B[39;00m errors \u001B[38;5;241m==\u001B[39m \u001B[38;5;124m\"\u001B[39m\u001B[38;5;124mignore\u001B[39m\u001B[38;5;124m\"\u001B[39m:\n",
      "File \u001B[0;32m~/anaconda3/lib/python3.11/site-packages/pandas/core/dtypes/astype.py:187\u001B[0m, in \u001B[0;36mastype_array\u001B[0;34m(values, dtype, copy)\u001B[0m\n\u001B[1;32m    184\u001B[0m     values \u001B[38;5;241m=\u001B[39m values\u001B[38;5;241m.\u001B[39mastype(dtype, copy\u001B[38;5;241m=\u001B[39mcopy)\n\u001B[1;32m    186\u001B[0m \u001B[38;5;28;01melse\u001B[39;00m:\n\u001B[0;32m--> 187\u001B[0m     values \u001B[38;5;241m=\u001B[39m _astype_nansafe(values, dtype, copy\u001B[38;5;241m=\u001B[39mcopy)\n\u001B[1;32m    189\u001B[0m \u001B[38;5;66;03m# in pandas we don't store numpy str dtypes, so convert to object\u001B[39;00m\n\u001B[1;32m    190\u001B[0m \u001B[38;5;28;01mif\u001B[39;00m \u001B[38;5;28misinstance\u001B[39m(dtype, np\u001B[38;5;241m.\u001B[39mdtype) \u001B[38;5;129;01mand\u001B[39;00m \u001B[38;5;28missubclass\u001B[39m(values\u001B[38;5;241m.\u001B[39mdtype\u001B[38;5;241m.\u001B[39mtype, \u001B[38;5;28mstr\u001B[39m):\n",
      "File \u001B[0;32m~/anaconda3/lib/python3.11/site-packages/pandas/core/dtypes/astype.py:138\u001B[0m, in \u001B[0;36m_astype_nansafe\u001B[0;34m(arr, dtype, copy, skipna)\u001B[0m\n\u001B[1;32m    134\u001B[0m     \u001B[38;5;28;01mraise\u001B[39;00m \u001B[38;5;167;01mValueError\u001B[39;00m(msg)\n\u001B[1;32m    136\u001B[0m \u001B[38;5;28;01mif\u001B[39;00m copy \u001B[38;5;129;01mor\u001B[39;00m is_object_dtype(arr\u001B[38;5;241m.\u001B[39mdtype) \u001B[38;5;129;01mor\u001B[39;00m is_object_dtype(dtype):\n\u001B[1;32m    137\u001B[0m     \u001B[38;5;66;03m# Explicit copy, or required since NumPy can't view from / to object.\u001B[39;00m\n\u001B[0;32m--> 138\u001B[0m     \u001B[38;5;28;01mreturn\u001B[39;00m arr\u001B[38;5;241m.\u001B[39mastype(dtype, copy\u001B[38;5;241m=\u001B[39m\u001B[38;5;28;01mTrue\u001B[39;00m)\n\u001B[1;32m    140\u001B[0m \u001B[38;5;28;01mreturn\u001B[39;00m arr\u001B[38;5;241m.\u001B[39mastype(dtype, copy\u001B[38;5;241m=\u001B[39mcopy)\n",
      "\u001B[0;31mValueError\u001B[0m: could not convert string to float: 'POA'"
     ]
    }
   ],
   "execution_count": 16
  },
  {
   "metadata": {},
   "cell_type": "code",
   "source": "df[df['Price'] == 'POA']",
   "id": "dae53ace640c36be",
   "outputs": [],
   "execution_count": null
  },
  {
   "metadata": {},
   "cell_type": "code",
   "source": [
    "# filter out all the columns with POA as its price value\n",
    "\n",
    "df = df[df['Price'] != 'POA']"
   ],
   "id": "6515c9292b276855",
   "outputs": [],
   "execution_count": null
  },
  {
   "metadata": {},
   "cell_type": "code",
   "source": [
    "# confirm that the filter works\n",
    "\n",
    "df[df['Price'] == 'POA']"
   ],
   "id": "e7adff752b618b6e",
   "outputs": [],
   "execution_count": null
  },
  {
   "metadata": {},
   "cell_type": "code",
   "source": [
    "# convert price column to numerical type\n",
    "\n",
    "df['Price'] = pd.to_numeric(df['Price'], errors='coerce')"
   ],
   "id": "2440f4f69ad0fb28",
   "outputs": [],
   "execution_count": null
  },
  {
   "metadata": {},
   "cell_type": "code",
   "source": "df.info()",
   "id": "1fe300f42a58bb5b",
   "outputs": [],
   "execution_count": null
  },
  {
   "metadata": {},
   "cell_type": "markdown",
   "source": "#### Handling kilometer",
   "id": "e0b14b4d806ad927"
  },
  {
   "metadata": {},
   "cell_type": "code",
   "source": "df['Kilometres'].unique()",
   "id": "45e0448a7af1ef0a",
   "outputs": [],
   "execution_count": null
  },
  {
   "metadata": {},
   "cell_type": "code",
   "source": "df['Kilometres'] = pd.to_numeric(df['Price'], errors='coerce')",
   "id": "5f5294da5abedb67",
   "outputs": [],
   "execution_count": null
  },
  {
   "metadata": {},
   "cell_type": "code",
   "source": "df.info()",
   "id": "443b49d2d4703f26",
   "outputs": [],
   "execution_count": null
  },
  {
   "metadata": {},
   "cell_type": "markdown",
   "source": "#### Handling Year",
   "id": "414d19afe1e81ae7"
  },
  {
   "metadata": {},
   "cell_type": "code",
   "source": "df['Year'].unique()",
   "id": "19567efc35c39a0f",
   "outputs": [],
   "execution_count": null
  },
  {
   "metadata": {},
   "cell_type": "code",
   "source": "df['Year'] = pd.to_numeric(df['Year'], errors='coerce')",
   "id": "6cc6891450354860",
   "outputs": [],
   "execution_count": null
  },
  {
   "metadata": {},
   "cell_type": "code",
   "source": "df.info()",
   "id": "a68029e0edafbb8a",
   "outputs": [],
   "execution_count": null
  },
  {
   "metadata": {},
   "cell_type": "markdown",
   "source": "#### Handling FuelConsumption",
   "id": "a9265bf5ebef684a"
  },
  {
   "metadata": {},
   "cell_type": "code",
   "source": [
    "# since FuelConsumption is in L / 100 km it's safe to remove this value from the columns\n",
    "\n",
    "replace_value = lambda fuel_str: float(fuel_str.replace(' L / 100 km', ''))\n",
    "\n",
    "df['FuelConsumption'] = df['FuelConsumption'].apply(replace_value)\n",
    "df['FuelConsumption'] = df['FuelConsumption'].astype(float)\n",
    "\n",
    "df['FuelConsumption'].head()"
   ],
   "id": "5eeb150a1ad1425",
   "outputs": [],
   "execution_count": null
  },
  {
   "metadata": {},
   "cell_type": "markdown",
   "source": "#### Handling CylindersinEngine",
   "id": "9616b88bab63bde8"
  },
  {
   "metadata": {},
   "cell_type": "code",
   "source": "df['CylindersinEngine'].unique()",
   "id": "789664a13ea8f06b",
   "outputs": [],
   "execution_count": null
  },
  {
   "metadata": {},
   "cell_type": "code",
   "source": [
    "my_test = \"Hello22 wel123come\"\n",
    "\n",
    "import re\n",
    "\n",
    "re.sub('\\D', '', my_test)"
   ],
   "id": "ffbc85e978c52c33",
   "outputs": [],
   "execution_count": null
  },
  {
   "metadata": {},
   "cell_type": "code",
   "source": [
    "df['CylindersinEngine'] = extract_number(df, column='CylindersinEngine', pattern=r'(\\d+) (?:cyl|L)')\n",
    "df['CylindersinEngine'] = df['CylindersinEngine'].astype(float)\n",
    "df['CylindersinEngine'].head()"
   ],
   "id": "5f1bf139271a60cb",
   "outputs": [],
   "execution_count": null
  },
  {
   "metadata": {},
   "cell_type": "code",
   "source": [
    "df['Doors'] = extract_number(df, column='Doors', pattern=r'(\\d+) Doors')\n",
    "df['Doors'] = df['Doors'].astype(float)\n",
    "df['Doors'].head()"
   ],
   "id": "720dc9e1b1d57a7a",
   "outputs": [],
   "execution_count": null
  },
  {
   "metadata": {},
   "cell_type": "code",
   "source": [
    "df['Seats'] = extract_number(df, column='Seats', pattern=r'(\\d+) Seats')\n",
    "df['Seats'] = df['Seats'].astype(float)\n",
    "df['Seats'].head()"
   ],
   "id": "bc470f7bcad4b919",
   "outputs": [],
   "execution_count": null
  },
  {
   "metadata": {},
   "cell_type": "code",
   "source": [
    "# verifying the changed made\n",
    "\n",
    "df.head()"
   ],
   "id": "305e68e5108d3201",
   "outputs": [],
   "execution_count": null
  },
  {
   "metadata": {},
   "cell_type": "markdown",
   "source": [
    "### Feature Engineering\n",
    "\n",
    "I will be generating the following features\n",
    "1. CarAge (how old is the car), this will be gotten from the 'Year' column\n",
    "2. Mileage (distance the car has covered)\n",
    "\n",
    "Mileage(km/L) = 100 / FuelConsumption(L/100km)"
   ],
   "id": "c457c5c4f2695518"
  },
  {
   "metadata": {},
   "cell_type": "code",
   "source": [
    "from datetime import datetime\n",
    "\n",
    "current_year = datetime.now().year\n",
    "\n",
    "df['CarAge'] = current_year - df['Year']\n",
    "\n",
    "df['CarAge']"
   ],
   "id": "516c4d9b47af1126",
   "outputs": [],
   "execution_count": null
  },
  {
   "metadata": {},
   "cell_type": "code",
   "source": [
    "# df['Mileage'] = 100 / (df['FuelConsumption'] if df['FuelConsumption'] > 0 else 1)\n",
    "# df['Mileage'].head()\n",
    "# Replace non-positive 'FuelConsumption' values with 1 to avoid division by zero\n",
    "df['AdjustedFuelConsumption'] = df['FuelConsumption'].where(df['FuelConsumption'] > 0, 1)\n",
    "\n",
    "# Calculate 'Mileage'\n",
    "df['Mileage'] = 100 / df['AdjustedFuelConsumption']"
   ],
   "id": "704139dc25ddfe99",
   "outputs": [],
   "execution_count": null
  },
  {
   "metadata": {},
   "cell_type": "code",
   "source": "df.head()",
   "id": "bf09f794b92ff84f",
   "outputs": [],
   "execution_count": null
  },
  {
   "metadata": {},
   "cell_type": "markdown",
   "source": "### Data Encoding",
   "id": "d1302a6a3a7a4463"
  },
  {
   "metadata": {},
   "cell_type": "code",
   "source": "df['Transmission'].unique()",
   "id": "5e6929caafb198a5",
   "outputs": [],
   "execution_count": null
  },
  {
   "metadata": {},
   "cell_type": "code",
   "source": [
    "# removing the '-' from transmission\n",
    "df = df[df['Transmission'] != '-']\n",
    "\n",
    "df.shape"
   ],
   "id": "d716380e4a26f9cf",
   "outputs": [],
   "execution_count": null
  },
  {
   "metadata": {},
   "cell_type": "code",
   "source": "df['Transmission'].unique()",
   "id": "400dc1c706045c5e",
   "outputs": [],
   "execution_count": null
  },
  {
   "metadata": {},
   "cell_type": "code",
   "source": "df.head()",
   "id": "b061badfe035ca82",
   "outputs": [],
   "execution_count": null
  },
  {
   "metadata": {},
   "cell_type": "code",
   "source": [
    "# convert all automatic values to 0 and manual to 1\n",
    "df['Transmission'] = (df['Transmission'] == 'Manual').astype(int)\n",
    "\n",
    "df.head()"
   ],
   "id": "a13b7be4d0b3c24f",
   "outputs": [],
   "execution_count": null
  },
  {
   "metadata": {},
   "cell_type": "markdown",
   "source": "### look through the dataset and determine the categorical and numerical columns",
   "id": "de0d7db67b09bec6"
  },
  {
   "metadata": {
    "ExecuteTime": {
     "end_time": "2024-07-13T19:57:22.342371Z",
     "start_time": "2024-07-13T19:57:22.337466Z"
    }
   },
   "cell_type": "code",
   "source": [
    "# Get the numerical columns\n",
    "numerical_columns = df.select_dtypes(include=['number']).columns.tolist()\n",
    "numerical_columns"
   ],
   "id": "ba015af1633b9bec",
   "outputs": [
    {
     "data": {
      "text/plain": [
       "['Year']"
      ]
     },
     "execution_count": 17,
     "metadata": {},
     "output_type": "execute_result"
    }
   ],
   "execution_count": 17
  },
  {
   "metadata": {
    "ExecuteTime": {
     "end_time": "2024-07-13T19:57:22.398280Z",
     "start_time": "2024-07-13T19:57:22.392463Z"
    }
   },
   "cell_type": "code",
   "source": [
    "# Get the categorical columns\n",
    "categorical_columns = df.select_dtypes(exclude=['number']).columns.tolist()"
   ],
   "id": "f72f9164c05f9586",
   "outputs": [],
   "execution_count": 18
  },
  {
   "metadata": {
    "ExecuteTime": {
     "end_time": "2024-07-13T19:57:22.482601Z",
     "start_time": "2024-07-13T19:57:22.475507Z"
    }
   },
   "cell_type": "code",
   "source": "df.describe()",
   "id": "d7e12e1713cab836",
   "outputs": [
    {
     "data": {
      "text/plain": [
       "               Year\n",
       "count  14586.000000\n",
       "mean    2016.237899\n",
       "std        4.923525\n",
       "min     1978.000000\n",
       "25%     2013.000000\n",
       "50%     2017.000000\n",
       "75%     2020.000000\n",
       "max     2023.000000"
      ],
      "text/html": [
       "<div>\n",
       "<style scoped>\n",
       "    .dataframe tbody tr th:only-of-type {\n",
       "        vertical-align: middle;\n",
       "    }\n",
       "\n",
       "    .dataframe tbody tr th {\n",
       "        vertical-align: top;\n",
       "    }\n",
       "\n",
       "    .dataframe thead th {\n",
       "        text-align: right;\n",
       "    }\n",
       "</style>\n",
       "<table border=\"1\" class=\"dataframe\">\n",
       "  <thead>\n",
       "    <tr style=\"text-align: right;\">\n",
       "      <th></th>\n",
       "      <th>Year</th>\n",
       "    </tr>\n",
       "  </thead>\n",
       "  <tbody>\n",
       "    <tr>\n",
       "      <th>count</th>\n",
       "      <td>14586.000000</td>\n",
       "    </tr>\n",
       "    <tr>\n",
       "      <th>mean</th>\n",
       "      <td>2016.237899</td>\n",
       "    </tr>\n",
       "    <tr>\n",
       "      <th>std</th>\n",
       "      <td>4.923525</td>\n",
       "    </tr>\n",
       "    <tr>\n",
       "      <th>min</th>\n",
       "      <td>1978.000000</td>\n",
       "    </tr>\n",
       "    <tr>\n",
       "      <th>25%</th>\n",
       "      <td>2013.000000</td>\n",
       "    </tr>\n",
       "    <tr>\n",
       "      <th>50%</th>\n",
       "      <td>2017.000000</td>\n",
       "    </tr>\n",
       "    <tr>\n",
       "      <th>75%</th>\n",
       "      <td>2020.000000</td>\n",
       "    </tr>\n",
       "    <tr>\n",
       "      <th>max</th>\n",
       "      <td>2023.000000</td>\n",
       "    </tr>\n",
       "  </tbody>\n",
       "</table>\n",
       "</div>"
      ]
     },
     "execution_count": 19,
     "metadata": {},
     "output_type": "execute_result"
    }
   ],
   "execution_count": 19
  },
  {
   "metadata": {
    "ExecuteTime": {
     "end_time": "2024-07-13T19:57:22.738698Z",
     "start_time": "2024-07-13T19:57:22.521665Z"
    }
   },
   "cell_type": "code",
   "source": [
    "from matplotlib import pyplot as plt\n",
    "\n",
    "df.hist(bins=20, figsize=(20, 10))\n",
    "plt.suptitle('Histograms of Numerical Features')\n",
    "plt.show()"
   ],
   "id": "4129e0293d76fa58",
   "outputs": [
    {
     "data": {
      "text/plain": [
       "<Figure size 2000x1000 with 1 Axes>"
      ],
      "image/png": "[encoded data removed]"
     },
     "metadata": {},
     "output_type": "display_data"
    }
   ],
   "execution_count": 20
  },
  {
   "metadata": {
    "ExecuteTime": {
     "end_time": "2024-07-13T19:57:23.228083Z",
     "start_time": "2024-07-13T19:57:22.740559Z"
    }
   },
   "cell_type": "code",
   "source": [
    "plt.hist(df['FuelConsumption'], bins=20, edgecolor='black')\n",
    "plt.title('Fuel Consumption Distribution')\n",
    "plt.xlabel('Fuel Consumption (L/100km)')\n",
    "plt.ylabel('Frequency')\n",
    "plt.show()"
   ],
   "id": "76738587e6ac8b29",
   "outputs": [
    {
     "data": {
      "text/plain": [
       "<Figure size 640x480 with 1 Axes>"
      ],
      "image/png": "[encoded data removed]"
     },
     "metadata": {},
     "output_type": "display_data"
    }
   ],
   "execution_count": 21
  },
  {
   "metadata": {
    "ExecuteTime": {
     "end_time": "2024-07-13T19:57:31.435228Z",
     "start_time": "2024-07-13T19:57:23.229145Z"
    }
   },
   "cell_type": "code",
   "source": [
    "plt.hist(df['Price'], bins=20, color='orange', edgecolor='black')\n",
    "plt.title('Car Price Distribution')\n",
    "plt.xlabel('Price (AUD)')\n",
    "plt.ylabel('Frequency')\n",
    "plt.show()"
   ],
   "id": "58e5e8b9816982c0",
   "outputs": [
    {
     "data": {
      "text/plain": [
       "<Figure size 640x480 with 1 Axes>"
      ],
      "image/png": "[encoded data removed]"
     },
     "metadata": {},
     "output_type": "display_data"
    }
   ],
   "execution_count": 22
  },
  {
   "metadata": {
    "ExecuteTime": {
     "end_time": "2024-07-13T19:57:31.776662Z",
     "start_time": "2024-07-13T19:57:31.436443Z"
    }
   },
   "cell_type": "code",
   "source": [
    "import seaborn as sns\n",
    "\n",
    "sns.kdeplot(data=df, x='Kilometres')\n",
    "plt.title(\"Kilometres\")\n",
    "plt.show()"
   ],
   "id": "7995caeafcd1f84a",
   "outputs": [
    {
     "ename": "TypeError",
     "evalue": "The x variable is categorical, but one of ['numeric', 'datetime'] is required",
     "output_type": "error",
     "traceback": [
      "\u001B[0;31m---------------------------------------------------------------------------\u001B[0m",
      "\u001B[0;31mTypeError\u001B[0m                                 Traceback (most recent call last)",
      "Cell \u001B[0;32mIn[23], line 3\u001B[0m\n\u001B[1;32m      1\u001B[0m \u001B[38;5;28;01mimport\u001B[39;00m \u001B[38;5;21;01mseaborn\u001B[39;00m \u001B[38;5;28;01mas\u001B[39;00m \u001B[38;5;21;01msns\u001B[39;00m\n\u001B[0;32m----> 3\u001B[0m sns\u001B[38;5;241m.\u001B[39mkdeplot(data\u001B[38;5;241m=\u001B[39mdf, x\u001B[38;5;241m=\u001B[39m\u001B[38;5;124m'\u001B[39m\u001B[38;5;124mKilometres\u001B[39m\u001B[38;5;124m'\u001B[39m)\n\u001B[1;32m      4\u001B[0m plt\u001B[38;5;241m.\u001B[39mtitle(\u001B[38;5;124m\"\u001B[39m\u001B[38;5;124mKilometres\u001B[39m\u001B[38;5;124m\"\u001B[39m)\n\u001B[1;32m      5\u001B[0m plt\u001B[38;5;241m.\u001B[39mshow()\n",
      "File \u001B[0;32m~/anaconda3/lib/python3.11/site-packages/seaborn/distributions.py:1695\u001B[0m, in \u001B[0;36mkdeplot\u001B[0;34m(data, x, y, hue, weights, palette, hue_order, hue_norm, color, fill, multiple, common_norm, common_grid, cumulative, bw_method, bw_adjust, warn_singular, log_scale, levels, thresh, gridsize, cut, clip, legend, cbar, cbar_ax, cbar_kws, ax, **kwargs)\u001B[0m\n\u001B[1;32m   1692\u001B[0m \u001B[38;5;28;01mif\u001B[39;00m ax \u001B[38;5;129;01mis\u001B[39;00m \u001B[38;5;28;01mNone\u001B[39;00m:\n\u001B[1;32m   1693\u001B[0m     ax \u001B[38;5;241m=\u001B[39m plt\u001B[38;5;241m.\u001B[39mgca()\n\u001B[0;32m-> 1695\u001B[0m p\u001B[38;5;241m.\u001B[39m_attach(ax, allowed_types\u001B[38;5;241m=\u001B[39m[\u001B[38;5;124m\"\u001B[39m\u001B[38;5;124mnumeric\u001B[39m\u001B[38;5;124m\"\u001B[39m, \u001B[38;5;124m\"\u001B[39m\u001B[38;5;124mdatetime\u001B[39m\u001B[38;5;124m\"\u001B[39m], log_scale\u001B[38;5;241m=\u001B[39mlog_scale)\n\u001B[1;32m   1697\u001B[0m method \u001B[38;5;241m=\u001B[39m ax\u001B[38;5;241m.\u001B[39mfill_between \u001B[38;5;28;01mif\u001B[39;00m fill \u001B[38;5;28;01melse\u001B[39;00m ax\u001B[38;5;241m.\u001B[39mplot\n\u001B[1;32m   1698\u001B[0m color \u001B[38;5;241m=\u001B[39m _default_color(method, hue, color, kwargs)\n",
      "File \u001B[0;32m~/anaconda3/lib/python3.11/site-packages/seaborn/_oldcore.py:1211\u001B[0m, in \u001B[0;36mVectorPlotter._attach\u001B[0;34m(self, obj, allowed_types, log_scale)\u001B[0m\n\u001B[1;32m   1206\u001B[0m     \u001B[38;5;28;01mif\u001B[39;00m var_type \u001B[38;5;129;01mnot\u001B[39;00m \u001B[38;5;129;01min\u001B[39;00m allowed_types:\n\u001B[1;32m   1207\u001B[0m         err \u001B[38;5;241m=\u001B[39m (\n\u001B[1;32m   1208\u001B[0m             \u001B[38;5;124mf\u001B[39m\u001B[38;5;124m\"\u001B[39m\u001B[38;5;124mThe \u001B[39m\u001B[38;5;132;01m{\u001B[39;00mvar\u001B[38;5;132;01m}\u001B[39;00m\u001B[38;5;124m variable is \u001B[39m\u001B[38;5;132;01m{\u001B[39;00mvar_type\u001B[38;5;132;01m}\u001B[39;00m\u001B[38;5;124m, but one of \u001B[39m\u001B[38;5;124m\"\u001B[39m\n\u001B[1;32m   1209\u001B[0m             \u001B[38;5;124mf\u001B[39m\u001B[38;5;124m\"\u001B[39m\u001B[38;5;132;01m{\u001B[39;00mallowed_types\u001B[38;5;132;01m}\u001B[39;00m\u001B[38;5;124m is required\u001B[39m\u001B[38;5;124m\"\u001B[39m\n\u001B[1;32m   1210\u001B[0m         )\n\u001B[0;32m-> 1211\u001B[0m         \u001B[38;5;28;01mraise\u001B[39;00m \u001B[38;5;167;01mTypeError\u001B[39;00m(err)\n\u001B[1;32m   1213\u001B[0m \u001B[38;5;66;03m# -- Get axis objects for each row in plot_data for type conversions and scaling\u001B[39;00m\n\u001B[1;32m   1215\u001B[0m facet_dim \u001B[38;5;241m=\u001B[39m {\u001B[38;5;124m\"\u001B[39m\u001B[38;5;124mx\u001B[39m\u001B[38;5;124m\"\u001B[39m: \u001B[38;5;124m\"\u001B[39m\u001B[38;5;124mcol\u001B[39m\u001B[38;5;124m\"\u001B[39m, \u001B[38;5;124m\"\u001B[39m\u001B[38;5;124my\u001B[39m\u001B[38;5;124m\"\u001B[39m: \u001B[38;5;124m\"\u001B[39m\u001B[38;5;124mrow\u001B[39m\u001B[38;5;124m\"\u001B[39m}\n",
      "\u001B[0;31mTypeError\u001B[0m: The x variable is categorical, but one of ['numeric', 'datetime'] is required"
     ]
    },
    {
     "data": {
      "text/plain": [
       "<Figure size 640x480 with 1 Axes>"
      ],
      "image/png": "[encoded data removed]"
     },
     "metadata": {},
     "output_type": "display_data"
    }
   ],
   "execution_count": 23
  },
  {
   "metadata": {},
   "cell_type": "code",
   "source": [
    "cols_to_plot = ['UsedOrNew', 'Transmission', 'DriveType', 'FuelType', 'BodyType', 'Car/Suv', 'Model', 'Brand', 'Doors',\n",
    "                'DriveType',\n",
    "                'Seats',\n",
    "                'ColourExtInt']\n",
    "\n",
    "for col in cols_to_plot:\n",
    "    plt.figure(figsize=(20, 6))\n",
    "    sns.countplot(data=df, x=col, order=df[col].value_counts().index[:50])\n",
    "    plt.title(f'{col} vs Count')\n",
    "    if len(df[col].value_counts().index) > 50:\n",
    "        plt.xticks(rotation=90)\n",
    "    plt.show()"
   ],
   "id": "47172fa969f8b9f5",
   "outputs": [],
   "execution_count": null
  },
  {
   "metadata": {},
   "cell_type": "code",
   "source": [
    "import plotly.express as px\n",
    "\n",
    "px.bar(df, x='Model', y='Price', color='Model', range_x=[0, 10], title='Model vs Price')"
   ],
   "id": "a41a1035416b81f8",
   "outputs": [],
   "execution_count": null
  },
  {
   "metadata": {},
   "cell_type": "code",
   "source": "px.bar(df, x='Brand', y='Price', color='Brand', range_x=[0, 10], title='Brand vs Price')",
   "id": "1f8d2d475d96d692",
   "outputs": [],
   "execution_count": null
  },
  {
   "metadata": {},
   "cell_type": "code",
   "source": [
    "px.scatter(df, x='Price', y='Brand')\n",
    "# px.bar(df, x='Kilometres', y='Price', color='Kilometres', title='Kilometres vs Price')"
   ],
   "id": "9ba7d0fb6dff0cbf",
   "outputs": [],
   "execution_count": null
  },
  {
   "metadata": {},
   "cell_type": "code",
   "source": "px.scatter(df, x='Model', y='Price')",
   "id": "c2e29e79393f032",
   "outputs": [],
   "execution_count": null
  },
  {
   "metadata": {},
   "cell_type": "code",
   "source": [
    "\n",
    "fig = px.line(df, x='Kilometres', y='UsedOrNew', color='UsedOrNew', title='Distance(KM) vs UsedOrNew')\n",
    "\n",
    "fig.show()\n",
    "df.corr(numeric_only=True)"
   ],
   "id": "2954fd1faf352857",
   "outputs": [],
   "execution_count": null
  },
  {
   "metadata": {},
   "cell_type": "code",
   "source": "df.corr(numeric_only=True)",
   "id": "692802fc797718e2",
   "outputs": [],
   "execution_count": null
  },
  {
   "metadata": {},
   "cell_type": "code",
   "source": [
    "numerical_columns_features = df.select_dtypes(include=['float64', 'int64'])\n",
    "\n",
    "# Calculate the correlation matrix\n",
    "correlation_matrix = numerical_columns_features.corr()\n",
    "\n",
    "# Create a heatmap\n",
    "plt.figure(figsize=(20, 8))\n",
    "sns.heatmap(correlation_matrix, annot=True, cmap='coolwarm', fmt=\".2f\", linewidths=.5)\n",
    "plt.title('Correlation Matrix Heatmap')\n",
    "plt.show()"
   ],
   "id": "2874a4a72005dec1",
   "outputs": [],
   "execution_count": null
  },
  {
   "metadata": {},
   "cell_type": "code",
   "source": "",
   "id": "a6c8f4e619e66924",
   "outputs": [],
   "execution_count": null
  }
 ],
 "metadata": {
  "kernelspec": {
   "display_name": "Python 3",
   "language": "python",
   "name": "python3"
  },
  "language_info": {
   "codemirror_mode": {
    "name": "ipython",
    "version": 2
   },
   "file_extension": ".py",
   "mimetype": "text/x-python",
   "name": "python",
   "nbconvert_exporter": "python",
   "pygments_lexer": "ipython2",
   "version": "2.7.6"
  }
 },
 "nbformat": 4,
 "nbformat_minor": 5
}
