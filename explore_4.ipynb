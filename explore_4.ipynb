{
 "cells": [
  {
   "metadata": {},
   "cell_type": "markdown",
   "source": "### Loading the Data",
   "id": "10edb25830f46db6"
  },
  {
   "cell_type": "code",
   "id": "initial_id",
   "metadata": {
    "collapsed": true,
    "ExecuteTime": {
     "end_time": "2024-08-02T01:44:25.216042Z",
     "start_time": "2024-08-02T01:44:25.213710Z"
    }
   },
   "source": [
    "import pandas as pd\n",
    "import plotly.express as px\n",
    "from sklearn.compose import ColumnTransformer\n",
    "from sklearn.ensemble import RandomForestClassifier\n",
    "from sklearn.metrics import accuracy_score\n",
    "from sklearn.model_selection import train_test_split\n",
    "from sklearn.preprocessing import OneHotEncoder\n",
    "from sklearn.svm import SVC"
   ],
   "outputs": [],
   "execution_count": 68
  },
  {
   "metadata": {
    "ExecuteTime": {
     "end_time": "2024-08-02T01:44:28.046136Z",
     "start_time": "2024-08-02T01:44:25.216799Z"
    }
   },
   "cell_type": "code",
   "source": [
    "df = None\n",
    "\n",
    "# Attempting to load a CSV file from a Google Drive link into a Pandas DataFrame.\n",
    "try:\n",
    "    # Original URL pointing to Google Drive file shared for viewing.\n",
    "    url = 'https://drive.google.com/file/d/1xx0EV_nLt9shUSFJ7u5qAeeDrinZRnxf/view?usp=sharing'\n",
    "\n",
    "    # Extracting file ID from the original URL to construct a direct download link.\n",
    "    url = 'https://drive.google.com/uc?id=' + url.split('/')[-2]\n",
    "\n",
    "    # Loading the CSV data from the constructed URL into a Pandas DataFrame.\n",
    "    df = pd.read_csv(url)\n",
    "\n",
    "    # Confirmation message upon successful loading of CSV data.\n",
    "    print('Csv and Dataframe loaded.')\n",
    "\n",
    "except Exception as e:\n",
    "    # Handling any exceptions that may occur during the process and printing the error message.\n",
    "    print('Exception occurred: ', str(e))\n"
   ],
   "id": "e5edc7d7e94c98ee",
   "outputs": [
    {
     "name": "stdout",
     "output_type": "stream",
     "text": [
      "Csv and Dataframe loaded.\n"
     ]
    }
   ],
   "execution_count": 69
  },
  {
   "metadata": {
    "ExecuteTime": {
     "end_time": "2024-08-02T01:44:28.052202Z",
     "start_time": "2024-08-02T01:44:28.046775Z"
    }
   },
   "cell_type": "code",
   "source": [
    "# exploring the dataset\n",
    "df.head()"
   ],
   "id": "62ae24e566ad0d92",
   "outputs": [
    {
     "data": {
      "text/plain": [
       "           Brand    Year   Model               Car/Suv  \\\n",
       "0      Ssangyong  2022.0  Rexton  Sutherland Isuzu Ute   \n",
       "1             MG  2022.0     MG3             Hatchback   \n",
       "2            BMW  2022.0    430I                 Coupe   \n",
       "3  Mercedes-Benz  2011.0    E500                 Coupe   \n",
       "4        Renault  2022.0  Arkana                   SUV   \n",
       "\n",
       "                                       Title UsedOrNew Transmission  \\\n",
       "0       2022 Ssangyong Rexton Ultimate (awd)      DEMO    Automatic   \n",
       "1  2022 MG MG3 Auto Excite (with Navigation)      USED    Automatic   \n",
       "2                      2022 BMW 430I M Sport      USED    Automatic   \n",
       "3           2011 Mercedes-Benz E500 Elegance      USED    Automatic   \n",
       "4                 2022 Renault Arkana Intens      USED    Automatic   \n",
       "\n",
       "         Engine DriveType  FuelType FuelConsumption Kilometres   ColourExtInt  \\\n",
       "0  4 cyl, 2.2 L       AWD    Diesel  8.7 L / 100 km       5595  White / Black   \n",
       "1  4 cyl, 1.5 L     Front   Premium  6.7 L / 100 km         16  Black / Black   \n",
       "2    4 cyl, 2 L      Rear   Premium  6.6 L / 100 km       8472   Grey / White   \n",
       "3  8 cyl, 5.5 L      Rear   Premium   11 L / 100 km     136517  White / Brown   \n",
       "4  4 cyl, 1.3 L     Front  Unleaded    6 L / 100 km       1035   Grey / Black   \n",
       "\n",
       "            Location CylindersinEngine   BodyType     Doors     Seats   Price  \n",
       "0     Caringbah, NSW             4 cyl        SUV   4 Doors   7 Seats   51990  \n",
       "1     Brookvale, NSW             4 cyl  Hatchback   5 Doors   5 Seats   19990  \n",
       "2      Sylvania, NSW             4 cyl      Coupe   2 Doors   4 Seats  108988  \n",
       "3  Mount Druitt, NSW             8 cyl      Coupe   2 Doors   4 Seats   32990  \n",
       "4   Castle Hill, NSW             4 cyl        SUV   4 Doors   5 Seats   34990  "
      ],
      "text/html": [
       "<div>\n",
       "<style scoped>\n",
       "    .dataframe tbody tr th:only-of-type {\n",
       "        vertical-align: middle;\n",
       "    }\n",
       "\n",
       "    .dataframe tbody tr th {\n",
       "        vertical-align: top;\n",
       "    }\n",
       "\n",
       "    .dataframe thead th {\n",
       "        text-align: right;\n",
       "    }\n",
       "</style>\n",
       "<table border=\"1\" class=\"dataframe\">\n",
       "  <thead>\n",
       "    <tr style=\"text-align: right;\">\n",
       "      <th></th>\n",
       "      <th>Brand</th>\n",
       "      <th>Year</th>\n",
       "      <th>Model</th>\n",
       "      <th>Car/Suv</th>\n",
       "      <th>Title</th>\n",
       "      <th>UsedOrNew</th>\n",
       "      <th>Transmission</th>\n",
       "      <th>Engine</th>\n",
       "      <th>DriveType</th>\n",
       "      <th>FuelType</th>\n",
       "      <th>FuelConsumption</th>\n",
       "      <th>Kilometres</th>\n",
       "      <th>ColourExtInt</th>\n",
       "      <th>Location</th>\n",
       "      <th>CylindersinEngine</th>\n",
       "      <th>BodyType</th>\n",
       "      <th>Doors</th>\n",
       "      <th>Seats</th>\n",
       "      <th>Price</th>\n",
       "    </tr>\n",
       "  </thead>\n",
       "  <tbody>\n",
       "    <tr>\n",
       "      <th>0</th>\n",
       "      <td>Ssangyong</td>\n",
       "      <td>2022.0</td>\n",
       "      <td>Rexton</td>\n",
       "      <td>Sutherland Isuzu Ute</td>\n",
       "      <td>2022 Ssangyong Rexton Ultimate (awd)</td>\n",
       "      <td>DEMO</td>\n",
       "      <td>Automatic</td>\n",
       "      <td>4 cyl, 2.2 L</td>\n",
       "      <td>AWD</td>\n",
       "      <td>Diesel</td>\n",
       "      <td>8.7 L / 100 km</td>\n",
       "      <td>5595</td>\n",
       "      <td>White / Black</td>\n",
       "      <td>Caringbah, NSW</td>\n",
       "      <td>4 cyl</td>\n",
       "      <td>SUV</td>\n",
       "      <td>4 Doors</td>\n",
       "      <td>7 Seats</td>\n",
       "      <td>51990</td>\n",
       "    </tr>\n",
       "    <tr>\n",
       "      <th>1</th>\n",
       "      <td>MG</td>\n",
       "      <td>2022.0</td>\n",
       "      <td>MG3</td>\n",
       "      <td>Hatchback</td>\n",
       "      <td>2022 MG MG3 Auto Excite (with Navigation)</td>\n",
       "      <td>USED</td>\n",
       "      <td>Automatic</td>\n",
       "      <td>4 cyl, 1.5 L</td>\n",
       "      <td>Front</td>\n",
       "      <td>Premium</td>\n",
       "      <td>6.7 L / 100 km</td>\n",
       "      <td>16</td>\n",
       "      <td>Black / Black</td>\n",
       "      <td>Brookvale, NSW</td>\n",
       "      <td>4 cyl</td>\n",
       "      <td>Hatchback</td>\n",
       "      <td>5 Doors</td>\n",
       "      <td>5 Seats</td>\n",
       "      <td>19990</td>\n",
       "    </tr>\n",
       "    <tr>\n",
       "      <th>2</th>\n",
       "      <td>BMW</td>\n",
       "      <td>2022.0</td>\n",
       "      <td>430I</td>\n",
       "      <td>Coupe</td>\n",
       "      <td>2022 BMW 430I M Sport</td>\n",
       "      <td>USED</td>\n",
       "      <td>Automatic</td>\n",
       "      <td>4 cyl, 2 L</td>\n",
       "      <td>Rear</td>\n",
       "      <td>Premium</td>\n",
       "      <td>6.6 L / 100 km</td>\n",
       "      <td>8472</td>\n",
       "      <td>Grey / White</td>\n",
       "      <td>Sylvania, NSW</td>\n",
       "      <td>4 cyl</td>\n",
       "      <td>Coupe</td>\n",
       "      <td>2 Doors</td>\n",
       "      <td>4 Seats</td>\n",
       "      <td>108988</td>\n",
       "    </tr>\n",
       "    <tr>\n",
       "      <th>3</th>\n",
       "      <td>Mercedes-Benz</td>\n",
       "      <td>2011.0</td>\n",
       "      <td>E500</td>\n",
       "      <td>Coupe</td>\n",
       "      <td>2011 Mercedes-Benz E500 Elegance</td>\n",
       "      <td>USED</td>\n",
       "      <td>Automatic</td>\n",
       "      <td>8 cyl, 5.5 L</td>\n",
       "      <td>Rear</td>\n",
       "      <td>Premium</td>\n",
       "      <td>11 L / 100 km</td>\n",
       "      <td>136517</td>\n",
       "      <td>White / Brown</td>\n",
       "      <td>Mount Druitt, NSW</td>\n",
       "      <td>8 cyl</td>\n",
       "      <td>Coupe</td>\n",
       "      <td>2 Doors</td>\n",
       "      <td>4 Seats</td>\n",
       "      <td>32990</td>\n",
       "    </tr>\n",
       "    <tr>\n",
       "      <th>4</th>\n",
       "      <td>Renault</td>\n",
       "      <td>2022.0</td>\n",
       "      <td>Arkana</td>\n",
       "      <td>SUV</td>\n",
       "      <td>2022 Renault Arkana Intens</td>\n",
       "      <td>USED</td>\n",
       "      <td>Automatic</td>\n",
       "      <td>4 cyl, 1.3 L</td>\n",
       "      <td>Front</td>\n",
       "      <td>Unleaded</td>\n",
       "      <td>6 L / 100 km</td>\n",
       "      <td>1035</td>\n",
       "      <td>Grey / Black</td>\n",
       "      <td>Castle Hill, NSW</td>\n",
       "      <td>4 cyl</td>\n",
       "      <td>SUV</td>\n",
       "      <td>4 Doors</td>\n",
       "      <td>5 Seats</td>\n",
       "      <td>34990</td>\n",
       "    </tr>\n",
       "  </tbody>\n",
       "</table>\n",
       "</div>"
      ]
     },
     "execution_count": 70,
     "metadata": {},
     "output_type": "execute_result"
    }
   ],
   "execution_count": 70
  },
  {
   "metadata": {
    "ExecuteTime": {
     "end_time": "2024-08-02T01:44:28.055102Z",
     "start_time": "2024-08-02T01:44:28.052939Z"
    }
   },
   "cell_type": "code",
   "source": [
    "# verifying the rows and columns in the dataset\n",
    "df.shape"
   ],
   "id": "d00727d77b3e84bb",
   "outputs": [
    {
     "data": {
      "text/plain": [
       "(16734, 19)"
      ]
     },
     "execution_count": 71,
     "metadata": {},
     "output_type": "execute_result"
    }
   ],
   "execution_count": 71
  },
  {
   "metadata": {
    "ExecuteTime": {
     "end_time": "2024-08-02T01:44:28.078764Z",
     "start_time": "2024-08-02T01:44:28.055762Z"
    }
   },
   "cell_type": "code",
   "source": [
    "# verifying the dataset information\n",
    "df.info()"
   ],
   "id": "93bd49b64457c046",
   "outputs": [
    {
     "name": "stdout",
     "output_type": "stream",
     "text": [
      "<class 'pandas.core.frame.DataFrame'>\n",
      "RangeIndex: 16734 entries, 0 to 16733\n",
      "Data columns (total 19 columns):\n",
      " #   Column             Non-Null Count  Dtype  \n",
      "---  ------             --------------  -----  \n",
      " 0   Brand              16733 non-null  object \n",
      " 1   Year               16733 non-null  float64\n",
      " 2   Model              16733 non-null  object \n",
      " 3   Car/Suv            16706 non-null  object \n",
      " 4   Title              16733 non-null  object \n",
      " 5   UsedOrNew          16733 non-null  object \n",
      " 6   Transmission       16733 non-null  object \n",
      " 7   Engine             16733 non-null  object \n",
      " 8   DriveType          16733 non-null  object \n",
      " 9   FuelType           16733 non-null  object \n",
      " 10  FuelConsumption    16733 non-null  object \n",
      " 11  Kilometres         16733 non-null  object \n",
      " 12  ColourExtInt       16733 non-null  object \n",
      " 13  Location           16284 non-null  object \n",
      " 14  CylindersinEngine  16733 non-null  object \n",
      " 15  BodyType           16452 non-null  object \n",
      " 16  Doors              15130 non-null  object \n",
      " 17  Seats              15029 non-null  object \n",
      " 18  Price              16731 non-null  object \n",
      "dtypes: float64(1), object(18)\n",
      "memory usage: 2.4+ MB\n"
     ]
    }
   ],
   "execution_count": 72
  },
  {
   "metadata": {},
   "cell_type": "markdown",
   "source": "#### Checking for missing values",
   "id": "e4d5bb7c8bca7228"
  },
  {
   "metadata": {
    "ExecuteTime": {
     "end_time": "2024-08-02T01:44:28.101029Z",
     "start_time": "2024-08-02T01:44:28.079493Z"
    }
   },
   "cell_type": "code",
   "source": "df.isna().sum()",
   "id": "9727703921535e5e",
   "outputs": [
    {
     "data": {
      "text/plain": [
       "Brand                   1\n",
       "Year                    1\n",
       "Model                   1\n",
       "Car/Suv                28\n",
       "Title                   1\n",
       "UsedOrNew               1\n",
       "Transmission            1\n",
       "Engine                  1\n",
       "DriveType               1\n",
       "FuelType                1\n",
       "FuelConsumption         1\n",
       "Kilometres              1\n",
       "ColourExtInt            1\n",
       "Location              450\n",
       "CylindersinEngine       1\n",
       "BodyType              282\n",
       "Doors                1604\n",
       "Seats                1705\n",
       "Price                   3\n",
       "dtype: int64"
      ]
     },
     "execution_count": 73,
     "metadata": {},
     "output_type": "execute_result"
    }
   ],
   "execution_count": 73
  },
  {
   "metadata": {},
   "cell_type": "markdown",
   "source": "Handling of missing values",
   "id": "9deda53b076e41a9"
  },
  {
   "metadata": {
    "ExecuteTime": {
     "end_time": "2024-08-02T01:44:28.111930Z",
     "start_time": "2024-08-02T01:44:28.101766Z"
    }
   },
   "cell_type": "code",
   "source": [
    "# Calculating the missing values\n",
    "\n",
    "for each in df.columns:\n",
    "    print('Percent of null values', each, ':', (df[each].isnull().mean() * 100).round(2))"
   ],
   "id": "f6abfa95bb9a4c6e",
   "outputs": [
    {
     "name": "stdout",
     "output_type": "stream",
     "text": [
      "Percent of null values Brand : 0.01\n",
      "Percent of null values Year : 0.01\n",
      "Percent of null values Model : 0.01\n",
      "Percent of null values Car/Suv : 0.17\n",
      "Percent of null values Title : 0.01\n",
      "Percent of null values UsedOrNew : 0.01\n",
      "Percent of null values Transmission : 0.01\n",
      "Percent of null values Engine : 0.01\n",
      "Percent of null values DriveType : 0.01\n",
      "Percent of null values FuelType : 0.01\n",
      "Percent of null values FuelConsumption : 0.01\n",
      "Percent of null values Kilometres : 0.01\n",
      "Percent of null values ColourExtInt : 0.01\n",
      "Percent of null values Location : 2.69\n",
      "Percent of null values CylindersinEngine : 0.01\n",
      "Percent of null values BodyType : 1.69\n",
      "Percent of null values Doors : 9.59\n",
      "Percent of null values Seats : 10.19\n",
      "Percent of null values Price : 0.02\n"
     ]
    }
   ],
   "execution_count": 74
  },
  {
   "metadata": {
    "ExecuteTime": {
     "end_time": "2024-08-02T01:44:28.136107Z",
     "start_time": "2024-08-02T01:44:28.112465Z"
    }
   },
   "cell_type": "code",
   "source": [
    "# filling missing values \n",
    "# small => mean\n",
    "# large => mode\n",
    "\n",
    "for column in df.columns:\n",
    "    if df[column].dtype == 'object':\n",
    "        # For string columns, fill missing values with mode\n",
    "        mode_value = df[column].mode().iloc[0]  # Get the mode value as a scalar\n",
    "        df[column].fillna(mode_value, inplace=True)\n",
    "    else:\n",
    "        # For numeric columns, fill missing values with mean\n",
    "        df[column].fillna(df[column].mean(), inplace=True)"
   ],
   "id": "d319fdf78e27aeff",
   "outputs": [],
   "execution_count": 75
  },
  {
   "metadata": {
    "ExecuteTime": {
     "end_time": "2024-08-02T01:44:28.158141Z",
     "start_time": "2024-08-02T01:44:28.136910Z"
    }
   },
   "cell_type": "code",
   "source": [
    "# confirming that missing values does not exist in the dataframe\n",
    "\n",
    "df.isna().sum()"
   ],
   "id": "84ca1c08cf296a00",
   "outputs": [
    {
     "data": {
      "text/plain": [
       "Brand                0\n",
       "Year                 0\n",
       "Model                0\n",
       "Car/Suv              0\n",
       "Title                0\n",
       "UsedOrNew            0\n",
       "Transmission         0\n",
       "Engine               0\n",
       "DriveType            0\n",
       "FuelType             0\n",
       "FuelConsumption      0\n",
       "Kilometres           0\n",
       "ColourExtInt         0\n",
       "Location             0\n",
       "CylindersinEngine    0\n",
       "BodyType             0\n",
       "Doors                0\n",
       "Seats                0\n",
       "Price                0\n",
       "dtype: int64"
      ]
     },
     "execution_count": 76,
     "metadata": {},
     "output_type": "execute_result"
    }
   ],
   "execution_count": 76
  },
  {
   "metadata": {
    "ExecuteTime": {
     "end_time": "2024-08-02T01:44:28.165833Z",
     "start_time": "2024-08-02T01:44:28.158693Z"
    }
   },
   "cell_type": "code",
   "source": [
    "# Replace specific values in the 'Price' and 'Kilometres' columns of the DataFrame.\n",
    "\n",
    "# Replace 'POA' (Price on Application) with 0 in the 'Price' column.\n",
    "df['Price'] = df['Price'].replace('POA', 0)\n",
    "\n",
    "# Replace '-' (dash) with 0 in the 'Kilometres' column.\n",
    "df['Kilometres'] = df['Kilometres'].replace('-', 0)\n"
   ],
   "id": "7f633fbeb7b9c37d",
   "outputs": [],
   "execution_count": 77
  },
  {
   "metadata": {
    "ExecuteTime": {
     "end_time": "2024-08-02T01:44:28.181941Z",
     "start_time": "2024-08-02T01:44:28.166505Z"
    }
   },
   "cell_type": "code",
   "source": [
    "# Convert specified columns to integers, handling errors gracefully.\n",
    "\n",
    "# Convert 'Kilometres' column to numeric, coercing errors to NaN, filling NaN with 0, and converting to integer.\n",
    "df['Kilometres'] = pd.to_numeric(df['Kilometres'], errors='coerce').fillna(0).astype(int)\n",
    "\n",
    "# Convert 'Price' column to numeric, coercing errors to NaN, filling NaN with 0, and converting to integer.\n",
    "df['Price'] = pd.to_numeric(df['Price'], errors='coerce').fillna(0).astype(int)\n",
    "\n",
    "# Verify the data types of 'Kilometres' and 'Price' columns after conversion.\n",
    "df[['Kilometres', 'Price']].dtypes\n"
   ],
   "id": "ded18035c289fc20",
   "outputs": [
    {
     "data": {
      "text/plain": [
       "Kilometres    int64\n",
       "Price         int64\n",
       "dtype: object"
      ]
     },
     "execution_count": 78,
     "metadata": {},
     "output_type": "execute_result"
    }
   ],
   "execution_count": 78
  },
  {
   "metadata": {
    "ExecuteTime": {
     "end_time": "2024-08-02T01:44:28.227188Z",
     "start_time": "2024-08-02T01:44:28.182957Z"
    }
   },
   "cell_type": "code",
   "source": [
    "# Define functions to calculate quartiles and inter-quartile range (IQR)\n",
    "def q1(series):\n",
    "    \"\"\"Calculate the first quartile (Q1).\"\"\"\n",
    "    return series.quantile(0.25)\n",
    "\n",
    "\n",
    "def q3(series):\n",
    "    \"\"\"Calculate the third quartile (Q3).\"\"\"\n",
    "    return series.quantile(0.75)\n",
    "\n",
    "\n",
    "def iqr(series):\n",
    "    \"\"\"Calculate the interquartile range (IQR).\"\"\"\n",
    "    return q3(series) - q1(series)\n",
    "\n",
    "\n",
    "def lower_outlier(series):\n",
    "    \"\"\"Calculate the lower outlier bound.\"\"\"\n",
    "    return (q1(series) - 1.5 * iqr(series)).round(2)\n",
    "\n",
    "\n",
    "def upper_outlier(series):\n",
    "    \"\"\"Calculate the upper outlier bound.\"\"\"\n",
    "    return q3(series) + 1.5 * iqr(series)\n",
    "\n",
    "\n",
    "def data_range(series):\n",
    "    \"\"\"Calculate the range of the data.\"\"\"\n",
    "    return series.max() - series.min()\n",
    "\n",
    "\n",
    "def mode(series):\n",
    "    \"\"\"Calculate the mode of the data.\"\"\"\n",
    "    return series.mode()[0]\n",
    "\n",
    "\n",
    "# Define a list of calculations to apply to each column\n",
    "calculations = [\n",
    "    \"min\",  # Minimum value\n",
    "    \"max\",  # Maximum value\n",
    "    \"count\",  # Count of non-null values\n",
    "    \"mean\",  # Mean value\n",
    "    \"median\",  # Median value\n",
    "    lambda x: x.mode()[0],  # Mode value\n",
    "    data_range,  # Range of the data\n",
    "    q1,  # First quartile (Q1)\n",
    "    q3,  # Third quartile (Q3)\n",
    "    iqr,  # Inter-quartile range (IQR)\n",
    "    \"var\",  # Sample Variance\n",
    "    \"std\",  # Sample Standard deviation\n",
    "    lower_outlier,  # Lower outlier bound\n",
    "    upper_outlier  # Upper outlier bound\n",
    "]\n",
    "\n",
    "# Apply the calculations to each column in the dataframe (df)\n",
    "result = df.agg(\n",
    "    {\n",
    "        \"Price\": calculations,  # Apply calculations to the 'Price' column\n",
    "        \"Kilometres\": calculations  # Apply calculations to the 'Kilometres' column\n",
    "    }\n",
    ")\n",
    "\n",
    "# Rename the 'mode' and 'range' rows for clarity\n",
    "result.rename(index={result.index[5]: 'mode'}, inplace=True)  # Rename mode row\n",
    "result.rename(index={result.index[6]: 'range'}, inplace=True)  # Rename range row\n",
    "result.rename(index={result.index[-3]: 'variance'}, inplace=True)  # Rename range row\n",
    "result.rename(index={result.index[-4]: 'standard deviation'}, inplace=True)  # Rename range row\n",
    "\n",
    "\n",
    "# Define a function to format large numbers\n",
    "def format_large_numbers(x):\n",
    "    if abs(x) >= 1e6:\n",
    "        return f'{x:.2e}'  # Scientific notation for numbers >= 1 million\n",
    "    else:\n",
    "        return f'{x:.2f}'  # Normal formatting for smaller numbers\n",
    "\n",
    "\n",
    "# Apply formatting to each cell in the DataFrame\n",
    "result = result.applymap(format_large_numbers)\n",
    "\n",
    "# Display the resulting dataframe\n",
    "result"
   ],
   "id": "515d9c9a3f9fe590",
   "outputs": [
    {
     "data": {
      "text/plain": [
       "                        Price  Kilometres\n",
       "min                      0.00        0.00\n",
       "max                  1.50e+06   533849.00\n",
       "count                16734.00    16734.00\n",
       "mean                 37190.56    96555.00\n",
       "median               29300.00    82352.00\n",
       "mode                 29990.00        0.00\n",
       "range                1.50e+06   533849.00\n",
       "q1                   18990.00    34807.00\n",
       "q3                   43990.00   143738.00\n",
       "iqr                  25000.00   108931.00\n",
       "standard deviation   1.38e+09    6.24e+09\n",
       "variance             37174.87    79011.38\n",
       "lower_outlier       -18510.00  -128589.50\n",
       "upper_outlier        81490.00   307134.50"
      ],
      "text/html": [
       "<div>\n",
       "<style scoped>\n",
       "    .dataframe tbody tr th:only-of-type {\n",
       "        vertical-align: middle;\n",
       "    }\n",
       "\n",
       "    .dataframe tbody tr th {\n",
       "        vertical-align: top;\n",
       "    }\n",
       "\n",
       "    .dataframe thead th {\n",
       "        text-align: right;\n",
       "    }\n",
       "</style>\n",
       "<table border=\"1\" class=\"dataframe\">\n",
       "  <thead>\n",
       "    <tr style=\"text-align: right;\">\n",
       "      <th></th>\n",
       "      <th>Price</th>\n",
       "      <th>Kilometres</th>\n",
       "    </tr>\n",
       "  </thead>\n",
       "  <tbody>\n",
       "    <tr>\n",
       "      <th>min</th>\n",
       "      <td>0.00</td>\n",
       "      <td>0.00</td>\n",
       "    </tr>\n",
       "    <tr>\n",
       "      <th>max</th>\n",
       "      <td>1.50e+06</td>\n",
       "      <td>533849.00</td>\n",
       "    </tr>\n",
       "    <tr>\n",
       "      <th>count</th>\n",
       "      <td>16734.00</td>\n",
       "      <td>16734.00</td>\n",
       "    </tr>\n",
       "    <tr>\n",
       "      <th>mean</th>\n",
       "      <td>37190.56</td>\n",
       "      <td>96555.00</td>\n",
       "    </tr>\n",
       "    <tr>\n",
       "      <th>median</th>\n",
       "      <td>29300.00</td>\n",
       "      <td>82352.00</td>\n",
       "    </tr>\n",
       "    <tr>\n",
       "      <th>mode</th>\n",
       "      <td>29990.00</td>\n",
       "      <td>0.00</td>\n",
       "    </tr>\n",
       "    <tr>\n",
       "      <th>range</th>\n",
       "      <td>1.50e+06</td>\n",
       "      <td>533849.00</td>\n",
       "    </tr>\n",
       "    <tr>\n",
       "      <th>q1</th>\n",
       "      <td>18990.00</td>\n",
       "      <td>34807.00</td>\n",
       "    </tr>\n",
       "    <tr>\n",
       "      <th>q3</th>\n",
       "      <td>43990.00</td>\n",
       "      <td>143738.00</td>\n",
       "    </tr>\n",
       "    <tr>\n",
       "      <th>iqr</th>\n",
       "      <td>25000.00</td>\n",
       "      <td>108931.00</td>\n",
       "    </tr>\n",
       "    <tr>\n",
       "      <th>standard deviation</th>\n",
       "      <td>1.38e+09</td>\n",
       "      <td>6.24e+09</td>\n",
       "    </tr>\n",
       "    <tr>\n",
       "      <th>variance</th>\n",
       "      <td>37174.87</td>\n",
       "      <td>79011.38</td>\n",
       "    </tr>\n",
       "    <tr>\n",
       "      <th>lower_outlier</th>\n",
       "      <td>-18510.00</td>\n",
       "      <td>-128589.50</td>\n",
       "    </tr>\n",
       "    <tr>\n",
       "      <th>upper_outlier</th>\n",
       "      <td>81490.00</td>\n",
       "      <td>307134.50</td>\n",
       "    </tr>\n",
       "  </tbody>\n",
       "</table>\n",
       "</div>"
      ]
     },
     "execution_count": 79,
     "metadata": {},
     "output_type": "execute_result"
    }
   ],
   "execution_count": 79
  },
  {
   "metadata": {},
   "cell_type": "markdown",
   "source": "### Classification Model",
   "id": "dc52d59b681b2648"
  },
  {
   "metadata": {
    "ExecuteTime": {
     "end_time": "2024-08-02T01:44:28.236626Z",
     "start_time": "2024-08-02T01:44:28.230986Z"
    }
   },
   "cell_type": "code",
   "source": "df.columns",
   "id": "a0649486cb788a7",
   "outputs": [
    {
     "data": {
      "text/plain": [
       "Index(['Brand', 'Year', 'Model', 'Car/Suv', 'Title', 'UsedOrNew',\n",
       "       'Transmission', 'Engine', 'DriveType', 'FuelType', 'FuelConsumption',\n",
       "       'Kilometres', 'ColourExtInt', 'Location', 'CylindersinEngine',\n",
       "       'BodyType', 'Doors', 'Seats', 'Price'],\n",
       "      dtype='object')"
      ]
     },
     "execution_count": 80,
     "metadata": {},
     "output_type": "execute_result"
    }
   ],
   "execution_count": 80
  },
  {
   "metadata": {
    "ExecuteTime": {
     "end_time": "2024-08-02T01:44:28.238916Z",
     "start_time": "2024-08-02T01:44:28.237430Z"
    }
   },
   "cell_type": "code",
   "source": [
    "# # Separate features (x) and target (y)\n",
    "# x = df.drop(columns=['DriveType'])\n",
    "# y = df['DriveType']"
   ],
   "id": "7e4a9ce964e91cce",
   "outputs": [],
   "execution_count": 81
  },
  {
   "metadata": {
    "ExecuteTime": {
     "end_time": "2024-08-02T01:44:28.244111Z",
     "start_time": "2024-08-02T01:44:28.239513Z"
    }
   },
   "cell_type": "code",
   "source": [
    "x = df.drop(columns=['DriveType']).columns\n",
    "', '.join(list(x))\n",
    "len(x)"
   ],
   "id": "e25b0f3e7e44a20a",
   "outputs": [
    {
     "data": {
      "text/plain": [
       "18"
      ]
     },
     "execution_count": 82,
     "metadata": {},
     "output_type": "execute_result"
    }
   ],
   "execution_count": 82
  },
  {
   "metadata": {
    "ExecuteTime": {
     "end_time": "2024-08-02T01:44:28.249508Z",
     "start_time": "2024-08-02T01:44:28.244642Z"
    }
   },
   "cell_type": "code",
   "source": "df.head()",
   "id": "e4078d45b8c02e8a",
   "outputs": [
    {
     "data": {
      "text/plain": [
       "           Brand    Year   Model               Car/Suv  \\\n",
       "0      Ssangyong  2022.0  Rexton  Sutherland Isuzu Ute   \n",
       "1             MG  2022.0     MG3             Hatchback   \n",
       "2            BMW  2022.0    430I                 Coupe   \n",
       "3  Mercedes-Benz  2011.0    E500                 Coupe   \n",
       "4        Renault  2022.0  Arkana                   SUV   \n",
       "\n",
       "                                       Title UsedOrNew Transmission  \\\n",
       "0       2022 Ssangyong Rexton Ultimate (awd)      DEMO    Automatic   \n",
       "1  2022 MG MG3 Auto Excite (with Navigation)      USED    Automatic   \n",
       "2                      2022 BMW 430I M Sport      USED    Automatic   \n",
       "3           2011 Mercedes-Benz E500 Elegance      USED    Automatic   \n",
       "4                 2022 Renault Arkana Intens      USED    Automatic   \n",
       "\n",
       "         Engine DriveType  FuelType FuelConsumption  Kilometres  \\\n",
       "0  4 cyl, 2.2 L       AWD    Diesel  8.7 L / 100 km        5595   \n",
       "1  4 cyl, 1.5 L     Front   Premium  6.7 L / 100 km          16   \n",
       "2    4 cyl, 2 L      Rear   Premium  6.6 L / 100 km        8472   \n",
       "3  8 cyl, 5.5 L      Rear   Premium   11 L / 100 km      136517   \n",
       "4  4 cyl, 1.3 L     Front  Unleaded    6 L / 100 km        1035   \n",
       "\n",
       "    ColourExtInt           Location CylindersinEngine   BodyType     Doors  \\\n",
       "0  White / Black     Caringbah, NSW             4 cyl        SUV   4 Doors   \n",
       "1  Black / Black     Brookvale, NSW             4 cyl  Hatchback   5 Doors   \n",
       "2   Grey / White      Sylvania, NSW             4 cyl      Coupe   2 Doors   \n",
       "3  White / Brown  Mount Druitt, NSW             8 cyl      Coupe   2 Doors   \n",
       "4   Grey / Black   Castle Hill, NSW             4 cyl        SUV   4 Doors   \n",
       "\n",
       "      Seats   Price  \n",
       "0   7 Seats   51990  \n",
       "1   5 Seats   19990  \n",
       "2   4 Seats  108988  \n",
       "3   4 Seats   32990  \n",
       "4   5 Seats   34990  "
      ],
      "text/html": [
       "<div>\n",
       "<style scoped>\n",
       "    .dataframe tbody tr th:only-of-type {\n",
       "        vertical-align: middle;\n",
       "    }\n",
       "\n",
       "    .dataframe tbody tr th {\n",
       "        vertical-align: top;\n",
       "    }\n",
       "\n",
       "    .dataframe thead th {\n",
       "        text-align: right;\n",
       "    }\n",
       "</style>\n",
       "<table border=\"1\" class=\"dataframe\">\n",
       "  <thead>\n",
       "    <tr style=\"text-align: right;\">\n",
       "      <th></th>\n",
       "      <th>Brand</th>\n",
       "      <th>Year</th>\n",
       "      <th>Model</th>\n",
       "      <th>Car/Suv</th>\n",
       "      <th>Title</th>\n",
       "      <th>UsedOrNew</th>\n",
       "      <th>Transmission</th>\n",
       "      <th>Engine</th>\n",
       "      <th>DriveType</th>\n",
       "      <th>FuelType</th>\n",
       "      <th>FuelConsumption</th>\n",
       "      <th>Kilometres</th>\n",
       "      <th>ColourExtInt</th>\n",
       "      <th>Location</th>\n",
       "      <th>CylindersinEngine</th>\n",
       "      <th>BodyType</th>\n",
       "      <th>Doors</th>\n",
       "      <th>Seats</th>\n",
       "      <th>Price</th>\n",
       "    </tr>\n",
       "  </thead>\n",
       "  <tbody>\n",
       "    <tr>\n",
       "      <th>0</th>\n",
       "      <td>Ssangyong</td>\n",
       "      <td>2022.0</td>\n",
       "      <td>Rexton</td>\n",
       "      <td>Sutherland Isuzu Ute</td>\n",
       "      <td>2022 Ssangyong Rexton Ultimate (awd)</td>\n",
       "      <td>DEMO</td>\n",
       "      <td>Automatic</td>\n",
       "      <td>4 cyl, 2.2 L</td>\n",
       "      <td>AWD</td>\n",
       "      <td>Diesel</td>\n",
       "      <td>8.7 L / 100 km</td>\n",
       "      <td>5595</td>\n",
       "      <td>White / Black</td>\n",
       "      <td>Caringbah, NSW</td>\n",
       "      <td>4 cyl</td>\n",
       "      <td>SUV</td>\n",
       "      <td>4 Doors</td>\n",
       "      <td>7 Seats</td>\n",
       "      <td>51990</td>\n",
       "    </tr>\n",
       "    <tr>\n",
       "      <th>1</th>\n",
       "      <td>MG</td>\n",
       "      <td>2022.0</td>\n",
       "      <td>MG3</td>\n",
       "      <td>Hatchback</td>\n",
       "      <td>2022 MG MG3 Auto Excite (with Navigation)</td>\n",
       "      <td>USED</td>\n",
       "      <td>Automatic</td>\n",
       "      <td>4 cyl, 1.5 L</td>\n",
       "      <td>Front</td>\n",
       "      <td>Premium</td>\n",
       "      <td>6.7 L / 100 km</td>\n",
       "      <td>16</td>\n",
       "      <td>Black / Black</td>\n",
       "      <td>Brookvale, NSW</td>\n",
       "      <td>4 cyl</td>\n",
       "      <td>Hatchback</td>\n",
       "      <td>5 Doors</td>\n",
       "      <td>5 Seats</td>\n",
       "      <td>19990</td>\n",
       "    </tr>\n",
       "    <tr>\n",
       "      <th>2</th>\n",
       "      <td>BMW</td>\n",
       "      <td>2022.0</td>\n",
       "      <td>430I</td>\n",
       "      <td>Coupe</td>\n",
       "      <td>2022 BMW 430I M Sport</td>\n",
       "      <td>USED</td>\n",
       "      <td>Automatic</td>\n",
       "      <td>4 cyl, 2 L</td>\n",
       "      <td>Rear</td>\n",
       "      <td>Premium</td>\n",
       "      <td>6.6 L / 100 km</td>\n",
       "      <td>8472</td>\n",
       "      <td>Grey / White</td>\n",
       "      <td>Sylvania, NSW</td>\n",
       "      <td>4 cyl</td>\n",
       "      <td>Coupe</td>\n",
       "      <td>2 Doors</td>\n",
       "      <td>4 Seats</td>\n",
       "      <td>108988</td>\n",
       "    </tr>\n",
       "    <tr>\n",
       "      <th>3</th>\n",
       "      <td>Mercedes-Benz</td>\n",
       "      <td>2011.0</td>\n",
       "      <td>E500</td>\n",
       "      <td>Coupe</td>\n",
       "      <td>2011 Mercedes-Benz E500 Elegance</td>\n",
       "      <td>USED</td>\n",
       "      <td>Automatic</td>\n",
       "      <td>8 cyl, 5.5 L</td>\n",
       "      <td>Rear</td>\n",
       "      <td>Premium</td>\n",
       "      <td>11 L / 100 km</td>\n",
       "      <td>136517</td>\n",
       "      <td>White / Brown</td>\n",
       "      <td>Mount Druitt, NSW</td>\n",
       "      <td>8 cyl</td>\n",
       "      <td>Coupe</td>\n",
       "      <td>2 Doors</td>\n",
       "      <td>4 Seats</td>\n",
       "      <td>32990</td>\n",
       "    </tr>\n",
       "    <tr>\n",
       "      <th>4</th>\n",
       "      <td>Renault</td>\n",
       "      <td>2022.0</td>\n",
       "      <td>Arkana</td>\n",
       "      <td>SUV</td>\n",
       "      <td>2022 Renault Arkana Intens</td>\n",
       "      <td>USED</td>\n",
       "      <td>Automatic</td>\n",
       "      <td>4 cyl, 1.3 L</td>\n",
       "      <td>Front</td>\n",
       "      <td>Unleaded</td>\n",
       "      <td>6 L / 100 km</td>\n",
       "      <td>1035</td>\n",
       "      <td>Grey / Black</td>\n",
       "      <td>Castle Hill, NSW</td>\n",
       "      <td>4 cyl</td>\n",
       "      <td>SUV</td>\n",
       "      <td>4 Doors</td>\n",
       "      <td>5 Seats</td>\n",
       "      <td>34990</td>\n",
       "    </tr>\n",
       "  </tbody>\n",
       "</table>\n",
       "</div>"
      ]
     },
     "execution_count": 83,
     "metadata": {},
     "output_type": "execute_result"
    }
   ],
   "execution_count": 83
  },
  {
   "metadata": {
    "ExecuteTime": {
     "end_time": "2024-08-02T01:44:28.255182Z",
     "start_time": "2024-08-02T01:44:28.250304Z"
    }
   },
   "cell_type": "code",
   "source": "df[['Brand', 'Year', 'Transmission', 'Engine', 'FuelType', 'Price', 'CylindersinEngine', 'BodyType']].head()",
   "id": "29f2ccab1690b85",
   "outputs": [
    {
     "data": {
      "text/plain": [
       "           Brand    Year Transmission        Engine  FuelType   Price  \\\n",
       "0      Ssangyong  2022.0    Automatic  4 cyl, 2.2 L    Diesel   51990   \n",
       "1             MG  2022.0    Automatic  4 cyl, 1.5 L   Premium   19990   \n",
       "2            BMW  2022.0    Automatic    4 cyl, 2 L   Premium  108988   \n",
       "3  Mercedes-Benz  2011.0    Automatic  8 cyl, 5.5 L   Premium   32990   \n",
       "4        Renault  2022.0    Automatic  4 cyl, 1.3 L  Unleaded   34990   \n",
       "\n",
       "  CylindersinEngine   BodyType  \n",
       "0             4 cyl        SUV  \n",
       "1             4 cyl  Hatchback  \n",
       "2             4 cyl      Coupe  \n",
       "3             8 cyl      Coupe  \n",
       "4             4 cyl        SUV  "
      ],
      "text/html": [
       "<div>\n",
       "<style scoped>\n",
       "    .dataframe tbody tr th:only-of-type {\n",
       "        vertical-align: middle;\n",
       "    }\n",
       "\n",
       "    .dataframe tbody tr th {\n",
       "        vertical-align: top;\n",
       "    }\n",
       "\n",
       "    .dataframe thead th {\n",
       "        text-align: right;\n",
       "    }\n",
       "</style>\n",
       "<table border=\"1\" class=\"dataframe\">\n",
       "  <thead>\n",
       "    <tr style=\"text-align: right;\">\n",
       "      <th></th>\n",
       "      <th>Brand</th>\n",
       "      <th>Year</th>\n",
       "      <th>Transmission</th>\n",
       "      <th>Engine</th>\n",
       "      <th>FuelType</th>\n",
       "      <th>Price</th>\n",
       "      <th>CylindersinEngine</th>\n",
       "      <th>BodyType</th>\n",
       "    </tr>\n",
       "  </thead>\n",
       "  <tbody>\n",
       "    <tr>\n",
       "      <th>0</th>\n",
       "      <td>Ssangyong</td>\n",
       "      <td>2022.0</td>\n",
       "      <td>Automatic</td>\n",
       "      <td>4 cyl, 2.2 L</td>\n",
       "      <td>Diesel</td>\n",
       "      <td>51990</td>\n",
       "      <td>4 cyl</td>\n",
       "      <td>SUV</td>\n",
       "    </tr>\n",
       "    <tr>\n",
       "      <th>1</th>\n",
       "      <td>MG</td>\n",
       "      <td>2022.0</td>\n",
       "      <td>Automatic</td>\n",
       "      <td>4 cyl, 1.5 L</td>\n",
       "      <td>Premium</td>\n",
       "      <td>19990</td>\n",
       "      <td>4 cyl</td>\n",
       "      <td>Hatchback</td>\n",
       "    </tr>\n",
       "    <tr>\n",
       "      <th>2</th>\n",
       "      <td>BMW</td>\n",
       "      <td>2022.0</td>\n",
       "      <td>Automatic</td>\n",
       "      <td>4 cyl, 2 L</td>\n",
       "      <td>Premium</td>\n",
       "      <td>108988</td>\n",
       "      <td>4 cyl</td>\n",
       "      <td>Coupe</td>\n",
       "    </tr>\n",
       "    <tr>\n",
       "      <th>3</th>\n",
       "      <td>Mercedes-Benz</td>\n",
       "      <td>2011.0</td>\n",
       "      <td>Automatic</td>\n",
       "      <td>8 cyl, 5.5 L</td>\n",
       "      <td>Premium</td>\n",
       "      <td>32990</td>\n",
       "      <td>8 cyl</td>\n",
       "      <td>Coupe</td>\n",
       "    </tr>\n",
       "    <tr>\n",
       "      <th>4</th>\n",
       "      <td>Renault</td>\n",
       "      <td>2022.0</td>\n",
       "      <td>Automatic</td>\n",
       "      <td>4 cyl, 1.3 L</td>\n",
       "      <td>Unleaded</td>\n",
       "      <td>34990</td>\n",
       "      <td>4 cyl</td>\n",
       "      <td>SUV</td>\n",
       "    </tr>\n",
       "  </tbody>\n",
       "</table>\n",
       "</div>"
      ]
     },
     "execution_count": 84,
     "metadata": {},
     "output_type": "execute_result"
    }
   ],
   "execution_count": 84
  },
  {
   "metadata": {
    "ExecuteTime": {
     "end_time": "2024-08-02T01:44:28.258246Z",
     "start_time": "2024-08-02T01:44:28.255863Z"
    }
   },
   "cell_type": "code",
   "source": "df['Brand'].nunique()",
   "id": "510bfcfa0649359b",
   "outputs": [
    {
     "data": {
      "text/plain": [
       "76"
      ]
     },
     "execution_count": 85,
     "metadata": {},
     "output_type": "execute_result"
    }
   ],
   "execution_count": 85
  },
  {
   "metadata": {
    "ExecuteTime": {
     "end_time": "2024-08-02T01:44:28.261290Z",
     "start_time": "2024-08-02T01:44:28.258799Z"
    }
   },
   "cell_type": "code",
   "source": "df['DriveType'].unique()",
   "id": "a753fcdd56486879",
   "outputs": [
    {
     "data": {
      "text/plain": [
       "array(['AWD', 'Front', 'Rear', 'Other', '4WD'], dtype=object)"
      ]
     },
     "execution_count": 86,
     "metadata": {},
     "output_type": "execute_result"
    }
   ],
   "execution_count": 86
  },
  {
   "metadata": {
    "ExecuteTime": {
     "end_time": "2024-08-02T01:44:28.269841Z",
     "start_time": "2024-08-02T01:44:28.261848Z"
    }
   },
   "cell_type": "code",
   "source": [
    "def get_x_y(selection=\"all\"):\n",
    "    _x = None\n",
    "    _y = df['DriveType']\n",
    "    if selection == \"all\":\n",
    "        _x = df.drop(columns=['DriveType'])\n",
    "    elif selection == \"nine\":\n",
    "        _x = df[['Brand', 'Year', 'Car/Suv', 'Transmission', 'Engine', 'FuelType', 'Price', 'CylindersinEngine',\n",
    "                 'BodyType']]\n",
    "    elif selection == \"seven\":\n",
    "        _x = df[['Year', 'Transmission', 'Engine', 'FuelType', 'Price', 'CylindersinEngine', 'BodyType']]\n",
    "    return _x, _y\n",
    "\n",
    "\n",
    "def preprocess_data(_x):\n",
    "    \"\"\"\n",
    "    Preprocesses input data 'x' using StandardScaler for numerical features and OneHotEncoder for categorical features.\n",
    "\n",
    "    Parameters:\n",
    "    x (DataFrame): Input DataFrame containing features to be preprocessed.\n",
    "\n",
    "    Returns:\n",
    "    numpy.ndarray: Transformed data after preprocessing.\n",
    "    \"\"\"\n",
    "    numerical_features = ['Year', 'Price']\n",
    "    categorical_features = list(set(_x) - set(numerical_features))\n",
    "\n",
    "    # Define transformers\n",
    "    numerical_transformer = StandardScaler()\n",
    "    categorical_transformer = OneHotEncoder(drop='first')\n",
    "\n",
    "    # Create preprocessor using ColumnTransformer\n",
    "    preprocessor = ColumnTransformer(\n",
    "        transformers=[\n",
    "            ('num', numerical_transformer, numerical_features),\n",
    "            ('cat', categorical_transformer, categorical_features)\n",
    "        ]\n",
    "    )\n",
    "\n",
    "    # Return transformed data\n",
    "    return preprocessor.fit_transform(_x)\n",
    "\n",
    "\n",
    "# Define classification functions\n",
    "def train_random_forest(_x_train, _y_train):\n",
    "    \"\"\"\n",
    "    Trains a Random Forest Classifier using the input training data.\n",
    "\n",
    "    Parameters:\n",
    "    _x_train (numpy.ndarray): Transformed features training data.\n",
    "    _y_train (Series): Target training data.\n",
    "\n",
    "    Returns:\n",
    "    RandomForestClassifier: Trained Random Forest classifier model.\n",
    "    \"\"\"\n",
    "    clf = RandomForestClassifier(random_state=42)\n",
    "    clf.fit(_x_train, _y_train)\n",
    "    return clf\n",
    "\n",
    "\n",
    "def train_svm(_x_train, _y_train):\n",
    "    \"\"\"\n",
    "    Trains a Support Vector Machine (SVM) Classifier using the input training data.\n",
    "\n",
    "    Parameters:\n",
    "    _x_train (numpy.ndarray): Transformed features training data.\n",
    "    _y_train (Series): Target training data.\n",
    "\n",
    "    Returns:\n",
    "    SVC: Trained SVM classifier model.\n",
    "    \"\"\"\n",
    "    clf = SVC(kernel='linear', random_state=42)\n",
    "    clf.fit(_x_train, _y_train)\n",
    "    return clf\n",
    "\n",
    "\n",
    "def evaluate_model(clf, _x_test, _y_test):\n",
    "    \"\"\"\n",
    "    Evaluates the performance of a classifier model using accuracy score on test data.\n",
    "\n",
    "    Parameters:\n",
    "    clf: Trained classifier model.\n",
    "    _x_test (numpy.ndarray): Transformed features test data.\n",
    "    _y_test (Series): Target test data.\n",
    "\n",
    "    Returns:\n",
    "    float: Accuracy score of the model on the test data.\n",
    "    int: the index of the predicted data.\n",
    "    \"\"\"\n",
    "    y_pred = clf.predict(_x_test)\n",
    "    accuracy = accuracy_score(_y_test, y_pred)\n",
    "    return accuracy, y_pred\n",
    "\n",
    "\n",
    "# Function to plot evaluation results using matplotlib\n",
    "def plot_evaluation_results(_models, _accuracies):\n",
    "    \"\"\"\n",
    "    Plots bar chart comparing accuracy scores of different classifier models.\n",
    "\n",
    "    Parameters:\n",
    "    models (list): List of model names.\n",
    "    accuracies (list): List of accuracy scores corresponding to each model.\n",
    "    \"\"\"\n",
    "    plt.figure(figsize=(8, 5))\n",
    "    plt.bar(_models, _accuracies, color=['blue', 'green'])\n",
    "    plt.xlabel('Models')\n",
    "    plt.ylabel('Accuracy')\n",
    "    plt.title('Classifier Accuracy Comparison')\n",
    "    plt.ylim(0, 1)  # Set y-axis limit from 0 to 1 for accuracy percentage\n",
    "    plt.grid(True)\n",
    "    plt.show()\n",
    "\n",
    "\n",
    "# Function to plot evaluation results using Plotly Express\n",
    "def plot_evaluation_results_line(_models, _accuracies):\n",
    "    \"\"\"\n",
    "    Plots line chart comparing accuracy scores of different classifier models using Plotly Express.\n",
    "\n",
    "    Parameters:\n",
    "    models (list): List of model names.\n",
    "    accuracies (list): List of accuracy scores corresponding to each model.\n",
    "    \"\"\"\n",
    "    fig = px.line(x=_models, y=_accuracies, title='Classifier Accuracy Comparison',\n",
    "                  labels={'x': 'Models', 'y': 'Accuracy'})\n",
    "    fig.show()\n",
    "\n",
    "\n",
    "results = []\n",
    "\n",
    "\n",
    "def run_classifiers_model(test_size, _x, _y):\n",
    "    \"\"\"\n",
    "    Runs Random Forest and SVM classifiers on preprocessed data with a specified test size.\n",
    "    Stores the results in a list and optionally prints accuracy scores.\n",
    "\n",
    "    Parameters:\n",
    "    test_size (float): Proportion of the dataset to include in the test split.\n",
    "\n",
    "    Returns:\n",
    "    None\n",
    "    \"\"\"\n",
    "    # Split data into train and test sets\n",
    "    X_processed = preprocess_data(_x)\n",
    "    X_train, X_test, y_train, y_test = train_test_split(X_processed, _y, test_size=test_size, random_state=42)\n",
    "\n",
    "    # Train Random Forest and SVM classifiers\n",
    "    rf_model = train_random_forest(X_train, y_train)\n",
    "    svm_model = train_svm(X_train, y_train)\n",
    "\n",
    "    # Evaluate models on the test set\n",
    "    rf_accuracy, rf_y_pred = evaluate_model(rf_model, X_test, y_test)\n",
    "    svm_accuracy, svm_y_pred = evaluate_model(svm_model, X_test, y_test)\n",
    "\n",
    "    rf_mislabeled_count = (y_test.values.ravel() != rf_y_pred).sum()\n",
    "    svm_mislabeled_count = (y_test.values.ravel() != svm_y_pred).sum()\n",
    "\n",
    "    test_size_count = X_test.shape[0]\n",
    "\n",
    "    print(f\"Features used for this model are: \\n{', '.join(_x.columns)}, \\nTarget = {_y.name}\\n\")\n",
    "    print(f\"Train Size: {(1 - test_size) * 100} and Test Size: {test_size * 100}\\n\")\n",
    "    print(\n",
    "        f\"Random Forest Classifier : Number of mislabeled points out of a total {test_size_count} points : {rf_mislabeled_count}\")\n",
    "    print(\n",
    "        f\"SVM Classifier : Number of mislabeled points out of a total {test_size_count} points : {svm_mislabeled_count}\")\n",
    "\n",
    "    # Append results to the global list 'results'\n",
    "    results.append({\n",
    "        'FeatureSize': len(_x.columns),\n",
    "        'TestSize': test_size_count,\n",
    "        'TestSize(%)': round(test_size * 100, 2),\n",
    "        'RandomForestAccuracy(%)': round(rf_accuracy * 100, 2),\n",
    "        'SVMAccuracy(%)': round(svm_accuracy * 100, 2),\n",
    "        'MislabeledPoints(RF)': rf_mislabeled_count,\n",
    "        'MislabeledPoints(SVM)': svm_mislabeled_count\n",
    "    })\n",
    "\n",
    "    # Plot evaluation results\n",
    "    models = ['Random Forest', 'SVM']\n",
    "    accuracies = [rf_accuracy, svm_accuracy]\n",
    "    plot_evaluation_results(models, accuracies)\n",
    "    print(\"\\n\")\n",
    "\n",
    "    _best_model = None\n",
    "    _best_model_name = None\n",
    "    _best_model_accuracy = 0\n",
    "\n",
    "    if rf_accuracy > svm_accuracy:\n",
    "        _best_model_accuracy = rf_accuracy\n",
    "        _best_model_name = 'Random Forest'\n",
    "        _best_model = rf_model\n",
    "    else:\n",
    "        _best_model_accuracy = svm_accuracy\n",
    "        _best_model_name = 'Support Vector Machine'\n",
    "        _best_model = svm_model\n",
    "\n",
    "    return _best_model, _best_model_name, _best_model_accuracy\n"
   ],
   "id": "bd88b6a297740a1c",
   "outputs": [],
   "execution_count": 87
  },
  {
   "metadata": {
    "ExecuteTime": {
     "end_time": "2024-08-02T01:44:28.272027Z",
     "start_time": "2024-08-02T01:44:28.270510Z"
    }
   },
   "cell_type": "code",
   "source": [
    "best_model = None\n",
    "best_model_name = None\n",
    "best_model_accuracy = 0"
   ],
   "id": "2e1d0a4e16bf9a6a",
   "outputs": [],
   "execution_count": 88
  },
  {
   "metadata": {
    "ExecuteTime": {
     "end_time": "2024-08-02T01:47:16.150304Z",
     "start_time": "2024-08-02T01:44:28.272588Z"
    }
   },
   "cell_type": "code",
   "source": [
    "# Loop through different test sizes and different feature size and run the classifiers\n",
    "test_sizes = [0.3, 0.25, 0.2, 0.15]\n",
    "feature_sizes = [\"all\", \"nine\", \"seven\"]\n",
    "\n",
    "for t_size in test_sizes:\n",
    "    for f_size in feature_sizes:\n",
    "        x, y = get_x_y(f_size)\n",
    "        _b_model, _b_model_name, _b_model_accuracy = run_classifiers_model(t_size, x, y)\n",
    "\n",
    "        # if _b_model_accuracy > best_model_accuracy:\n",
    "        #     best_model_accuracy = _b_model_accuracy\n",
    "        #     best_model_name = _b_model_name\n",
    "        #     best_model = _b_model\n",
    "\n",
    "# Create a DataFrame from the results list\n",
    "results_df = pd.DataFrame(results)"
   ],
   "id": "37f3a45983d1bbef",
   "outputs": [
    {
     "name": "stdout",
     "output_type": "stream",
     "text": [
      "Features used for this model are: \n",
      "Brand, Year, Model, Car/Suv, Title, UsedOrNew, Transmission, Engine, FuelType, FuelConsumption, Kilometres, ColourExtInt, Location, CylindersinEngine, BodyType, Doors, Seats, Price, \n",
      "Target = DriveType\n",
      "\n",
      "Train Size: 70.0 and Test Size: 30.0\n",
      "\n",
      "Random Forest Classifier : Number of mislabeled points out of a total 5021 points : 305\n",
      "SVM Classifier : Number of mislabeled points out of a total 5021 points : 308\n"
     ]
    },
    {
     "data": {
      "text/plain": [
       "<Figure size 800x500 with 1 Axes>"
      ],
      "image/png": "[encoded data removed]"
     },
     "metadata": {},
     "output_type": "display_data"
    },
    {
     "name": "stdout",
     "output_type": "stream",
     "text": [
      "\n",
      "\n",
      "Features used for this model are: \n",
      "Brand, Year, Car/Suv, Transmission, Engine, FuelType, Price, CylindersinEngine, BodyType, \n",
      "Target = DriveType\n",
      "\n",
      "Train Size: 70.0 and Test Size: 30.0\n",
      "\n",
      "Random Forest Classifier : Number of mislabeled points out of a total 5021 points : 520\n",
      "SVM Classifier : Number of mislabeled points out of a total 5021 points : 752\n"
     ]
    },
    {
     "data": {
      "text/plain": [
       "<Figure size 800x500 with 1 Axes>"
      ],
      "image/png": "[encoded data removed]"
     },
     "metadata": {},
     "output_type": "display_data"
    },
    {
     "name": "stdout",
     "output_type": "stream",
     "text": [
      "\n",
      "\n",
      "Features used for this model are: \n",
      "Year, Transmission, Engine, FuelType, Price, CylindersinEngine, BodyType, \n",
      "Target = DriveType\n",
      "\n",
      "Train Size: 70.0 and Test Size: 30.0\n",
      "\n",
      "Random Forest Classifier : Number of mislabeled points out of a total 5021 points : 891\n",
      "SVM Classifier : Number of mislabeled points out of a total 5021 points : 1123\n"
     ]
    },
    {
     "data": {
      "text/plain": [
       "<Figure size 800x500 with 1 Axes>"
      ],
      "image/png": "[encoded data removed]"
     },
     "metadata": {},
     "output_type": "display_data"
    },
    {
     "name": "stdout",
     "output_type": "stream",
     "text": [
      "\n",
      "\n",
      "Features used for this model are: \n",
      "Brand, Year, Model, Car/Suv, Title, UsedOrNew, Transmission, Engine, FuelType, FuelConsumption, Kilometres, ColourExtInt, Location, CylindersinEngine, BodyType, Doors, Seats, Price, \n",
      "Target = DriveType\n",
      "\n",
      "Train Size: 75.0 and Test Size: 25.0\n",
      "\n",
      "Random Forest Classifier : Number of mislabeled points out of a total 4184 points : 253\n",
      "SVM Classifier : Number of mislabeled points out of a total 4184 points : 242\n"
     ]
    },
    {
     "data": {
      "text/plain": [
       "<Figure size 800x500 with 1 Axes>"
      ],
      "image/png": "[encoded data removed]"
     },
     "metadata": {},
     "output_type": "display_data"
    },
    {
     "name": "stdout",
     "output_type": "stream",
     "text": [
      "\n",
      "\n",
      "Features used for this model are: \n",
      "Brand, Year, Car/Suv, Transmission, Engine, FuelType, Price, CylindersinEngine, BodyType, \n",
      "Target = DriveType\n",
      "\n",
      "Train Size: 75.0 and Test Size: 25.0\n",
      "\n",
      "Random Forest Classifier : Number of mislabeled points out of a total 4184 points : 440\n",
      "SVM Classifier : Number of mislabeled points out of a total 4184 points : 631\n"
     ]
    },
    {
     "data": {
      "text/plain": [
       "<Figure size 800x500 with 1 Axes>"
      ],
      "image/png": "[encoded data removed]"
     },
     "metadata": {},
     "output_type": "display_data"
    },
    {
     "name": "stdout",
     "output_type": "stream",
     "text": [
      "\n",
      "\n",
      "Features used for this model are: \n",
      "Year, Transmission, Engine, FuelType, Price, CylindersinEngine, BodyType, \n",
      "Target = DriveType\n",
      "\n",
      "Train Size: 75.0 and Test Size: 25.0\n",
      "\n",
      "Random Forest Classifier : Number of mislabeled points out of a total 4184 points : 724\n",
      "SVM Classifier : Number of mislabeled points out of a total 4184 points : 937\n"
     ]
    },
    {
     "data": {
      "text/plain": [
       "<Figure size 800x500 with 1 Axes>"
      ],
      "image/png": "[encoded data removed]"
     },
     "metadata": {},
     "output_type": "display_data"
    },
    {
     "name": "stdout",
     "output_type": "stream",
     "text": [
      "\n",
      "\n",
      "Features used for this model are: \n",
      "Brand, Year, Model, Car/Suv, Title, UsedOrNew, Transmission, Engine, FuelType, FuelConsumption, Kilometres, ColourExtInt, Location, CylindersinEngine, BodyType, Doors, Seats, Price, \n",
      "Target = DriveType\n",
      "\n",
      "Train Size: 80.0 and Test Size: 20.0\n",
      "\n",
      "Random Forest Classifier : Number of mislabeled points out of a total 3347 points : 201\n",
      "SVM Classifier : Number of mislabeled points out of a total 3347 points : 178\n"
     ]
    },
    {
     "data": {
      "text/plain": [
       "<Figure size 800x500 with 1 Axes>"
      ],
      "image/png": "[encoded data removed]"
     },
     "metadata": {},
     "output_type": "display_data"
    },
    {
     "name": "stdout",
     "output_type": "stream",
     "text": [
      "\n",
      "\n",
      "Features used for this model are: \n",
      "Brand, Year, Car/Suv, Transmission, Engine, FuelType, Price, CylindersinEngine, BodyType, \n",
      "Target = DriveType\n",
      "\n",
      "Train Size: 80.0 and Test Size: 20.0\n",
      "\n",
      "Random Forest Classifier : Number of mislabeled points out of a total 3347 points : 351\n",
      "SVM Classifier : Number of mislabeled points out of a total 3347 points : 493\n"
     ]
    },
    {
     "data": {
      "text/plain": [
       "<Figure size 800x500 with 1 Axes>"
      ],
      "image/png": "[encoded data removed]"
     },
     "metadata": {},
     "output_type": "display_data"
    },
    {
     "name": "stdout",
     "output_type": "stream",
     "text": [
      "\n",
      "\n",
      "Features used for this model are: \n",
      "Year, Transmission, Engine, FuelType, Price, CylindersinEngine, BodyType, \n",
      "Target = DriveType\n",
      "\n",
      "Train Size: 80.0 and Test Size: 20.0\n",
      "\n",
      "Random Forest Classifier : Number of mislabeled points out of a total 3347 points : 572\n",
      "SVM Classifier : Number of mislabeled points out of a total 3347 points : 751\n"
     ]
    },
    {
     "data": {
      "text/plain": [
       "<Figure size 800x500 with 1 Axes>"
      ],
      "image/png": "[encoded data removed]"
     },
     "metadata": {},
     "output_type": "display_data"
    },
    {
     "name": "stdout",
     "output_type": "stream",
     "text": [
      "\n",
      "\n",
      "Features used for this model are: \n",
      "Brand, Year, Model, Car/Suv, Title, UsedOrNew, Transmission, Engine, FuelType, FuelConsumption, Kilometres, ColourExtInt, Location, CylindersinEngine, BodyType, Doors, Seats, Price, \n",
      "Target = DriveType\n",
      "\n",
      "Train Size: 85.0 and Test Size: 15.0\n",
      "\n",
      "Random Forest Classifier : Number of mislabeled points out of a total 2511 points : 133\n",
      "SVM Classifier : Number of mislabeled points out of a total 2511 points : 138\n"
     ]
    },
    {
     "data": {
      "text/plain": [
       "<Figure size 800x500 with 1 Axes>"
      ],
      "image/png": "[encoded data removed]"
     },
     "metadata": {},
     "output_type": "display_data"
    },
    {
     "name": "stdout",
     "output_type": "stream",
     "text": [
      "\n",
      "\n",
      "Features used for this model are: \n",
      "Brand, Year, Car/Suv, Transmission, Engine, FuelType, Price, CylindersinEngine, BodyType, \n",
      "Target = DriveType\n",
      "\n",
      "Train Size: 85.0 and Test Size: 15.0\n",
      "\n",
      "Random Forest Classifier : Number of mislabeled points out of a total 2511 points : 262\n",
      "SVM Classifier : Number of mislabeled points out of a total 2511 points : 384\n"
     ]
    },
    {
     "data": {
      "text/plain": [
       "<Figure size 800x500 with 1 Axes>"
      ],
      "image/png": "[encoded data removed]"
     },
     "metadata": {},
     "output_type": "display_data"
    },
    {
     "name": "stdout",
     "output_type": "stream",
     "text": [
      "\n",
      "\n",
      "Features used for this model are: \n",
      "Year, Transmission, Engine, FuelType, Price, CylindersinEngine, BodyType, \n",
      "Target = DriveType\n",
      "\n",
      "Train Size: 85.0 and Test Size: 15.0\n",
      "\n",
      "Random Forest Classifier : Number of mislabeled points out of a total 2511 points : 439\n",
      "SVM Classifier : Number of mislabeled points out of a total 2511 points : 559\n"
     ]
    },
    {
     "data": {
      "text/plain": [
       "<Figure size 800x500 with 1 Axes>"
      ],
      "image/png": "[encoded data removed]"
     },
     "metadata": {},
     "output_type": "display_data"
    },
    {
     "name": "stdout",
     "output_type": "stream",
     "text": [
      "\n",
      "\n"
     ]
    }
   ],
   "execution_count": 89
  },
  {
   "metadata": {
    "ExecuteTime": {
     "end_time": "2024-08-02T01:47:16.168321Z",
     "start_time": "2024-08-02T01:47:16.154724Z"
    }
   },
   "cell_type": "code",
   "source": [
    "print(\"Results DataFrame:\")\n",
    "results_df"
   ],
   "id": "86e9eded7a972562",
   "outputs": [
    {
     "name": "stdout",
     "output_type": "stream",
     "text": [
      "Results DataFrame:\n"
     ]
    },
    {
     "data": {
      "text/plain": [
       "    FeatureSize  TestSize  TestSize(%)  RandomForestAccuracy(%)  \\\n",
       "0            18      5021         30.0                    93.93   \n",
       "1             9      5021         30.0                    89.64   \n",
       "2             7      5021         30.0                    82.25   \n",
       "3            18      4184         25.0                    93.95   \n",
       "4             9      4184         25.0                    89.48   \n",
       "5             7      4184         25.0                    82.70   \n",
       "6            18      3347         20.0                    93.99   \n",
       "7             9      3347         20.0                    89.51   \n",
       "8             7      3347         20.0                    82.91   \n",
       "9            18      2511         15.0                    94.70   \n",
       "10            9      2511         15.0                    89.57   \n",
       "11            7      2511         15.0                    82.52   \n",
       "\n",
       "    SVMAccuracy(%)  MislabeledPoints(RF)  MislabeledPoints(SVM)  \n",
       "0            93.87                   305                    308  \n",
       "1            85.02                   520                    752  \n",
       "2            77.63                   891                   1123  \n",
       "3            94.22                   253                    242  \n",
       "4            84.92                   440                    631  \n",
       "5            77.61                   724                    937  \n",
       "6            94.68                   201                    178  \n",
       "7            85.27                   351                    493  \n",
       "8            77.56                   572                    751  \n",
       "9            94.50                   133                    138  \n",
       "10           84.71                   262                    384  \n",
       "11           77.74                   439                    559  "
      ],
      "text/html": [
       "<div>\n",
       "<style scoped>\n",
       "    .dataframe tbody tr th:only-of-type {\n",
       "        vertical-align: middle;\n",
       "    }\n",
       "\n",
       "    .dataframe tbody tr th {\n",
       "        vertical-align: top;\n",
       "    }\n",
       "\n",
       "    .dataframe thead th {\n",
       "        text-align: right;\n",
       "    }\n",
       "</style>\n",
       "<table border=\"1\" class=\"dataframe\">\n",
       "  <thead>\n",
       "    <tr style=\"text-align: right;\">\n",
       "      <th></th>\n",
       "      <th>FeatureSize</th>\n",
       "      <th>TestSize</th>\n",
       "      <th>TestSize(%)</th>\n",
       "      <th>RandomForestAccuracy(%)</th>\n",
       "      <th>SVMAccuracy(%)</th>\n",
       "      <th>MislabeledPoints(RF)</th>\n",
       "      <th>MislabeledPoints(SVM)</th>\n",
       "    </tr>\n",
       "  </thead>\n",
       "  <tbody>\n",
       "    <tr>\n",
       "      <th>0</th>\n",
       "      <td>18</td>\n",
       "      <td>5021</td>\n",
       "      <td>30.0</td>\n",
       "      <td>93.93</td>\n",
       "      <td>93.87</td>\n",
       "      <td>305</td>\n",
       "      <td>308</td>\n",
       "    </tr>\n",
       "    <tr>\n",
       "      <th>1</th>\n",
       "      <td>9</td>\n",
       "      <td>5021</td>\n",
       "      <td>30.0</td>\n",
       "      <td>89.64</td>\n",
       "      <td>85.02</td>\n",
       "      <td>520</td>\n",
       "      <td>752</td>\n",
       "    </tr>\n",
       "    <tr>\n",
       "      <th>2</th>\n",
       "      <td>7</td>\n",
       "      <td>5021</td>\n",
       "      <td>30.0</td>\n",
       "      <td>82.25</td>\n",
       "      <td>77.63</td>\n",
       "      <td>891</td>\n",
       "      <td>1123</td>\n",
       "    </tr>\n",
       "    <tr>\n",
       "      <th>3</th>\n",
       "      <td>18</td>\n",
       "      <td>4184</td>\n",
       "      <td>25.0</td>\n",
       "      <td>93.95</td>\n",
       "      <td>94.22</td>\n",
       "      <td>253</td>\n",
       "      <td>242</td>\n",
       "    </tr>\n",
       "    <tr>\n",
       "      <th>4</th>\n",
       "      <td>9</td>\n",
       "      <td>4184</td>\n",
       "      <td>25.0</td>\n",
       "      <td>89.48</td>\n",
       "      <td>84.92</td>\n",
       "      <td>440</td>\n",
       "      <td>631</td>\n",
       "    </tr>\n",
       "    <tr>\n",
       "      <th>5</th>\n",
       "      <td>7</td>\n",
       "      <td>4184</td>\n",
       "      <td>25.0</td>\n",
       "      <td>82.70</td>\n",
       "      <td>77.61</td>\n",
       "      <td>724</td>\n",
       "      <td>937</td>\n",
       "    </tr>\n",
       "    <tr>\n",
       "      <th>6</th>\n",
       "      <td>18</td>\n",
       "      <td>3347</td>\n",
       "      <td>20.0</td>\n",
       "      <td>93.99</td>\n",
       "      <td>94.68</td>\n",
       "      <td>201</td>\n",
       "      <td>178</td>\n",
       "    </tr>\n",
       "    <tr>\n",
       "      <th>7</th>\n",
       "      <td>9</td>\n",
       "      <td>3347</td>\n",
       "      <td>20.0</td>\n",
       "      <td>89.51</td>\n",
       "      <td>85.27</td>\n",
       "      <td>351</td>\n",
       "      <td>493</td>\n",
       "    </tr>\n",
       "    <tr>\n",
       "      <th>8</th>\n",
       "      <td>7</td>\n",
       "      <td>3347</td>\n",
       "      <td>20.0</td>\n",
       "      <td>82.91</td>\n",
       "      <td>77.56</td>\n",
       "      <td>572</td>\n",
       "      <td>751</td>\n",
       "    </tr>\n",
       "    <tr>\n",
       "      <th>9</th>\n",
       "      <td>18</td>\n",
       "      <td>2511</td>\n",
       "      <td>15.0</td>\n",
       "      <td>94.70</td>\n",
       "      <td>94.50</td>\n",
       "      <td>133</td>\n",
       "      <td>138</td>\n",
       "    </tr>\n",
       "    <tr>\n",
       "      <th>10</th>\n",
       "      <td>9</td>\n",
       "      <td>2511</td>\n",
       "      <td>15.0</td>\n",
       "      <td>89.57</td>\n",
       "      <td>84.71</td>\n",
       "      <td>262</td>\n",
       "      <td>384</td>\n",
       "    </tr>\n",
       "    <tr>\n",
       "      <th>11</th>\n",
       "      <td>7</td>\n",
       "      <td>2511</td>\n",
       "      <td>15.0</td>\n",
       "      <td>82.52</td>\n",
       "      <td>77.74</td>\n",
       "      <td>439</td>\n",
       "      <td>559</td>\n",
       "    </tr>\n",
       "  </tbody>\n",
       "</table>\n",
       "</div>"
      ]
     },
     "execution_count": 90,
     "metadata": {},
     "output_type": "execute_result"
    }
   ],
   "execution_count": 90
  },
  {
   "metadata": {
    "ExecuteTime": {
     "end_time": "2024-08-02T01:48:25.293661Z",
     "start_time": "2024-08-02T01:48:24.887605Z"
    }
   },
   "cell_type": "code",
   "source": [
    "#import lybraries\n",
    "import matplotlib.pyplot as plt\n",
    "import seaborn as sns\n",
    "\n",
    "sns.set()\n",
    "\n",
    "from sklearn.cluster import KMeans\n",
    "\n",
    "#ploating data\n",
    "plt.scatter(df['Year'], df['Price'])\n",
    "plt.xlim(-180, 180)\n",
    "plt.ylim(-90, 90)\n",
    "\n",
    "#selecting amount of clustering\n",
    "kmeans = KMeans(25, n_init=1)"
   ],
   "id": "69a20656740fa9a0",
   "outputs": [
    {
     "data": {
      "text/plain": [
       "<Figure size 640x480 with 1 Axes>"
      ],
      "image/png": "[encoded data removed]"
     },
     "metadata": {},
     "output_type": "display_data"
    }
   ],
   "execution_count": 91
  },
  {
   "metadata": {},
   "cell_type": "code",
   "outputs": [],
   "execution_count": null,
   "source": [
    "clusters = kmeans.fit_predict(x)\n",
    "clusters"
   ],
   "id": "3d106219fdcb129b"
  },
  {
   "metadata": {},
   "cell_type": "code",
   "outputs": [],
   "execution_count": null,
   "source": [
    "\n",
    "d_clusters = x.copy()\n",
    "d_clusters['Clusters'] = clusters"
   ],
   "id": "e93358b34866451"
  },
  {
   "metadata": {
    "ExecuteTime": {
     "end_time": "2024-08-02T01:53:20.534996Z",
     "start_time": "2024-08-02T01:53:20.520790Z"
    }
   },
   "cell_type": "code",
   "source": "df.head(2)",
   "id": "9c6526cd5a057b15",
   "outputs": [
    {
     "data": {
      "text/plain": [
       "       Brand    Year   Model               Car/Suv  \\\n",
       "0  Ssangyong  2022.0  Rexton  Sutherland Isuzu Ute   \n",
       "1         MG  2022.0     MG3             Hatchback   \n",
       "\n",
       "                                       Title UsedOrNew Transmission  \\\n",
       "0       2022 Ssangyong Rexton Ultimate (awd)      DEMO    Automatic   \n",
       "1  2022 MG MG3 Auto Excite (with Navigation)      USED    Automatic   \n",
       "\n",
       "         Engine DriveType FuelType FuelConsumption  Kilometres   ColourExtInt  \\\n",
       "0  4 cyl, 2.2 L       AWD   Diesel  8.7 L / 100 km        5595  White / Black   \n",
       "1  4 cyl, 1.5 L     Front  Premium  6.7 L / 100 km          16  Black / Black   \n",
       "\n",
       "         Location CylindersinEngine   BodyType     Doors     Seats  Price  \n",
       "0  Caringbah, NSW             4 cyl        SUV   4 Doors   7 Seats  51990  \n",
       "1  Brookvale, NSW             4 cyl  Hatchback   5 Doors   5 Seats  19990  "
      ],
      "text/html": [
       "<div>\n",
       "<style scoped>\n",
       "    .dataframe tbody tr th:only-of-type {\n",
       "        vertical-align: middle;\n",
       "    }\n",
       "\n",
       "    .dataframe tbody tr th {\n",
       "        vertical-align: top;\n",
       "    }\n",
       "\n",
       "    .dataframe thead th {\n",
       "        text-align: right;\n",
       "    }\n",
       "</style>\n",
       "<table border=\"1\" class=\"dataframe\">\n",
       "  <thead>\n",
       "    <tr style=\"text-align: right;\">\n",
       "      <th></th>\n",
       "      <th>Brand</th>\n",
       "      <th>Year</th>\n",
       "      <th>Model</th>\n",
       "      <th>Car/Suv</th>\n",
       "      <th>Title</th>\n",
       "      <th>UsedOrNew</th>\n",
       "      <th>Transmission</th>\n",
       "      <th>Engine</th>\n",
       "      <th>DriveType</th>\n",
       "      <th>FuelType</th>\n",
       "      <th>FuelConsumption</th>\n",
       "      <th>Kilometres</th>\n",
       "      <th>ColourExtInt</th>\n",
       "      <th>Location</th>\n",
       "      <th>CylindersinEngine</th>\n",
       "      <th>BodyType</th>\n",
       "      <th>Doors</th>\n",
       "      <th>Seats</th>\n",
       "      <th>Price</th>\n",
       "    </tr>\n",
       "  </thead>\n",
       "  <tbody>\n",
       "    <tr>\n",
       "      <th>0</th>\n",
       "      <td>Ssangyong</td>\n",
       "      <td>2022.0</td>\n",
       "      <td>Rexton</td>\n",
       "      <td>Sutherland Isuzu Ute</td>\n",
       "      <td>2022 Ssangyong Rexton Ultimate (awd)</td>\n",
       "      <td>DEMO</td>\n",
       "      <td>Automatic</td>\n",
       "      <td>4 cyl, 2.2 L</td>\n",
       "      <td>AWD</td>\n",
       "      <td>Diesel</td>\n",
       "      <td>8.7 L / 100 km</td>\n",
       "      <td>5595</td>\n",
       "      <td>White / Black</td>\n",
       "      <td>Caringbah, NSW</td>\n",
       "      <td>4 cyl</td>\n",
       "      <td>SUV</td>\n",
       "      <td>4 Doors</td>\n",
       "      <td>7 Seats</td>\n",
       "      <td>51990</td>\n",
       "    </tr>\n",
       "    <tr>\n",
       "      <th>1</th>\n",
       "      <td>MG</td>\n",
       "      <td>2022.0</td>\n",
       "      <td>MG3</td>\n",
       "      <td>Hatchback</td>\n",
       "      <td>2022 MG MG3 Auto Excite (with Navigation)</td>\n",
       "      <td>USED</td>\n",
       "      <td>Automatic</td>\n",
       "      <td>4 cyl, 1.5 L</td>\n",
       "      <td>Front</td>\n",
       "      <td>Premium</td>\n",
       "      <td>6.7 L / 100 km</td>\n",
       "      <td>16</td>\n",
       "      <td>Black / Black</td>\n",
       "      <td>Brookvale, NSW</td>\n",
       "      <td>4 cyl</td>\n",
       "      <td>Hatchback</td>\n",
       "      <td>5 Doors</td>\n",
       "      <td>5 Seats</td>\n",
       "      <td>19990</td>\n",
       "    </tr>\n",
       "  </tbody>\n",
       "</table>\n",
       "</div>"
      ]
     },
     "execution_count": 93,
     "metadata": {},
     "output_type": "execute_result"
    }
   ],
   "execution_count": 93
  },
  {
   "metadata": {
    "ExecuteTime": {
     "end_time": "2024-08-02T01:53:45.900721Z",
     "start_time": "2024-08-02T01:53:45.876654Z"
    }
   },
   "cell_type": "code",
   "source": "df.columns",
   "id": "6904d9a70ff85ef4",
   "outputs": [
    {
     "data": {
      "text/plain": [
       "Index(['Brand', 'Year', 'Model', 'Car/Suv', 'Title', 'UsedOrNew',\n",
       "       'Transmission', 'Engine', 'DriveType', 'FuelType', 'FuelConsumption',\n",
       "       'Kilometres', 'ColourExtInt', 'Location', 'CylindersinEngine',\n",
       "       'BodyType', 'Doors', 'Seats', 'Price'],\n",
       "      dtype='object')"
      ]
     },
     "execution_count": 94,
     "metadata": {},
     "output_type": "execute_result"
    }
   ],
   "execution_count": 94
  },
  {
   "metadata": {},
   "cell_type": "code",
   "outputs": [],
   "execution_count": null,
   "source": [
    "# from sklearn.metrics import silhouette_score\n",
    "# \n",
    "# # Process the dataset\n",
    "# # processed_data = preprocess_data(data)\n",
    "# \n",
    "# # Standardize the data\n",
    "# scaler = StandardScaler()\n",
    "# scaled_data = scaler.fit_transform(df)\n",
    "# \n",
    "# \n",
    "# # Determine the range of clusters to test\n",
    "# def perform_kmeans_clustering(data, k_range):\n",
    "#     results = []\n",
    "#     for k in k_range:\n",
    "#         kmeans = KMeans(n_clusters=k, random_state=42)\n",
    "#         kmeans.fit(data)\n",
    "#         labels = kmeans.labels_\n",
    "#         inertia = kmeans.inertia_\n",
    "#         silhouette_avg = silhouette_score(data, labels)\n",
    "#         results.append((k, inertia, silhouette_avg))\n",
    "#     return results\n",
    "# \n",
    "# \n",
    "# # Define the range of k values\n",
    "# k_range = range(2, 11)\n",
    "# \n",
    "# # Perform clustering\n",
    "# results = perform_kmeans_clustering(scaled_data, k_range)\n",
    "# \n",
    "# # Convert results to DataFrame for easy visualization\n",
    "# results_df = pd.DataFrame(results, columns=['Number of Clusters', 'Inertia', 'Silhouette Score'])\n",
    "# \n",
    "# # Print results\n",
    "# print(results_df)\n",
    "# \n",
    "# # Visualize the Silhouette Scores\n",
    "# plt.figure(figsize=(10, 6))\n",
    "# sns.lineplot(x='Number of Clusters', y='Silhouette Score', data=results_df, marker='o')\n",
    "# plt.title('Silhouette Score for Different Number of Clusters')\n",
    "# plt.xlabel('Number of Clusters')\n",
    "# plt.ylabel('Silhouette Score')\n",
    "# plt.grid(True)\n",
    "# plt.show()\n",
    "# \n",
    "# # Optimal number of clusters based on silhouette score\n",
    "# optimal_k = results_df.loc[results_df['Silhouette Score'].idxmax(), 'Number of Clusters']\n",
    "# print(f\"The optimal number of clusters based on silhouette score is: {optimal_k}\")\n",
    "# \n",
    "# # Perform K-Means clustering with the optimal number of clusters\n",
    "# kmeans = KMeans(n_clusters=optimal_k, random_state=42)\n",
    "# clusters = kmeans.fit_predict(scaled_data)\n",
    "# \n",
    "# # Add cluster labels to the original data\n",
    "# data['Cluster'] = clusters\n",
    "# \n",
    "# # Visualize clusters (if possible, e.g., using PCA for dimensionality reduction)\n",
    "# from sklearn.decomposition import PCA\n",
    "# \n",
    "# pca = PCA(n_components=2)\n",
    "# pca_data = pca.fit_transform(scaled_data)\n",
    "# data_pca = pd.DataFrame(pca_data, columns=['PCA1', 'PCA2'])\n",
    "# data_pca['Cluster'] = clusters\n",
    "# \n",
    "# plt.figure(figsize=(10, 8))\n",
    "# sns.scatterplot(x='PCA1', y='PCA2', hue='Cluster', palette='tab10', data=data_pca, marker='o')\n",
    "# plt.title('Clustering Visualization using PCA')\n",
    "# plt.xlabel('PCA 1')\n",
    "# plt.ylabel('PCA 2')\n",
    "# plt.legend(title='Cluster')\n",
    "# plt.grid(True)\n",
    "# plt.show()"
   ],
   "id": "6256362573a4c669"
  },
  {
   "metadata": {
    "ExecuteTime": {
     "end_time": "2024-08-02T01:58:33.437231Z",
     "start_time": "2024-08-02T01:58:33.339Z"
    }
   },
   "cell_type": "code",
   "source": [
    "# import pandas as pd\n",
    "# from sklearn.preprocessing import StandardScaler\n",
    "# from sklearn.cluster import KMeans\n",
    "# from sklearn.metrics import silhouette_score\n",
    "# import matplotlib.pyplot as plt\n",
    "# import seaborn as sns\n",
    "# \n",
    "# # Load the dataset\n",
    "# # data = pd.read_csv('your_dataset.csv')\n",
    "# data = df\n",
    "# \n",
    "# \n",
    "# # Preprocess the data\n",
    "# def preprocess_data(df):\n",
    "#     # Drop non-numeric columns and fill missing values\n",
    "#     df = df.copy()\n",
    "#     df = df.drop(\n",
    "#         columns=['Brand', 'Model', 'Title', 'UsedOrNew', 'Transmission', 'Location', 'ColourExtInt', 'DriveType',\n",
    "#                  'FuelType'])\n",
    "# \n",
    "#     # Convert categorical variables to dummy variables\n",
    "#     df = pd.get_dummies(df, drop_first=True)\n",
    "# \n",
    "#     # Handle missing values\n",
    "#     df = df.fillna(df.median())\n",
    "# \n",
    "#     return df\n",
    "# \n",
    "# \n",
    "# # Process the dataset\n",
    "# # processed_data = preprocess_data(data)\n",
    "# \n",
    "# # Standardize the data\n",
    "# scaler = StandardScaler()\n",
    "# scaled_data = scaler.fit_transform(data)\n",
    "# \n",
    "# \n",
    "# # Determine the range of clusters to test\n",
    "# def perform_kmeans_clustering(data, k_range):\n",
    "#     results = []\n",
    "#     for k in k_range:\n",
    "#         kmeans = KMeans(n_clusters=k, random_state=42)\n",
    "#         kmeans.fit(data)\n",
    "#         labels = kmeans.labels_\n",
    "#         inertia = kmeans.inertia_\n",
    "#         silhouette_avg = silhouette_score(data, labels)\n",
    "#         results.append((k, inertia, silhouette_avg))\n",
    "#     return results\n",
    "# \n",
    "# \n",
    "# # Define the range of k values\n",
    "# k_range = range(2, 11)\n",
    "# \n",
    "# # Perform clustering\n",
    "# results = perform_kmeans_clustering(scaled_data, k_range)\n",
    "# \n",
    "# # Convert results to DataFrame for easy visualization\n",
    "# results_df = pd.DataFrame(results, columns=['Number of Clusters', 'Inertia', 'Silhouette Score'])\n",
    "# \n",
    "# # Print results\n",
    "# print(results_df)\n",
    "# \n",
    "# # Visualize the Silhouette Scores\n",
    "# plt.figure(figsize=(10, 6))\n",
    "# sns.lineplot(x='Number of Clusters', y='Silhouette Score', data=results_df, marker='o')\n",
    "# plt.title('Silhouette Score for Different Number of Clusters')\n",
    "# plt.xlabel('Number of Clusters')\n",
    "# plt.ylabel('Silhouette Score')\n",
    "# plt.grid(True)\n",
    "# plt.show()\n",
    "# \n",
    "# # Optimal number of clusters based on silhouette score\n",
    "# optimal_k = results_df.loc[results_df['Silhouette Score'].idxmax(), 'Number of Clusters']\n",
    "# print(f\"The optimal number of clusters based on silhouette score is: {optimal_k}\")\n",
    "# \n",
    "# # Perform K-Means clustering with the optimal number of clusters\n",
    "# kmeans = KMeans(n_clusters=optimal_k, random_state=42)\n",
    "# clusters = kmeans.fit_predict(scaled_data)\n",
    "# \n",
    "# # Add cluster labels to the original data\n",
    "# data['Cluster'] = clusters\n",
    "# \n",
    "# \n",
    "# # Visualize clusters using scatter plots for selected numerical features\n",
    "# def visualize_clusters(df, features, clusters):\n",
    "#     plt.figure(figsize=(14, 10))\n",
    "#     sns.scatterplot(x=features[0], y=features[1], hue=clusters, palette='tab10', data=df, marker='o')\n",
    "#     plt.title(f'Clustering Visualization using {features[0]} and {features[1]}')\n",
    "#     plt.xlabel(features[0])\n",
    "#     plt.ylabel(features[1])\n",
    "#     plt.legend(title='Cluster')\n",
    "#     plt.grid(True)\n",
    "#     plt.show()\n",
    "# \n",
    "# \n",
    "# # Select numerical features for visualization\n",
    "# numerical_features = ['Price', 'Kilometres']  # Example features, adjust as needed\n",
    "# visualize_clusters(data, numerical_features, clusters)\n",
    "# \n",
    "# # Pairwise plots (if you have more than 2 features)\n",
    "# sns.pairplot(data, hue='Cluster', vars=numerical_features, palette='tab10')\n",
    "# plt.show()\n"
   ],
   "id": "7ccd69852a2c2cf0",
   "outputs": [
    {
     "ename": "ValueError",
     "evalue": "could not convert string to float: 'Ssangyong'",
     "output_type": "error",
     "traceback": [
      "\u001B[0;31m---------------------------------------------------------------------------\u001B[0m",
      "\u001B[0;31mValueError\u001B[0m                                Traceback (most recent call last)",
      "\u001B[0;32m/var/folders/sb/_wglw_tj2s33qkd3sqbydk480000gn/T/ipykernel_7126/1299987854.py\u001B[0m in \u001B[0;36m?\u001B[0;34m()\u001B[0m\n\u001B[1;32m     31\u001B[0m \u001B[0;31m# processed_data = preprocess_data(data)\u001B[0m\u001B[0;34m\u001B[0m\u001B[0;34m\u001B[0m\u001B[0m\n\u001B[1;32m     32\u001B[0m \u001B[0;34m\u001B[0m\u001B[0m\n\u001B[1;32m     33\u001B[0m \u001B[0;31m# Standardize the data\u001B[0m\u001B[0;34m\u001B[0m\u001B[0;34m\u001B[0m\u001B[0m\n\u001B[1;32m     34\u001B[0m \u001B[0mscaler\u001B[0m \u001B[0;34m=\u001B[0m \u001B[0mStandardScaler\u001B[0m\u001B[0;34m(\u001B[0m\u001B[0;34m)\u001B[0m\u001B[0;34m\u001B[0m\u001B[0;34m\u001B[0m\u001B[0m\n\u001B[0;32m---> 35\u001B[0;31m \u001B[0mscaled_data\u001B[0m \u001B[0;34m=\u001B[0m \u001B[0mscaler\u001B[0m\u001B[0;34m.\u001B[0m\u001B[0mfit_transform\u001B[0m\u001B[0;34m(\u001B[0m\u001B[0mdata\u001B[0m\u001B[0;34m)\u001B[0m\u001B[0;34m\u001B[0m\u001B[0;34m\u001B[0m\u001B[0m\n\u001B[0m\u001B[1;32m     36\u001B[0m \u001B[0;34m\u001B[0m\u001B[0m\n\u001B[1;32m     37\u001B[0m \u001B[0;34m\u001B[0m\u001B[0m\n\u001B[1;32m     38\u001B[0m \u001B[0;31m# Determine the range of clusters to test\u001B[0m\u001B[0;34m\u001B[0m\u001B[0;34m\u001B[0m\u001B[0m\n",
      "\u001B[0;32m~/anaconda3/lib/python3.11/site-packages/sklearn/utils/_set_output.py\u001B[0m in \u001B[0;36m?\u001B[0;34m(self, X, *args, **kwargs)\u001B[0m\n\u001B[1;32m    138\u001B[0m     \u001B[0;34m@\u001B[0m\u001B[0mwraps\u001B[0m\u001B[0;34m(\u001B[0m\u001B[0mf\u001B[0m\u001B[0;34m)\u001B[0m\u001B[0;34m\u001B[0m\u001B[0;34m\u001B[0m\u001B[0m\n\u001B[1;32m    139\u001B[0m     \u001B[0;32mdef\u001B[0m \u001B[0mwrapped\u001B[0m\u001B[0;34m(\u001B[0m\u001B[0mself\u001B[0m\u001B[0;34m,\u001B[0m \u001B[0mX\u001B[0m\u001B[0;34m,\u001B[0m \u001B[0;34m*\u001B[0m\u001B[0margs\u001B[0m\u001B[0;34m,\u001B[0m \u001B[0;34m**\u001B[0m\u001B[0mkwargs\u001B[0m\u001B[0;34m)\u001B[0m\u001B[0;34m:\u001B[0m\u001B[0;34m\u001B[0m\u001B[0;34m\u001B[0m\u001B[0m\n\u001B[0;32m--> 140\u001B[0;31m         \u001B[0mdata_to_wrap\u001B[0m \u001B[0;34m=\u001B[0m \u001B[0mf\u001B[0m\u001B[0;34m(\u001B[0m\u001B[0mself\u001B[0m\u001B[0;34m,\u001B[0m \u001B[0mX\u001B[0m\u001B[0;34m,\u001B[0m \u001B[0;34m*\u001B[0m\u001B[0margs\u001B[0m\u001B[0;34m,\u001B[0m \u001B[0;34m**\u001B[0m\u001B[0mkwargs\u001B[0m\u001B[0;34m)\u001B[0m\u001B[0;34m\u001B[0m\u001B[0;34m\u001B[0m\u001B[0m\n\u001B[0m\u001B[1;32m    141\u001B[0m         \u001B[0;32mif\u001B[0m \u001B[0misinstance\u001B[0m\u001B[0;34m(\u001B[0m\u001B[0mdata_to_wrap\u001B[0m\u001B[0;34m,\u001B[0m \u001B[0mtuple\u001B[0m\u001B[0;34m)\u001B[0m\u001B[0;34m:\u001B[0m\u001B[0;34m\u001B[0m\u001B[0;34m\u001B[0m\u001B[0m\n\u001B[1;32m    142\u001B[0m             \u001B[0;31m# only wrap the first output for cross decomposition\u001B[0m\u001B[0;34m\u001B[0m\u001B[0;34m\u001B[0m\u001B[0m\n\u001B[1;32m    143\u001B[0m             return_tuple = (\n",
      "\u001B[0;32m~/anaconda3/lib/python3.11/site-packages/sklearn/base.py\u001B[0m in \u001B[0;36m?\u001B[0;34m(self, X, y, **fit_params)\u001B[0m\n\u001B[1;32m    911\u001B[0m         \u001B[0;31m# non-optimized default implementation; override when a better\u001B[0m\u001B[0;34m\u001B[0m\u001B[0;34m\u001B[0m\u001B[0m\n\u001B[1;32m    912\u001B[0m         \u001B[0;31m# method is possible for a given clustering algorithm\u001B[0m\u001B[0;34m\u001B[0m\u001B[0;34m\u001B[0m\u001B[0m\n\u001B[1;32m    913\u001B[0m         \u001B[0;32mif\u001B[0m \u001B[0my\u001B[0m \u001B[0;32mis\u001B[0m \u001B[0;32mNone\u001B[0m\u001B[0;34m:\u001B[0m\u001B[0;34m\u001B[0m\u001B[0;34m\u001B[0m\u001B[0m\n\u001B[1;32m    914\u001B[0m             \u001B[0;31m# fit method of arity 1 (unsupervised transformation)\u001B[0m\u001B[0;34m\u001B[0m\u001B[0;34m\u001B[0m\u001B[0m\n\u001B[0;32m--> 915\u001B[0;31m             \u001B[0;32mreturn\u001B[0m \u001B[0mself\u001B[0m\u001B[0;34m.\u001B[0m\u001B[0mfit\u001B[0m\u001B[0;34m(\u001B[0m\u001B[0mX\u001B[0m\u001B[0;34m,\u001B[0m \u001B[0;34m**\u001B[0m\u001B[0mfit_params\u001B[0m\u001B[0;34m)\u001B[0m\u001B[0;34m.\u001B[0m\u001B[0mtransform\u001B[0m\u001B[0;34m(\u001B[0m\u001B[0mX\u001B[0m\u001B[0;34m)\u001B[0m\u001B[0;34m\u001B[0m\u001B[0;34m\u001B[0m\u001B[0m\n\u001B[0m\u001B[1;32m    916\u001B[0m         \u001B[0;32melse\u001B[0m\u001B[0;34m:\u001B[0m\u001B[0;34m\u001B[0m\u001B[0;34m\u001B[0m\u001B[0m\n\u001B[1;32m    917\u001B[0m             \u001B[0;31m# fit method of arity 2 (supervised transformation)\u001B[0m\u001B[0;34m\u001B[0m\u001B[0;34m\u001B[0m\u001B[0m\n\u001B[1;32m    918\u001B[0m             \u001B[0;32mreturn\u001B[0m \u001B[0mself\u001B[0m\u001B[0;34m.\u001B[0m\u001B[0mfit\u001B[0m\u001B[0;34m(\u001B[0m\u001B[0mX\u001B[0m\u001B[0;34m,\u001B[0m \u001B[0my\u001B[0m\u001B[0;34m,\u001B[0m \u001B[0;34m**\u001B[0m\u001B[0mfit_params\u001B[0m\u001B[0;34m)\u001B[0m\u001B[0;34m.\u001B[0m\u001B[0mtransform\u001B[0m\u001B[0;34m(\u001B[0m\u001B[0mX\u001B[0m\u001B[0;34m)\u001B[0m\u001B[0;34m\u001B[0m\u001B[0;34m\u001B[0m\u001B[0m\n",
      "\u001B[0;32m~/anaconda3/lib/python3.11/site-packages/sklearn/preprocessing/_data.py\u001B[0m in \u001B[0;36m?\u001B[0;34m(self, X, y, sample_weight)\u001B[0m\n\u001B[1;32m    833\u001B[0m             \u001B[0mFitted\u001B[0m \u001B[0mscaler\u001B[0m\u001B[0;34m.\u001B[0m\u001B[0;34m\u001B[0m\u001B[0;34m\u001B[0m\u001B[0m\n\u001B[1;32m    834\u001B[0m         \"\"\"\n\u001B[1;32m    835\u001B[0m         \u001B[0;31m# Reset internal state before fitting\u001B[0m\u001B[0;34m\u001B[0m\u001B[0;34m\u001B[0m\u001B[0m\n\u001B[1;32m    836\u001B[0m         \u001B[0mself\u001B[0m\u001B[0;34m.\u001B[0m\u001B[0m_reset\u001B[0m\u001B[0;34m(\u001B[0m\u001B[0;34m)\u001B[0m\u001B[0;34m\u001B[0m\u001B[0;34m\u001B[0m\u001B[0m\n\u001B[0;32m--> 837\u001B[0;31m         \u001B[0;32mreturn\u001B[0m \u001B[0mself\u001B[0m\u001B[0;34m.\u001B[0m\u001B[0mpartial_fit\u001B[0m\u001B[0;34m(\u001B[0m\u001B[0mX\u001B[0m\u001B[0;34m,\u001B[0m \u001B[0my\u001B[0m\u001B[0;34m,\u001B[0m \u001B[0msample_weight\u001B[0m\u001B[0;34m)\u001B[0m\u001B[0;34m\u001B[0m\u001B[0;34m\u001B[0m\u001B[0m\n\u001B[0m",
      "\u001B[0;32m~/anaconda3/lib/python3.11/site-packages/sklearn/base.py\u001B[0m in \u001B[0;36m?\u001B[0;34m(estimator, *args, **kwargs)\u001B[0m\n\u001B[1;32m   1147\u001B[0m                 skip_parameter_validation=(\n\u001B[1;32m   1148\u001B[0m                     \u001B[0mprefer_skip_nested_validation\u001B[0m \u001B[0;32mor\u001B[0m \u001B[0mglobal_skip_validation\u001B[0m\u001B[0;34m\u001B[0m\u001B[0;34m\u001B[0m\u001B[0m\n\u001B[1;32m   1149\u001B[0m                 )\n\u001B[1;32m   1150\u001B[0m             ):\n\u001B[0;32m-> 1151\u001B[0;31m                 \u001B[0;32mreturn\u001B[0m \u001B[0mfit_method\u001B[0m\u001B[0;34m(\u001B[0m\u001B[0mestimator\u001B[0m\u001B[0;34m,\u001B[0m \u001B[0;34m*\u001B[0m\u001B[0margs\u001B[0m\u001B[0;34m,\u001B[0m \u001B[0;34m**\u001B[0m\u001B[0mkwargs\u001B[0m\u001B[0;34m)\u001B[0m\u001B[0;34m\u001B[0m\u001B[0;34m\u001B[0m\u001B[0m\n\u001B[0m",
      "\u001B[0;32m~/anaconda3/lib/python3.11/site-packages/sklearn/preprocessing/_data.py\u001B[0m in \u001B[0;36m?\u001B[0;34m(self, X, y, sample_weight)\u001B[0m\n\u001B[1;32m    869\u001B[0m         \u001B[0mself\u001B[0m \u001B[0;34m:\u001B[0m \u001B[0mobject\u001B[0m\u001B[0;34m\u001B[0m\u001B[0;34m\u001B[0m\u001B[0m\n\u001B[1;32m    870\u001B[0m             \u001B[0mFitted\u001B[0m \u001B[0mscaler\u001B[0m\u001B[0;34m.\u001B[0m\u001B[0;34m\u001B[0m\u001B[0;34m\u001B[0m\u001B[0m\n\u001B[1;32m    871\u001B[0m         \"\"\"\n\u001B[1;32m    872\u001B[0m         \u001B[0mfirst_call\u001B[0m \u001B[0;34m=\u001B[0m \u001B[0;32mnot\u001B[0m \u001B[0mhasattr\u001B[0m\u001B[0;34m(\u001B[0m\u001B[0mself\u001B[0m\u001B[0;34m,\u001B[0m \u001B[0;34m\"n_samples_seen_\"\u001B[0m\u001B[0;34m)\u001B[0m\u001B[0;34m\u001B[0m\u001B[0;34m\u001B[0m\u001B[0m\n\u001B[0;32m--> 873\u001B[0;31m         X = self._validate_data(\n\u001B[0m\u001B[1;32m    874\u001B[0m             \u001B[0mX\u001B[0m\u001B[0;34m,\u001B[0m\u001B[0;34m\u001B[0m\u001B[0;34m\u001B[0m\u001B[0m\n\u001B[1;32m    875\u001B[0m             \u001B[0maccept_sparse\u001B[0m\u001B[0;34m=\u001B[0m\u001B[0;34m(\u001B[0m\u001B[0;34m\"csr\"\u001B[0m\u001B[0;34m,\u001B[0m \u001B[0;34m\"csc\"\u001B[0m\u001B[0;34m)\u001B[0m\u001B[0;34m,\u001B[0m\u001B[0;34m\u001B[0m\u001B[0;34m\u001B[0m\u001B[0m\n\u001B[1;32m    876\u001B[0m             \u001B[0mdtype\u001B[0m\u001B[0;34m=\u001B[0m\u001B[0mFLOAT_DTYPES\u001B[0m\u001B[0;34m,\u001B[0m\u001B[0;34m\u001B[0m\u001B[0;34m\u001B[0m\u001B[0m\n",
      "\u001B[0;32m~/anaconda3/lib/python3.11/site-packages/sklearn/base.py\u001B[0m in \u001B[0;36m?\u001B[0;34m(self, X, y, reset, validate_separately, cast_to_ndarray, **check_params)\u001B[0m\n\u001B[1;32m    600\u001B[0m                 \u001B[0mout\u001B[0m \u001B[0;34m=\u001B[0m \u001B[0my\u001B[0m\u001B[0;34m\u001B[0m\u001B[0;34m\u001B[0m\u001B[0m\n\u001B[1;32m    601\u001B[0m             \u001B[0;32melse\u001B[0m\u001B[0;34m:\u001B[0m\u001B[0;34m\u001B[0m\u001B[0;34m\u001B[0m\u001B[0m\n\u001B[1;32m    602\u001B[0m                 \u001B[0mout\u001B[0m \u001B[0;34m=\u001B[0m \u001B[0mX\u001B[0m\u001B[0;34m,\u001B[0m \u001B[0my\u001B[0m\u001B[0;34m\u001B[0m\u001B[0;34m\u001B[0m\u001B[0m\n\u001B[1;32m    603\u001B[0m         \u001B[0;32melif\u001B[0m \u001B[0;32mnot\u001B[0m \u001B[0mno_val_X\u001B[0m \u001B[0;32mand\u001B[0m \u001B[0mno_val_y\u001B[0m\u001B[0;34m:\u001B[0m\u001B[0;34m\u001B[0m\u001B[0;34m\u001B[0m\u001B[0m\n\u001B[0;32m--> 604\u001B[0;31m             \u001B[0mout\u001B[0m \u001B[0;34m=\u001B[0m \u001B[0mcheck_array\u001B[0m\u001B[0;34m(\u001B[0m\u001B[0mX\u001B[0m\u001B[0;34m,\u001B[0m \u001B[0minput_name\u001B[0m\u001B[0;34m=\u001B[0m\u001B[0;34m\"X\"\u001B[0m\u001B[0;34m,\u001B[0m \u001B[0;34m**\u001B[0m\u001B[0mcheck_params\u001B[0m\u001B[0;34m)\u001B[0m\u001B[0;34m\u001B[0m\u001B[0;34m\u001B[0m\u001B[0m\n\u001B[0m\u001B[1;32m    605\u001B[0m         \u001B[0;32melif\u001B[0m \u001B[0mno_val_X\u001B[0m \u001B[0;32mand\u001B[0m \u001B[0;32mnot\u001B[0m \u001B[0mno_val_y\u001B[0m\u001B[0;34m:\u001B[0m\u001B[0;34m\u001B[0m\u001B[0;34m\u001B[0m\u001B[0m\n\u001B[1;32m    606\u001B[0m             \u001B[0mout\u001B[0m \u001B[0;34m=\u001B[0m \u001B[0m_check_y\u001B[0m\u001B[0;34m(\u001B[0m\u001B[0my\u001B[0m\u001B[0;34m,\u001B[0m \u001B[0;34m**\u001B[0m\u001B[0mcheck_params\u001B[0m\u001B[0;34m)\u001B[0m\u001B[0;34m\u001B[0m\u001B[0;34m\u001B[0m\u001B[0m\n\u001B[1;32m    607\u001B[0m         \u001B[0;32melse\u001B[0m\u001B[0;34m:\u001B[0m\u001B[0;34m\u001B[0m\u001B[0;34m\u001B[0m\u001B[0m\n",
      "\u001B[0;32m~/anaconda3/lib/python3.11/site-packages/sklearn/utils/validation.py\u001B[0m in \u001B[0;36m?\u001B[0;34m(array, accept_sparse, accept_large_sparse, dtype, order, copy, force_all_finite, ensure_2d, allow_nd, ensure_min_samples, ensure_min_features, estimator, input_name)\u001B[0m\n\u001B[1;32m    914\u001B[0m                         )\n\u001B[1;32m    915\u001B[0m                     \u001B[0marray\u001B[0m \u001B[0;34m=\u001B[0m \u001B[0mxp\u001B[0m\u001B[0;34m.\u001B[0m\u001B[0mastype\u001B[0m\u001B[0;34m(\u001B[0m\u001B[0marray\u001B[0m\u001B[0;34m,\u001B[0m \u001B[0mdtype\u001B[0m\u001B[0;34m,\u001B[0m \u001B[0mcopy\u001B[0m\u001B[0;34m=\u001B[0m\u001B[0;32mFalse\u001B[0m\u001B[0;34m)\u001B[0m\u001B[0;34m\u001B[0m\u001B[0;34m\u001B[0m\u001B[0m\n\u001B[1;32m    916\u001B[0m                 \u001B[0;32melse\u001B[0m\u001B[0;34m:\u001B[0m\u001B[0;34m\u001B[0m\u001B[0;34m\u001B[0m\u001B[0m\n\u001B[1;32m    917\u001B[0m                     \u001B[0marray\u001B[0m \u001B[0;34m=\u001B[0m \u001B[0m_asarray_with_order\u001B[0m\u001B[0;34m(\u001B[0m\u001B[0marray\u001B[0m\u001B[0;34m,\u001B[0m \u001B[0morder\u001B[0m\u001B[0;34m=\u001B[0m\u001B[0morder\u001B[0m\u001B[0;34m,\u001B[0m \u001B[0mdtype\u001B[0m\u001B[0;34m=\u001B[0m\u001B[0mdtype\u001B[0m\u001B[0;34m,\u001B[0m \u001B[0mxp\u001B[0m\u001B[0;34m=\u001B[0m\u001B[0mxp\u001B[0m\u001B[0;34m)\u001B[0m\u001B[0;34m\u001B[0m\u001B[0;34m\u001B[0m\u001B[0m\n\u001B[0;32m--> 918\u001B[0;31m             \u001B[0;32mexcept\u001B[0m \u001B[0mComplexWarning\u001B[0m \u001B[0;32mas\u001B[0m \u001B[0mcomplex_warning\u001B[0m\u001B[0;34m:\u001B[0m\u001B[0;34m\u001B[0m\u001B[0;34m\u001B[0m\u001B[0m\n\u001B[0m\u001B[1;32m    919\u001B[0m                 raise ValueError(\n\u001B[1;32m    920\u001B[0m                     \u001B[0;34m\"Complex data not supported\\n{}\\n\"\u001B[0m\u001B[0;34m.\u001B[0m\u001B[0mformat\u001B[0m\u001B[0;34m(\u001B[0m\u001B[0marray\u001B[0m\u001B[0;34m)\u001B[0m\u001B[0;34m\u001B[0m\u001B[0;34m\u001B[0m\u001B[0m\n\u001B[1;32m    921\u001B[0m                 ) from complex_warning\n",
      "\u001B[0;32m~/anaconda3/lib/python3.11/site-packages/sklearn/utils/_array_api.py\u001B[0m in \u001B[0;36m?\u001B[0;34m(array, dtype, order, copy, xp)\u001B[0m\n\u001B[1;32m    376\u001B[0m         \u001B[0;31m# Use NumPy API to support order\u001B[0m\u001B[0;34m\u001B[0m\u001B[0;34m\u001B[0m\u001B[0m\n\u001B[1;32m    377\u001B[0m         \u001B[0;32mif\u001B[0m \u001B[0mcopy\u001B[0m \u001B[0;32mis\u001B[0m \u001B[0;32mTrue\u001B[0m\u001B[0;34m:\u001B[0m\u001B[0;34m\u001B[0m\u001B[0;34m\u001B[0m\u001B[0m\n\u001B[1;32m    378\u001B[0m             \u001B[0marray\u001B[0m \u001B[0;34m=\u001B[0m \u001B[0mnumpy\u001B[0m\u001B[0;34m.\u001B[0m\u001B[0marray\u001B[0m\u001B[0;34m(\u001B[0m\u001B[0marray\u001B[0m\u001B[0;34m,\u001B[0m \u001B[0morder\u001B[0m\u001B[0;34m=\u001B[0m\u001B[0morder\u001B[0m\u001B[0;34m,\u001B[0m \u001B[0mdtype\u001B[0m\u001B[0;34m=\u001B[0m\u001B[0mdtype\u001B[0m\u001B[0;34m)\u001B[0m\u001B[0;34m\u001B[0m\u001B[0;34m\u001B[0m\u001B[0m\n\u001B[1;32m    379\u001B[0m         \u001B[0;32melse\u001B[0m\u001B[0;34m:\u001B[0m\u001B[0;34m\u001B[0m\u001B[0;34m\u001B[0m\u001B[0m\n\u001B[0;32m--> 380\u001B[0;31m             \u001B[0marray\u001B[0m \u001B[0;34m=\u001B[0m \u001B[0mnumpy\u001B[0m\u001B[0;34m.\u001B[0m\u001B[0masarray\u001B[0m\u001B[0;34m(\u001B[0m\u001B[0marray\u001B[0m\u001B[0;34m,\u001B[0m \u001B[0morder\u001B[0m\u001B[0;34m=\u001B[0m\u001B[0morder\u001B[0m\u001B[0;34m,\u001B[0m \u001B[0mdtype\u001B[0m\u001B[0;34m=\u001B[0m\u001B[0mdtype\u001B[0m\u001B[0;34m)\u001B[0m\u001B[0;34m\u001B[0m\u001B[0;34m\u001B[0m\u001B[0m\n\u001B[0m\u001B[1;32m    381\u001B[0m \u001B[0;34m\u001B[0m\u001B[0m\n\u001B[1;32m    382\u001B[0m         \u001B[0;31m# At this point array is a NumPy ndarray. We convert it to an array\u001B[0m\u001B[0;34m\u001B[0m\u001B[0;34m\u001B[0m\u001B[0m\n\u001B[1;32m    383\u001B[0m         \u001B[0;31m# container that is consistent with the input's namespace.\u001B[0m\u001B[0;34m\u001B[0m\u001B[0;34m\u001B[0m\u001B[0m\n",
      "\u001B[0;32m~/anaconda3/lib/python3.11/site-packages/pandas/core/generic.py\u001B[0m in \u001B[0;36m?\u001B[0;34m(self, dtype)\u001B[0m\n\u001B[1;32m   2069\u001B[0m     \u001B[0;32mdef\u001B[0m \u001B[0m__array__\u001B[0m\u001B[0;34m(\u001B[0m\u001B[0mself\u001B[0m\u001B[0;34m,\u001B[0m \u001B[0mdtype\u001B[0m\u001B[0;34m:\u001B[0m \u001B[0mnpt\u001B[0m\u001B[0;34m.\u001B[0m\u001B[0mDTypeLike\u001B[0m \u001B[0;34m|\u001B[0m \u001B[0;32mNone\u001B[0m \u001B[0;34m=\u001B[0m \u001B[0;32mNone\u001B[0m\u001B[0;34m)\u001B[0m \u001B[0;34m->\u001B[0m \u001B[0mnp\u001B[0m\u001B[0;34m.\u001B[0m\u001B[0mndarray\u001B[0m\u001B[0;34m:\u001B[0m\u001B[0;34m\u001B[0m\u001B[0;34m\u001B[0m\u001B[0m\n\u001B[0;32m-> 2070\u001B[0;31m         \u001B[0;32mreturn\u001B[0m \u001B[0mnp\u001B[0m\u001B[0;34m.\u001B[0m\u001B[0masarray\u001B[0m\u001B[0;34m(\u001B[0m\u001B[0mself\u001B[0m\u001B[0;34m.\u001B[0m\u001B[0m_values\u001B[0m\u001B[0;34m,\u001B[0m \u001B[0mdtype\u001B[0m\u001B[0;34m=\u001B[0m\u001B[0mdtype\u001B[0m\u001B[0;34m)\u001B[0m\u001B[0;34m\u001B[0m\u001B[0;34m\u001B[0m\u001B[0m\n\u001B[0m",
      "\u001B[0;31mValueError\u001B[0m: could not convert string to float: 'Ssangyong'"
     ]
    }
   ],
   "execution_count": 96
  },
  {
   "metadata": {
    "ExecuteTime": {
     "end_time": "2024-08-02T02:08:15.254754Z",
     "start_time": "2024-08-02T02:08:15.180475Z"
    }
   },
   "cell_type": "code",
   "source": [
    "import pandas as pd\n",
    "from sklearn.preprocessing import StandardScaler\n",
    "from sklearn.cluster import KMeans\n",
    "import matplotlib.pyplot as plt\n",
    "\n",
    "# Load the dataset\n",
    "# data = pd.read_csv('your_dataset.csv')\n",
    "\n",
    "data = df\n",
    "\n",
    "# Preprocess the data\n",
    "# def preprocess_data(df):\n",
    "#     # Drop non-numeric columns and fill missing values\n",
    "#     df = df.copy()\n",
    "#     df = df.drop(columns=['Brand', 'Model', 'Title', 'UsedOrNew', 'Transmission', 'Location', 'ColourExtInt', 'DriveType', 'FuelType'])\n",
    "#     \n",
    "#     # Convert categorical variables to dummy variables\n",
    "#     df = pd.get_dummies(df, drop_first=True)\n",
    "#     \n",
    "#     # Handle missing values\n",
    "#     df = df.fillna(df.median())\n",
    "#     \n",
    "#     return df\n",
    "\n",
    "# Process the dataset\n",
    "# processed_data = preprocess_data(data)\n",
    "\n",
    "# Standardize the data\n",
    "scaler = StandardScaler()\n",
    "scaled_data = scaler.fit_transform(df)\n",
    "\n",
    "\n",
    "# Determine the range of clusters to test\n",
    "def perform_kmeans_clustering(data, k_range):\n",
    "    results = []\n",
    "    for k in k_range:\n",
    "        kmeans = KMeans(n_clusters=k, random_state=42)\n",
    "        kmeans.fit(data)\n",
    "        labels = kmeans.labels_\n",
    "        wcss = kmeans.inertia_\n",
    "        # Get the size of each cluster\n",
    "        cluster_sizes = np.bincount(labels)\n",
    "        results.append((k, wcss, cluster_sizes))\n",
    "    return results\n",
    "\n",
    "\n",
    "# Define the range of k values\n",
    "k_range = range(2, 11)\n",
    "\n",
    "# Perform clustering\n",
    "results = perform_kmeans_clustering(scaled_data, k_range)\n",
    "\n",
    "# Convert results to DataFrame for easy visualization\n",
    "results_df = pd.DataFrame(results, columns=['Number of Clusters', 'WCSS', 'Cluster Sizes'])\n",
    "\n",
    "# Print results\n",
    "print(results_df)\n",
    "\n",
    "# Visualize the WCSS\n",
    "plt.figure(figsize=(10, 6))\n",
    "plt.plot(results_df['Number of Clusters'], results_df['WCSS'], marker='o')\n",
    "plt.title('WCSS for Different Number of Clusters')\n",
    "plt.xlabel('Number of Clusters')\n",
    "plt.ylabel('WCSS')\n",
    "plt.grid(True)\n",
    "plt.show()\n",
    "\n",
    "# Select the optimal number of clusters based on WCSS and cluster sizes\n",
    "optimal_k = results_df.loc[results_df['WCSS'].idxmin(), 'Number of Clusters']\n",
    "print(f\"The optimal number of clusters based on WCSS is: {optimal_k}\")\n",
    "\n",
    "# Perform K-Means clustering with the optimal number of clusters\n",
    "kmeans = KMeans(n_clusters=optimal_k, random_state=42)\n",
    "clusters = kmeans.fit_predict(scaled_data)\n",
    "\n",
    "# Add cluster labels to the original data\n",
    "data['Cluster'] = clusters\n",
    "\n",
    "\n",
    "# Visualize clusters using scatter plots for selected numerical features\n",
    "def visualize_clusters(df, features, clusters):\n",
    "    plt.figure(figsize=(14, 10))\n",
    "    sns.scatterplot(x=features[0], y=features[1], hue=clusters, palette='tab10', data=df, marker='o')\n",
    "    plt.title(f'Clustering Visualization using {features[0]} and {features[1]}')\n",
    "    plt.xlabel(features[0])\n",
    "    plt.ylabel(features[1])\n",
    "    plt.legend(title='Cluster')\n",
    "    plt.grid(True)\n",
    "    plt.show()\n",
    "\n",
    "\n",
    "# Select numerical features for visualization\n",
    "numerical_features = ['Price', 'Kilometres']  # Example features, adjust as needed\n",
    "visualize_clusters(data, numerical_features, clusters)\n",
    "\n",
    "# Visualize cluster size distribution\n",
    "plt.figure(figsize=(10, 6))\n",
    "for k, sizes in zip(results_df['Number of Clusters'], results_df['Cluster Sizes']):\n",
    "    plt.bar(range(k), sizes, label=f'{k} Clusters')\n",
    "plt.title('Cluster Size Distribution')\n",
    "plt.xlabel('Cluster Number')\n",
    "plt.ylabel('Number of Samples')\n",
    "plt.legend(title='Number of Clusters')\n",
    "plt.grid(True)\n",
    "plt.show()\n"
   ],
   "id": "2bda04600ed15615",
   "outputs": [
    {
     "ename": "ValueError",
     "evalue": "could not convert string to float: 'Ssangyong'",
     "output_type": "error",
     "traceback": [
      "\u001B[0;31m---------------------------------------------------------------------------\u001B[0m",
      "\u001B[0;31mValueError\u001B[0m                                Traceback (most recent call last)",
      "\u001B[0;32m/var/folders/sb/_wglw_tj2s33qkd3sqbydk480000gn/T/ipykernel_7126/3829698787.py\u001B[0m in \u001B[0;36m?\u001B[0;34m()\u001B[0m\n\u001B[1;32m     28\u001B[0m \u001B[0;31m# processed_data = preprocess_data(data)\u001B[0m\u001B[0;34m\u001B[0m\u001B[0;34m\u001B[0m\u001B[0m\n\u001B[1;32m     29\u001B[0m \u001B[0;34m\u001B[0m\u001B[0m\n\u001B[1;32m     30\u001B[0m \u001B[0;31m# Standardize the data\u001B[0m\u001B[0;34m\u001B[0m\u001B[0;34m\u001B[0m\u001B[0m\n\u001B[1;32m     31\u001B[0m \u001B[0mscaler\u001B[0m \u001B[0;34m=\u001B[0m \u001B[0mStandardScaler\u001B[0m\u001B[0;34m(\u001B[0m\u001B[0;34m)\u001B[0m\u001B[0;34m\u001B[0m\u001B[0;34m\u001B[0m\u001B[0m\n\u001B[0;32m---> 32\u001B[0;31m \u001B[0mscaled_data\u001B[0m \u001B[0;34m=\u001B[0m \u001B[0mscaler\u001B[0m\u001B[0;34m.\u001B[0m\u001B[0mfit_transform\u001B[0m\u001B[0;34m(\u001B[0m\u001B[0mdf\u001B[0m\u001B[0;34m)\u001B[0m\u001B[0;34m\u001B[0m\u001B[0;34m\u001B[0m\u001B[0m\n\u001B[0m\u001B[1;32m     33\u001B[0m \u001B[0;34m\u001B[0m\u001B[0m\n\u001B[1;32m     34\u001B[0m \u001B[0;31m# Determine the range of clusters to test\u001B[0m\u001B[0;34m\u001B[0m\u001B[0;34m\u001B[0m\u001B[0m\n\u001B[1;32m     35\u001B[0m \u001B[0;32mdef\u001B[0m \u001B[0mperform_kmeans_clustering\u001B[0m\u001B[0;34m(\u001B[0m\u001B[0mdata\u001B[0m\u001B[0;34m,\u001B[0m \u001B[0mk_range\u001B[0m\u001B[0;34m)\u001B[0m\u001B[0;34m:\u001B[0m\u001B[0;34m\u001B[0m\u001B[0;34m\u001B[0m\u001B[0m\n",
      "\u001B[0;32m~/anaconda3/lib/python3.11/site-packages/sklearn/utils/_set_output.py\u001B[0m in \u001B[0;36m?\u001B[0;34m(self, X, *args, **kwargs)\u001B[0m\n\u001B[1;32m    138\u001B[0m     \u001B[0;34m@\u001B[0m\u001B[0mwraps\u001B[0m\u001B[0;34m(\u001B[0m\u001B[0mf\u001B[0m\u001B[0;34m)\u001B[0m\u001B[0;34m\u001B[0m\u001B[0;34m\u001B[0m\u001B[0m\n\u001B[1;32m    139\u001B[0m     \u001B[0;32mdef\u001B[0m \u001B[0mwrapped\u001B[0m\u001B[0;34m(\u001B[0m\u001B[0mself\u001B[0m\u001B[0;34m,\u001B[0m \u001B[0mX\u001B[0m\u001B[0;34m,\u001B[0m \u001B[0;34m*\u001B[0m\u001B[0margs\u001B[0m\u001B[0;34m,\u001B[0m \u001B[0;34m**\u001B[0m\u001B[0mkwargs\u001B[0m\u001B[0;34m)\u001B[0m\u001B[0;34m:\u001B[0m\u001B[0;34m\u001B[0m\u001B[0;34m\u001B[0m\u001B[0m\n\u001B[0;32m--> 140\u001B[0;31m         \u001B[0mdata_to_wrap\u001B[0m \u001B[0;34m=\u001B[0m \u001B[0mf\u001B[0m\u001B[0;34m(\u001B[0m\u001B[0mself\u001B[0m\u001B[0;34m,\u001B[0m \u001B[0mX\u001B[0m\u001B[0;34m,\u001B[0m \u001B[0;34m*\u001B[0m\u001B[0margs\u001B[0m\u001B[0;34m,\u001B[0m \u001B[0;34m**\u001B[0m\u001B[0mkwargs\u001B[0m\u001B[0;34m)\u001B[0m\u001B[0;34m\u001B[0m\u001B[0;34m\u001B[0m\u001B[0m\n\u001B[0m\u001B[1;32m    141\u001B[0m         \u001B[0;32mif\u001B[0m \u001B[0misinstance\u001B[0m\u001B[0;34m(\u001B[0m\u001B[0mdata_to_wrap\u001B[0m\u001B[0;34m,\u001B[0m \u001B[0mtuple\u001B[0m\u001B[0;34m)\u001B[0m\u001B[0;34m:\u001B[0m\u001B[0;34m\u001B[0m\u001B[0;34m\u001B[0m\u001B[0m\n\u001B[1;32m    142\u001B[0m             \u001B[0;31m# only wrap the first output for cross decomposition\u001B[0m\u001B[0;34m\u001B[0m\u001B[0;34m\u001B[0m\u001B[0m\n\u001B[1;32m    143\u001B[0m             return_tuple = (\n",
      "\u001B[0;32m~/anaconda3/lib/python3.11/site-packages/sklearn/base.py\u001B[0m in \u001B[0;36m?\u001B[0;34m(self, X, y, **fit_params)\u001B[0m\n\u001B[1;32m    911\u001B[0m         \u001B[0;31m# non-optimized default implementation; override when a better\u001B[0m\u001B[0;34m\u001B[0m\u001B[0;34m\u001B[0m\u001B[0m\n\u001B[1;32m    912\u001B[0m         \u001B[0;31m# method is possible for a given clustering algorithm\u001B[0m\u001B[0;34m\u001B[0m\u001B[0;34m\u001B[0m\u001B[0m\n\u001B[1;32m    913\u001B[0m         \u001B[0;32mif\u001B[0m \u001B[0my\u001B[0m \u001B[0;32mis\u001B[0m \u001B[0;32mNone\u001B[0m\u001B[0;34m:\u001B[0m\u001B[0;34m\u001B[0m\u001B[0;34m\u001B[0m\u001B[0m\n\u001B[1;32m    914\u001B[0m             \u001B[0;31m# fit method of arity 1 (unsupervised transformation)\u001B[0m\u001B[0;34m\u001B[0m\u001B[0;34m\u001B[0m\u001B[0m\n\u001B[0;32m--> 915\u001B[0;31m             \u001B[0;32mreturn\u001B[0m \u001B[0mself\u001B[0m\u001B[0;34m.\u001B[0m\u001B[0mfit\u001B[0m\u001B[0;34m(\u001B[0m\u001B[0mX\u001B[0m\u001B[0;34m,\u001B[0m \u001B[0;34m**\u001B[0m\u001B[0mfit_params\u001B[0m\u001B[0;34m)\u001B[0m\u001B[0;34m.\u001B[0m\u001B[0mtransform\u001B[0m\u001B[0;34m(\u001B[0m\u001B[0mX\u001B[0m\u001B[0;34m)\u001B[0m\u001B[0;34m\u001B[0m\u001B[0;34m\u001B[0m\u001B[0m\n\u001B[0m\u001B[1;32m    916\u001B[0m         \u001B[0;32melse\u001B[0m\u001B[0;34m:\u001B[0m\u001B[0;34m\u001B[0m\u001B[0;34m\u001B[0m\u001B[0m\n\u001B[1;32m    917\u001B[0m             \u001B[0;31m# fit method of arity 2 (supervised transformation)\u001B[0m\u001B[0;34m\u001B[0m\u001B[0;34m\u001B[0m\u001B[0m\n\u001B[1;32m    918\u001B[0m             \u001B[0;32mreturn\u001B[0m \u001B[0mself\u001B[0m\u001B[0;34m.\u001B[0m\u001B[0mfit\u001B[0m\u001B[0;34m(\u001B[0m\u001B[0mX\u001B[0m\u001B[0;34m,\u001B[0m \u001B[0my\u001B[0m\u001B[0;34m,\u001B[0m \u001B[0;34m**\u001B[0m\u001B[0mfit_params\u001B[0m\u001B[0;34m)\u001B[0m\u001B[0;34m.\u001B[0m\u001B[0mtransform\u001B[0m\u001B[0;34m(\u001B[0m\u001B[0mX\u001B[0m\u001B[0;34m)\u001B[0m\u001B[0;34m\u001B[0m\u001B[0;34m\u001B[0m\u001B[0m\n",
      "\u001B[0;32m~/anaconda3/lib/python3.11/site-packages/sklearn/preprocessing/_data.py\u001B[0m in \u001B[0;36m?\u001B[0;34m(self, X, y, sample_weight)\u001B[0m\n\u001B[1;32m    833\u001B[0m             \u001B[0mFitted\u001B[0m \u001B[0mscaler\u001B[0m\u001B[0;34m.\u001B[0m\u001B[0;34m\u001B[0m\u001B[0;34m\u001B[0m\u001B[0m\n\u001B[1;32m    834\u001B[0m         \"\"\"\n\u001B[1;32m    835\u001B[0m         \u001B[0;31m# Reset internal state before fitting\u001B[0m\u001B[0;34m\u001B[0m\u001B[0;34m\u001B[0m\u001B[0m\n\u001B[1;32m    836\u001B[0m         \u001B[0mself\u001B[0m\u001B[0;34m.\u001B[0m\u001B[0m_reset\u001B[0m\u001B[0;34m(\u001B[0m\u001B[0;34m)\u001B[0m\u001B[0;34m\u001B[0m\u001B[0;34m\u001B[0m\u001B[0m\n\u001B[0;32m--> 837\u001B[0;31m         \u001B[0;32mreturn\u001B[0m \u001B[0mself\u001B[0m\u001B[0;34m.\u001B[0m\u001B[0mpartial_fit\u001B[0m\u001B[0;34m(\u001B[0m\u001B[0mX\u001B[0m\u001B[0;34m,\u001B[0m \u001B[0my\u001B[0m\u001B[0;34m,\u001B[0m \u001B[0msample_weight\u001B[0m\u001B[0;34m)\u001B[0m\u001B[0;34m\u001B[0m\u001B[0;34m\u001B[0m\u001B[0m\n\u001B[0m",
      "\u001B[0;32m~/anaconda3/lib/python3.11/site-packages/sklearn/base.py\u001B[0m in \u001B[0;36m?\u001B[0;34m(estimator, *args, **kwargs)\u001B[0m\n\u001B[1;32m   1147\u001B[0m                 skip_parameter_validation=(\n\u001B[1;32m   1148\u001B[0m                     \u001B[0mprefer_skip_nested_validation\u001B[0m \u001B[0;32mor\u001B[0m \u001B[0mglobal_skip_validation\u001B[0m\u001B[0;34m\u001B[0m\u001B[0;34m\u001B[0m\u001B[0m\n\u001B[1;32m   1149\u001B[0m                 )\n\u001B[1;32m   1150\u001B[0m             ):\n\u001B[0;32m-> 1151\u001B[0;31m                 \u001B[0;32mreturn\u001B[0m \u001B[0mfit_method\u001B[0m\u001B[0;34m(\u001B[0m\u001B[0mestimator\u001B[0m\u001B[0;34m,\u001B[0m \u001B[0;34m*\u001B[0m\u001B[0margs\u001B[0m\u001B[0;34m,\u001B[0m \u001B[0;34m**\u001B[0m\u001B[0mkwargs\u001B[0m\u001B[0;34m)\u001B[0m\u001B[0;34m\u001B[0m\u001B[0;34m\u001B[0m\u001B[0m\n\u001B[0m",
      "\u001B[0;32m~/anaconda3/lib/python3.11/site-packages/sklearn/preprocessing/_data.py\u001B[0m in \u001B[0;36m?\u001B[0;34m(self, X, y, sample_weight)\u001B[0m\n\u001B[1;32m    869\u001B[0m         \u001B[0mself\u001B[0m \u001B[0;34m:\u001B[0m \u001B[0mobject\u001B[0m\u001B[0;34m\u001B[0m\u001B[0;34m\u001B[0m\u001B[0m\n\u001B[1;32m    870\u001B[0m             \u001B[0mFitted\u001B[0m \u001B[0mscaler\u001B[0m\u001B[0;34m.\u001B[0m\u001B[0;34m\u001B[0m\u001B[0;34m\u001B[0m\u001B[0m\n\u001B[1;32m    871\u001B[0m         \"\"\"\n\u001B[1;32m    872\u001B[0m         \u001B[0mfirst_call\u001B[0m \u001B[0;34m=\u001B[0m \u001B[0;32mnot\u001B[0m \u001B[0mhasattr\u001B[0m\u001B[0;34m(\u001B[0m\u001B[0mself\u001B[0m\u001B[0;34m,\u001B[0m \u001B[0;34m\"n_samples_seen_\"\u001B[0m\u001B[0;34m)\u001B[0m\u001B[0;34m\u001B[0m\u001B[0;34m\u001B[0m\u001B[0m\n\u001B[0;32m--> 873\u001B[0;31m         X = self._validate_data(\n\u001B[0m\u001B[1;32m    874\u001B[0m             \u001B[0mX\u001B[0m\u001B[0;34m,\u001B[0m\u001B[0;34m\u001B[0m\u001B[0;34m\u001B[0m\u001B[0m\n\u001B[1;32m    875\u001B[0m             \u001B[0maccept_sparse\u001B[0m\u001B[0;34m=\u001B[0m\u001B[0;34m(\u001B[0m\u001B[0;34m\"csr\"\u001B[0m\u001B[0;34m,\u001B[0m \u001B[0;34m\"csc\"\u001B[0m\u001B[0;34m)\u001B[0m\u001B[0;34m,\u001B[0m\u001B[0;34m\u001B[0m\u001B[0;34m\u001B[0m\u001B[0m\n\u001B[1;32m    876\u001B[0m             \u001B[0mdtype\u001B[0m\u001B[0;34m=\u001B[0m\u001B[0mFLOAT_DTYPES\u001B[0m\u001B[0;34m,\u001B[0m\u001B[0;34m\u001B[0m\u001B[0;34m\u001B[0m\u001B[0m\n",
      "\u001B[0;32m~/anaconda3/lib/python3.11/site-packages/sklearn/base.py\u001B[0m in \u001B[0;36m?\u001B[0;34m(self, X, y, reset, validate_separately, cast_to_ndarray, **check_params)\u001B[0m\n\u001B[1;32m    600\u001B[0m                 \u001B[0mout\u001B[0m \u001B[0;34m=\u001B[0m \u001B[0my\u001B[0m\u001B[0;34m\u001B[0m\u001B[0;34m\u001B[0m\u001B[0m\n\u001B[1;32m    601\u001B[0m             \u001B[0;32melse\u001B[0m\u001B[0;34m:\u001B[0m\u001B[0;34m\u001B[0m\u001B[0;34m\u001B[0m\u001B[0m\n\u001B[1;32m    602\u001B[0m                 \u001B[0mout\u001B[0m \u001B[0;34m=\u001B[0m \u001B[0mX\u001B[0m\u001B[0;34m,\u001B[0m \u001B[0my\u001B[0m\u001B[0;34m\u001B[0m\u001B[0;34m\u001B[0m\u001B[0m\n\u001B[1;32m    603\u001B[0m         \u001B[0;32melif\u001B[0m \u001B[0;32mnot\u001B[0m \u001B[0mno_val_X\u001B[0m \u001B[0;32mand\u001B[0m \u001B[0mno_val_y\u001B[0m\u001B[0;34m:\u001B[0m\u001B[0;34m\u001B[0m\u001B[0;34m\u001B[0m\u001B[0m\n\u001B[0;32m--> 604\u001B[0;31m             \u001B[0mout\u001B[0m \u001B[0;34m=\u001B[0m \u001B[0mcheck_array\u001B[0m\u001B[0;34m(\u001B[0m\u001B[0mX\u001B[0m\u001B[0;34m,\u001B[0m \u001B[0minput_name\u001B[0m\u001B[0;34m=\u001B[0m\u001B[0;34m\"X\"\u001B[0m\u001B[0;34m,\u001B[0m \u001B[0;34m**\u001B[0m\u001B[0mcheck_params\u001B[0m\u001B[0;34m)\u001B[0m\u001B[0;34m\u001B[0m\u001B[0;34m\u001B[0m\u001B[0m\n\u001B[0m\u001B[1;32m    605\u001B[0m         \u001B[0;32melif\u001B[0m \u001B[0mno_val_X\u001B[0m \u001B[0;32mand\u001B[0m \u001B[0;32mnot\u001B[0m \u001B[0mno_val_y\u001B[0m\u001B[0;34m:\u001B[0m\u001B[0;34m\u001B[0m\u001B[0;34m\u001B[0m\u001B[0m\n\u001B[1;32m    606\u001B[0m             \u001B[0mout\u001B[0m \u001B[0;34m=\u001B[0m \u001B[0m_check_y\u001B[0m\u001B[0;34m(\u001B[0m\u001B[0my\u001B[0m\u001B[0;34m,\u001B[0m \u001B[0;34m**\u001B[0m\u001B[0mcheck_params\u001B[0m\u001B[0;34m)\u001B[0m\u001B[0;34m\u001B[0m\u001B[0;34m\u001B[0m\u001B[0m\n\u001B[1;32m    607\u001B[0m         \u001B[0;32melse\u001B[0m\u001B[0;34m:\u001B[0m\u001B[0;34m\u001B[0m\u001B[0;34m\u001B[0m\u001B[0m\n",
      "\u001B[0;32m~/anaconda3/lib/python3.11/site-packages/sklearn/utils/validation.py\u001B[0m in \u001B[0;36m?\u001B[0;34m(array, accept_sparse, accept_large_sparse, dtype, order, copy, force_all_finite, ensure_2d, allow_nd, ensure_min_samples, ensure_min_features, estimator, input_name)\u001B[0m\n\u001B[1;32m    914\u001B[0m                         )\n\u001B[1;32m    915\u001B[0m                     \u001B[0marray\u001B[0m \u001B[0;34m=\u001B[0m \u001B[0mxp\u001B[0m\u001B[0;34m.\u001B[0m\u001B[0mastype\u001B[0m\u001B[0;34m(\u001B[0m\u001B[0marray\u001B[0m\u001B[0;34m,\u001B[0m \u001B[0mdtype\u001B[0m\u001B[0;34m,\u001B[0m \u001B[0mcopy\u001B[0m\u001B[0;34m=\u001B[0m\u001B[0;32mFalse\u001B[0m\u001B[0;34m)\u001B[0m\u001B[0;34m\u001B[0m\u001B[0;34m\u001B[0m\u001B[0m\n\u001B[1;32m    916\u001B[0m                 \u001B[0;32melse\u001B[0m\u001B[0;34m:\u001B[0m\u001B[0;34m\u001B[0m\u001B[0;34m\u001B[0m\u001B[0m\n\u001B[1;32m    917\u001B[0m                     \u001B[0marray\u001B[0m \u001B[0;34m=\u001B[0m \u001B[0m_asarray_with_order\u001B[0m\u001B[0;34m(\u001B[0m\u001B[0marray\u001B[0m\u001B[0;34m,\u001B[0m \u001B[0morder\u001B[0m\u001B[0;34m=\u001B[0m\u001B[0morder\u001B[0m\u001B[0;34m,\u001B[0m \u001B[0mdtype\u001B[0m\u001B[0;34m=\u001B[0m\u001B[0mdtype\u001B[0m\u001B[0;34m,\u001B[0m \u001B[0mxp\u001B[0m\u001B[0;34m=\u001B[0m\u001B[0mxp\u001B[0m\u001B[0;34m)\u001B[0m\u001B[0;34m\u001B[0m\u001B[0;34m\u001B[0m\u001B[0m\n\u001B[0;32m--> 918\u001B[0;31m             \u001B[0;32mexcept\u001B[0m \u001B[0mComplexWarning\u001B[0m \u001B[0;32mas\u001B[0m \u001B[0mcomplex_warning\u001B[0m\u001B[0;34m:\u001B[0m\u001B[0;34m\u001B[0m\u001B[0;34m\u001B[0m\u001B[0m\n\u001B[0m\u001B[1;32m    919\u001B[0m                 raise ValueError(\n\u001B[1;32m    920\u001B[0m                     \u001B[0;34m\"Complex data not supported\\n{}\\n\"\u001B[0m\u001B[0;34m.\u001B[0m\u001B[0mformat\u001B[0m\u001B[0;34m(\u001B[0m\u001B[0marray\u001B[0m\u001B[0;34m)\u001B[0m\u001B[0;34m\u001B[0m\u001B[0;34m\u001B[0m\u001B[0m\n\u001B[1;32m    921\u001B[0m                 ) from complex_warning\n",
      "\u001B[0;32m~/anaconda3/lib/python3.11/site-packages/sklearn/utils/_array_api.py\u001B[0m in \u001B[0;36m?\u001B[0;34m(array, dtype, order, copy, xp)\u001B[0m\n\u001B[1;32m    376\u001B[0m         \u001B[0;31m# Use NumPy API to support order\u001B[0m\u001B[0;34m\u001B[0m\u001B[0;34m\u001B[0m\u001B[0m\n\u001B[1;32m    377\u001B[0m         \u001B[0;32mif\u001B[0m \u001B[0mcopy\u001B[0m \u001B[0;32mis\u001B[0m \u001B[0;32mTrue\u001B[0m\u001B[0;34m:\u001B[0m\u001B[0;34m\u001B[0m\u001B[0;34m\u001B[0m\u001B[0m\n\u001B[1;32m    378\u001B[0m             \u001B[0marray\u001B[0m \u001B[0;34m=\u001B[0m \u001B[0mnumpy\u001B[0m\u001B[0;34m.\u001B[0m\u001B[0marray\u001B[0m\u001B[0;34m(\u001B[0m\u001B[0marray\u001B[0m\u001B[0;34m,\u001B[0m \u001B[0morder\u001B[0m\u001B[0;34m=\u001B[0m\u001B[0morder\u001B[0m\u001B[0;34m,\u001B[0m \u001B[0mdtype\u001B[0m\u001B[0;34m=\u001B[0m\u001B[0mdtype\u001B[0m\u001B[0;34m)\u001B[0m\u001B[0;34m\u001B[0m\u001B[0;34m\u001B[0m\u001B[0m\n\u001B[1;32m    379\u001B[0m         \u001B[0;32melse\u001B[0m\u001B[0;34m:\u001B[0m\u001B[0;34m\u001B[0m\u001B[0;34m\u001B[0m\u001B[0m\n\u001B[0;32m--> 380\u001B[0;31m             \u001B[0marray\u001B[0m \u001B[0;34m=\u001B[0m \u001B[0mnumpy\u001B[0m\u001B[0;34m.\u001B[0m\u001B[0masarray\u001B[0m\u001B[0;34m(\u001B[0m\u001B[0marray\u001B[0m\u001B[0;34m,\u001B[0m \u001B[0morder\u001B[0m\u001B[0;34m=\u001B[0m\u001B[0morder\u001B[0m\u001B[0;34m,\u001B[0m \u001B[0mdtype\u001B[0m\u001B[0;34m=\u001B[0m\u001B[0mdtype\u001B[0m\u001B[0;34m)\u001B[0m\u001B[0;34m\u001B[0m\u001B[0;34m\u001B[0m\u001B[0m\n\u001B[0m\u001B[1;32m    381\u001B[0m \u001B[0;34m\u001B[0m\u001B[0m\n\u001B[1;32m    382\u001B[0m         \u001B[0;31m# At this point array is a NumPy ndarray. We convert it to an array\u001B[0m\u001B[0;34m\u001B[0m\u001B[0;34m\u001B[0m\u001B[0m\n\u001B[1;32m    383\u001B[0m         \u001B[0;31m# container that is consistent with the input's namespace.\u001B[0m\u001B[0;34m\u001B[0m\u001B[0;34m\u001B[0m\u001B[0m\n",
      "\u001B[0;32m~/anaconda3/lib/python3.11/site-packages/pandas/core/generic.py\u001B[0m in \u001B[0;36m?\u001B[0;34m(self, dtype)\u001B[0m\n\u001B[1;32m   2069\u001B[0m     \u001B[0;32mdef\u001B[0m \u001B[0m__array__\u001B[0m\u001B[0;34m(\u001B[0m\u001B[0mself\u001B[0m\u001B[0;34m,\u001B[0m \u001B[0mdtype\u001B[0m\u001B[0;34m:\u001B[0m \u001B[0mnpt\u001B[0m\u001B[0;34m.\u001B[0m\u001B[0mDTypeLike\u001B[0m \u001B[0;34m|\u001B[0m \u001B[0;32mNone\u001B[0m \u001B[0;34m=\u001B[0m \u001B[0;32mNone\u001B[0m\u001B[0;34m)\u001B[0m \u001B[0;34m->\u001B[0m \u001B[0mnp\u001B[0m\u001B[0;34m.\u001B[0m\u001B[0mndarray\u001B[0m\u001B[0;34m:\u001B[0m\u001B[0;34m\u001B[0m\u001B[0;34m\u001B[0m\u001B[0m\n\u001B[0;32m-> 2070\u001B[0;31m         \u001B[0;32mreturn\u001B[0m \u001B[0mnp\u001B[0m\u001B[0;34m.\u001B[0m\u001B[0masarray\u001B[0m\u001B[0;34m(\u001B[0m\u001B[0mself\u001B[0m\u001B[0;34m.\u001B[0m\u001B[0m_values\u001B[0m\u001B[0;34m,\u001B[0m \u001B[0mdtype\u001B[0m\u001B[0;34m=\u001B[0m\u001B[0mdtype\u001B[0m\u001B[0;34m)\u001B[0m\u001B[0;34m\u001B[0m\u001B[0;34m\u001B[0m\u001B[0m\n\u001B[0m",
      "\u001B[0;31mValueError\u001B[0m: could not convert string to float: 'Ssangyong'"
     ]
    }
   ],
   "execution_count": 97
  },
  {
   "metadata": {
    "ExecuteTime": {
     "end_time": "2024-08-02T02:09:35.055014Z",
     "start_time": "2024-08-02T02:09:32.423130Z"
    }
   },
   "cell_type": "code",
   "source": [
    "# import pandas as pd\n",
    "# import numpy as np\n",
    "# from sklearn.preprocessing import StandardScaler\n",
    "# from sklearn.cluster import KMeans\n",
    "# import matplotlib.pyplot as plt\n",
    "# import seaborn as sns\n",
    "# \n",
    "# # Load the dataset\n",
    "# data = df\n",
    "# \n",
    "# \n",
    "# # Preprocess the data\n",
    "# def preprocess_data(df):\n",
    "#     df = df.copy()\n",
    "# \n",
    "#     # Drop non-numeric columns that won't be used for clustering\n",
    "#     non_numeric_columns = ['Brand', 'Model', 'Title', 'UsedOrNew', 'Transmission', 'Location', 'ColourExtInt',\n",
    "#                            'DriveType', 'FuelType']\n",
    "#     df = df.drop(columns=non_numeric_columns, errors='ignore')\n",
    "# \n",
    "#     # Convert categorical variables to dummy variables\n",
    "#     df = pd.get_dummies(df, drop_first=True)\n",
    "# \n",
    "#     # Handle missing values: Fill with median for numeric columns\n",
    "#     df = df.fillna(df.median(numeric_only=True))\n",
    "# \n",
    "#     return df\n",
    "# \n",
    "# \n",
    "# # Process the dataset\n",
    "# processed_data = preprocess_data(data)\n",
    "# \n",
    "# # Check the processed data\n",
    "# print(processed_data.head())\n",
    "# \n",
    "# # Standardize the data\n",
    "# scaler = StandardScaler()\n",
    "# scaled_data = scaler.fit_transform(processed_data)\n",
    "# \n",
    "# \n",
    "# # Determine the range of clusters to test\n",
    "# def perform_kmeans_clustering(data, k_range):\n",
    "#     results = []\n",
    "#     for k in k_range:\n",
    "#         kmeans = KMeans(n_clusters=k, random_state=42)\n",
    "#         kmeans.fit(data)\n",
    "#         labels = kmeans.labels_\n",
    "#         wcss = kmeans.inertia_\n",
    "#         # Get the size of each cluster\n",
    "#         cluster_sizes = np.bincount(labels)\n",
    "#         results.append((k, wcss, cluster_sizes))\n",
    "#     return results\n",
    "# \n",
    "# \n",
    "# # Define the range of k values\n",
    "# k_range = range(2, 11)\n",
    "# \n",
    "# # Perform clustering\n",
    "# results = perform_kmeans_clustering(scaled_data, k_range)\n",
    "# \n",
    "# # Convert results to DataFrame for easy visualization\n",
    "# results_df = pd.DataFrame(results, columns=['Number of Clusters', 'WCSS', 'Cluster Sizes'])\n",
    "# \n",
    "# # Print results\n",
    "# print(results_df)\n",
    "# \n",
    "# # Visualize the WCSS\n",
    "# plt.figure(figsize=(10, 6))\n",
    "# plt.plot(results_df['Number of Clusters'], results_df['WCSS'], marker='o')\n",
    "# plt.title('WCSS for Different Number of Clusters')\n",
    "# plt.xlabel('Number of Clusters')\n",
    "# plt.ylabel('WCSS')\n",
    "# plt.grid(True)\n",
    "# plt.show()\n",
    "# \n",
    "# # Select the optimal number of clusters based on WCSS and cluster sizes\n",
    "# optimal_k = results_df.loc[results_df['WCSS'].idxmin(), 'Number of Clusters']\n",
    "# print(f\"The optimal number of clusters based on WCSS is: {optimal_k}\")\n",
    "# \n",
    "# # Perform K-Means clustering with the optimal number of clusters\n",
    "# kmeans = KMeans(n_clusters=optimal_k, random_state=42)\n",
    "# clusters = kmeans.fit_predict(scaled_data)\n",
    "# \n",
    "# # Add cluster labels to the original data\n",
    "# data['Cluster'] = clusters\n",
    "# \n",
    "# \n",
    "# # Visualize clusters using scatter plots for selected numerical features\n",
    "# def visualize_clusters(df, features, clusters):\n",
    "#     plt.figure(figsize=(14, 10))\n",
    "#     sns.scatterplot(x=features[0], y=features[1], hue=clusters, palette='tab10', data=df, marker='o')\n",
    "#     plt.title(f'Clustering Visualization using {features[0]} and {features[1]}')\n",
    "#     plt.xlabel(features[0])\n",
    "#     plt.ylabel(features[1])\n",
    "#     plt.legend(title='Cluster')\n",
    "#     plt.grid(True)\n",
    "#     plt.show()\n",
    "# \n",
    "# \n",
    "# # Select numerical features for visualization\n",
    "# numerical_features = ['Price', 'Kilometres']  # Example features, adjust as needed\n",
    "# visualize_clusters(data, numerical_features, clusters)\n",
    "# \n",
    "# # Visualize cluster size distribution\n",
    "# plt.figure(figsize=(10, 6))\n",
    "# for k, sizes in zip(results_df['Number of Clusters'], results_df['Cluster Sizes']):\n",
    "#     plt.bar(range(k), sizes, label=f'{k} Clusters')\n",
    "# plt.title('Cluster Size Distribution')\n",
    "# plt.xlabel('Cluster Number')\n",
    "# plt.ylabel('Number of Samples')\n",
    "# plt.legend(title='Number of Clusters')\n",
    "# plt.grid(True)\n",
    "# plt.show()\n"
   ],
   "id": "1e173ac7d20c9a0f",
   "outputs": [
    {
     "name": "stdout",
     "output_type": "stream",
     "text": [
      "     Year  Kilometres   Price  Car/Suv_03 **** ****\\n  Car/Suv_07 **** ****\\n  \\\n",
      "0  2022.0        5595   51990                       0                       0   \n",
      "1  2022.0          16   19990                       0                       0   \n",
      "2  2022.0        8472  108988                       0                       0   \n",
      "3  2011.0      136517   32990                       0                       0   \n",
      "4  2022.0        1035   34990                       0                       0   \n",
      "\n",
      "   Car/Suv_08 **** ****\\n  Car/Suv_3MT True Value Auto  Car/Suv_4B4 Warehouse  \\\n",
      "0                       0                            0                      0   \n",
      "1                       0                            0                      0   \n",
      "2                       0                            0                      0   \n",
      "3                       0                            0                      0   \n",
      "4                       0                            0                      0   \n",
      "\n",
      "   Car/Suv_4x4 Mega Centre  Car/Suv_A Cullen & Son  ...  Seats_ 15 Seats  \\\n",
      "0                        0                       0  ...                0   \n",
      "1                        0                       0  ...                0   \n",
      "2                        0                       0  ...                0   \n",
      "3                        0                       0  ...                0   \n",
      "4                        0                       0  ...                0   \n",
      "\n",
      "   Seats_ 2 Seats  Seats_ 22 Seats  Seats_ 3 Seats  Seats_ 4 Seats  \\\n",
      "0               0                0               0               0   \n",
      "1               0                0               0               0   \n",
      "2               0                0               0               1   \n",
      "3               0                0               0               1   \n",
      "4               0                0               0               0   \n",
      "\n",
      "   Seats_ 5 Seats  Seats_ 6 Seats  Seats_ 7 Seats  Seats_ 8 Seats  \\\n",
      "0               0               0               1               0   \n",
      "1               1               0               0               0   \n",
      "2               0               0               0               0   \n",
      "3               0               0               0               0   \n",
      "4               1               0               0               0   \n",
      "\n",
      "   Seats_ 9 Seats  \n",
      "0               0  \n",
      "1               0  \n",
      "2               0  \n",
      "3               0  \n",
      "4               0  \n",
      "\n",
      "[5 rows x 924 columns]\n"
     ]
    },
    {
     "name": "stderr",
     "output_type": "stream",
     "text": [
      "/Users/mac/anaconda3/lib/python3.11/site-packages/sklearn/cluster/_kmeans.py:1412: FutureWarning: The default value of `n_init` will change from 10 to 'auto' in 1.4. Set the value of `n_init` explicitly to suppress the warning\n",
      "  super()._check_params_vs_input(X, default_n_init=10)\n"
     ]
    },
    {
     "ename": "AttributeError",
     "evalue": "'NoneType' object has no attribute 'split'",
     "output_type": "error",
     "traceback": [
      "\u001B[0;31m---------------------------------------------------------------------------\u001B[0m",
      "\u001B[0;31mAttributeError\u001B[0m                            Traceback (most recent call last)",
      "Cell \u001B[0;32mIn[98], line 54\u001B[0m\n\u001B[1;32m     51\u001B[0m k_range \u001B[38;5;241m=\u001B[39m \u001B[38;5;28mrange\u001B[39m(\u001B[38;5;241m2\u001B[39m, \u001B[38;5;241m11\u001B[39m)\n\u001B[1;32m     53\u001B[0m \u001B[38;5;66;03m# Perform clustering\u001B[39;00m\n\u001B[0;32m---> 54\u001B[0m results \u001B[38;5;241m=\u001B[39m perform_kmeans_clustering(scaled_data, k_range)\n\u001B[1;32m     56\u001B[0m \u001B[38;5;66;03m# Convert results to DataFrame for easy visualization\u001B[39;00m\n\u001B[1;32m     57\u001B[0m results_df \u001B[38;5;241m=\u001B[39m pd\u001B[38;5;241m.\u001B[39mDataFrame(results, columns\u001B[38;5;241m=\u001B[39m[\u001B[38;5;124m'\u001B[39m\u001B[38;5;124mNumber of Clusters\u001B[39m\u001B[38;5;124m'\u001B[39m, \u001B[38;5;124m'\u001B[39m\u001B[38;5;124mWCSS\u001B[39m\u001B[38;5;124m'\u001B[39m, \u001B[38;5;124m'\u001B[39m\u001B[38;5;124mCluster Sizes\u001B[39m\u001B[38;5;124m'\u001B[39m])\n",
      "Cell \u001B[0;32mIn[98], line 42\u001B[0m, in \u001B[0;36mperform_kmeans_clustering\u001B[0;34m(data, k_range)\u001B[0m\n\u001B[1;32m     40\u001B[0m \u001B[38;5;28;01mfor\u001B[39;00m k \u001B[38;5;129;01min\u001B[39;00m k_range:\n\u001B[1;32m     41\u001B[0m     kmeans \u001B[38;5;241m=\u001B[39m KMeans(n_clusters\u001B[38;5;241m=\u001B[39mk, random_state\u001B[38;5;241m=\u001B[39m\u001B[38;5;241m42\u001B[39m)\n\u001B[0;32m---> 42\u001B[0m     kmeans\u001B[38;5;241m.\u001B[39mfit(data)\n\u001B[1;32m     43\u001B[0m     labels \u001B[38;5;241m=\u001B[39m kmeans\u001B[38;5;241m.\u001B[39mlabels_\n\u001B[1;32m     44\u001B[0m     wcss \u001B[38;5;241m=\u001B[39m kmeans\u001B[38;5;241m.\u001B[39minertia_\n",
      "File \u001B[0;32m~/anaconda3/lib/python3.11/site-packages/sklearn/base.py:1151\u001B[0m, in \u001B[0;36m_fit_context.<locals>.decorator.<locals>.wrapper\u001B[0;34m(estimator, *args, **kwargs)\u001B[0m\n\u001B[1;32m   1144\u001B[0m     estimator\u001B[38;5;241m.\u001B[39m_validate_params()\n\u001B[1;32m   1146\u001B[0m \u001B[38;5;28;01mwith\u001B[39;00m config_context(\n\u001B[1;32m   1147\u001B[0m     skip_parameter_validation\u001B[38;5;241m=\u001B[39m(\n\u001B[1;32m   1148\u001B[0m         prefer_skip_nested_validation \u001B[38;5;129;01mor\u001B[39;00m global_skip_validation\n\u001B[1;32m   1149\u001B[0m     )\n\u001B[1;32m   1150\u001B[0m ):\n\u001B[0;32m-> 1151\u001B[0m     \u001B[38;5;28;01mreturn\u001B[39;00m fit_method(estimator, \u001B[38;5;241m*\u001B[39margs, \u001B[38;5;241m*\u001B[39m\u001B[38;5;241m*\u001B[39mkwargs)\n",
      "File \u001B[0;32m~/anaconda3/lib/python3.11/site-packages/sklearn/cluster/_kmeans.py:1526\u001B[0m, in \u001B[0;36mKMeans.fit\u001B[0;34m(self, X, y, sample_weight)\u001B[0m\n\u001B[1;32m   1523\u001B[0m     \u001B[38;5;28mprint\u001B[39m(\u001B[38;5;124m\"\u001B[39m\u001B[38;5;124mInitialization complete\u001B[39m\u001B[38;5;124m\"\u001B[39m)\n\u001B[1;32m   1525\u001B[0m \u001B[38;5;66;03m# run a k-means once\u001B[39;00m\n\u001B[0;32m-> 1526\u001B[0m labels, inertia, centers, n_iter_ \u001B[38;5;241m=\u001B[39m kmeans_single(\n\u001B[1;32m   1527\u001B[0m     X,\n\u001B[1;32m   1528\u001B[0m     sample_weight,\n\u001B[1;32m   1529\u001B[0m     centers_init,\n\u001B[1;32m   1530\u001B[0m     max_iter\u001B[38;5;241m=\u001B[39m\u001B[38;5;28mself\u001B[39m\u001B[38;5;241m.\u001B[39mmax_iter,\n\u001B[1;32m   1531\u001B[0m     verbose\u001B[38;5;241m=\u001B[39m\u001B[38;5;28mself\u001B[39m\u001B[38;5;241m.\u001B[39mverbose,\n\u001B[1;32m   1532\u001B[0m     tol\u001B[38;5;241m=\u001B[39m\u001B[38;5;28mself\u001B[39m\u001B[38;5;241m.\u001B[39m_tol,\n\u001B[1;32m   1533\u001B[0m     n_threads\u001B[38;5;241m=\u001B[39m\u001B[38;5;28mself\u001B[39m\u001B[38;5;241m.\u001B[39m_n_threads,\n\u001B[1;32m   1534\u001B[0m )\n\u001B[1;32m   1536\u001B[0m \u001B[38;5;66;03m# determine if these results are the best so far\u001B[39;00m\n\u001B[1;32m   1537\u001B[0m \u001B[38;5;66;03m# we chose a new run if it has a better inertia and the clustering is\u001B[39;00m\n\u001B[1;32m   1538\u001B[0m \u001B[38;5;66;03m# different from the best so far (it's possible that the inertia is\u001B[39;00m\n\u001B[1;32m   1539\u001B[0m \u001B[38;5;66;03m# slightly better even if the clustering is the same with potentially\u001B[39;00m\n\u001B[1;32m   1540\u001B[0m \u001B[38;5;66;03m# permuted labels, due to rounding errors)\u001B[39;00m\n\u001B[1;32m   1541\u001B[0m \u001B[38;5;28;01mif\u001B[39;00m best_inertia \u001B[38;5;129;01mis\u001B[39;00m \u001B[38;5;28;01mNone\u001B[39;00m \u001B[38;5;129;01mor\u001B[39;00m (\n\u001B[1;32m   1542\u001B[0m     inertia \u001B[38;5;241m<\u001B[39m best_inertia\n\u001B[1;32m   1543\u001B[0m     \u001B[38;5;129;01mand\u001B[39;00m \u001B[38;5;129;01mnot\u001B[39;00m _is_same_clustering(labels, best_labels, \u001B[38;5;28mself\u001B[39m\u001B[38;5;241m.\u001B[39mn_clusters)\n\u001B[1;32m   1544\u001B[0m ):\n",
      "File \u001B[0;32m~/anaconda3/lib/python3.11/site-packages/sklearn/cluster/_kmeans.py:688\u001B[0m, in \u001B[0;36m_kmeans_single_lloyd\u001B[0;34m(X, sample_weight, centers_init, max_iter, verbose, tol, n_threads)\u001B[0m\n\u001B[1;32m    684\u001B[0m strict_convergence \u001B[38;5;241m=\u001B[39m \u001B[38;5;28;01mFalse\u001B[39;00m\n\u001B[1;32m    686\u001B[0m \u001B[38;5;66;03m# Threadpoolctl context to limit the number of threads in second level of\u001B[39;00m\n\u001B[1;32m    687\u001B[0m \u001B[38;5;66;03m# nested parallelism (i.e. BLAS) to avoid oversubscription.\u001B[39;00m\n\u001B[0;32m--> 688\u001B[0m \u001B[38;5;28;01mwith\u001B[39;00m threadpool_limits(limits\u001B[38;5;241m=\u001B[39m\u001B[38;5;241m1\u001B[39m, user_api\u001B[38;5;241m=\u001B[39m\u001B[38;5;124m\"\u001B[39m\u001B[38;5;124mblas\u001B[39m\u001B[38;5;124m\"\u001B[39m):\n\u001B[1;32m    689\u001B[0m     \u001B[38;5;28;01mfor\u001B[39;00m i \u001B[38;5;129;01min\u001B[39;00m \u001B[38;5;28mrange\u001B[39m(max_iter):\n\u001B[1;32m    690\u001B[0m         lloyd_iter(\n\u001B[1;32m    691\u001B[0m             X,\n\u001B[1;32m    692\u001B[0m             sample_weight,\n\u001B[0;32m   (...)\u001B[0m\n\u001B[1;32m    698\u001B[0m             n_threads,\n\u001B[1;32m    699\u001B[0m         )\n",
      "File \u001B[0;32m~/anaconda3/lib/python3.11/site-packages/sklearn/utils/fixes.py:72\u001B[0m, in \u001B[0;36mthreadpool_limits\u001B[0;34m(limits, user_api)\u001B[0m\n\u001B[1;32m     70\u001B[0m     \u001B[38;5;28;01mreturn\u001B[39;00m controller\u001B[38;5;241m.\u001B[39mlimit(limits\u001B[38;5;241m=\u001B[39mlimits, user_api\u001B[38;5;241m=\u001B[39muser_api)\n\u001B[1;32m     71\u001B[0m \u001B[38;5;28;01melse\u001B[39;00m:\n\u001B[0;32m---> 72\u001B[0m     \u001B[38;5;28;01mreturn\u001B[39;00m threadpoolctl\u001B[38;5;241m.\u001B[39mthreadpool_limits(limits\u001B[38;5;241m=\u001B[39mlimits, user_api\u001B[38;5;241m=\u001B[39muser_api)\n",
      "File \u001B[0;32m~/anaconda3/lib/python3.11/site-packages/threadpoolctl.py:171\u001B[0m, in \u001B[0;36mthreadpool_limits.__init__\u001B[0;34m(self, limits, user_api)\u001B[0m\n\u001B[1;32m    167\u001B[0m \u001B[38;5;28;01mdef\u001B[39;00m \u001B[38;5;21m__init__\u001B[39m(\u001B[38;5;28mself\u001B[39m, limits\u001B[38;5;241m=\u001B[39m\u001B[38;5;28;01mNone\u001B[39;00m, user_api\u001B[38;5;241m=\u001B[39m\u001B[38;5;28;01mNone\u001B[39;00m):\n\u001B[1;32m    168\u001B[0m     \u001B[38;5;28mself\u001B[39m\u001B[38;5;241m.\u001B[39m_limits, \u001B[38;5;28mself\u001B[39m\u001B[38;5;241m.\u001B[39m_user_api, \u001B[38;5;28mself\u001B[39m\u001B[38;5;241m.\u001B[39m_prefixes \u001B[38;5;241m=\u001B[39m \\\n\u001B[1;32m    169\u001B[0m         \u001B[38;5;28mself\u001B[39m\u001B[38;5;241m.\u001B[39m_check_params(limits, user_api)\n\u001B[0;32m--> 171\u001B[0m     \u001B[38;5;28mself\u001B[39m\u001B[38;5;241m.\u001B[39m_original_info \u001B[38;5;241m=\u001B[39m \u001B[38;5;28mself\u001B[39m\u001B[38;5;241m.\u001B[39m_set_threadpool_limits()\n",
      "File \u001B[0;32m~/anaconda3/lib/python3.11/site-packages/threadpoolctl.py:268\u001B[0m, in \u001B[0;36mthreadpool_limits._set_threadpool_limits\u001B[0;34m(self)\u001B[0m\n\u001B[1;32m    265\u001B[0m \u001B[38;5;28;01mif\u001B[39;00m \u001B[38;5;28mself\u001B[39m\u001B[38;5;241m.\u001B[39m_limits \u001B[38;5;129;01mis\u001B[39;00m \u001B[38;5;28;01mNone\u001B[39;00m:\n\u001B[1;32m    266\u001B[0m     \u001B[38;5;28;01mreturn\u001B[39;00m \u001B[38;5;28;01mNone\u001B[39;00m\n\u001B[0;32m--> 268\u001B[0m modules \u001B[38;5;241m=\u001B[39m _ThreadpoolInfo(prefixes\u001B[38;5;241m=\u001B[39m\u001B[38;5;28mself\u001B[39m\u001B[38;5;241m.\u001B[39m_prefixes,\n\u001B[1;32m    269\u001B[0m                           user_api\u001B[38;5;241m=\u001B[39m\u001B[38;5;28mself\u001B[39m\u001B[38;5;241m.\u001B[39m_user_api)\n\u001B[1;32m    270\u001B[0m \u001B[38;5;28;01mfor\u001B[39;00m module \u001B[38;5;129;01min\u001B[39;00m modules:\n\u001B[1;32m    271\u001B[0m     \u001B[38;5;66;03m# self._limits is a dict {key: num_threads} where key is either\u001B[39;00m\n\u001B[1;32m    272\u001B[0m     \u001B[38;5;66;03m# a prefix or a user_api. If a module matches both, the limit\u001B[39;00m\n\u001B[1;32m    273\u001B[0m     \u001B[38;5;66;03m# corresponding to the prefix is chosed.\u001B[39;00m\n\u001B[1;32m    274\u001B[0m     \u001B[38;5;28;01mif\u001B[39;00m module\u001B[38;5;241m.\u001B[39mprefix \u001B[38;5;129;01min\u001B[39;00m \u001B[38;5;28mself\u001B[39m\u001B[38;5;241m.\u001B[39m_limits:\n",
      "File \u001B[0;32m~/anaconda3/lib/python3.11/site-packages/threadpoolctl.py:340\u001B[0m, in \u001B[0;36m_ThreadpoolInfo.__init__\u001B[0;34m(self, user_api, prefixes, modules)\u001B[0m\n\u001B[1;32m    337\u001B[0m     \u001B[38;5;28mself\u001B[39m\u001B[38;5;241m.\u001B[39muser_api \u001B[38;5;241m=\u001B[39m [] \u001B[38;5;28;01mif\u001B[39;00m user_api \u001B[38;5;129;01mis\u001B[39;00m \u001B[38;5;28;01mNone\u001B[39;00m \u001B[38;5;28;01melse\u001B[39;00m user_api\n\u001B[1;32m    339\u001B[0m     \u001B[38;5;28mself\u001B[39m\u001B[38;5;241m.\u001B[39mmodules \u001B[38;5;241m=\u001B[39m []\n\u001B[0;32m--> 340\u001B[0m     \u001B[38;5;28mself\u001B[39m\u001B[38;5;241m.\u001B[39m_load_modules()\n\u001B[1;32m    341\u001B[0m     \u001B[38;5;28mself\u001B[39m\u001B[38;5;241m.\u001B[39m_warn_if_incompatible_openmp()\n\u001B[1;32m    342\u001B[0m \u001B[38;5;28;01melse\u001B[39;00m:\n",
      "File \u001B[0;32m~/anaconda3/lib/python3.11/site-packages/threadpoolctl.py:371\u001B[0m, in \u001B[0;36m_ThreadpoolInfo._load_modules\u001B[0;34m(self)\u001B[0m\n\u001B[1;32m    369\u001B[0m \u001B[38;5;250m\u001B[39m\u001B[38;5;124;03m\"\"\"Loop through loaded libraries and store supported ones\"\"\"\u001B[39;00m\n\u001B[1;32m    370\u001B[0m \u001B[38;5;28;01mif\u001B[39;00m sys\u001B[38;5;241m.\u001B[39mplatform \u001B[38;5;241m==\u001B[39m \u001B[38;5;124m\"\u001B[39m\u001B[38;5;124mdarwin\u001B[39m\u001B[38;5;124m\"\u001B[39m:\n\u001B[0;32m--> 371\u001B[0m     \u001B[38;5;28mself\u001B[39m\u001B[38;5;241m.\u001B[39m_find_modules_with_dyld()\n\u001B[1;32m    372\u001B[0m \u001B[38;5;28;01melif\u001B[39;00m sys\u001B[38;5;241m.\u001B[39mplatform \u001B[38;5;241m==\u001B[39m \u001B[38;5;124m\"\u001B[39m\u001B[38;5;124mwin32\u001B[39m\u001B[38;5;124m\"\u001B[39m:\n\u001B[1;32m    373\u001B[0m     \u001B[38;5;28mself\u001B[39m\u001B[38;5;241m.\u001B[39m_find_modules_with_enum_process_module_ex()\n",
      "File \u001B[0;32m~/anaconda3/lib/python3.11/site-packages/threadpoolctl.py:428\u001B[0m, in \u001B[0;36m_ThreadpoolInfo._find_modules_with_dyld\u001B[0;34m(self)\u001B[0m\n\u001B[1;32m    425\u001B[0m filepath \u001B[38;5;241m=\u001B[39m filepath\u001B[38;5;241m.\u001B[39mdecode(\u001B[38;5;124m\"\u001B[39m\u001B[38;5;124mutf-8\u001B[39m\u001B[38;5;124m\"\u001B[39m)\n\u001B[1;32m    427\u001B[0m \u001B[38;5;66;03m# Store the module if it is supported and selected\u001B[39;00m\n\u001B[0;32m--> 428\u001B[0m \u001B[38;5;28mself\u001B[39m\u001B[38;5;241m.\u001B[39m_make_module_from_path(filepath)\n",
      "File \u001B[0;32m~/anaconda3/lib/python3.11/site-packages/threadpoolctl.py:515\u001B[0m, in \u001B[0;36m_ThreadpoolInfo._make_module_from_path\u001B[0;34m(self, filepath)\u001B[0m\n\u001B[1;32m    513\u001B[0m \u001B[38;5;28;01mif\u001B[39;00m prefix \u001B[38;5;129;01min\u001B[39;00m \u001B[38;5;28mself\u001B[39m\u001B[38;5;241m.\u001B[39mprefixes \u001B[38;5;129;01mor\u001B[39;00m user_api \u001B[38;5;129;01min\u001B[39;00m \u001B[38;5;28mself\u001B[39m\u001B[38;5;241m.\u001B[39muser_api:\n\u001B[1;32m    514\u001B[0m     module_class \u001B[38;5;241m=\u001B[39m \u001B[38;5;28mglobals\u001B[39m()[module_class]\n\u001B[0;32m--> 515\u001B[0m     module \u001B[38;5;241m=\u001B[39m module_class(filepath, prefix, user_api, internal_api)\n\u001B[1;32m    516\u001B[0m     \u001B[38;5;28mself\u001B[39m\u001B[38;5;241m.\u001B[39mmodules\u001B[38;5;241m.\u001B[39mappend(module)\n",
      "File \u001B[0;32m~/anaconda3/lib/python3.11/site-packages/threadpoolctl.py:606\u001B[0m, in \u001B[0;36m_Module.__init__\u001B[0;34m(self, filepath, prefix, user_api, internal_api)\u001B[0m\n\u001B[1;32m    604\u001B[0m \u001B[38;5;28mself\u001B[39m\u001B[38;5;241m.\u001B[39minternal_api \u001B[38;5;241m=\u001B[39m internal_api\n\u001B[1;32m    605\u001B[0m \u001B[38;5;28mself\u001B[39m\u001B[38;5;241m.\u001B[39m_dynlib \u001B[38;5;241m=\u001B[39m ctypes\u001B[38;5;241m.\u001B[39mCDLL(filepath, mode\u001B[38;5;241m=\u001B[39m_RTLD_NOLOAD)\n\u001B[0;32m--> 606\u001B[0m \u001B[38;5;28mself\u001B[39m\u001B[38;5;241m.\u001B[39mversion \u001B[38;5;241m=\u001B[39m \u001B[38;5;28mself\u001B[39m\u001B[38;5;241m.\u001B[39mget_version()\n\u001B[1;32m    607\u001B[0m \u001B[38;5;28mself\u001B[39m\u001B[38;5;241m.\u001B[39mnum_threads \u001B[38;5;241m=\u001B[39m \u001B[38;5;28mself\u001B[39m\u001B[38;5;241m.\u001B[39mget_num_threads()\n\u001B[1;32m    608\u001B[0m \u001B[38;5;28mself\u001B[39m\u001B[38;5;241m.\u001B[39m_get_extra_info()\n",
      "File \u001B[0;32m~/anaconda3/lib/python3.11/site-packages/threadpoolctl.py:646\u001B[0m, in \u001B[0;36m_OpenBLASModule.get_version\u001B[0;34m(self)\u001B[0m\n\u001B[1;32m    643\u001B[0m get_config \u001B[38;5;241m=\u001B[39m \u001B[38;5;28mgetattr\u001B[39m(\u001B[38;5;28mself\u001B[39m\u001B[38;5;241m.\u001B[39m_dynlib, \u001B[38;5;124m\"\u001B[39m\u001B[38;5;124mopenblas_get_config\u001B[39m\u001B[38;5;124m\"\u001B[39m,\n\u001B[1;32m    644\u001B[0m                      \u001B[38;5;28;01mlambda\u001B[39;00m: \u001B[38;5;28;01mNone\u001B[39;00m)\n\u001B[1;32m    645\u001B[0m get_config\u001B[38;5;241m.\u001B[39mrestype \u001B[38;5;241m=\u001B[39m ctypes\u001B[38;5;241m.\u001B[39mc_char_p\n\u001B[0;32m--> 646\u001B[0m config \u001B[38;5;241m=\u001B[39m get_config()\u001B[38;5;241m.\u001B[39msplit()\n\u001B[1;32m    647\u001B[0m \u001B[38;5;28;01mif\u001B[39;00m config[\u001B[38;5;241m0\u001B[39m] \u001B[38;5;241m==\u001B[39m \u001B[38;5;124mb\u001B[39m\u001B[38;5;124m\"\u001B[39m\u001B[38;5;124mOpenBLAS\u001B[39m\u001B[38;5;124m\"\u001B[39m:\n\u001B[1;32m    648\u001B[0m     \u001B[38;5;28;01mreturn\u001B[39;00m config[\u001B[38;5;241m1\u001B[39m]\u001B[38;5;241m.\u001B[39mdecode(\u001B[38;5;124m\"\u001B[39m\u001B[38;5;124mutf-8\u001B[39m\u001B[38;5;124m\"\u001B[39m)\n",
      "\u001B[0;31mAttributeError\u001B[0m: 'NoneType' object has no attribute 'split'"
     ]
    }
   ],
   "execution_count": 98
  },
  {
   "metadata": {
    "ExecuteTime": {
     "end_time": "2024-08-02T02:52:13.718284Z",
     "start_time": "2024-08-02T02:52:13.682227Z"
    }
   },
   "cell_type": "code",
   "source": [
    "from sklearn.preprocessing import LabelEncoder\n",
    "\n",
    "# Select categorical and numeric columns\n",
    "categorical_cols = df.select_dtypes(include=['object']).columns\n",
    "numeric_cols = df.select_dtypes(include=['int64', 'float64']).columns\n",
    "\n",
    "# Apply Label Encoding to categorical columns\n",
    "label_encoders = {}\n",
    "for col in categorical_cols:\n",
    "    le = LabelEncoder()\n",
    "    df[col] = le.fit_transform(df[col])\n",
    "    label_encoders[col] = le\n",
    "\n",
    "df.info()\n",
    "\n",
    "# Apply StandardScaler to numeric columns\n",
    "scaler = StandardScaler()\n",
    "df[numeric_cols] = scaler.fit_transform(df[numeric_cols])\n",
    "\n",
    "# Combine the transformed columns\n",
    "X = df.values\n",
    "\n",
    "X"
   ],
   "id": "f997458ef58c01d4",
   "outputs": [
    {
     "name": "stdout",
     "output_type": "stream",
     "text": [
      "<class 'pandas.core.frame.DataFrame'>\n",
      "RangeIndex: 16734 entries, 0 to 16733\n",
      "Data columns (total 19 columns):\n",
      " #   Column             Non-Null Count  Dtype  \n",
      "---  ------             --------------  -----  \n",
      " 0   Brand              16734 non-null  int64  \n",
      " 1   Year               16734 non-null  float64\n",
      " 2   Model              16734 non-null  int64  \n",
      " 3   Car/Suv            16734 non-null  int64  \n",
      " 4   Title              16734 non-null  int64  \n",
      " 5   UsedOrNew          16734 non-null  int64  \n",
      " 6   Transmission       16734 non-null  int64  \n",
      " 7   Engine             16734 non-null  int64  \n",
      " 8   DriveType          16734 non-null  int64  \n",
      " 9   FuelType           16734 non-null  int64  \n",
      " 10  FuelConsumption    16734 non-null  int64  \n",
      " 11  Kilometres         16734 non-null  float64\n",
      " 12  ColourExtInt       16734 non-null  int64  \n",
      " 13  Location           16734 non-null  int64  \n",
      " 14  CylindersinEngine  16734 non-null  int64  \n",
      " 15  BodyType           16734 non-null  int64  \n",
      " 16  Doors              16734 non-null  int64  \n",
      " 17  Seats              16734 non-null  int64  \n",
      " 18  Price              16734 non-null  float64\n",
      "dtypes: float64(3), int64(16)\n",
      "memory usage: 2.4 MB\n"
     ]
    },
    {
     "data": {
      "text/plain": [
       "array([[ 1.00298972,  1.09973741,  0.91895628, ..., -0.01479802,\n",
       "         1.71225277,  0.39811516],\n",
       "       [-0.06284446,  1.09973741,  0.31971152, ...,  1.47694907,\n",
       "        -0.03109777, -0.46270717],\n",
       "       [-2.0976188 ,  1.09973741, -1.69170695, ..., -2.99829219,\n",
       "        -0.90277305,  1.93140114],\n",
       "       ...,\n",
       "       [ 1.09988373,  1.09973741,  1.45781204, ..., -0.01479802,\n",
       "        -0.03109777, -0.0513955 ],\n",
       "       [ 0.17939058, -0.04368792, -0.30740509, ..., -0.01479802,\n",
       "        -0.03109777,  0.12636431],\n",
       "       [ 0.17939058,  0.90916652, -1.24111205, ..., -0.01479802,\n",
       "        -0.03109777,  0.77198106]])"
      ]
     },
     "execution_count": 100,
     "metadata": {},
     "output_type": "execute_result"
    }
   ],
   "execution_count": 100
  },
  {
   "metadata": {
    "ExecuteTime": {
     "end_time": "2024-08-02T02:52:35.545019Z",
     "start_time": "2024-08-02T02:52:35.177140Z"
    }
   },
   "cell_type": "code",
   "source": [
    "from sklearn.metrics import silhouette_score\n",
    "\n",
    "silhouette_scores = []\n",
    "range_n_clusters = range(2, 11)\n",
    "\n",
    "for n_clusters in range_n_clusters:\n",
    "    kmeans = KMeans(n_clusters=n_clusters, random_state=42)\n",
    "    cluster_labels = kmeans.fit_predict(X)\n",
    "    silhouette_avg = silhouette_score(X, cluster_labels)\n",
    "    silhouette_scores.append(silhouette_avg)\n",
    "\n",
    "plt.figure(figsize=(8, 5))\n",
    "plt.plot(range_n_clusters, silhouette_scores, marker='o')\n",
    "plt.title('Silhouette Scores for Different Numbers of Clusters')\n",
    "plt.xlabel('Number of Clusters')\n",
    "plt.ylabel('Silhouette Score')\n",
    "plt.grid()\n",
    "plt.show()\n"
   ],
   "id": "daefc9fa91342b43",
   "outputs": [
    {
     "name": "stderr",
     "output_type": "stream",
     "text": [
      "/Users/mac/anaconda3/lib/python3.11/site-packages/sklearn/cluster/_kmeans.py:1412: FutureWarning: The default value of `n_init` will change from 10 to 'auto' in 1.4. Set the value of `n_init` explicitly to suppress the warning\n",
      "  super()._check_params_vs_input(X, default_n_init=10)\n"
     ]
    },
    {
     "ename": "AttributeError",
     "evalue": "'NoneType' object has no attribute 'split'",
     "output_type": "error",
     "traceback": [
      "\u001B[0;31m---------------------------------------------------------------------------\u001B[0m",
      "\u001B[0;31mAttributeError\u001B[0m                            Traceback (most recent call last)",
      "Cell \u001B[0;32mIn[101], line 8\u001B[0m\n\u001B[1;32m      6\u001B[0m \u001B[38;5;28;01mfor\u001B[39;00m n_clusters \u001B[38;5;129;01min\u001B[39;00m range_n_clusters:\n\u001B[1;32m      7\u001B[0m     kmeans \u001B[38;5;241m=\u001B[39m KMeans(n_clusters\u001B[38;5;241m=\u001B[39mn_clusters, random_state\u001B[38;5;241m=\u001B[39m\u001B[38;5;241m42\u001B[39m)\n\u001B[0;32m----> 8\u001B[0m     cluster_labels \u001B[38;5;241m=\u001B[39m kmeans\u001B[38;5;241m.\u001B[39mfit_predict(X)\n\u001B[1;32m      9\u001B[0m     silhouette_avg \u001B[38;5;241m=\u001B[39m silhouette_score(X, cluster_labels)\n\u001B[1;32m     10\u001B[0m     silhouette_scores\u001B[38;5;241m.\u001B[39mappend(silhouette_avg)\n",
      "File \u001B[0;32m~/anaconda3/lib/python3.11/site-packages/sklearn/cluster/_kmeans.py:1068\u001B[0m, in \u001B[0;36m_BaseKMeans.fit_predict\u001B[0;34m(self, X, y, sample_weight)\u001B[0m\n\u001B[1;32m   1045\u001B[0m \u001B[38;5;28;01mdef\u001B[39;00m \u001B[38;5;21mfit_predict\u001B[39m(\u001B[38;5;28mself\u001B[39m, X, y\u001B[38;5;241m=\u001B[39m\u001B[38;5;28;01mNone\u001B[39;00m, sample_weight\u001B[38;5;241m=\u001B[39m\u001B[38;5;28;01mNone\u001B[39;00m):\n\u001B[1;32m   1046\u001B[0m \u001B[38;5;250m    \u001B[39m\u001B[38;5;124;03m\"\"\"Compute cluster centers and predict cluster index for each sample.\u001B[39;00m\n\u001B[1;32m   1047\u001B[0m \n\u001B[1;32m   1048\u001B[0m \u001B[38;5;124;03m    Convenience method; equivalent to calling fit(X) followed by\u001B[39;00m\n\u001B[0;32m   (...)\u001B[0m\n\u001B[1;32m   1066\u001B[0m \u001B[38;5;124;03m        Index of the cluster each sample belongs to.\u001B[39;00m\n\u001B[1;32m   1067\u001B[0m \u001B[38;5;124;03m    \"\"\"\u001B[39;00m\n\u001B[0;32m-> 1068\u001B[0m     \u001B[38;5;28;01mreturn\u001B[39;00m \u001B[38;5;28mself\u001B[39m\u001B[38;5;241m.\u001B[39mfit(X, sample_weight\u001B[38;5;241m=\u001B[39msample_weight)\u001B[38;5;241m.\u001B[39mlabels_\n",
      "File \u001B[0;32m~/anaconda3/lib/python3.11/site-packages/sklearn/base.py:1151\u001B[0m, in \u001B[0;36m_fit_context.<locals>.decorator.<locals>.wrapper\u001B[0;34m(estimator, *args, **kwargs)\u001B[0m\n\u001B[1;32m   1144\u001B[0m     estimator\u001B[38;5;241m.\u001B[39m_validate_params()\n\u001B[1;32m   1146\u001B[0m \u001B[38;5;28;01mwith\u001B[39;00m config_context(\n\u001B[1;32m   1147\u001B[0m     skip_parameter_validation\u001B[38;5;241m=\u001B[39m(\n\u001B[1;32m   1148\u001B[0m         prefer_skip_nested_validation \u001B[38;5;129;01mor\u001B[39;00m global_skip_validation\n\u001B[1;32m   1149\u001B[0m     )\n\u001B[1;32m   1150\u001B[0m ):\n\u001B[0;32m-> 1151\u001B[0m     \u001B[38;5;28;01mreturn\u001B[39;00m fit_method(estimator, \u001B[38;5;241m*\u001B[39margs, \u001B[38;5;241m*\u001B[39m\u001B[38;5;241m*\u001B[39mkwargs)\n",
      "File \u001B[0;32m~/anaconda3/lib/python3.11/site-packages/sklearn/cluster/_kmeans.py:1526\u001B[0m, in \u001B[0;36mKMeans.fit\u001B[0;34m(self, X, y, sample_weight)\u001B[0m\n\u001B[1;32m   1523\u001B[0m     \u001B[38;5;28mprint\u001B[39m(\u001B[38;5;124m\"\u001B[39m\u001B[38;5;124mInitialization complete\u001B[39m\u001B[38;5;124m\"\u001B[39m)\n\u001B[1;32m   1525\u001B[0m \u001B[38;5;66;03m# run a k-means once\u001B[39;00m\n\u001B[0;32m-> 1526\u001B[0m labels, inertia, centers, n_iter_ \u001B[38;5;241m=\u001B[39m kmeans_single(\n\u001B[1;32m   1527\u001B[0m     X,\n\u001B[1;32m   1528\u001B[0m     sample_weight,\n\u001B[1;32m   1529\u001B[0m     centers_init,\n\u001B[1;32m   1530\u001B[0m     max_iter\u001B[38;5;241m=\u001B[39m\u001B[38;5;28mself\u001B[39m\u001B[38;5;241m.\u001B[39mmax_iter,\n\u001B[1;32m   1531\u001B[0m     verbose\u001B[38;5;241m=\u001B[39m\u001B[38;5;28mself\u001B[39m\u001B[38;5;241m.\u001B[39mverbose,\n\u001B[1;32m   1532\u001B[0m     tol\u001B[38;5;241m=\u001B[39m\u001B[38;5;28mself\u001B[39m\u001B[38;5;241m.\u001B[39m_tol,\n\u001B[1;32m   1533\u001B[0m     n_threads\u001B[38;5;241m=\u001B[39m\u001B[38;5;28mself\u001B[39m\u001B[38;5;241m.\u001B[39m_n_threads,\n\u001B[1;32m   1534\u001B[0m )\n\u001B[1;32m   1536\u001B[0m \u001B[38;5;66;03m# determine if these results are the best so far\u001B[39;00m\n\u001B[1;32m   1537\u001B[0m \u001B[38;5;66;03m# we chose a new run if it has a better inertia and the clustering is\u001B[39;00m\n\u001B[1;32m   1538\u001B[0m \u001B[38;5;66;03m# different from the best so far (it's possible that the inertia is\u001B[39;00m\n\u001B[1;32m   1539\u001B[0m \u001B[38;5;66;03m# slightly better even if the clustering is the same with potentially\u001B[39;00m\n\u001B[1;32m   1540\u001B[0m \u001B[38;5;66;03m# permuted labels, due to rounding errors)\u001B[39;00m\n\u001B[1;32m   1541\u001B[0m \u001B[38;5;28;01mif\u001B[39;00m best_inertia \u001B[38;5;129;01mis\u001B[39;00m \u001B[38;5;28;01mNone\u001B[39;00m \u001B[38;5;129;01mor\u001B[39;00m (\n\u001B[1;32m   1542\u001B[0m     inertia \u001B[38;5;241m<\u001B[39m best_inertia\n\u001B[1;32m   1543\u001B[0m     \u001B[38;5;129;01mand\u001B[39;00m \u001B[38;5;129;01mnot\u001B[39;00m _is_same_clustering(labels, best_labels, \u001B[38;5;28mself\u001B[39m\u001B[38;5;241m.\u001B[39mn_clusters)\n\u001B[1;32m   1544\u001B[0m ):\n",
      "File \u001B[0;32m~/anaconda3/lib/python3.11/site-packages/sklearn/cluster/_kmeans.py:688\u001B[0m, in \u001B[0;36m_kmeans_single_lloyd\u001B[0;34m(X, sample_weight, centers_init, max_iter, verbose, tol, n_threads)\u001B[0m\n\u001B[1;32m    684\u001B[0m strict_convergence \u001B[38;5;241m=\u001B[39m \u001B[38;5;28;01mFalse\u001B[39;00m\n\u001B[1;32m    686\u001B[0m \u001B[38;5;66;03m# Threadpoolctl context to limit the number of threads in second level of\u001B[39;00m\n\u001B[1;32m    687\u001B[0m \u001B[38;5;66;03m# nested parallelism (i.e. BLAS) to avoid oversubscription.\u001B[39;00m\n\u001B[0;32m--> 688\u001B[0m \u001B[38;5;28;01mwith\u001B[39;00m threadpool_limits(limits\u001B[38;5;241m=\u001B[39m\u001B[38;5;241m1\u001B[39m, user_api\u001B[38;5;241m=\u001B[39m\u001B[38;5;124m\"\u001B[39m\u001B[38;5;124mblas\u001B[39m\u001B[38;5;124m\"\u001B[39m):\n\u001B[1;32m    689\u001B[0m     \u001B[38;5;28;01mfor\u001B[39;00m i \u001B[38;5;129;01min\u001B[39;00m \u001B[38;5;28mrange\u001B[39m(max_iter):\n\u001B[1;32m    690\u001B[0m         lloyd_iter(\n\u001B[1;32m    691\u001B[0m             X,\n\u001B[1;32m    692\u001B[0m             sample_weight,\n\u001B[0;32m   (...)\u001B[0m\n\u001B[1;32m    698\u001B[0m             n_threads,\n\u001B[1;32m    699\u001B[0m         )\n",
      "File \u001B[0;32m~/anaconda3/lib/python3.11/site-packages/sklearn/utils/fixes.py:72\u001B[0m, in \u001B[0;36mthreadpool_limits\u001B[0;34m(limits, user_api)\u001B[0m\n\u001B[1;32m     70\u001B[0m     \u001B[38;5;28;01mreturn\u001B[39;00m controller\u001B[38;5;241m.\u001B[39mlimit(limits\u001B[38;5;241m=\u001B[39mlimits, user_api\u001B[38;5;241m=\u001B[39muser_api)\n\u001B[1;32m     71\u001B[0m \u001B[38;5;28;01melse\u001B[39;00m:\n\u001B[0;32m---> 72\u001B[0m     \u001B[38;5;28;01mreturn\u001B[39;00m threadpoolctl\u001B[38;5;241m.\u001B[39mthreadpool_limits(limits\u001B[38;5;241m=\u001B[39mlimits, user_api\u001B[38;5;241m=\u001B[39muser_api)\n",
      "File \u001B[0;32m~/anaconda3/lib/python3.11/site-packages/threadpoolctl.py:171\u001B[0m, in \u001B[0;36mthreadpool_limits.__init__\u001B[0;34m(self, limits, user_api)\u001B[0m\n\u001B[1;32m    167\u001B[0m \u001B[38;5;28;01mdef\u001B[39;00m \u001B[38;5;21m__init__\u001B[39m(\u001B[38;5;28mself\u001B[39m, limits\u001B[38;5;241m=\u001B[39m\u001B[38;5;28;01mNone\u001B[39;00m, user_api\u001B[38;5;241m=\u001B[39m\u001B[38;5;28;01mNone\u001B[39;00m):\n\u001B[1;32m    168\u001B[0m     \u001B[38;5;28mself\u001B[39m\u001B[38;5;241m.\u001B[39m_limits, \u001B[38;5;28mself\u001B[39m\u001B[38;5;241m.\u001B[39m_user_api, \u001B[38;5;28mself\u001B[39m\u001B[38;5;241m.\u001B[39m_prefixes \u001B[38;5;241m=\u001B[39m \\\n\u001B[1;32m    169\u001B[0m         \u001B[38;5;28mself\u001B[39m\u001B[38;5;241m.\u001B[39m_check_params(limits, user_api)\n\u001B[0;32m--> 171\u001B[0m     \u001B[38;5;28mself\u001B[39m\u001B[38;5;241m.\u001B[39m_original_info \u001B[38;5;241m=\u001B[39m \u001B[38;5;28mself\u001B[39m\u001B[38;5;241m.\u001B[39m_set_threadpool_limits()\n",
      "File \u001B[0;32m~/anaconda3/lib/python3.11/site-packages/threadpoolctl.py:268\u001B[0m, in \u001B[0;36mthreadpool_limits._set_threadpool_limits\u001B[0;34m(self)\u001B[0m\n\u001B[1;32m    265\u001B[0m \u001B[38;5;28;01mif\u001B[39;00m \u001B[38;5;28mself\u001B[39m\u001B[38;5;241m.\u001B[39m_limits \u001B[38;5;129;01mis\u001B[39;00m \u001B[38;5;28;01mNone\u001B[39;00m:\n\u001B[1;32m    266\u001B[0m     \u001B[38;5;28;01mreturn\u001B[39;00m \u001B[38;5;28;01mNone\u001B[39;00m\n\u001B[0;32m--> 268\u001B[0m modules \u001B[38;5;241m=\u001B[39m _ThreadpoolInfo(prefixes\u001B[38;5;241m=\u001B[39m\u001B[38;5;28mself\u001B[39m\u001B[38;5;241m.\u001B[39m_prefixes,\n\u001B[1;32m    269\u001B[0m                           user_api\u001B[38;5;241m=\u001B[39m\u001B[38;5;28mself\u001B[39m\u001B[38;5;241m.\u001B[39m_user_api)\n\u001B[1;32m    270\u001B[0m \u001B[38;5;28;01mfor\u001B[39;00m module \u001B[38;5;129;01min\u001B[39;00m modules:\n\u001B[1;32m    271\u001B[0m     \u001B[38;5;66;03m# self._limits is a dict {key: num_threads} where key is either\u001B[39;00m\n\u001B[1;32m    272\u001B[0m     \u001B[38;5;66;03m# a prefix or a user_api. If a module matches both, the limit\u001B[39;00m\n\u001B[1;32m    273\u001B[0m     \u001B[38;5;66;03m# corresponding to the prefix is chosed.\u001B[39;00m\n\u001B[1;32m    274\u001B[0m     \u001B[38;5;28;01mif\u001B[39;00m module\u001B[38;5;241m.\u001B[39mprefix \u001B[38;5;129;01min\u001B[39;00m \u001B[38;5;28mself\u001B[39m\u001B[38;5;241m.\u001B[39m_limits:\n",
      "File \u001B[0;32m~/anaconda3/lib/python3.11/site-packages/threadpoolctl.py:340\u001B[0m, in \u001B[0;36m_ThreadpoolInfo.__init__\u001B[0;34m(self, user_api, prefixes, modules)\u001B[0m\n\u001B[1;32m    337\u001B[0m     \u001B[38;5;28mself\u001B[39m\u001B[38;5;241m.\u001B[39muser_api \u001B[38;5;241m=\u001B[39m [] \u001B[38;5;28;01mif\u001B[39;00m user_api \u001B[38;5;129;01mis\u001B[39;00m \u001B[38;5;28;01mNone\u001B[39;00m \u001B[38;5;28;01melse\u001B[39;00m user_api\n\u001B[1;32m    339\u001B[0m     \u001B[38;5;28mself\u001B[39m\u001B[38;5;241m.\u001B[39mmodules \u001B[38;5;241m=\u001B[39m []\n\u001B[0;32m--> 340\u001B[0m     \u001B[38;5;28mself\u001B[39m\u001B[38;5;241m.\u001B[39m_load_modules()\n\u001B[1;32m    341\u001B[0m     \u001B[38;5;28mself\u001B[39m\u001B[38;5;241m.\u001B[39m_warn_if_incompatible_openmp()\n\u001B[1;32m    342\u001B[0m \u001B[38;5;28;01melse\u001B[39;00m:\n",
      "File \u001B[0;32m~/anaconda3/lib/python3.11/site-packages/threadpoolctl.py:371\u001B[0m, in \u001B[0;36m_ThreadpoolInfo._load_modules\u001B[0;34m(self)\u001B[0m\n\u001B[1;32m    369\u001B[0m \u001B[38;5;250m\u001B[39m\u001B[38;5;124;03m\"\"\"Loop through loaded libraries and store supported ones\"\"\"\u001B[39;00m\n\u001B[1;32m    370\u001B[0m \u001B[38;5;28;01mif\u001B[39;00m sys\u001B[38;5;241m.\u001B[39mplatform \u001B[38;5;241m==\u001B[39m \u001B[38;5;124m\"\u001B[39m\u001B[38;5;124mdarwin\u001B[39m\u001B[38;5;124m\"\u001B[39m:\n\u001B[0;32m--> 371\u001B[0m     \u001B[38;5;28mself\u001B[39m\u001B[38;5;241m.\u001B[39m_find_modules_with_dyld()\n\u001B[1;32m    372\u001B[0m \u001B[38;5;28;01melif\u001B[39;00m sys\u001B[38;5;241m.\u001B[39mplatform \u001B[38;5;241m==\u001B[39m \u001B[38;5;124m\"\u001B[39m\u001B[38;5;124mwin32\u001B[39m\u001B[38;5;124m\"\u001B[39m:\n\u001B[1;32m    373\u001B[0m     \u001B[38;5;28mself\u001B[39m\u001B[38;5;241m.\u001B[39m_find_modules_with_enum_process_module_ex()\n",
      "File \u001B[0;32m~/anaconda3/lib/python3.11/site-packages/threadpoolctl.py:428\u001B[0m, in \u001B[0;36m_ThreadpoolInfo._find_modules_with_dyld\u001B[0;34m(self)\u001B[0m\n\u001B[1;32m    425\u001B[0m filepath \u001B[38;5;241m=\u001B[39m filepath\u001B[38;5;241m.\u001B[39mdecode(\u001B[38;5;124m\"\u001B[39m\u001B[38;5;124mutf-8\u001B[39m\u001B[38;5;124m\"\u001B[39m)\n\u001B[1;32m    427\u001B[0m \u001B[38;5;66;03m# Store the module if it is supported and selected\u001B[39;00m\n\u001B[0;32m--> 428\u001B[0m \u001B[38;5;28mself\u001B[39m\u001B[38;5;241m.\u001B[39m_make_module_from_path(filepath)\n",
      "File \u001B[0;32m~/anaconda3/lib/python3.11/site-packages/threadpoolctl.py:515\u001B[0m, in \u001B[0;36m_ThreadpoolInfo._make_module_from_path\u001B[0;34m(self, filepath)\u001B[0m\n\u001B[1;32m    513\u001B[0m \u001B[38;5;28;01mif\u001B[39;00m prefix \u001B[38;5;129;01min\u001B[39;00m \u001B[38;5;28mself\u001B[39m\u001B[38;5;241m.\u001B[39mprefixes \u001B[38;5;129;01mor\u001B[39;00m user_api \u001B[38;5;129;01min\u001B[39;00m \u001B[38;5;28mself\u001B[39m\u001B[38;5;241m.\u001B[39muser_api:\n\u001B[1;32m    514\u001B[0m     module_class \u001B[38;5;241m=\u001B[39m \u001B[38;5;28mglobals\u001B[39m()[module_class]\n\u001B[0;32m--> 515\u001B[0m     module \u001B[38;5;241m=\u001B[39m module_class(filepath, prefix, user_api, internal_api)\n\u001B[1;32m    516\u001B[0m     \u001B[38;5;28mself\u001B[39m\u001B[38;5;241m.\u001B[39mmodules\u001B[38;5;241m.\u001B[39mappend(module)\n",
      "File \u001B[0;32m~/anaconda3/lib/python3.11/site-packages/threadpoolctl.py:606\u001B[0m, in \u001B[0;36m_Module.__init__\u001B[0;34m(self, filepath, prefix, user_api, internal_api)\u001B[0m\n\u001B[1;32m    604\u001B[0m \u001B[38;5;28mself\u001B[39m\u001B[38;5;241m.\u001B[39minternal_api \u001B[38;5;241m=\u001B[39m internal_api\n\u001B[1;32m    605\u001B[0m \u001B[38;5;28mself\u001B[39m\u001B[38;5;241m.\u001B[39m_dynlib \u001B[38;5;241m=\u001B[39m ctypes\u001B[38;5;241m.\u001B[39mCDLL(filepath, mode\u001B[38;5;241m=\u001B[39m_RTLD_NOLOAD)\n\u001B[0;32m--> 606\u001B[0m \u001B[38;5;28mself\u001B[39m\u001B[38;5;241m.\u001B[39mversion \u001B[38;5;241m=\u001B[39m \u001B[38;5;28mself\u001B[39m\u001B[38;5;241m.\u001B[39mget_version()\n\u001B[1;32m    607\u001B[0m \u001B[38;5;28mself\u001B[39m\u001B[38;5;241m.\u001B[39mnum_threads \u001B[38;5;241m=\u001B[39m \u001B[38;5;28mself\u001B[39m\u001B[38;5;241m.\u001B[39mget_num_threads()\n\u001B[1;32m    608\u001B[0m \u001B[38;5;28mself\u001B[39m\u001B[38;5;241m.\u001B[39m_get_extra_info()\n",
      "File \u001B[0;32m~/anaconda3/lib/python3.11/site-packages/threadpoolctl.py:646\u001B[0m, in \u001B[0;36m_OpenBLASModule.get_version\u001B[0;34m(self)\u001B[0m\n\u001B[1;32m    643\u001B[0m get_config \u001B[38;5;241m=\u001B[39m \u001B[38;5;28mgetattr\u001B[39m(\u001B[38;5;28mself\u001B[39m\u001B[38;5;241m.\u001B[39m_dynlib, \u001B[38;5;124m\"\u001B[39m\u001B[38;5;124mopenblas_get_config\u001B[39m\u001B[38;5;124m\"\u001B[39m,\n\u001B[1;32m    644\u001B[0m                      \u001B[38;5;28;01mlambda\u001B[39;00m: \u001B[38;5;28;01mNone\u001B[39;00m)\n\u001B[1;32m    645\u001B[0m get_config\u001B[38;5;241m.\u001B[39mrestype \u001B[38;5;241m=\u001B[39m ctypes\u001B[38;5;241m.\u001B[39mc_char_p\n\u001B[0;32m--> 646\u001B[0m config \u001B[38;5;241m=\u001B[39m get_config()\u001B[38;5;241m.\u001B[39msplit()\n\u001B[1;32m    647\u001B[0m \u001B[38;5;28;01mif\u001B[39;00m config[\u001B[38;5;241m0\u001B[39m] \u001B[38;5;241m==\u001B[39m \u001B[38;5;124mb\u001B[39m\u001B[38;5;124m\"\u001B[39m\u001B[38;5;124mOpenBLAS\u001B[39m\u001B[38;5;124m\"\u001B[39m:\n\u001B[1;32m    648\u001B[0m     \u001B[38;5;28;01mreturn\u001B[39;00m config[\u001B[38;5;241m1\u001B[39m]\u001B[38;5;241m.\u001B[39mdecode(\u001B[38;5;124m\"\u001B[39m\u001B[38;5;124mutf-8\u001B[39m\u001B[38;5;124m\"\u001B[39m)\n",
      "\u001B[0;31mAttributeError\u001B[0m: 'NoneType' object has no attribute 'split'"
     ]
    }
   ],
   "execution_count": 101
  },
  {
   "metadata": {
    "ExecuteTime": {
     "end_time": "2024-08-02T02:54:43.647277Z",
     "start_time": "2024-08-02T02:54:43.455685Z"
    }
   },
   "cell_type": "code",
   "source": [
    "kmeans = KMeans(n_clusters=3, random_state=42)\n",
    "X_clustered = kmeans.fit_predict(X)\n",
    "\n",
    "plt.scatter(X[:, 0], X[:, 1], c=X_clustered, cmap='viridis', marker='o')\n",
    "plt.scatter(kmeans.cluster_centers_[:, 0], kmeans.cluster_centers_[:, 1], s=300, c='red', label='Centroids')\n",
    "plt.title('K-means Clustering Results')\n",
    "plt.xlabel('Feature 1')\n",
    "plt.ylabel('Feature 2')\n",
    "plt.legend()\n",
    "plt.show()"
   ],
   "id": "f75a167c912cd178",
   "outputs": [
    {
     "name": "stderr",
     "output_type": "stream",
     "text": [
      "/Users/mac/anaconda3/lib/python3.11/site-packages/sklearn/cluster/_kmeans.py:1412: FutureWarning: The default value of `n_init` will change from 10 to 'auto' in 1.4. Set the value of `n_init` explicitly to suppress the warning\n",
      "  super()._check_params_vs_input(X, default_n_init=10)\n"
     ]
    },
    {
     "ename": "AttributeError",
     "evalue": "'NoneType' object has no attribute 'split'",
     "output_type": "error",
     "traceback": [
      "\u001B[0;31m---------------------------------------------------------------------------\u001B[0m",
      "\u001B[0;31mAttributeError\u001B[0m                            Traceback (most recent call last)",
      "Cell \u001B[0;32mIn[103], line 2\u001B[0m\n\u001B[1;32m      1\u001B[0m kmeans \u001B[38;5;241m=\u001B[39m KMeans(n_clusters\u001B[38;5;241m=\u001B[39m\u001B[38;5;241m3\u001B[39m, random_state\u001B[38;5;241m=\u001B[39m\u001B[38;5;241m42\u001B[39m)\n\u001B[0;32m----> 2\u001B[0m X_clustered \u001B[38;5;241m=\u001B[39m kmeans\u001B[38;5;241m.\u001B[39mfit_predict(X)\n\u001B[1;32m      4\u001B[0m plt\u001B[38;5;241m.\u001B[39mscatter(X[:, \u001B[38;5;241m0\u001B[39m], X[:, \u001B[38;5;241m1\u001B[39m], c\u001B[38;5;241m=\u001B[39mX_clustered, cmap\u001B[38;5;241m=\u001B[39m\u001B[38;5;124m'\u001B[39m\u001B[38;5;124mviridis\u001B[39m\u001B[38;5;124m'\u001B[39m, marker\u001B[38;5;241m=\u001B[39m\u001B[38;5;124m'\u001B[39m\u001B[38;5;124mo\u001B[39m\u001B[38;5;124m'\u001B[39m)\n\u001B[1;32m      5\u001B[0m plt\u001B[38;5;241m.\u001B[39mscatter(kmeans\u001B[38;5;241m.\u001B[39mcluster_centers_[:, \u001B[38;5;241m0\u001B[39m], kmeans\u001B[38;5;241m.\u001B[39mcluster_centers_[:, \u001B[38;5;241m1\u001B[39m], s\u001B[38;5;241m=\u001B[39m\u001B[38;5;241m300\u001B[39m, c\u001B[38;5;241m=\u001B[39m\u001B[38;5;124m'\u001B[39m\u001B[38;5;124mred\u001B[39m\u001B[38;5;124m'\u001B[39m)\n",
      "File \u001B[0;32m~/anaconda3/lib/python3.11/site-packages/sklearn/cluster/_kmeans.py:1068\u001B[0m, in \u001B[0;36m_BaseKMeans.fit_predict\u001B[0;34m(self, X, y, sample_weight)\u001B[0m\n\u001B[1;32m   1045\u001B[0m \u001B[38;5;28;01mdef\u001B[39;00m \u001B[38;5;21mfit_predict\u001B[39m(\u001B[38;5;28mself\u001B[39m, X, y\u001B[38;5;241m=\u001B[39m\u001B[38;5;28;01mNone\u001B[39;00m, sample_weight\u001B[38;5;241m=\u001B[39m\u001B[38;5;28;01mNone\u001B[39;00m):\n\u001B[1;32m   1046\u001B[0m \u001B[38;5;250m    \u001B[39m\u001B[38;5;124;03m\"\"\"Compute cluster centers and predict cluster index for each sample.\u001B[39;00m\n\u001B[1;32m   1047\u001B[0m \n\u001B[1;32m   1048\u001B[0m \u001B[38;5;124;03m    Convenience method; equivalent to calling fit(X) followed by\u001B[39;00m\n\u001B[0;32m   (...)\u001B[0m\n\u001B[1;32m   1066\u001B[0m \u001B[38;5;124;03m        Index of the cluster each sample belongs to.\u001B[39;00m\n\u001B[1;32m   1067\u001B[0m \u001B[38;5;124;03m    \"\"\"\u001B[39;00m\n\u001B[0;32m-> 1068\u001B[0m     \u001B[38;5;28;01mreturn\u001B[39;00m \u001B[38;5;28mself\u001B[39m\u001B[38;5;241m.\u001B[39mfit(X, sample_weight\u001B[38;5;241m=\u001B[39msample_weight)\u001B[38;5;241m.\u001B[39mlabels_\n",
      "File \u001B[0;32m~/anaconda3/lib/python3.11/site-packages/sklearn/base.py:1151\u001B[0m, in \u001B[0;36m_fit_context.<locals>.decorator.<locals>.wrapper\u001B[0;34m(estimator, *args, **kwargs)\u001B[0m\n\u001B[1;32m   1144\u001B[0m     estimator\u001B[38;5;241m.\u001B[39m_validate_params()\n\u001B[1;32m   1146\u001B[0m \u001B[38;5;28;01mwith\u001B[39;00m config_context(\n\u001B[1;32m   1147\u001B[0m     skip_parameter_validation\u001B[38;5;241m=\u001B[39m(\n\u001B[1;32m   1148\u001B[0m         prefer_skip_nested_validation \u001B[38;5;129;01mor\u001B[39;00m global_skip_validation\n\u001B[1;32m   1149\u001B[0m     )\n\u001B[1;32m   1150\u001B[0m ):\n\u001B[0;32m-> 1151\u001B[0m     \u001B[38;5;28;01mreturn\u001B[39;00m fit_method(estimator, \u001B[38;5;241m*\u001B[39margs, \u001B[38;5;241m*\u001B[39m\u001B[38;5;241m*\u001B[39mkwargs)\n",
      "File \u001B[0;32m~/anaconda3/lib/python3.11/site-packages/sklearn/cluster/_kmeans.py:1526\u001B[0m, in \u001B[0;36mKMeans.fit\u001B[0;34m(self, X, y, sample_weight)\u001B[0m\n\u001B[1;32m   1523\u001B[0m     \u001B[38;5;28mprint\u001B[39m(\u001B[38;5;124m\"\u001B[39m\u001B[38;5;124mInitialization complete\u001B[39m\u001B[38;5;124m\"\u001B[39m)\n\u001B[1;32m   1525\u001B[0m \u001B[38;5;66;03m# run a k-means once\u001B[39;00m\n\u001B[0;32m-> 1526\u001B[0m labels, inertia, centers, n_iter_ \u001B[38;5;241m=\u001B[39m kmeans_single(\n\u001B[1;32m   1527\u001B[0m     X,\n\u001B[1;32m   1528\u001B[0m     sample_weight,\n\u001B[1;32m   1529\u001B[0m     centers_init,\n\u001B[1;32m   1530\u001B[0m     max_iter\u001B[38;5;241m=\u001B[39m\u001B[38;5;28mself\u001B[39m\u001B[38;5;241m.\u001B[39mmax_iter,\n\u001B[1;32m   1531\u001B[0m     verbose\u001B[38;5;241m=\u001B[39m\u001B[38;5;28mself\u001B[39m\u001B[38;5;241m.\u001B[39mverbose,\n\u001B[1;32m   1532\u001B[0m     tol\u001B[38;5;241m=\u001B[39m\u001B[38;5;28mself\u001B[39m\u001B[38;5;241m.\u001B[39m_tol,\n\u001B[1;32m   1533\u001B[0m     n_threads\u001B[38;5;241m=\u001B[39m\u001B[38;5;28mself\u001B[39m\u001B[38;5;241m.\u001B[39m_n_threads,\n\u001B[1;32m   1534\u001B[0m )\n\u001B[1;32m   1536\u001B[0m \u001B[38;5;66;03m# determine if these results are the best so far\u001B[39;00m\n\u001B[1;32m   1537\u001B[0m \u001B[38;5;66;03m# we chose a new run if it has a better inertia and the clustering is\u001B[39;00m\n\u001B[1;32m   1538\u001B[0m \u001B[38;5;66;03m# different from the best so far (it's possible that the inertia is\u001B[39;00m\n\u001B[1;32m   1539\u001B[0m \u001B[38;5;66;03m# slightly better even if the clustering is the same with potentially\u001B[39;00m\n\u001B[1;32m   1540\u001B[0m \u001B[38;5;66;03m# permuted labels, due to rounding errors)\u001B[39;00m\n\u001B[1;32m   1541\u001B[0m \u001B[38;5;28;01mif\u001B[39;00m best_inertia \u001B[38;5;129;01mis\u001B[39;00m \u001B[38;5;28;01mNone\u001B[39;00m \u001B[38;5;129;01mor\u001B[39;00m (\n\u001B[1;32m   1542\u001B[0m     inertia \u001B[38;5;241m<\u001B[39m best_inertia\n\u001B[1;32m   1543\u001B[0m     \u001B[38;5;129;01mand\u001B[39;00m \u001B[38;5;129;01mnot\u001B[39;00m _is_same_clustering(labels, best_labels, \u001B[38;5;28mself\u001B[39m\u001B[38;5;241m.\u001B[39mn_clusters)\n\u001B[1;32m   1544\u001B[0m ):\n",
      "File \u001B[0;32m~/anaconda3/lib/python3.11/site-packages/sklearn/cluster/_kmeans.py:688\u001B[0m, in \u001B[0;36m_kmeans_single_lloyd\u001B[0;34m(X, sample_weight, centers_init, max_iter, verbose, tol, n_threads)\u001B[0m\n\u001B[1;32m    684\u001B[0m strict_convergence \u001B[38;5;241m=\u001B[39m \u001B[38;5;28;01mFalse\u001B[39;00m\n\u001B[1;32m    686\u001B[0m \u001B[38;5;66;03m# Threadpoolctl context to limit the number of threads in second level of\u001B[39;00m\n\u001B[1;32m    687\u001B[0m \u001B[38;5;66;03m# nested parallelism (i.e. BLAS) to avoid oversubscription.\u001B[39;00m\n\u001B[0;32m--> 688\u001B[0m \u001B[38;5;28;01mwith\u001B[39;00m threadpool_limits(limits\u001B[38;5;241m=\u001B[39m\u001B[38;5;241m1\u001B[39m, user_api\u001B[38;5;241m=\u001B[39m\u001B[38;5;124m\"\u001B[39m\u001B[38;5;124mblas\u001B[39m\u001B[38;5;124m\"\u001B[39m):\n\u001B[1;32m    689\u001B[0m     \u001B[38;5;28;01mfor\u001B[39;00m i \u001B[38;5;129;01min\u001B[39;00m \u001B[38;5;28mrange\u001B[39m(max_iter):\n\u001B[1;32m    690\u001B[0m         lloyd_iter(\n\u001B[1;32m    691\u001B[0m             X,\n\u001B[1;32m    692\u001B[0m             sample_weight,\n\u001B[0;32m   (...)\u001B[0m\n\u001B[1;32m    698\u001B[0m             n_threads,\n\u001B[1;32m    699\u001B[0m         )\n",
      "File \u001B[0;32m~/anaconda3/lib/python3.11/site-packages/sklearn/utils/fixes.py:72\u001B[0m, in \u001B[0;36mthreadpool_limits\u001B[0;34m(limits, user_api)\u001B[0m\n\u001B[1;32m     70\u001B[0m     \u001B[38;5;28;01mreturn\u001B[39;00m controller\u001B[38;5;241m.\u001B[39mlimit(limits\u001B[38;5;241m=\u001B[39mlimits, user_api\u001B[38;5;241m=\u001B[39muser_api)\n\u001B[1;32m     71\u001B[0m \u001B[38;5;28;01melse\u001B[39;00m:\n\u001B[0;32m---> 72\u001B[0m     \u001B[38;5;28;01mreturn\u001B[39;00m threadpoolctl\u001B[38;5;241m.\u001B[39mthreadpool_limits(limits\u001B[38;5;241m=\u001B[39mlimits, user_api\u001B[38;5;241m=\u001B[39muser_api)\n",
      "File \u001B[0;32m~/anaconda3/lib/python3.11/site-packages/threadpoolctl.py:171\u001B[0m, in \u001B[0;36mthreadpool_limits.__init__\u001B[0;34m(self, limits, user_api)\u001B[0m\n\u001B[1;32m    167\u001B[0m \u001B[38;5;28;01mdef\u001B[39;00m \u001B[38;5;21m__init__\u001B[39m(\u001B[38;5;28mself\u001B[39m, limits\u001B[38;5;241m=\u001B[39m\u001B[38;5;28;01mNone\u001B[39;00m, user_api\u001B[38;5;241m=\u001B[39m\u001B[38;5;28;01mNone\u001B[39;00m):\n\u001B[1;32m    168\u001B[0m     \u001B[38;5;28mself\u001B[39m\u001B[38;5;241m.\u001B[39m_limits, \u001B[38;5;28mself\u001B[39m\u001B[38;5;241m.\u001B[39m_user_api, \u001B[38;5;28mself\u001B[39m\u001B[38;5;241m.\u001B[39m_prefixes \u001B[38;5;241m=\u001B[39m \\\n\u001B[1;32m    169\u001B[0m         \u001B[38;5;28mself\u001B[39m\u001B[38;5;241m.\u001B[39m_check_params(limits, user_api)\n\u001B[0;32m--> 171\u001B[0m     \u001B[38;5;28mself\u001B[39m\u001B[38;5;241m.\u001B[39m_original_info \u001B[38;5;241m=\u001B[39m \u001B[38;5;28mself\u001B[39m\u001B[38;5;241m.\u001B[39m_set_threadpool_limits()\n",
      "File \u001B[0;32m~/anaconda3/lib/python3.11/site-packages/threadpoolctl.py:268\u001B[0m, in \u001B[0;36mthreadpool_limits._set_threadpool_limits\u001B[0;34m(self)\u001B[0m\n\u001B[1;32m    265\u001B[0m \u001B[38;5;28;01mif\u001B[39;00m \u001B[38;5;28mself\u001B[39m\u001B[38;5;241m.\u001B[39m_limits \u001B[38;5;129;01mis\u001B[39;00m \u001B[38;5;28;01mNone\u001B[39;00m:\n\u001B[1;32m    266\u001B[0m     \u001B[38;5;28;01mreturn\u001B[39;00m \u001B[38;5;28;01mNone\u001B[39;00m\n\u001B[0;32m--> 268\u001B[0m modules \u001B[38;5;241m=\u001B[39m _ThreadpoolInfo(prefixes\u001B[38;5;241m=\u001B[39m\u001B[38;5;28mself\u001B[39m\u001B[38;5;241m.\u001B[39m_prefixes,\n\u001B[1;32m    269\u001B[0m                           user_api\u001B[38;5;241m=\u001B[39m\u001B[38;5;28mself\u001B[39m\u001B[38;5;241m.\u001B[39m_user_api)\n\u001B[1;32m    270\u001B[0m \u001B[38;5;28;01mfor\u001B[39;00m module \u001B[38;5;129;01min\u001B[39;00m modules:\n\u001B[1;32m    271\u001B[0m     \u001B[38;5;66;03m# self._limits is a dict {key: num_threads} where key is either\u001B[39;00m\n\u001B[1;32m    272\u001B[0m     \u001B[38;5;66;03m# a prefix or a user_api. If a module matches both, the limit\u001B[39;00m\n\u001B[1;32m    273\u001B[0m     \u001B[38;5;66;03m# corresponding to the prefix is chosed.\u001B[39;00m\n\u001B[1;32m    274\u001B[0m     \u001B[38;5;28;01mif\u001B[39;00m module\u001B[38;5;241m.\u001B[39mprefix \u001B[38;5;129;01min\u001B[39;00m \u001B[38;5;28mself\u001B[39m\u001B[38;5;241m.\u001B[39m_limits:\n",
      "File \u001B[0;32m~/anaconda3/lib/python3.11/site-packages/threadpoolctl.py:340\u001B[0m, in \u001B[0;36m_ThreadpoolInfo.__init__\u001B[0;34m(self, user_api, prefixes, modules)\u001B[0m\n\u001B[1;32m    337\u001B[0m     \u001B[38;5;28mself\u001B[39m\u001B[38;5;241m.\u001B[39muser_api \u001B[38;5;241m=\u001B[39m [] \u001B[38;5;28;01mif\u001B[39;00m user_api \u001B[38;5;129;01mis\u001B[39;00m \u001B[38;5;28;01mNone\u001B[39;00m \u001B[38;5;28;01melse\u001B[39;00m user_api\n\u001B[1;32m    339\u001B[0m     \u001B[38;5;28mself\u001B[39m\u001B[38;5;241m.\u001B[39mmodules \u001B[38;5;241m=\u001B[39m []\n\u001B[0;32m--> 340\u001B[0m     \u001B[38;5;28mself\u001B[39m\u001B[38;5;241m.\u001B[39m_load_modules()\n\u001B[1;32m    341\u001B[0m     \u001B[38;5;28mself\u001B[39m\u001B[38;5;241m.\u001B[39m_warn_if_incompatible_openmp()\n\u001B[1;32m    342\u001B[0m \u001B[38;5;28;01melse\u001B[39;00m:\n",
      "File \u001B[0;32m~/anaconda3/lib/python3.11/site-packages/threadpoolctl.py:371\u001B[0m, in \u001B[0;36m_ThreadpoolInfo._load_modules\u001B[0;34m(self)\u001B[0m\n\u001B[1;32m    369\u001B[0m \u001B[38;5;250m\u001B[39m\u001B[38;5;124;03m\"\"\"Loop through loaded libraries and store supported ones\"\"\"\u001B[39;00m\n\u001B[1;32m    370\u001B[0m \u001B[38;5;28;01mif\u001B[39;00m sys\u001B[38;5;241m.\u001B[39mplatform \u001B[38;5;241m==\u001B[39m \u001B[38;5;124m\"\u001B[39m\u001B[38;5;124mdarwin\u001B[39m\u001B[38;5;124m\"\u001B[39m:\n\u001B[0;32m--> 371\u001B[0m     \u001B[38;5;28mself\u001B[39m\u001B[38;5;241m.\u001B[39m_find_modules_with_dyld()\n\u001B[1;32m    372\u001B[0m \u001B[38;5;28;01melif\u001B[39;00m sys\u001B[38;5;241m.\u001B[39mplatform \u001B[38;5;241m==\u001B[39m \u001B[38;5;124m\"\u001B[39m\u001B[38;5;124mwin32\u001B[39m\u001B[38;5;124m\"\u001B[39m:\n\u001B[1;32m    373\u001B[0m     \u001B[38;5;28mself\u001B[39m\u001B[38;5;241m.\u001B[39m_find_modules_with_enum_process_module_ex()\n",
      "File \u001B[0;32m~/anaconda3/lib/python3.11/site-packages/threadpoolctl.py:428\u001B[0m, in \u001B[0;36m_ThreadpoolInfo._find_modules_with_dyld\u001B[0;34m(self)\u001B[0m\n\u001B[1;32m    425\u001B[0m filepath \u001B[38;5;241m=\u001B[39m filepath\u001B[38;5;241m.\u001B[39mdecode(\u001B[38;5;124m\"\u001B[39m\u001B[38;5;124mutf-8\u001B[39m\u001B[38;5;124m\"\u001B[39m)\n\u001B[1;32m    427\u001B[0m \u001B[38;5;66;03m# Store the module if it is supported and selected\u001B[39;00m\n\u001B[0;32m--> 428\u001B[0m \u001B[38;5;28mself\u001B[39m\u001B[38;5;241m.\u001B[39m_make_module_from_path(filepath)\n",
      "File \u001B[0;32m~/anaconda3/lib/python3.11/site-packages/threadpoolctl.py:515\u001B[0m, in \u001B[0;36m_ThreadpoolInfo._make_module_from_path\u001B[0;34m(self, filepath)\u001B[0m\n\u001B[1;32m    513\u001B[0m \u001B[38;5;28;01mif\u001B[39;00m prefix \u001B[38;5;129;01min\u001B[39;00m \u001B[38;5;28mself\u001B[39m\u001B[38;5;241m.\u001B[39mprefixes \u001B[38;5;129;01mor\u001B[39;00m user_api \u001B[38;5;129;01min\u001B[39;00m \u001B[38;5;28mself\u001B[39m\u001B[38;5;241m.\u001B[39muser_api:\n\u001B[1;32m    514\u001B[0m     module_class \u001B[38;5;241m=\u001B[39m \u001B[38;5;28mglobals\u001B[39m()[module_class]\n\u001B[0;32m--> 515\u001B[0m     module \u001B[38;5;241m=\u001B[39m module_class(filepath, prefix, user_api, internal_api)\n\u001B[1;32m    516\u001B[0m     \u001B[38;5;28mself\u001B[39m\u001B[38;5;241m.\u001B[39mmodules\u001B[38;5;241m.\u001B[39mappend(module)\n",
      "File \u001B[0;32m~/anaconda3/lib/python3.11/site-packages/threadpoolctl.py:606\u001B[0m, in \u001B[0;36m_Module.__init__\u001B[0;34m(self, filepath, prefix, user_api, internal_api)\u001B[0m\n\u001B[1;32m    604\u001B[0m \u001B[38;5;28mself\u001B[39m\u001B[38;5;241m.\u001B[39minternal_api \u001B[38;5;241m=\u001B[39m internal_api\n\u001B[1;32m    605\u001B[0m \u001B[38;5;28mself\u001B[39m\u001B[38;5;241m.\u001B[39m_dynlib \u001B[38;5;241m=\u001B[39m ctypes\u001B[38;5;241m.\u001B[39mCDLL(filepath, mode\u001B[38;5;241m=\u001B[39m_RTLD_NOLOAD)\n\u001B[0;32m--> 606\u001B[0m \u001B[38;5;28mself\u001B[39m\u001B[38;5;241m.\u001B[39mversion \u001B[38;5;241m=\u001B[39m \u001B[38;5;28mself\u001B[39m\u001B[38;5;241m.\u001B[39mget_version()\n\u001B[1;32m    607\u001B[0m \u001B[38;5;28mself\u001B[39m\u001B[38;5;241m.\u001B[39mnum_threads \u001B[38;5;241m=\u001B[39m \u001B[38;5;28mself\u001B[39m\u001B[38;5;241m.\u001B[39mget_num_threads()\n\u001B[1;32m    608\u001B[0m \u001B[38;5;28mself\u001B[39m\u001B[38;5;241m.\u001B[39m_get_extra_info()\n",
      "File \u001B[0;32m~/anaconda3/lib/python3.11/site-packages/threadpoolctl.py:646\u001B[0m, in \u001B[0;36m_OpenBLASModule.get_version\u001B[0;34m(self)\u001B[0m\n\u001B[1;32m    643\u001B[0m get_config \u001B[38;5;241m=\u001B[39m \u001B[38;5;28mgetattr\u001B[39m(\u001B[38;5;28mself\u001B[39m\u001B[38;5;241m.\u001B[39m_dynlib, \u001B[38;5;124m\"\u001B[39m\u001B[38;5;124mopenblas_get_config\u001B[39m\u001B[38;5;124m\"\u001B[39m,\n\u001B[1;32m    644\u001B[0m                      \u001B[38;5;28;01mlambda\u001B[39;00m: \u001B[38;5;28;01mNone\u001B[39;00m)\n\u001B[1;32m    645\u001B[0m get_config\u001B[38;5;241m.\u001B[39mrestype \u001B[38;5;241m=\u001B[39m ctypes\u001B[38;5;241m.\u001B[39mc_char_p\n\u001B[0;32m--> 646\u001B[0m config \u001B[38;5;241m=\u001B[39m get_config()\u001B[38;5;241m.\u001B[39msplit()\n\u001B[1;32m    647\u001B[0m \u001B[38;5;28;01mif\u001B[39;00m config[\u001B[38;5;241m0\u001B[39m] \u001B[38;5;241m==\u001B[39m \u001B[38;5;124mb\u001B[39m\u001B[38;5;124m\"\u001B[39m\u001B[38;5;124mOpenBLAS\u001B[39m\u001B[38;5;124m\"\u001B[39m:\n\u001B[1;32m    648\u001B[0m     \u001B[38;5;28;01mreturn\u001B[39;00m config[\u001B[38;5;241m1\u001B[39m]\u001B[38;5;241m.\u001B[39mdecode(\u001B[38;5;124m\"\u001B[39m\u001B[38;5;124mutf-8\u001B[39m\u001B[38;5;124m\"\u001B[39m)\n",
      "\u001B[0;31mAttributeError\u001B[0m: 'NoneType' object has no attribute 'split'"
     ]
    }
   ],
   "execution_count": 103
  },
  {
   "metadata": {
    "ExecuteTime": {
     "end_time": "2024-08-02T03:02:39.328018Z",
     "start_time": "2024-08-02T03:02:17.487688Z"
    }
   },
   "cell_type": "code",
   "source": "!pip install --upgrade scikit-learn matplotlib pandas\n",
   "id": "5364b42f364d65f5",
   "outputs": [
    {
     "name": "stdout",
     "output_type": "stream",
     "text": [
      "\u001B[33mDEPRECATION: Loading egg at /Users/mac/anaconda3/lib/python3.11/site-packages/python_docx-1.1.2-py3.11.egg is deprecated. pip 23.3 will enforce this behaviour change. A possible replacement is to use pip for package installation..\u001B[0m\u001B[33m\r\n",
      "\u001B[0m\u001B[33mDEPRECATION: Loading egg at /Users/mac/anaconda3/lib/python3.11/site-packages/Pattern-3.6.1-py3.11.egg is deprecated. pip 23.3 will enforce this behaviour change. A possible replacement is to use pip for package installation..\u001B[0m\u001B[33m\r\n",
      "\u001B[0mRequirement already satisfied: scikit-learn in /Users/mac/anaconda3/lib/python3.11/site-packages (1.3.0)\r\n",
      "Collecting scikit-learn\r\n",
      "  Obtaining dependency information for scikit-learn from https://files.pythonhosted.org/packages/7d/d7/fb80c63062b60b1fa5dcb2d4dd3a4e83bd8c68cdc83cf6ff8c016228f184/scikit_learn-1.5.1-cp311-cp311-macosx_12_0_arm64.whl.metadata\r\n",
      "  Downloading scikit_learn-1.5.1-cp311-cp311-macosx_12_0_arm64.whl.metadata (12 kB)\r\n",
      "Requirement already satisfied: matplotlib in /Users/mac/anaconda3/lib/python3.11/site-packages (3.7.2)\r\n",
      "Collecting matplotlib\r\n",
      "  Obtaining dependency information for matplotlib from https://files.pythonhosted.org/packages/46/81/38bc95cf20ce6ed9dd5e7aec805bf1efc931e3fdeb9c5b593d00634a4747/matplotlib-3.9.1-cp311-cp311-macosx_11_0_arm64.whl.metadata\r\n",
      "  Downloading matplotlib-3.9.1-cp311-cp311-macosx_11_0_arm64.whl.metadata (11 kB)\r\n",
      "Requirement already satisfied: pandas in /Users/mac/anaconda3/lib/python3.11/site-packages (1.5.3)\r\n",
      "Collecting pandas\r\n",
      "  Obtaining dependency information for pandas from https://files.pythonhosted.org/packages/16/c6/75231fd47afd6b3f89011e7077f1a3958441264aca7ae9ff596e3276a5d0/pandas-2.2.2-cp311-cp311-macosx_11_0_arm64.whl.metadata\r\n",
      "  Using cached pandas-2.2.2-cp311-cp311-macosx_11_0_arm64.whl.metadata (19 kB)\r\n",
      "Requirement already satisfied: numpy>=1.19.5 in /Users/mac/anaconda3/lib/python3.11/site-packages (from scikit-learn) (1.24.4)\r\n",
      "Requirement already satisfied: scipy>=1.6.0 in /Users/mac/anaconda3/lib/python3.11/site-packages (from scikit-learn) (1.10.1)\r\n",
      "Requirement already satisfied: joblib>=1.2.0 in /Users/mac/anaconda3/lib/python3.11/site-packages (from scikit-learn) (1.2.0)\r\n",
      "Collecting threadpoolctl>=3.1.0 (from scikit-learn)\r\n",
      "  Obtaining dependency information for threadpoolctl>=3.1.0 from https://files.pythonhosted.org/packages/4b/2c/ffbf7a134b9ab11a67b0cf0726453cedd9c5043a4fe7a35d1cefa9a1bcfb/threadpoolctl-3.5.0-py3-none-any.whl.metadata\r\n",
      "  Downloading threadpoolctl-3.5.0-py3-none-any.whl.metadata (13 kB)\r\n",
      "Requirement already satisfied: contourpy>=1.0.1 in /Users/mac/anaconda3/lib/python3.11/site-packages (from matplotlib) (1.0.5)\r\n",
      "Requirement already satisfied: cycler>=0.10 in /Users/mac/anaconda3/lib/python3.11/site-packages (from matplotlib) (0.11.0)\r\n",
      "Requirement already satisfied: fonttools>=4.22.0 in /Users/mac/anaconda3/lib/python3.11/site-packages (from matplotlib) (4.25.0)\r\n",
      "Requirement already satisfied: kiwisolver>=1.3.1 in /Users/mac/anaconda3/lib/python3.11/site-packages (from matplotlib) (1.4.4)\r\n",
      "Requirement already satisfied: packaging>=20.0 in /Users/mac/anaconda3/lib/python3.11/site-packages (from matplotlib) (23.1)\r\n",
      "Requirement already satisfied: pillow>=8 in /Users/mac/anaconda3/lib/python3.11/site-packages (from matplotlib) (10.3.0)\r\n",
      "Requirement already satisfied: pyparsing>=2.3.1 in /Users/mac/anaconda3/lib/python3.11/site-packages (from matplotlib) (3.0.9)\r\n",
      "Requirement already satisfied: python-dateutil>=2.7 in /Users/mac/anaconda3/lib/python3.11/site-packages (from matplotlib) (2.8.2)\r\n",
      "Requirement already satisfied: pytz>=2020.1 in /Users/mac/anaconda3/lib/python3.11/site-packages (from pandas) (2023.3.post1)\r\n",
      "Requirement already satisfied: tzdata>=2022.7 in /Users/mac/anaconda3/lib/python3.11/site-packages (from pandas) (2023.3)\r\n",
      "Requirement already satisfied: six>=1.5 in /Users/mac/anaconda3/lib/python3.11/site-packages (from python-dateutil>=2.7->matplotlib) (1.16.0)\r\n",
      "Downloading scikit_learn-1.5.1-cp311-cp311-macosx_12_0_arm64.whl (11.0 MB)\r\n",
      "\u001B[2K   \u001B[90m━━━━━━━━━━━━━━━━━━━━━━━━━━━━━━━━━━━━━━━━\u001B[0m \u001B[32m11.0/11.0 MB\u001B[0m \u001B[31m11.1 MB/s\u001B[0m eta \u001B[36m0:00:00\u001B[0m00:01\u001B[0m00:01\u001B[0m\r\n",
      "\u001B[?25hDownloading matplotlib-3.9.1-cp311-cp311-macosx_11_0_arm64.whl (7.8 MB)\r\n",
      "\u001B[2K   \u001B[90m━━━━━━━━━━━━━━━━━━━━━━━━━━━━━━━━━━━━━━━━\u001B[0m \u001B[32m7.8/7.8 MB\u001B[0m \u001B[31m11.4 MB/s\u001B[0m eta \u001B[36m0:00:00\u001B[0ma \u001B[36m0:00:01\u001B[0m\r\n",
      "\u001B[?25hUsing cached pandas-2.2.2-cp311-cp311-macosx_11_0_arm64.whl (11.3 MB)\r\n",
      "Downloading threadpoolctl-3.5.0-py3-none-any.whl (18 kB)\r\n",
      "\u001B[33mDEPRECATION: textract 1.6.5 has a non-standard dependency specifier extract-msg<=0.29.*. pip 23.3 will enforce this behaviour change. A possible replacement is to upgrade to a newer version of textract or contact the author to suggest that they release a version with a conforming dependency specifiers. Discussion can be found at https://github.com/pypa/pip/issues/12063\u001B[0m\u001B[33m\r\n",
      "\u001B[0mInstalling collected packages: threadpoolctl, scikit-learn, pandas, matplotlib\r\n",
      "  Attempting uninstall: threadpoolctl\r\n",
      "    Found existing installation: threadpoolctl 2.2.0\r\n",
      "    Uninstalling threadpoolctl-2.2.0:\r\n",
      "      Successfully uninstalled threadpoolctl-2.2.0\r\n",
      "  Attempting uninstall: scikit-learn\r\n",
      "    Found existing installation: scikit-learn 1.3.0\r\n",
      "    Uninstalling scikit-learn-1.3.0:\r\n",
      "      Successfully uninstalled scikit-learn-1.3.0\r\n",
      "  Attempting uninstall: pandas\r\n",
      "    Found existing installation: pandas 1.5.3\r\n",
      "    Uninstalling pandas-1.5.3:\r\n",
      "      Successfully uninstalled pandas-1.5.3\r\n",
      "  Attempting uninstall: matplotlib\r\n",
      "    Found existing installation: matplotlib 3.7.2\r\n",
      "    Uninstalling matplotlib-3.7.2:\r\n",
      "      Successfully uninstalled matplotlib-3.7.2\r\n",
      "\u001B[31mERROR: pip's dependency resolver does not currently take into account all the packages that are installed. This behaviour is the source of the following dependency conflicts.\r\n",
      "yfinance 0.2.40 requires beautifulsoup4>=4.11.1, but you have beautifulsoup4 4.8.2 which is incompatible.\r\n",
      "ydata-profiling 4.8.3 requires matplotlib<3.9,>=3.2, but you have matplotlib 3.9.1 which is incompatible.\r\n",
      "pyfume 0.3.4 requires pandas==1.5.3, but you have pandas 2.2.2 which is incompatible.\u001B[0m\u001B[31m\r\n",
      "\u001B[0mSuccessfully installed matplotlib-3.9.1 pandas-2.2.2 scikit-learn-1.5.1 threadpoolctl-3.5.0\r\n"
     ]
    }
   ],
   "execution_count": 109
  },
  {
   "metadata": {
    "ExecuteTime": {
     "end_time": "2024-08-02T03:02:39.492826Z",
     "start_time": "2024-08-02T03:02:39.401409Z"
    }
   },
   "cell_type": "code",
   "source": [
    "import pandas as pd\n",
    "import numpy as np\n",
    "from sklearn.preprocessing import LabelEncoder, StandardScaler\n",
    "from sklearn.cluster import KMeans\n",
    "\n",
    "# Sample DataFrame\n",
    "data = {\n",
    "    'category': ['A', 'B', 'A', 'C', 'B', 'C', 'A'],\n",
    "    'value1': [10, 20, 10, 30, 20, 30, 10],\n",
    "    'value2': [5.0, 10.0, 5.0, 15.0, 10.0, 15.0, 5.0]\n",
    "}\n",
    "df = pd.DataFrame(data)\n",
    "\n",
    "# Select categorical and numeric columns\n",
    "categorical_cols = df.select_dtypes(include=['object']).columns\n",
    "numeric_cols = df.select_dtypes(include=['int64', 'float64']).columns\n",
    "\n",
    "# Apply Label Encoding to categorical columns\n",
    "label_encoders = {}\n",
    "for col in categorical_cols:\n",
    "    le = LabelEncoder()\n",
    "    df[col] = le.fit_transform(df[col])\n",
    "    label_encoders[col] = le\n",
    "\n",
    "# Apply StandardScaler to numeric columns\n",
    "scaler = StandardScaler()\n",
    "df[numeric_cols] = scaler.fit_transform(df[numeric_cols])\n",
    "\n",
    "# Combine the transformed columns\n",
    "X = df.values\n",
    "\n",
    "# Check for NaN or infinite values\n",
    "if np.any(np.isnan(X)) or np.any(np.isinf(X)):\n",
    "    raise ValueError(\"Data contains NaN or infinite values.\")\n",
    "\n",
    "# Ensure X is a valid NumPy array\n",
    "print(\"Type of X:\", type(X))\n",
    "print(\"Shape of X:\", X.shape)\n",
    "\n",
    "# Apply KMeans clustering\n",
    "kmeans = KMeans(n_clusters=3, random_state=42)\n",
    "try:\n",
    "    X_clustered = kmeans.fit_predict(X)\n",
    "    print(\"Clustering done successfully.\")\n",
    "except Exception as e:\n",
    "    print(\"An error occurred:\", e)\n"
   ],
   "id": "86b58a26ad738220",
   "outputs": [
    {
     "name": "stdout",
     "output_type": "stream",
     "text": [
      "Type of X: <class 'numpy.ndarray'>\n",
      "Shape of X: (7, 3)\n",
      "An error occurred: 'NoneType' object has no attribute 'split'\n"
     ]
    },
    {
     "name": "stderr",
     "output_type": "stream",
     "text": [
      "/Users/mac/anaconda3/lib/python3.11/site-packages/sklearn/cluster/_kmeans.py:1412: FutureWarning: The default value of `n_init` will change from 10 to 'auto' in 1.4. Set the value of `n_init` explicitly to suppress the warning\n",
      "  super()._check_params_vs_input(X, default_n_init=10)\n"
     ]
    }
   ],
   "execution_count": 110
  },
  {
   "metadata": {
    "ExecuteTime": {
     "end_time": "2024-08-02T03:01:47.389981Z",
     "start_time": "2024-08-02T03:01:47.365738Z"
    }
   },
   "cell_type": "code",
   "source": [
    "import pandas as pd\n",
    "import numpy as np\n",
    "from sklearn.preprocessing import LabelEncoder, StandardScaler\n",
    "from sklearn.cluster import KMeans\n",
    "\n",
    "# Example DataFrame\n",
    "data = {\n",
    "    'category': ['A', 'B', 'A', 'C', 'B', 'C', 'A'],\n",
    "    'value1': [10, 20, 10, 30, 20, 30, 10],\n",
    "    'value2': [5.0, 10.0, 5.0, 15.0, 10.0, 15.0, 5.0]\n",
    "}\n",
    "df = pd.DataFrame(data)\n",
    "\n",
    "# Select categorical and numeric columns\n",
    "categorical_cols = df.select_dtypes(include=['object']).columns\n",
    "numeric_cols = df.select_dtypes(include=['int64', 'float64']).columns\n",
    "\n",
    "# Apply Label Encoding to categorical columns\n",
    "label_encoders = {}\n",
    "for col in categorical_cols:\n",
    "    le = LabelEncoder()\n",
    "    df[col] = le.fit_transform(df[col])\n",
    "    label_encoders[col] = le\n",
    "\n",
    "# Apply StandardScaler to numeric columns\n",
    "scaler = StandardScaler()\n",
    "df[numeric_cols] = scaler.fit_transform(df[numeric_cols])\n",
    "\n",
    "# Combine the transformed columns\n",
    "X = df.values\n",
    "\n",
    "# Check for NaN or infinite values\n",
    "if np.any(np.isnan(X)) or np.any(np.isinf(X)):\n",
    "    raise ValueError(\"Data contains NaN or infinite values.\")\n",
    "\n",
    "# Ensure X is a valid NumPy array\n",
    "print(\"Type of X:\", type(X))\n",
    "print(\"Shape of X:\", X.shape)\n",
    "\n",
    "# Apply KMeans clustering\n",
    "kmeans = KMeans(n_clusters=3, random_state=42)\n",
    "try:\n",
    "    X_clustered = kmeans.fit_predict(X)\n",
    "    print(\"Clustering done successfully.\")\n",
    "except Exception as e:\n",
    "    print(\"An error occurred:\", e)\n"
   ],
   "id": "ec9e5d092055286d",
   "outputs": [
    {
     "name": "stdout",
     "output_type": "stream",
     "text": [
      "Type of X: <class 'numpy.ndarray'>\n",
      "Shape of X: (7, 3)\n",
      "An error occurred: 'NoneType' object has no attribute 'split'\n"
     ]
    },
    {
     "name": "stderr",
     "output_type": "stream",
     "text": [
      "/Users/mac/anaconda3/lib/python3.11/site-packages/sklearn/cluster/_kmeans.py:1412: FutureWarning: The default value of `n_init` will change from 10 to 'auto' in 1.4. Set the value of `n_init` explicitly to suppress the warning\n",
      "  super()._check_params_vs_input(X, default_n_init=10)\n"
     ]
    }
   ],
   "execution_count": 108
  },
  {
   "metadata": {},
   "cell_type": "code",
   "outputs": [],
   "execution_count": null,
   "source": "",
   "id": "ccd0214ecabd5300"
  }
 ],
 "metadata": {
  "kernelspec": {
   "display_name": "Python 3",
   "language": "python",
   "name": "python3"
  },
  "language_info": {
   "codemirror_mode": {
    "name": "ipython",
    "version": 2
   },
   "file_extension": ".py",
   "mimetype": "text/x-python",
   "name": "python",
   "nbconvert_exporter": "python",
   "pygments_lexer": "ipython2",
   "version": "2.7.6"
  }
 },
 "nbformat": 4,
 "nbformat_minor": 5
}
