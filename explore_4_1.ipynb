{
 "cells": [
  {
   "metadata": {},
   "cell_type": "markdown",
   "source": "### Loading the Data",
   "id": "10edb25830f46db6"
  },
  {
   "cell_type": "code",
   "id": "initial_id",
   "metadata": {
    "collapsed": true,
    "ExecuteTime": {
     "end_time": "2024-08-02T01:27:00.245551Z",
     "start_time": "2024-08-02T01:26:56.615630Z"
    }
   },
   "source": [
    "\n",
    "import pandas as pd\n",
    "import plotly.express as px\n",
    "from sklearn.compose import ColumnTransformer\n",
    "from sklearn.ensemble import RandomForestClassifier\n",
    "from sklearn.metrics import accuracy_score\n",
    "from sklearn.model_selection import train_test_split\n",
    "from sklearn.preprocessing import StandardScaler, OneHotEncoder\n",
    "\n",
    "from sklearn.svm import SVC"
   ],
   "outputs": [],
   "execution_count": 1
  },
  {
   "metadata": {
    "ExecuteTime": {
     "end_time": "2024-08-02T01:27:04.917794Z",
     "start_time": "2024-08-02T01:27:00.249119Z"
    }
   },
   "cell_type": "code",
   "source": [
    "df = None\n",
    "\n",
    "# Attempting to load a CSV file from a Google Drive link into a Pandas DataFrame.\n",
    "try:\n",
    "    # Original URL pointing to Dataset on Google drive\n",
    "    url = 'https://drive.google.com/file/d/1xx0EV_nLt9shUSFJ7u5qAeeDrinZRnxf/view?usp=sharing'\n",
    "\n",
    "    # Extracting file ID from the original URL to construct a direct download link.\n",
    "    url = 'https://drive.google.com/uc?id=' + url.split('/')[-2]\n",
    "\n",
    "    # Loading the CSV data from the constructed URL into a Pandas DataFrame.\n",
    "    df = pd.read_csv(url)\n",
    "\n",
    "    # Confirmation message upon successful loading of CSV data.\n",
    "    print('Csv and Dataframe loaded.')\n",
    "\n",
    "except Exception as e:\n",
    "    # Handling any exceptions that may occur during the process and printing the error message.\n",
    "    print('Exception occurred: ', str(e))\n"
   ],
   "id": "e5edc7d7e94c98ee",
   "outputs": [
    {
     "name": "stdout",
     "output_type": "stream",
     "text": [
      "Csv and Dataframe loaded.\n"
     ]
    }
   ],
   "execution_count": 2
  },
  {
   "metadata": {
    "ExecuteTime": {
     "end_time": "2024-08-02T01:27:05.023680Z",
     "start_time": "2024-08-02T01:27:04.947584Z"
    }
   },
   "cell_type": "code",
   "source": [
    "# exploring the dataset\n",
    "df.head()"
   ],
   "id": "62ae24e566ad0d92",
   "outputs": [
    {
     "data": {
      "text/plain": [
       "           Brand    Year   Model               Car/Suv  \\\n",
       "0      Ssangyong  2022.0  Rexton  Sutherland Isuzu Ute   \n",
       "1             MG  2022.0     MG3             Hatchback   \n",
       "2            BMW  2022.0    430I                 Coupe   \n",
       "3  Mercedes-Benz  2011.0    E500                 Coupe   \n",
       "4        Renault  2022.0  Arkana                   SUV   \n",
       "\n",
       "                                       Title UsedOrNew Transmission  \\\n",
       "0       2022 Ssangyong Rexton Ultimate (awd)      DEMO    Automatic   \n",
       "1  2022 MG MG3 Auto Excite (with Navigation)      USED    Automatic   \n",
       "2                      2022 BMW 430I M Sport      USED    Automatic   \n",
       "3           2011 Mercedes-Benz E500 Elegance      USED    Automatic   \n",
       "4                 2022 Renault Arkana Intens      USED    Automatic   \n",
       "\n",
       "         Engine DriveType  FuelType FuelConsumption Kilometres   ColourExtInt  \\\n",
       "0  4 cyl, 2.2 L       AWD    Diesel  8.7 L / 100 km       5595  White / Black   \n",
       "1  4 cyl, 1.5 L     Front   Premium  6.7 L / 100 km         16  Black / Black   \n",
       "2    4 cyl, 2 L      Rear   Premium  6.6 L / 100 km       8472   Grey / White   \n",
       "3  8 cyl, 5.5 L      Rear   Premium   11 L / 100 km     136517  White / Brown   \n",
       "4  4 cyl, 1.3 L     Front  Unleaded    6 L / 100 km       1035   Grey / Black   \n",
       "\n",
       "            Location CylindersinEngine   BodyType     Doors     Seats   Price  \n",
       "0     Caringbah, NSW             4 cyl        SUV   4 Doors   7 Seats   51990  \n",
       "1     Brookvale, NSW             4 cyl  Hatchback   5 Doors   5 Seats   19990  \n",
       "2      Sylvania, NSW             4 cyl      Coupe   2 Doors   4 Seats  108988  \n",
       "3  Mount Druitt, NSW             8 cyl      Coupe   2 Doors   4 Seats   32990  \n",
       "4   Castle Hill, NSW             4 cyl        SUV   4 Doors   5 Seats   34990  "
      ],
      "text/html": [
       "<div>\n",
       "<style scoped>\n",
       "    .dataframe tbody tr th:only-of-type {\n",
       "        vertical-align: middle;\n",
       "    }\n",
       "\n",
       "    .dataframe tbody tr th {\n",
       "        vertical-align: top;\n",
       "    }\n",
       "\n",
       "    .dataframe thead th {\n",
       "        text-align: right;\n",
       "    }\n",
       "</style>\n",
       "<table border=\"1\" class=\"dataframe\">\n",
       "  <thead>\n",
       "    <tr style=\"text-align: right;\">\n",
       "      <th></th>\n",
       "      <th>Brand</th>\n",
       "      <th>Year</th>\n",
       "      <th>Model</th>\n",
       "      <th>Car/Suv</th>\n",
       "      <th>Title</th>\n",
       "      <th>UsedOrNew</th>\n",
       "      <th>Transmission</th>\n",
       "      <th>Engine</th>\n",
       "      <th>DriveType</th>\n",
       "      <th>FuelType</th>\n",
       "      <th>FuelConsumption</th>\n",
       "      <th>Kilometres</th>\n",
       "      <th>ColourExtInt</th>\n",
       "      <th>Location</th>\n",
       "      <th>CylindersinEngine</th>\n",
       "      <th>BodyType</th>\n",
       "      <th>Doors</th>\n",
       "      <th>Seats</th>\n",
       "      <th>Price</th>\n",
       "    </tr>\n",
       "  </thead>\n",
       "  <tbody>\n",
       "    <tr>\n",
       "      <th>0</th>\n",
       "      <td>Ssangyong</td>\n",
       "      <td>2022.0</td>\n",
       "      <td>Rexton</td>\n",
       "      <td>Sutherland Isuzu Ute</td>\n",
       "      <td>2022 Ssangyong Rexton Ultimate (awd)</td>\n",
       "      <td>DEMO</td>\n",
       "      <td>Automatic</td>\n",
       "      <td>4 cyl, 2.2 L</td>\n",
       "      <td>AWD</td>\n",
       "      <td>Diesel</td>\n",
       "      <td>8.7 L / 100 km</td>\n",
       "      <td>5595</td>\n",
       "      <td>White / Black</td>\n",
       "      <td>Caringbah, NSW</td>\n",
       "      <td>4 cyl</td>\n",
       "      <td>SUV</td>\n",
       "      <td>4 Doors</td>\n",
       "      <td>7 Seats</td>\n",
       "      <td>51990</td>\n",
       "    </tr>\n",
       "    <tr>\n",
       "      <th>1</th>\n",
       "      <td>MG</td>\n",
       "      <td>2022.0</td>\n",
       "      <td>MG3</td>\n",
       "      <td>Hatchback</td>\n",
       "      <td>2022 MG MG3 Auto Excite (with Navigation)</td>\n",
       "      <td>USED</td>\n",
       "      <td>Automatic</td>\n",
       "      <td>4 cyl, 1.5 L</td>\n",
       "      <td>Front</td>\n",
       "      <td>Premium</td>\n",
       "      <td>6.7 L / 100 km</td>\n",
       "      <td>16</td>\n",
       "      <td>Black / Black</td>\n",
       "      <td>Brookvale, NSW</td>\n",
       "      <td>4 cyl</td>\n",
       "      <td>Hatchback</td>\n",
       "      <td>5 Doors</td>\n",
       "      <td>5 Seats</td>\n",
       "      <td>19990</td>\n",
       "    </tr>\n",
       "    <tr>\n",
       "      <th>2</th>\n",
       "      <td>BMW</td>\n",
       "      <td>2022.0</td>\n",
       "      <td>430I</td>\n",
       "      <td>Coupe</td>\n",
       "      <td>2022 BMW 430I M Sport</td>\n",
       "      <td>USED</td>\n",
       "      <td>Automatic</td>\n",
       "      <td>4 cyl, 2 L</td>\n",
       "      <td>Rear</td>\n",
       "      <td>Premium</td>\n",
       "      <td>6.6 L / 100 km</td>\n",
       "      <td>8472</td>\n",
       "      <td>Grey / White</td>\n",
       "      <td>Sylvania, NSW</td>\n",
       "      <td>4 cyl</td>\n",
       "      <td>Coupe</td>\n",
       "      <td>2 Doors</td>\n",
       "      <td>4 Seats</td>\n",
       "      <td>108988</td>\n",
       "    </tr>\n",
       "    <tr>\n",
       "      <th>3</th>\n",
       "      <td>Mercedes-Benz</td>\n",
       "      <td>2011.0</td>\n",
       "      <td>E500</td>\n",
       "      <td>Coupe</td>\n",
       "      <td>2011 Mercedes-Benz E500 Elegance</td>\n",
       "      <td>USED</td>\n",
       "      <td>Automatic</td>\n",
       "      <td>8 cyl, 5.5 L</td>\n",
       "      <td>Rear</td>\n",
       "      <td>Premium</td>\n",
       "      <td>11 L / 100 km</td>\n",
       "      <td>136517</td>\n",
       "      <td>White / Brown</td>\n",
       "      <td>Mount Druitt, NSW</td>\n",
       "      <td>8 cyl</td>\n",
       "      <td>Coupe</td>\n",
       "      <td>2 Doors</td>\n",
       "      <td>4 Seats</td>\n",
       "      <td>32990</td>\n",
       "    </tr>\n",
       "    <tr>\n",
       "      <th>4</th>\n",
       "      <td>Renault</td>\n",
       "      <td>2022.0</td>\n",
       "      <td>Arkana</td>\n",
       "      <td>SUV</td>\n",
       "      <td>2022 Renault Arkana Intens</td>\n",
       "      <td>USED</td>\n",
       "      <td>Automatic</td>\n",
       "      <td>4 cyl, 1.3 L</td>\n",
       "      <td>Front</td>\n",
       "      <td>Unleaded</td>\n",
       "      <td>6 L / 100 km</td>\n",
       "      <td>1035</td>\n",
       "      <td>Grey / Black</td>\n",
       "      <td>Castle Hill, NSW</td>\n",
       "      <td>4 cyl</td>\n",
       "      <td>SUV</td>\n",
       "      <td>4 Doors</td>\n",
       "      <td>5 Seats</td>\n",
       "      <td>34990</td>\n",
       "    </tr>\n",
       "  </tbody>\n",
       "</table>\n",
       "</div>"
      ]
     },
     "execution_count": 3,
     "metadata": {},
     "output_type": "execute_result"
    }
   ],
   "execution_count": 3
  },
  {
   "metadata": {},
   "cell_type": "code",
   "source": [
    "# verifying the rows and columns in the dataset\n",
    "df.shape"
   ],
   "id": "d00727d77b3e84bb",
   "outputs": [
    {
     "data": {
      "text/plain": [
       "(16734, 19)"
      ]
     },
     "execution_count": 4,
     "metadata": {},
     "output_type": "execute_result"
    }
   ],
   "execution_count": 4
  },
  {
   "metadata": {
    "ExecuteTime": {
     "end_time": "2024-08-02T01:27:05.170657Z",
     "start_time": "2024-08-02T01:27:05.031798Z"
    }
   },
   "cell_type": "code",
   "source": [
    "# verifying the dataset information\n",
    "df.info()"
   ],
   "id": "93bd49b64457c046",
   "outputs": [
    {
     "name": "stdout",
     "output_type": "stream",
     "text": [
      "<class 'pandas.core.frame.DataFrame'>\n",
      "RangeIndex: 16734 entries, 0 to 16733\n",
      "Data columns (total 19 columns):\n",
      " #   Column             Non-Null Count  Dtype  \n",
      "---  ------             --------------  -----  \n",
      " 0   Brand              16733 non-null  object \n",
      " 1   Year               16733 non-null  float64\n",
      " 2   Model              16733 non-null  object \n",
      " 3   Car/Suv            16706 non-null  object \n",
      " 4   Title              16733 non-null  object \n",
      " 5   UsedOrNew          16733 non-null  object \n",
      " 6   Transmission       16733 non-null  object \n",
      " 7   Engine             16733 non-null  object \n",
      " 8   DriveType          16733 non-null  object \n",
      " 9   FuelType           16733 non-null  object \n",
      " 10  FuelConsumption    16733 non-null  object \n",
      " 11  Kilometres         16733 non-null  object \n",
      " 12  ColourExtInt       16733 non-null  object \n",
      " 13  Location           16284 non-null  object \n",
      " 14  CylindersinEngine  16733 non-null  object \n",
      " 15  BodyType           16452 non-null  object \n",
      " 16  Doors              15130 non-null  object \n",
      " 17  Seats              15029 non-null  object \n",
      " 18  Price              16731 non-null  object \n",
      "dtypes: float64(1), object(18)\n",
      "memory usage: 2.4+ MB\n"
     ]
    }
   ],
   "execution_count": 5
  },
  {
   "metadata": {},
   "cell_type": "markdown",
   "source": "#### Checking for missing values",
   "id": "e4d5bb7c8bca7228"
  },
  {
   "metadata": {
    "ExecuteTime": {
     "end_time": "2024-08-02T01:27:05.196869Z",
     "start_time": "2024-08-02T01:27:05.171389Z"
    }
   },
   "cell_type": "code",
   "source": "df.isna().sum()",
   "id": "9727703921535e5e",
   "outputs": [
    {
     "data": {
      "text/plain": [
       "Brand                   1\n",
       "Year                    1\n",
       "Model                   1\n",
       "Car/Suv                28\n",
       "Title                   1\n",
       "UsedOrNew               1\n",
       "Transmission            1\n",
       "Engine                  1\n",
       "DriveType               1\n",
       "FuelType                1\n",
       "FuelConsumption         1\n",
       "Kilometres              1\n",
       "ColourExtInt            1\n",
       "Location              450\n",
       "CylindersinEngine       1\n",
       "BodyType              282\n",
       "Doors                1604\n",
       "Seats                1705\n",
       "Price                   3\n",
       "dtype: int64"
      ]
     },
     "execution_count": 6,
     "metadata": {},
     "output_type": "execute_result"
    }
   ],
   "execution_count": 6
  },
  {
   "metadata": {},
   "cell_type": "markdown",
   "source": "Handling of missing values",
   "id": "9deda53b076e41a9"
  },
  {
   "metadata": {
    "ExecuteTime": {
     "end_time": "2024-08-02T01:27:05.222928Z",
     "start_time": "2024-08-02T01:27:05.202855Z"
    }
   },
   "cell_type": "code",
   "source": [
    "# Calculating the missing values\n",
    "\n",
    "for each in df.columns:\n",
    "    print('Percent of null values', each, ':', (df[each].isnull().mean() * 100).round(2))"
   ],
   "id": "f6abfa95bb9a4c6e",
   "outputs": [
    {
     "name": "stdout",
     "output_type": "stream",
     "text": [
      "Percent of null values Brand : 0.01\n",
      "Percent of null values Year : 0.01\n",
      "Percent of null values Model : 0.01\n",
      "Percent of null values Car/Suv : 0.17\n",
      "Percent of null values Title : 0.01\n",
      "Percent of null values UsedOrNew : 0.01\n",
      "Percent of null values Transmission : 0.01\n",
      "Percent of null values Engine : 0.01\n",
      "Percent of null values DriveType : 0.01\n",
      "Percent of null values FuelType : 0.01\n",
      "Percent of null values FuelConsumption : 0.01\n",
      "Percent of null values Kilometres : 0.01\n",
      "Percent of null values ColourExtInt : 0.01\n",
      "Percent of null values Location : 2.69\n",
      "Percent of null values CylindersinEngine : 0.01\n",
      "Percent of null values BodyType : 1.69\n",
      "Percent of null values Doors : 9.59\n",
      "Percent of null values Seats : 10.19\n",
      "Percent of null values Price : 0.02\n"
     ]
    }
   ],
   "execution_count": 7
  },
  {
   "metadata": {
    "ExecuteTime": {
     "end_time": "2024-08-02T01:27:05.276074Z",
     "start_time": "2024-08-02T01:27:05.225429Z"
    }
   },
   "cell_type": "code",
   "source": [
    "# filling missing values \n",
    "# small => mean\n",
    "# large => mode\n",
    "\n",
    "for column in df.columns:\n",
    "    if df[column].dtype == 'object':\n",
    "        # For string columns, fill missing values with mode\n",
    "        mode_value = df[column].mode().iloc[0]  # Get the mode value as a scalar\n",
    "        df[column].fillna(mode_value, inplace=True)\n",
    "    else:\n",
    "        # For numeric columns, fill missing values with mean\n",
    "        df[column].fillna(df[column].mean(), inplace=True)"
   ],
   "id": "d319fdf78e27aeff",
   "outputs": [],
   "execution_count": 8
  },
  {
   "metadata": {
    "ExecuteTime": {
     "end_time": "2024-08-02T01:27:05.301192Z",
     "start_time": "2024-08-02T01:27:05.277075Z"
    }
   },
   "cell_type": "code",
   "source": [
    "# confirming that missing values does not exist in the dataframe\n",
    "\n",
    "df.isna().sum()"
   ],
   "id": "84ca1c08cf296a00",
   "outputs": [
    {
     "data": {
      "text/plain": [
       "Brand                0\n",
       "Year                 0\n",
       "Model                0\n",
       "Car/Suv              0\n",
       "Title                0\n",
       "UsedOrNew            0\n",
       "Transmission         0\n",
       "Engine               0\n",
       "DriveType            0\n",
       "FuelType             0\n",
       "FuelConsumption      0\n",
       "Kilometres           0\n",
       "ColourExtInt         0\n",
       "Location             0\n",
       "CylindersinEngine    0\n",
       "BodyType             0\n",
       "Doors                0\n",
       "Seats                0\n",
       "Price                0\n",
       "dtype: int64"
      ]
     },
     "execution_count": 9,
     "metadata": {},
     "output_type": "execute_result"
    }
   ],
   "execution_count": 9
  },
  {
   "metadata": {
    "ExecuteTime": {
     "end_time": "2024-08-02T01:27:05.311750Z",
     "start_time": "2024-08-02T01:27:05.302146Z"
    }
   },
   "cell_type": "code",
   "source": [
    "# Replace specific values in the 'Price' and 'Kilometres' columns of the DataFrame.\n",
    "\n",
    "# Replace 'POA' (Price on Application) with 0 in the 'Price' column.\n",
    "df['Price'] = df['Price'].replace('POA', 0)\n",
    "\n",
    "# Replace '-' (dash) with 0 in the 'Kilometres' column.\n",
    "df['Kilometres'] = df['Kilometres'].replace('-', 0)\n"
   ],
   "id": "7f633fbeb7b9c37d",
   "outputs": [],
   "execution_count": 10
  },
  {
   "metadata": {
    "ExecuteTime": {
     "end_time": "2024-08-02T01:27:05.339521Z",
     "start_time": "2024-08-02T01:27:05.312987Z"
    }
   },
   "cell_type": "code",
   "source": [
    "# Convert specified columns to integers, handling errors gracefully.\n",
    "\n",
    "# Convert 'Kilometres' column to numeric, coercing errors to NaN, filling NaN with 0, and converting to integer.\n",
    "df['Kilometres'] = pd.to_numeric(df['Kilometres'], errors='coerce').fillna(0).astype(int)\n",
    "\n",
    "# Convert 'Price' column to numeric, coercing errors to NaN, filling NaN with 0, and converting to integer.\n",
    "df['Price'] = pd.to_numeric(df['Price'], errors='coerce').fillna(0).astype(int)\n",
    "\n",
    "# Verify the data types of 'Kilometres' and 'Price' columns after conversion.\n",
    "df[['Kilometres', 'Price']].dtypes\n"
   ],
   "id": "ded18035c289fc20",
   "outputs": [
    {
     "data": {
      "text/plain": [
       "Kilometres    int64\n",
       "Price         int64\n",
       "dtype: object"
      ]
     },
     "execution_count": 11,
     "metadata": {},
     "output_type": "execute_result"
    }
   ],
   "execution_count": 11
  },
  {
   "metadata": {
    "ExecuteTime": {
     "end_time": "2024-08-02T01:27:05.387443Z",
     "start_time": "2024-08-02T01:27:05.340396Z"
    }
   },
   "cell_type": "code",
   "source": [
    "# Define functions to calculate quartiles and inter-quartile range (IQR)\n",
    "def q1(series):\n",
    "    \"\"\"Calculate the first quartile (Q1).\"\"\"\n",
    "    return series.quantile(0.25)\n",
    "\n",
    "\n",
    "def q3(series):\n",
    "    \"\"\"Calculate the third quartile (Q3).\"\"\"\n",
    "    return series.quantile(0.75)\n",
    "\n",
    "\n",
    "def iqr(series):\n",
    "    \"\"\"Calculate the interquartile range (IQR).\"\"\"\n",
    "    return q3(series) - q1(series)\n",
    "\n",
    "\n",
    "def lower_outlier(series):\n",
    "    \"\"\"Calculate the lower outlier bound.\"\"\"\n",
    "    return (q1(series) - 1.5 * iqr(series)).round(2)\n",
    "\n",
    "\n",
    "def upper_outlier(series):\n",
    "    \"\"\"Calculate the upper outlier bound.\"\"\"\n",
    "    return q3(series) + 1.5 * iqr(series)\n",
    "\n",
    "\n",
    "def data_range(series):\n",
    "    \"\"\"Calculate the range of the data.\"\"\"\n",
    "    return series.max() - series.min()\n",
    "\n",
    "\n",
    "def mode(series):\n",
    "    \"\"\"Calculate the mode of the data.\"\"\"\n",
    "    return series.mode()[0]\n",
    "\n",
    "\n",
    "# Define a list of calculations to apply to each column\n",
    "calculations = [\n",
    "    \"min\",  # Minimum value\n",
    "    \"max\",  # Maximum value\n",
    "    \"count\",  # Count of non-null values\n",
    "    \"mean\",  # Mean value\n",
    "    \"median\",  # Median value\n",
    "    lambda x: x.mode()[0],  # Mode value\n",
    "    data_range,  # Range of the data\n",
    "    q1,  # First quartile (Q1)\n",
    "    q3,  # Third quartile (Q3)\n",
    "    iqr,  # Inter-quartile range (IQR)\n",
    "    \"var\",  # Sample Variance\n",
    "    \"std\",  # Sample Standard deviation\n",
    "    lower_outlier,  # Lower outlier bound\n",
    "    upper_outlier  # Upper outlier bound\n",
    "]\n",
    "\n",
    "# Apply the calculations to each column in the dataframe (df)\n",
    "result = df.agg(\n",
    "    {\n",
    "        \"Price\": calculations,  # Apply calculations to the 'Price' column\n",
    "        \"Kilometres\": calculations  # Apply calculations to the 'Kilometres' column\n",
    "    }\n",
    ")\n",
    "\n",
    "# Rename the 'mode' and 'range' rows for clarity\n",
    "result.rename(index={result.index[5]: 'mode'}, inplace=True)  # Rename mode row\n",
    "result.rename(index={result.index[6]: 'range'}, inplace=True)  # Rename range row\n",
    "result.rename(index={result.index[-3]: 'variance'}, inplace=True)  # Rename range row\n",
    "result.rename(index={result.index[-4]: 'standard deviation'}, inplace=True)  # Rename range row\n",
    "\n",
    "\n",
    "# Define a function to format large numbers\n",
    "def format_large_numbers(x):\n",
    "    if abs(x) >= 1e6:\n",
    "        return f'{x:.2e}'  # Scientific notation for numbers >= 1 million\n",
    "    else:\n",
    "        return f'{x:.2f}'  # Normal formatting for smaller numbers\n",
    "\n",
    "\n",
    "# Apply formatting to each cell in the DataFrame\n",
    "result = result.applymap(format_large_numbers)\n",
    "\n",
    "# Display the resulting dataframe\n",
    "result"
   ],
   "id": "515d9c9a3f9fe590",
   "outputs": [
    {
     "data": {
      "text/plain": [
       "                        Price  Kilometres\n",
       "min                      0.00        0.00\n",
       "max                  1.50e+06   533849.00\n",
       "count                16734.00    16734.00\n",
       "mean                 37190.56    96555.00\n",
       "median               29300.00    82352.00\n",
       "mode                 29990.00        0.00\n",
       "range                1.50e+06   533849.00\n",
       "q1                   18990.00    34807.00\n",
       "q3                   43990.00   143738.00\n",
       "iqr                  25000.00   108931.00\n",
       "standard deviation   1.38e+09    6.24e+09\n",
       "variance             37174.87    79011.38\n",
       "lower_outlier       -18510.00  -128589.50\n",
       "upper_outlier        81490.00   307134.50"
      ],
      "text/html": [
       "<div>\n",
       "<style scoped>\n",
       "    .dataframe tbody tr th:only-of-type {\n",
       "        vertical-align: middle;\n",
       "    }\n",
       "\n",
       "    .dataframe tbody tr th {\n",
       "        vertical-align: top;\n",
       "    }\n",
       "\n",
       "    .dataframe thead th {\n",
       "        text-align: right;\n",
       "    }\n",
       "</style>\n",
       "<table border=\"1\" class=\"dataframe\">\n",
       "  <thead>\n",
       "    <tr style=\"text-align: right;\">\n",
       "      <th></th>\n",
       "      <th>Price</th>\n",
       "      <th>Kilometres</th>\n",
       "    </tr>\n",
       "  </thead>\n",
       "  <tbody>\n",
       "    <tr>\n",
       "      <th>min</th>\n",
       "      <td>0.00</td>\n",
       "      <td>0.00</td>\n",
       "    </tr>\n",
       "    <tr>\n",
       "      <th>max</th>\n",
       "      <td>1.50e+06</td>\n",
       "      <td>533849.00</td>\n",
       "    </tr>\n",
       "    <tr>\n",
       "      <th>count</th>\n",
       "      <td>16734.00</td>\n",
       "      <td>16734.00</td>\n",
       "    </tr>\n",
       "    <tr>\n",
       "      <th>mean</th>\n",
       "      <td>37190.56</td>\n",
       "      <td>96555.00</td>\n",
       "    </tr>\n",
       "    <tr>\n",
       "      <th>median</th>\n",
       "      <td>29300.00</td>\n",
       "      <td>82352.00</td>\n",
       "    </tr>\n",
       "    <tr>\n",
       "      <th>mode</th>\n",
       "      <td>29990.00</td>\n",
       "      <td>0.00</td>\n",
       "    </tr>\n",
       "    <tr>\n",
       "      <th>range</th>\n",
       "      <td>1.50e+06</td>\n",
       "      <td>533849.00</td>\n",
       "    </tr>\n",
       "    <tr>\n",
       "      <th>q1</th>\n",
       "      <td>18990.00</td>\n",
       "      <td>34807.00</td>\n",
       "    </tr>\n",
       "    <tr>\n",
       "      <th>q3</th>\n",
       "      <td>43990.00</td>\n",
       "      <td>143738.00</td>\n",
       "    </tr>\n",
       "    <tr>\n",
       "      <th>iqr</th>\n",
       "      <td>25000.00</td>\n",
       "      <td>108931.00</td>\n",
       "    </tr>\n",
       "    <tr>\n",
       "      <th>standard deviation</th>\n",
       "      <td>1.38e+09</td>\n",
       "      <td>6.24e+09</td>\n",
       "    </tr>\n",
       "    <tr>\n",
       "      <th>variance</th>\n",
       "      <td>37174.87</td>\n",
       "      <td>79011.38</td>\n",
       "    </tr>\n",
       "    <tr>\n",
       "      <th>lower_outlier</th>\n",
       "      <td>-18510.00</td>\n",
       "      <td>-128589.50</td>\n",
       "    </tr>\n",
       "    <tr>\n",
       "      <th>upper_outlier</th>\n",
       "      <td>81490.00</td>\n",
       "      <td>307134.50</td>\n",
       "    </tr>\n",
       "  </tbody>\n",
       "</table>\n",
       "</div>"
      ]
     },
     "execution_count": 12,
     "metadata": {},
     "output_type": "execute_result"
    }
   ],
   "execution_count": 12
  },
  {
   "metadata": {},
   "cell_type": "markdown",
   "source": "### Classification Model",
   "id": "dc52d59b681b2648"
  },
  {
   "metadata": {
    "ExecuteTime": {
     "end_time": "2024-08-02T01:27:05.391732Z",
     "start_time": "2024-08-02T01:27:05.388362Z"
    }
   },
   "cell_type": "code",
   "source": "df.columns",
   "id": "a0649486cb788a7",
   "outputs": [
    {
     "data": {
      "text/plain": [
       "Index(['Brand', 'Year', 'Model', 'Car/Suv', 'Title', 'UsedOrNew',\n",
       "       'Transmission', 'Engine', 'DriveType', 'FuelType', 'FuelConsumption',\n",
       "       'Kilometres', 'ColourExtInt', 'Location', 'CylindersinEngine',\n",
       "       'BodyType', 'Doors', 'Seats', 'Price'],\n",
       "      dtype='object')"
      ]
     },
     "execution_count": 13,
     "metadata": {},
     "output_type": "execute_result"
    }
   ],
   "execution_count": 13
  },
  {
   "metadata": {
    "ExecuteTime": {
     "end_time": "2024-08-02T01:27:05.394520Z",
     "start_time": "2024-08-02T01:27:05.392919Z"
    }
   },
   "cell_type": "code",
   "source": [
    "# # Separate features (x) and target (y)\n",
    "# x = df.drop(columns=['DriveType'])\n",
    "# y = df['DriveType']"
   ],
   "id": "7e4a9ce964e91cce",
   "outputs": [],
   "execution_count": 14
  },
  {
   "metadata": {
    "ExecuteTime": {
     "end_time": "2024-08-02T01:27:05.401449Z",
     "start_time": "2024-08-02T01:27:05.395521Z"
    }
   },
   "cell_type": "code",
   "source": [
    "x = df.drop(columns=['DriveType']).columns\n",
    "', '.join(list(x))\n",
    "len(x)"
   ],
   "id": "e25b0f3e7e44a20a",
   "outputs": [
    {
     "data": {
      "text/plain": [
       "18"
      ]
     },
     "execution_count": 15,
     "metadata": {},
     "output_type": "execute_result"
    }
   ],
   "execution_count": 15
  },
  {
   "metadata": {
    "ExecuteTime": {
     "end_time": "2024-08-02T01:27:05.408611Z",
     "start_time": "2024-08-02T01:27:05.402544Z"
    }
   },
   "cell_type": "code",
   "source": "df.head()",
   "id": "e4078d45b8c02e8a",
   "outputs": [
    {
     "data": {
      "text/plain": [
       "           Brand    Year   Model               Car/Suv  \\\n",
       "0      Ssangyong  2022.0  Rexton  Sutherland Isuzu Ute   \n",
       "1             MG  2022.0     MG3             Hatchback   \n",
       "2            BMW  2022.0    430I                 Coupe   \n",
       "3  Mercedes-Benz  2011.0    E500                 Coupe   \n",
       "4        Renault  2022.0  Arkana                   SUV   \n",
       "\n",
       "                                       Title UsedOrNew Transmission  \\\n",
       "0       2022 Ssangyong Rexton Ultimate (awd)      DEMO    Automatic   \n",
       "1  2022 MG MG3 Auto Excite (with Navigation)      USED    Automatic   \n",
       "2                      2022 BMW 430I M Sport      USED    Automatic   \n",
       "3           2011 Mercedes-Benz E500 Elegance      USED    Automatic   \n",
       "4                 2022 Renault Arkana Intens      USED    Automatic   \n",
       "\n",
       "         Engine DriveType  FuelType FuelConsumption  Kilometres  \\\n",
       "0  4 cyl, 2.2 L       AWD    Diesel  8.7 L / 100 km        5595   \n",
       "1  4 cyl, 1.5 L     Front   Premium  6.7 L / 100 km          16   \n",
       "2    4 cyl, 2 L      Rear   Premium  6.6 L / 100 km        8472   \n",
       "3  8 cyl, 5.5 L      Rear   Premium   11 L / 100 km      136517   \n",
       "4  4 cyl, 1.3 L     Front  Unleaded    6 L / 100 km        1035   \n",
       "\n",
       "    ColourExtInt           Location CylindersinEngine   BodyType     Doors  \\\n",
       "0  White / Black     Caringbah, NSW             4 cyl        SUV   4 Doors   \n",
       "1  Black / Black     Brookvale, NSW             4 cyl  Hatchback   5 Doors   \n",
       "2   Grey / White      Sylvania, NSW             4 cyl      Coupe   2 Doors   \n",
       "3  White / Brown  Mount Druitt, NSW             8 cyl      Coupe   2 Doors   \n",
       "4   Grey / Black   Castle Hill, NSW             4 cyl        SUV   4 Doors   \n",
       "\n",
       "      Seats   Price  \n",
       "0   7 Seats   51990  \n",
       "1   5 Seats   19990  \n",
       "2   4 Seats  108988  \n",
       "3   4 Seats   32990  \n",
       "4   5 Seats   34990  "
      ],
      "text/html": [
       "<div>\n",
       "<style scoped>\n",
       "    .dataframe tbody tr th:only-of-type {\n",
       "        vertical-align: middle;\n",
       "    }\n",
       "\n",
       "    .dataframe tbody tr th {\n",
       "        vertical-align: top;\n",
       "    }\n",
       "\n",
       "    .dataframe thead th {\n",
       "        text-align: right;\n",
       "    }\n",
       "</style>\n",
       "<table border=\"1\" class=\"dataframe\">\n",
       "  <thead>\n",
       "    <tr style=\"text-align: right;\">\n",
       "      <th></th>\n",
       "      <th>Brand</th>\n",
       "      <th>Year</th>\n",
       "      <th>Model</th>\n",
       "      <th>Car/Suv</th>\n",
       "      <th>Title</th>\n",
       "      <th>UsedOrNew</th>\n",
       "      <th>Transmission</th>\n",
       "      <th>Engine</th>\n",
       "      <th>DriveType</th>\n",
       "      <th>FuelType</th>\n",
       "      <th>FuelConsumption</th>\n",
       "      <th>Kilometres</th>\n",
       "      <th>ColourExtInt</th>\n",
       "      <th>Location</th>\n",
       "      <th>CylindersinEngine</th>\n",
       "      <th>BodyType</th>\n",
       "      <th>Doors</th>\n",
       "      <th>Seats</th>\n",
       "      <th>Price</th>\n",
       "    </tr>\n",
       "  </thead>\n",
       "  <tbody>\n",
       "    <tr>\n",
       "      <th>0</th>\n",
       "      <td>Ssangyong</td>\n",
       "      <td>2022.0</td>\n",
       "      <td>Rexton</td>\n",
       "      <td>Sutherland Isuzu Ute</td>\n",
       "      <td>2022 Ssangyong Rexton Ultimate (awd)</td>\n",
       "      <td>DEMO</td>\n",
       "      <td>Automatic</td>\n",
       "      <td>4 cyl, 2.2 L</td>\n",
       "      <td>AWD</td>\n",
       "      <td>Diesel</td>\n",
       "      <td>8.7 L / 100 km</td>\n",
       "      <td>5595</td>\n",
       "      <td>White / Black</td>\n",
       "      <td>Caringbah, NSW</td>\n",
       "      <td>4 cyl</td>\n",
       "      <td>SUV</td>\n",
       "      <td>4 Doors</td>\n",
       "      <td>7 Seats</td>\n",
       "      <td>51990</td>\n",
       "    </tr>\n",
       "    <tr>\n",
       "      <th>1</th>\n",
       "      <td>MG</td>\n",
       "      <td>2022.0</td>\n",
       "      <td>MG3</td>\n",
       "      <td>Hatchback</td>\n",
       "      <td>2022 MG MG3 Auto Excite (with Navigation)</td>\n",
       "      <td>USED</td>\n",
       "      <td>Automatic</td>\n",
       "      <td>4 cyl, 1.5 L</td>\n",
       "      <td>Front</td>\n",
       "      <td>Premium</td>\n",
       "      <td>6.7 L / 100 km</td>\n",
       "      <td>16</td>\n",
       "      <td>Black / Black</td>\n",
       "      <td>Brookvale, NSW</td>\n",
       "      <td>4 cyl</td>\n",
       "      <td>Hatchback</td>\n",
       "      <td>5 Doors</td>\n",
       "      <td>5 Seats</td>\n",
       "      <td>19990</td>\n",
       "    </tr>\n",
       "    <tr>\n",
       "      <th>2</th>\n",
       "      <td>BMW</td>\n",
       "      <td>2022.0</td>\n",
       "      <td>430I</td>\n",
       "      <td>Coupe</td>\n",
       "      <td>2022 BMW 430I M Sport</td>\n",
       "      <td>USED</td>\n",
       "      <td>Automatic</td>\n",
       "      <td>4 cyl, 2 L</td>\n",
       "      <td>Rear</td>\n",
       "      <td>Premium</td>\n",
       "      <td>6.6 L / 100 km</td>\n",
       "      <td>8472</td>\n",
       "      <td>Grey / White</td>\n",
       "      <td>Sylvania, NSW</td>\n",
       "      <td>4 cyl</td>\n",
       "      <td>Coupe</td>\n",
       "      <td>2 Doors</td>\n",
       "      <td>4 Seats</td>\n",
       "      <td>108988</td>\n",
       "    </tr>\n",
       "    <tr>\n",
       "      <th>3</th>\n",
       "      <td>Mercedes-Benz</td>\n",
       "      <td>2011.0</td>\n",
       "      <td>E500</td>\n",
       "      <td>Coupe</td>\n",
       "      <td>2011 Mercedes-Benz E500 Elegance</td>\n",
       "      <td>USED</td>\n",
       "      <td>Automatic</td>\n",
       "      <td>8 cyl, 5.5 L</td>\n",
       "      <td>Rear</td>\n",
       "      <td>Premium</td>\n",
       "      <td>11 L / 100 km</td>\n",
       "      <td>136517</td>\n",
       "      <td>White / Brown</td>\n",
       "      <td>Mount Druitt, NSW</td>\n",
       "      <td>8 cyl</td>\n",
       "      <td>Coupe</td>\n",
       "      <td>2 Doors</td>\n",
       "      <td>4 Seats</td>\n",
       "      <td>32990</td>\n",
       "    </tr>\n",
       "    <tr>\n",
       "      <th>4</th>\n",
       "      <td>Renault</td>\n",
       "      <td>2022.0</td>\n",
       "      <td>Arkana</td>\n",
       "      <td>SUV</td>\n",
       "      <td>2022 Renault Arkana Intens</td>\n",
       "      <td>USED</td>\n",
       "      <td>Automatic</td>\n",
       "      <td>4 cyl, 1.3 L</td>\n",
       "      <td>Front</td>\n",
       "      <td>Unleaded</td>\n",
       "      <td>6 L / 100 km</td>\n",
       "      <td>1035</td>\n",
       "      <td>Grey / Black</td>\n",
       "      <td>Castle Hill, NSW</td>\n",
       "      <td>4 cyl</td>\n",
       "      <td>SUV</td>\n",
       "      <td>4 Doors</td>\n",
       "      <td>5 Seats</td>\n",
       "      <td>34990</td>\n",
       "    </tr>\n",
       "  </tbody>\n",
       "</table>\n",
       "</div>"
      ]
     },
     "execution_count": 16,
     "metadata": {},
     "output_type": "execute_result"
    }
   ],
   "execution_count": 16
  },
  {
   "metadata": {
    "ExecuteTime": {
     "end_time": "2024-08-02T01:27:05.418147Z",
     "start_time": "2024-08-02T01:27:05.409910Z"
    }
   },
   "cell_type": "code",
   "source": "df[['Brand', 'Year', 'Transmission', 'Engine', 'FuelType', 'Price', 'CylindersinEngine', 'BodyType']].head()",
   "id": "29f2ccab1690b85",
   "outputs": [
    {
     "data": {
      "text/plain": [
       "           Brand    Year Transmission        Engine  FuelType   Price  \\\n",
       "0      Ssangyong  2022.0    Automatic  4 cyl, 2.2 L    Diesel   51990   \n",
       "1             MG  2022.0    Automatic  4 cyl, 1.5 L   Premium   19990   \n",
       "2            BMW  2022.0    Automatic    4 cyl, 2 L   Premium  108988   \n",
       "3  Mercedes-Benz  2011.0    Automatic  8 cyl, 5.5 L   Premium   32990   \n",
       "4        Renault  2022.0    Automatic  4 cyl, 1.3 L  Unleaded   34990   \n",
       "\n",
       "  CylindersinEngine   BodyType  \n",
       "0             4 cyl        SUV  \n",
       "1             4 cyl  Hatchback  \n",
       "2             4 cyl      Coupe  \n",
       "3             8 cyl      Coupe  \n",
       "4             4 cyl        SUV  "
      ],
      "text/html": [
       "<div>\n",
       "<style scoped>\n",
       "    .dataframe tbody tr th:only-of-type {\n",
       "        vertical-align: middle;\n",
       "    }\n",
       "\n",
       "    .dataframe tbody tr th {\n",
       "        vertical-align: top;\n",
       "    }\n",
       "\n",
       "    .dataframe thead th {\n",
       "        text-align: right;\n",
       "    }\n",
       "</style>\n",
       "<table border=\"1\" class=\"dataframe\">\n",
       "  <thead>\n",
       "    <tr style=\"text-align: right;\">\n",
       "      <th></th>\n",
       "      <th>Brand</th>\n",
       "      <th>Year</th>\n",
       "      <th>Transmission</th>\n",
       "      <th>Engine</th>\n",
       "      <th>FuelType</th>\n",
       "      <th>Price</th>\n",
       "      <th>CylindersinEngine</th>\n",
       "      <th>BodyType</th>\n",
       "    </tr>\n",
       "  </thead>\n",
       "  <tbody>\n",
       "    <tr>\n",
       "      <th>0</th>\n",
       "      <td>Ssangyong</td>\n",
       "      <td>2022.0</td>\n",
       "      <td>Automatic</td>\n",
       "      <td>4 cyl, 2.2 L</td>\n",
       "      <td>Diesel</td>\n",
       "      <td>51990</td>\n",
       "      <td>4 cyl</td>\n",
       "      <td>SUV</td>\n",
       "    </tr>\n",
       "    <tr>\n",
       "      <th>1</th>\n",
       "      <td>MG</td>\n",
       "      <td>2022.0</td>\n",
       "      <td>Automatic</td>\n",
       "      <td>4 cyl, 1.5 L</td>\n",
       "      <td>Premium</td>\n",
       "      <td>19990</td>\n",
       "      <td>4 cyl</td>\n",
       "      <td>Hatchback</td>\n",
       "    </tr>\n",
       "    <tr>\n",
       "      <th>2</th>\n",
       "      <td>BMW</td>\n",
       "      <td>2022.0</td>\n",
       "      <td>Automatic</td>\n",
       "      <td>4 cyl, 2 L</td>\n",
       "      <td>Premium</td>\n",
       "      <td>108988</td>\n",
       "      <td>4 cyl</td>\n",
       "      <td>Coupe</td>\n",
       "    </tr>\n",
       "    <tr>\n",
       "      <th>3</th>\n",
       "      <td>Mercedes-Benz</td>\n",
       "      <td>2011.0</td>\n",
       "      <td>Automatic</td>\n",
       "      <td>8 cyl, 5.5 L</td>\n",
       "      <td>Premium</td>\n",
       "      <td>32990</td>\n",
       "      <td>8 cyl</td>\n",
       "      <td>Coupe</td>\n",
       "    </tr>\n",
       "    <tr>\n",
       "      <th>4</th>\n",
       "      <td>Renault</td>\n",
       "      <td>2022.0</td>\n",
       "      <td>Automatic</td>\n",
       "      <td>4 cyl, 1.3 L</td>\n",
       "      <td>Unleaded</td>\n",
       "      <td>34990</td>\n",
       "      <td>4 cyl</td>\n",
       "      <td>SUV</td>\n",
       "    </tr>\n",
       "  </tbody>\n",
       "</table>\n",
       "</div>"
      ]
     },
     "execution_count": 17,
     "metadata": {},
     "output_type": "execute_result"
    }
   ],
   "execution_count": 17
  },
  {
   "metadata": {
    "ExecuteTime": {
     "end_time": "2024-08-02T01:27:05.424495Z",
     "start_time": "2024-08-02T01:27:05.420996Z"
    }
   },
   "cell_type": "code",
   "source": "df['Brand'].nunique()",
   "id": "510bfcfa0649359b",
   "outputs": [
    {
     "data": {
      "text/plain": [
       "76"
      ]
     },
     "execution_count": 18,
     "metadata": {},
     "output_type": "execute_result"
    }
   ],
   "execution_count": 18
  },
  {
   "metadata": {
    "ExecuteTime": {
     "end_time": "2024-08-02T01:27:05.429285Z",
     "start_time": "2024-08-02T01:27:05.425549Z"
    }
   },
   "cell_type": "code",
   "source": "df['DriveType'].unique()",
   "id": "a753fcdd56486879",
   "outputs": [
    {
     "data": {
      "text/plain": [
       "array(['AWD', 'Front', 'Rear', 'Other', '4WD'], dtype=object)"
      ]
     },
     "execution_count": 19,
     "metadata": {},
     "output_type": "execute_result"
    }
   ],
   "execution_count": 19
  },
  {
   "metadata": {
    "ExecuteTime": {
     "end_time": "2024-08-02T01:35:18.273293Z",
     "start_time": "2024-08-02T01:35:18.265635Z"
    }
   },
   "cell_type": "code",
   "source": [
    "\n",
    "\n",
    "\n",
    "def get_x_y(selection=\"all\"):\n",
    "    _x = None\n",
    "    _y = df['DriveType']\n",
    "    if selection == \"all\":\n",
    "        _x = df.drop(columns=['DriveType'])\n",
    "    elif selection == \"nine\":\n",
    "        _x = df[['Brand', 'Year', 'Car/Suv', 'Transmission', 'Engine', 'FuelType', 'Price', 'CylindersinEngine',\n",
    "                 'BodyType']]\n",
    "    elif selection == \"seven\":\n",
    "        _x = df[['Year', 'Transmission', 'Engine', 'FuelType', 'Price', 'CylindersinEngine', 'BodyType']]\n",
    "    return _x, _y\n",
    "\n",
    "\n",
    "def preprocess_data(_x):\n",
    "    \"\"\"\n",
    "    Preprocesses input data 'x' using StandardScaler for numerical features and OneHotEncoder for categorical features.\n",
    "\n",
    "    Parameters:\n",
    "    x (DataFrame): Input DataFrame containing features to be preprocessed.\n",
    "\n",
    "    Returns:\n",
    "    numpy.ndarray: Transformed data after preprocessing.\n",
    "    \"\"\"\n",
    "    numerical_features = ['Year', 'Price', 'Kilometers']\n",
    "    categorical_features = list(set(_x) - set(numerical_features)) + list('DriveType')\n",
    "\n",
    "    # # Define transformers\n",
    "    # # numerical_transformer = Pipeline(steps=[\n",
    "    # #     ('scaler', StandardScaler())\n",
    "    # # ])\n",
    "    # numerical_transformer = StandardScaler()\n",
    "    # categorical_transformer = Pipeline(steps=[\n",
    "    #     ('onehot', OneHotEncoder(sparse_output=False))  # Setting sparse=False to get dense array\n",
    "    # ])\n",
    "    # \n",
    "    # # Create preprocessor using ColumnTransformer\n",
    "    # preprocessor = ColumnTransformer(\n",
    "    #     transformers=[\n",
    "    #         ('num', numerical_transformer, numerical_features),\n",
    "    #         ('cat', categorical_transformer, categorical_features)\n",
    "    #     ]\n",
    "    # )\n",
    "\n",
    "    # Define transformers\n",
    "    numerical_transformer = StandardScaler()\n",
    "    categorical_transformer = OneHotEncoder(drop='first')\n",
    "\n",
    "    # Create preprocessor using ColumnTransformer\n",
    "    preprocessor = ColumnTransformer(\n",
    "        transformers=[\n",
    "            ('num', numerical_transformer, numerical_features),\n",
    "            ('cat', categorical_transformer, categorical_features)\n",
    "        ]\n",
    "    )\n",
    "\n",
    "    # # Return transformed data\n",
    "    # return preprocessor.fit_transform(_x)\n",
    "\n",
    "    print(len(_x.columns))\n",
    "\n",
    "    # Fit and transform the data\n",
    "    # transformed_data = preprocessor.fit_transform(df[[numerical_features, categorical_features]])\n",
    "    transformed_data = preprocessor.fit_transform(_x)\n",
    "\n",
    "    # Create feature names for the transformed data\n",
    "    # num_feature_names = numerical_features\n",
    "    cat_feature_names = preprocessor.transformers_[1][1].get_feature_names_out(categorical_features)\n",
    "    all_feature_names = numerical_features + list(cat_feature_names)\n",
    "\n",
    "    # Debugging statements\n",
    "    print(\"Shape of transformed data:\", transformed_data.shape)\n",
    "    print(\"Number of feature names:\", len(all_feature_names))\n",
    "    print(\"Feature names:\", all_feature_names[:10])  # Print first 10 feature names for brevity\n",
    "    print(\"First row of transformed data:\", transformed_data[0, :10])  # Print first row for brevity\n",
    "\n",
    "    # column_names = numerical_features + list(categorical_encoded_columns)\n",
    "    transformed_df = pd.DataFrame(transformed_data, columns=all_feature_names)\n",
    "\n",
    "    # Return transformed data and transformed data as a DataFrame\n",
    "    return transformed_data, transformed_df\n",
    "\n",
    "\n",
    "# Define classification functions\n",
    "def train_random_forest(_x_train, _y_train):\n",
    "    \"\"\"\n",
    "    Trains a Random Forest Classifier using the input training data.\n",
    "\n",
    "    Parameters:\n",
    "    _x_train (numpy.ndarray): Transformed features training data.\n",
    "    _y_train (Series): Target training data.\n",
    "\n",
    "    Returns:\n",
    "    RandomForestClassifier: Trained Random Forest classifier model.\n",
    "    \"\"\"\n",
    "    clf = RandomForestClassifier(random_state=42)\n",
    "    clf.fit(_x_train, _y_train)\n",
    "    return clf\n",
    "\n",
    "\n",
    "def train_svm(_x_train, _y_train):\n",
    "    \"\"\"\n",
    "    Trains a Support Vector Machine (SVM) Classifier using the input training data.\n",
    "\n",
    "    Parameters:\n",
    "    _x_train (numpy.ndarray): Transformed features training data.\n",
    "    _y_train (Series): Target training data.\n",
    "\n",
    "    Returns:\n",
    "    SVC: Trained SVM classifier model.\n",
    "    \"\"\"\n",
    "    clf = SVC(kernel='linear', random_state=42)\n",
    "    clf.fit(_x_train, _y_train)\n",
    "    return clf\n",
    "\n",
    "\n",
    "def evaluate_model(clf, _x_test, _y_test):\n",
    "    \"\"\"\n",
    "    Evaluates the performance of a classifier model using accuracy score on test data.\n",
    "\n",
    "    Parameters:\n",
    "    clf: Trained classifier model.\n",
    "    _x_test (numpy.ndarray): Transformed features test data.\n",
    "    _y_test (Series): Target test data.\n",
    "\n",
    "    Returns:\n",
    "    float: Accuracy score of the model on the test data.\n",
    "    int: the index of the predicted data.\n",
    "    \"\"\"\n",
    "    y_pred = clf.predict(_x_test)\n",
    "    accuracy = accuracy_score(_y_test, y_pred)\n",
    "    return accuracy, y_pred\n",
    "\n",
    "\n",
    "# Function to plot evaluation results using matplotlib\n",
    "def plot_evaluation_results(_models, _accuracies):\n",
    "    \"\"\"\n",
    "    Plots bar chart comparing accuracy scores of different classifier models.\n",
    "\n",
    "    Parameters:\n",
    "    models (list): List of model names.\n",
    "    accuracies (list): List of accuracy scores corresponding to each model.\n",
    "    \"\"\"\n",
    "    plt.figure(figsize=(8, 5))\n",
    "    plt.bar(_models, _accuracies, color=['blue', 'green'])\n",
    "    plt.xlabel('Models')\n",
    "    plt.ylabel('Accuracy')\n",
    "    plt.title('Classifier Accuracy Comparison')\n",
    "    plt.ylim(0, 1)  # Set y-axis limit from 0 to 1 for accuracy percentage\n",
    "    plt.grid(True)\n",
    "    plt.show()\n",
    "\n",
    "\n",
    "# Function to plot evaluation results using Plotly Express\n",
    "def plot_evaluation_results_line(_models, _accuracies):\n",
    "    \"\"\"\n",
    "    Plots line chart comparing accuracy scores of different classifier models using Plotly Express.\n",
    "\n",
    "    Parameters:\n",
    "    models (list): List of model names.\n",
    "    accuracies (list): List of accuracy scores corresponding to each model.\n",
    "    \"\"\"\n",
    "    fig = px.line(x=_models, y=_accuracies, title='Classifier Accuracy Comparison',\n",
    "                  labels={'x': 'Models', 'y': 'Accuracy'})\n",
    "    fig.show()\n",
    "\n",
    "\n",
    "results = []\n",
    "\n",
    "\n",
    "def run_classifiers_model(test_size, _x, _y):\n",
    "    \"\"\"\n",
    "    Runs Random Forest and SVM classifiers on preprocessed data with a specified test size.\n",
    "    Stores the results in a list and optionally prints accuracy scores.\n",
    "\n",
    "    Parameters:\n",
    "    test_size (float): Proportion of the dataset to include in the test split.\n",
    "\n",
    "    Returns:\n",
    "    None\n",
    "    \"\"\"\n",
    "    # Split data into train and test sets\n",
    "    X_processed, _ = preprocess_data(_x)\n",
    "    X_train, X_test, y_train, y_test = train_test_split(X_processed, _y, test_size=test_size, random_state=42)\n",
    "\n",
    "    # Train Random Forest and SVM classifiers\n",
    "    rf_model = train_random_forest(X_train, y_train)\n",
    "    svm_model = train_svm(X_train, y_train)\n",
    "\n",
    "    # Evaluate models on the test set\n",
    "    rf_accuracy, rf_y_pred = evaluate_model(rf_model, X_test, y_test)\n",
    "    svm_accuracy, svm_y_pred = evaluate_model(svm_model, X_test, y_test)\n",
    "\n",
    "    rf_mislabeled_count = (y_test.values.ravel() != rf_y_pred).sum()\n",
    "    svm_mislabeled_count = (y_test.values.ravel() != svm_y_pred).sum()\n",
    "\n",
    "    test_size_count = X_test.shape[0]\n",
    "\n",
    "    print(f\"Features used for this model are: \\n{', '.join(_x.columns)}, \\nTarget = {_y.name}\\n\")\n",
    "    print(f\"Train Size: {(1 - test_size) * 100} and Test Size: {test_size * 100}\\n\")\n",
    "    print(\n",
    "        f\"Random Forest Classifier : Number of mislabeled points out of a total {test_size_count} points : {rf_mislabeled_count}\")\n",
    "    print(\n",
    "        f\"SVM Classifier : Number of mislabeled points out of a total {test_size_count} points : {svm_mislabeled_count}\")\n",
    "\n",
    "    # Append results to the global list 'results'\n",
    "    results.append({\n",
    "        'FeatureSize': len(_x.columns),\n",
    "        'TestSize': test_size_count,\n",
    "        'TestSize(%)': round(test_size * 100, 2),\n",
    "        'RandomForestAccuracy(%)': round(rf_accuracy * 100, 2),\n",
    "        'SVMAccuracy(%)': round(svm_accuracy * 100, 2),\n",
    "        'MislabeledPoints(RF)': rf_mislabeled_count,\n",
    "        'MislabeledPoints(SVM)': svm_mislabeled_count\n",
    "    })\n",
    "\n",
    "    # Plot evaluation results\n",
    "    models = ['Random Forest', 'SVM']\n",
    "    accuracies = [rf_accuracy, svm_accuracy]\n",
    "    plot_evaluation_results(models, accuracies)\n",
    "    print(\"\\n\")\n",
    "\n",
    "    _best_model = None\n",
    "    _best_model_name = None\n",
    "    _best_model_accuracy = 0\n",
    "\n",
    "    if rf_accuracy > svm_accuracy:\n",
    "        _best_model_accuracy = rf_accuracy\n",
    "        _best_model_name = 'Random Forest'\n",
    "        _best_model = rf_model\n",
    "    else:\n",
    "        _best_model_accuracy = svm_accuracy\n",
    "        _best_model_name = 'Support Vector Machine'\n",
    "        _best_model = svm_model\n",
    "\n",
    "    return _best_model, _best_model_name, _best_model_accuracy\n"
   ],
   "id": "bd88b6a297740a1c",
   "outputs": [],
   "execution_count": 41
  },
  {
   "metadata": {
    "ExecuteTime": {
     "end_time": "2024-08-02T01:35:19.557560Z",
     "start_time": "2024-08-02T01:35:19.555869Z"
    }
   },
   "cell_type": "code",
   "source": [
    "best_model = None\n",
    "best_model_name = None\n",
    "best_model_accuracy = 0"
   ],
   "id": "2e1d0a4e16bf9a6a",
   "outputs": [],
   "execution_count": 42
  },
  {
   "metadata": {
    "ExecuteTime": {
     "end_time": "2024-08-02T01:35:19.944404Z",
     "start_time": "2024-08-02T01:35:19.790731Z"
    }
   },
   "cell_type": "code",
   "source": [
    "# Loop through different test sizes and different feature size and run the classifiers\n",
    "test_sizes = [0.3, 0.25, 0.2, 0.15]\n",
    "feature_sizes = [\"all\", \"nine\", \"seven\"]\n",
    "\n",
    "for t_size in test_sizes:\n",
    "    for f_size in feature_sizes:\n",
    "        x, y = get_x_y(f_size)\n",
    "        _b_model, _b_model_name, _b_model_accuracy = run_classifiers_model(t_size, x, y)\n",
    "\n",
    "        # if _b_model_accuracy > best_model_accuracy:\n",
    "        #     best_model_accuracy = _b_model_accuracy\n",
    "        #     best_model_name = _b_model_name\n",
    "        #     best_model = _b_model\n",
    "\n",
    "# Create a DataFrame from the results list\n",
    "results_df = pd.DataFrame(results)"
   ],
   "id": "37f3a45983d1bbef",
   "outputs": [
    {
     "name": "stdout",
     "output_type": "stream",
     "text": [
      "18\n"
     ]
    },
    {
     "ename": "ValueError",
     "evalue": "A given column is not a column of the dataframe",
     "output_type": "error",
     "traceback": [
      "\u001B[0;31m---------------------------------------------------------------------------\u001B[0m",
      "\u001B[0;31mKeyError\u001B[0m                                  Traceback (most recent call last)",
      "File \u001B[0;32m~/anaconda3/lib/python3.11/site-packages/pandas/core/indexes/base.py:3802\u001B[0m, in \u001B[0;36mIndex.get_loc\u001B[0;34m(self, key, method, tolerance)\u001B[0m\n\u001B[1;32m   3801\u001B[0m \u001B[38;5;28;01mtry\u001B[39;00m:\n\u001B[0;32m-> 3802\u001B[0m     \u001B[38;5;28;01mreturn\u001B[39;00m \u001B[38;5;28mself\u001B[39m\u001B[38;5;241m.\u001B[39m_engine\u001B[38;5;241m.\u001B[39mget_loc(casted_key)\n\u001B[1;32m   3803\u001B[0m \u001B[38;5;28;01mexcept\u001B[39;00m \u001B[38;5;167;01mKeyError\u001B[39;00m \u001B[38;5;28;01mas\u001B[39;00m err:\n",
      "File \u001B[0;32m~/anaconda3/lib/python3.11/site-packages/pandas/_libs/index.pyx:138\u001B[0m, in \u001B[0;36mpandas._libs.index.IndexEngine.get_loc\u001B[0;34m()\u001B[0m\n",
      "File \u001B[0;32m~/anaconda3/lib/python3.11/site-packages/pandas/_libs/index.pyx:165\u001B[0m, in \u001B[0;36mpandas._libs.index.IndexEngine.get_loc\u001B[0;34m()\u001B[0m\n",
      "File \u001B[0;32mpandas/_libs/hashtable_class_helper.pxi:5745\u001B[0m, in \u001B[0;36mpandas._libs.hashtable.PyObjectHashTable.get_item\u001B[0;34m()\u001B[0m\n",
      "File \u001B[0;32mpandas/_libs/hashtable_class_helper.pxi:5753\u001B[0m, in \u001B[0;36mpandas._libs.hashtable.PyObjectHashTable.get_item\u001B[0;34m()\u001B[0m\n",
      "\u001B[0;31mKeyError\u001B[0m: 'Kilometers'",
      "\nThe above exception was the direct cause of the following exception:\n",
      "\u001B[0;31mKeyError\u001B[0m                                  Traceback (most recent call last)",
      "File \u001B[0;32m~/anaconda3/lib/python3.11/site-packages/sklearn/utils/__init__.py:447\u001B[0m, in \u001B[0;36m_get_column_indices\u001B[0;34m(X, key)\u001B[0m\n\u001B[1;32m    446\u001B[0m \u001B[38;5;28;01mfor\u001B[39;00m col \u001B[38;5;129;01min\u001B[39;00m columns:\n\u001B[0;32m--> 447\u001B[0m     col_idx \u001B[38;5;241m=\u001B[39m all_columns\u001B[38;5;241m.\u001B[39mget_loc(col)\n\u001B[1;32m    448\u001B[0m     \u001B[38;5;28;01mif\u001B[39;00m \u001B[38;5;129;01mnot\u001B[39;00m \u001B[38;5;28misinstance\u001B[39m(col_idx, numbers\u001B[38;5;241m.\u001B[39mIntegral):\n",
      "File \u001B[0;32m~/anaconda3/lib/python3.11/site-packages/pandas/core/indexes/base.py:3804\u001B[0m, in \u001B[0;36mIndex.get_loc\u001B[0;34m(self, key, method, tolerance)\u001B[0m\n\u001B[1;32m   3803\u001B[0m \u001B[38;5;28;01mexcept\u001B[39;00m \u001B[38;5;167;01mKeyError\u001B[39;00m \u001B[38;5;28;01mas\u001B[39;00m err:\n\u001B[0;32m-> 3804\u001B[0m     \u001B[38;5;28;01mraise\u001B[39;00m \u001B[38;5;167;01mKeyError\u001B[39;00m(key) \u001B[38;5;28;01mfrom\u001B[39;00m \u001B[38;5;21;01merr\u001B[39;00m\n\u001B[1;32m   3805\u001B[0m \u001B[38;5;28;01mexcept\u001B[39;00m \u001B[38;5;167;01mTypeError\u001B[39;00m:\n\u001B[1;32m   3806\u001B[0m     \u001B[38;5;66;03m# If we have a listlike key, _check_indexing_error will raise\u001B[39;00m\n\u001B[1;32m   3807\u001B[0m     \u001B[38;5;66;03m#  InvalidIndexError. Otherwise we fall through and re-raise\u001B[39;00m\n\u001B[1;32m   3808\u001B[0m     \u001B[38;5;66;03m#  the TypeError.\u001B[39;00m\n",
      "\u001B[0;31mKeyError\u001B[0m: 'Kilometers'",
      "\nThe above exception was the direct cause of the following exception:\n",
      "\u001B[0;31mValueError\u001B[0m                                Traceback (most recent call last)",
      "Cell \u001B[0;32mIn[43], line 8\u001B[0m\n\u001B[1;32m      6\u001B[0m     \u001B[38;5;28;01mfor\u001B[39;00m f_size \u001B[38;5;129;01min\u001B[39;00m feature_sizes:\n\u001B[1;32m      7\u001B[0m         x, y \u001B[38;5;241m=\u001B[39m get_x_y(f_size)\n\u001B[0;32m----> 8\u001B[0m         _b_model, _b_model_name, _b_model_accuracy \u001B[38;5;241m=\u001B[39m run_classifiers_model(t_size, x, y)\n\u001B[1;32m     10\u001B[0m         \u001B[38;5;66;03m# if _b_model_accuracy > best_model_accuracy:\u001B[39;00m\n\u001B[1;32m     11\u001B[0m         \u001B[38;5;66;03m#     best_model_accuracy = _b_model_accuracy\u001B[39;00m\n\u001B[1;32m     12\u001B[0m         \u001B[38;5;66;03m#     best_model_name = _b_model_name\u001B[39;00m\n\u001B[1;32m     13\u001B[0m         \u001B[38;5;66;03m#     best_model = _b_model\u001B[39;00m\n\u001B[1;32m     14\u001B[0m \n\u001B[1;32m     15\u001B[0m \u001B[38;5;66;03m# Create a DataFrame from the results list\u001B[39;00m\n\u001B[1;32m     16\u001B[0m results_df \u001B[38;5;241m=\u001B[39m pd\u001B[38;5;241m.\u001B[39mDataFrame(results)\n",
      "Cell \u001B[0;32mIn[41], line 182\u001B[0m, in \u001B[0;36mrun_classifiers_model\u001B[0;34m(test_size, _x, _y)\u001B[0m\n\u001B[1;32m    171\u001B[0m \u001B[38;5;250m\u001B[39m\u001B[38;5;124;03m\"\"\"\u001B[39;00m\n\u001B[1;32m    172\u001B[0m \u001B[38;5;124;03mRuns Random Forest and SVM classifiers on preprocessed data with a specified test size.\u001B[39;00m\n\u001B[1;32m    173\u001B[0m \u001B[38;5;124;03mStores the results in a list and optionally prints accuracy scores.\u001B[39;00m\n\u001B[0;32m   (...)\u001B[0m\n\u001B[1;32m    179\u001B[0m \u001B[38;5;124;03mNone\u001B[39;00m\n\u001B[1;32m    180\u001B[0m \u001B[38;5;124;03m\"\"\"\u001B[39;00m\n\u001B[1;32m    181\u001B[0m \u001B[38;5;66;03m# Split data into train and test sets\u001B[39;00m\n\u001B[0;32m--> 182\u001B[0m X_processed, _ \u001B[38;5;241m=\u001B[39m preprocess_data(_x)\n\u001B[1;32m    183\u001B[0m X_train, X_test, y_train, y_test \u001B[38;5;241m=\u001B[39m train_test_split(X_processed, _y, test_size\u001B[38;5;241m=\u001B[39mtest_size, random_state\u001B[38;5;241m=\u001B[39m\u001B[38;5;241m42\u001B[39m)\n\u001B[1;32m    185\u001B[0m \u001B[38;5;66;03m# Train Random Forest and SVM classifiers\u001B[39;00m\n",
      "Cell \u001B[0;32mIn[41], line 63\u001B[0m, in \u001B[0;36mpreprocess_data\u001B[0;34m(_x)\u001B[0m\n\u001B[1;32m     59\u001B[0m \u001B[38;5;28mprint\u001B[39m(\u001B[38;5;28mlen\u001B[39m(_x\u001B[38;5;241m.\u001B[39mcolumns))\n\u001B[1;32m     61\u001B[0m \u001B[38;5;66;03m# Fit and transform the data\u001B[39;00m\n\u001B[1;32m     62\u001B[0m \u001B[38;5;66;03m# transformed_data = preprocessor.fit_transform(df[[numerical_features, categorical_features]])\u001B[39;00m\n\u001B[0;32m---> 63\u001B[0m transformed_data \u001B[38;5;241m=\u001B[39m preprocessor\u001B[38;5;241m.\u001B[39mfit_transform(_x)\n\u001B[1;32m     65\u001B[0m \u001B[38;5;66;03m# Create feature names for the transformed data\u001B[39;00m\n\u001B[1;32m     66\u001B[0m \u001B[38;5;66;03m# num_feature_names = numerical_features\u001B[39;00m\n\u001B[1;32m     67\u001B[0m cat_feature_names \u001B[38;5;241m=\u001B[39m preprocessor\u001B[38;5;241m.\u001B[39mtransformers_[\u001B[38;5;241m1\u001B[39m][\u001B[38;5;241m1\u001B[39m]\u001B[38;5;241m.\u001B[39mget_feature_names_out(categorical_features)\n",
      "File \u001B[0;32m~/anaconda3/lib/python3.11/site-packages/sklearn/utils/_set_output.py:140\u001B[0m, in \u001B[0;36m_wrap_method_output.<locals>.wrapped\u001B[0;34m(self, X, *args, **kwargs)\u001B[0m\n\u001B[1;32m    138\u001B[0m \u001B[38;5;129m@wraps\u001B[39m(f)\n\u001B[1;32m    139\u001B[0m \u001B[38;5;28;01mdef\u001B[39;00m \u001B[38;5;21mwrapped\u001B[39m(\u001B[38;5;28mself\u001B[39m, X, \u001B[38;5;241m*\u001B[39margs, \u001B[38;5;241m*\u001B[39m\u001B[38;5;241m*\u001B[39mkwargs):\n\u001B[0;32m--> 140\u001B[0m     data_to_wrap \u001B[38;5;241m=\u001B[39m f(\u001B[38;5;28mself\u001B[39m, X, \u001B[38;5;241m*\u001B[39margs, \u001B[38;5;241m*\u001B[39m\u001B[38;5;241m*\u001B[39mkwargs)\n\u001B[1;32m    141\u001B[0m     \u001B[38;5;28;01mif\u001B[39;00m \u001B[38;5;28misinstance\u001B[39m(data_to_wrap, \u001B[38;5;28mtuple\u001B[39m):\n\u001B[1;32m    142\u001B[0m         \u001B[38;5;66;03m# only wrap the first output for cross decomposition\u001B[39;00m\n\u001B[1;32m    143\u001B[0m         return_tuple \u001B[38;5;241m=\u001B[39m (\n\u001B[1;32m    144\u001B[0m             _wrap_data_with_container(method, data_to_wrap[\u001B[38;5;241m0\u001B[39m], X, \u001B[38;5;28mself\u001B[39m),\n\u001B[1;32m    145\u001B[0m             \u001B[38;5;241m*\u001B[39mdata_to_wrap[\u001B[38;5;241m1\u001B[39m:],\n\u001B[1;32m    146\u001B[0m         )\n",
      "File \u001B[0;32m~/anaconda3/lib/python3.11/site-packages/sklearn/base.py:1151\u001B[0m, in \u001B[0;36m_fit_context.<locals>.decorator.<locals>.wrapper\u001B[0;34m(estimator, *args, **kwargs)\u001B[0m\n\u001B[1;32m   1144\u001B[0m     estimator\u001B[38;5;241m.\u001B[39m_validate_params()\n\u001B[1;32m   1146\u001B[0m \u001B[38;5;28;01mwith\u001B[39;00m config_context(\n\u001B[1;32m   1147\u001B[0m     skip_parameter_validation\u001B[38;5;241m=\u001B[39m(\n\u001B[1;32m   1148\u001B[0m         prefer_skip_nested_validation \u001B[38;5;129;01mor\u001B[39;00m global_skip_validation\n\u001B[1;32m   1149\u001B[0m     )\n\u001B[1;32m   1150\u001B[0m ):\n\u001B[0;32m-> 1151\u001B[0m     \u001B[38;5;28;01mreturn\u001B[39;00m fit_method(estimator, \u001B[38;5;241m*\u001B[39margs, \u001B[38;5;241m*\u001B[39m\u001B[38;5;241m*\u001B[39mkwargs)\n",
      "File \u001B[0;32m~/anaconda3/lib/python3.11/site-packages/sklearn/compose/_column_transformer.py:740\u001B[0m, in \u001B[0;36mColumnTransformer.fit_transform\u001B[0;34m(self, X, y)\u001B[0m\n\u001B[1;32m    738\u001B[0m \u001B[38;5;28mself\u001B[39m\u001B[38;5;241m.\u001B[39m_check_n_features(X, reset\u001B[38;5;241m=\u001B[39m\u001B[38;5;28;01mTrue\u001B[39;00m)\n\u001B[1;32m    739\u001B[0m \u001B[38;5;28mself\u001B[39m\u001B[38;5;241m.\u001B[39m_validate_transformers()\n\u001B[0;32m--> 740\u001B[0m \u001B[38;5;28mself\u001B[39m\u001B[38;5;241m.\u001B[39m_validate_column_callables(X)\n\u001B[1;32m    741\u001B[0m \u001B[38;5;28mself\u001B[39m\u001B[38;5;241m.\u001B[39m_validate_remainder(X)\n\u001B[1;32m    743\u001B[0m result \u001B[38;5;241m=\u001B[39m \u001B[38;5;28mself\u001B[39m\u001B[38;5;241m.\u001B[39m_fit_transform(X, y, _fit_transform_one)\n",
      "File \u001B[0;32m~/anaconda3/lib/python3.11/site-packages/sklearn/compose/_column_transformer.py:448\u001B[0m, in \u001B[0;36mColumnTransformer._validate_column_callables\u001B[0;34m(self, X)\u001B[0m\n\u001B[1;32m    446\u001B[0m         columns \u001B[38;5;241m=\u001B[39m columns(X)\n\u001B[1;32m    447\u001B[0m     all_columns\u001B[38;5;241m.\u001B[39mappend(columns)\n\u001B[0;32m--> 448\u001B[0m     transformer_to_input_indices[name] \u001B[38;5;241m=\u001B[39m _get_column_indices(X, columns)\n\u001B[1;32m    450\u001B[0m \u001B[38;5;28mself\u001B[39m\u001B[38;5;241m.\u001B[39m_columns \u001B[38;5;241m=\u001B[39m all_columns\n\u001B[1;32m    451\u001B[0m \u001B[38;5;28mself\u001B[39m\u001B[38;5;241m.\u001B[39m_transformer_to_input_indices \u001B[38;5;241m=\u001B[39m transformer_to_input_indices\n",
      "File \u001B[0;32m~/anaconda3/lib/python3.11/site-packages/sklearn/utils/__init__.py:455\u001B[0m, in \u001B[0;36m_get_column_indices\u001B[0;34m(X, key)\u001B[0m\n\u001B[1;32m    452\u001B[0m             column_indices\u001B[38;5;241m.\u001B[39mappend(col_idx)\n\u001B[1;32m    454\u001B[0m     \u001B[38;5;28;01mexcept\u001B[39;00m \u001B[38;5;167;01mKeyError\u001B[39;00m \u001B[38;5;28;01mas\u001B[39;00m e:\n\u001B[0;32m--> 455\u001B[0m         \u001B[38;5;28;01mraise\u001B[39;00m \u001B[38;5;167;01mValueError\u001B[39;00m(\u001B[38;5;124m\"\u001B[39m\u001B[38;5;124mA given column is not a column of the dataframe\u001B[39m\u001B[38;5;124m\"\u001B[39m) \u001B[38;5;28;01mfrom\u001B[39;00m \u001B[38;5;21;01me\u001B[39;00m\n\u001B[1;32m    457\u001B[0m     \u001B[38;5;28;01mreturn\u001B[39;00m column_indices\n\u001B[1;32m    458\u001B[0m \u001B[38;5;28;01melse\u001B[39;00m:\n",
      "\u001B[0;31mValueError\u001B[0m: A given column is not a column of the dataframe"
     ]
    }
   ],
   "execution_count": 43
  },
  {
   "metadata": {
    "ExecuteTime": {
     "end_time": "2024-08-02T01:32:54.252400Z",
     "start_time": "2024-08-02T01:32:54.250077Z"
    }
   },
   "cell_type": "code",
   "source": "len(df.columns)",
   "id": "838b842d52942f00",
   "outputs": [
    {
     "data": {
      "text/plain": [
       "19"
      ]
     },
     "execution_count": 37,
     "metadata": {},
     "output_type": "execute_result"
    }
   ],
   "execution_count": 37
  },
  {
   "metadata": {
    "ExecuteTime": {
     "end_time": "2024-08-02T01:32:16.827903Z",
     "start_time": "2024-08-02T01:32:16.827029Z"
    }
   },
   "cell_type": "code",
   "source": [
    "print(\"Results DataFrame:\")\n",
    "results_df"
   ],
   "id": "86e9eded7a972562",
   "outputs": [],
   "execution_count": null
  },
  {
   "metadata": {
    "ExecuteTime": {
     "end_time": "2024-08-02T01:27:31.985288Z",
     "start_time": "2024-08-02T01:27:31.982298Z"
    }
   },
   "cell_type": "code",
   "source": "df",
   "id": "e2703b9a9125a761",
   "outputs": [],
   "execution_count": null
  },
  {
   "metadata": {},
   "cell_type": "code",
   "source": "df.describe()",
   "id": "41255dd85f1081fc",
   "outputs": [],
   "execution_count": null
  },
  {
   "metadata": {},
   "cell_type": "code",
   "source": [
    "#import lybraries\n",
    "# import numpy as np\n",
    "# import statsmodels.api as sm\n",
    "import matplotlib.pyplot as plt\n",
    "import seaborn as sns\n",
    "\n",
    "sns.set()\n",
    "\n",
    "#loading data\n",
    "# data = pd.read_csv('Countries-exercise.csv')\n",
    "# data\n",
    "\n",
    "# plotting data\n",
    "# df['Price'], df['Kilometres']\n",
    "plt.scatter(df['Price'], df['Kilometres'])  # , c=df['TestSize(%)'], cmap='viridis_r'\n",
    "plt.xlim(-180, 180)\n",
    "plt.ylim(-90, 90)\n"
   ],
   "id": "399db534c3c2d2dc",
   "outputs": [],
   "execution_count": null
  },
  {
   "metadata": {},
   "cell_type": "code",
   "source": [
    "x, _ = get_x_y('all')\n",
    "_, x = preprocess_data(x)\n",
    "x"
   ],
   "id": "f892cf16e77faf5",
   "outputs": [],
   "execution_count": null
  },
  {
   "metadata": {},
   "cell_type": "code",
   "source": [
    "from sklearn.cluster import KMeans\n",
    "\n",
    "# selecting amount of clustering\n",
    "kmeans = KMeans(25, n_init=1)\n",
    "\n",
    "clusters = kmeans.fit_transform(x)\n",
    "clusters"
   ],
   "id": "ccbaad9fae661603",
   "outputs": [],
   "execution_count": null
  },
  {
   "metadata": {},
   "cell_type": "code",
   "source": [
    "d_clusters = x.copy()\n",
    "d_clusters['Clusters'] = clusters"
   ],
   "id": "4e2c3dad9df3eeec",
   "outputs": [],
   "execution_count": null
  }
 ],
 "metadata": {
  "kernelspec": {
   "display_name": "Python 3",
   "language": "python",
   "name": "python3"
  },
  "language_info": {
   "codemirror_mode": {
    "name": "ipython",
    "version": 2
   },
   "file_extension": ".py",
   "mimetype": "text/x-python",
   "name": "python",
   "nbconvert_exporter": "python",
   "pygments_lexer": "ipython2",
   "version": "2.7.6"
  }
 },
 "nbformat": 4,
 "nbformat_minor": 5
}
