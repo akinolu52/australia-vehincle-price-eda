{
 "cells": [
  {
   "metadata": {},
   "cell_type": "markdown",
   "source": "### Loading the Data",
   "id": "10edb25830f46db6"
  },
  {
   "cell_type": "code",
   "id": "initial_id",
   "metadata": {
    "collapsed": true,
    "ExecuteTime": {
     "end_time": "2024-07-25T03:30:52.378244Z",
     "start_time": "2024-07-25T03:30:52.331416Z"
    }
   },
   "source": [
    "import matplotlib.pyplot as plt\n",
    "import pandas as pd\n",
    "import plotly.express as px\n",
    "from sklearn.compose import ColumnTransformer\n",
    "from sklearn.ensemble import RandomForestClassifier\n",
    "from sklearn.metrics import accuracy_score\n",
    "from sklearn.model_selection import cross_val_score\n",
    "from sklearn.model_selection import train_test_split\n",
    "from sklearn.preprocessing import StandardScaler, OneHotEncoder\n",
    "from sklearn.svm import SVC"
   ],
   "outputs": [],
   "execution_count": 302
  },
  {
   "metadata": {
    "ExecuteTime": {
     "end_time": "2024-07-25T03:30:57.407667Z",
     "start_time": "2024-07-25T03:30:52.382108Z"
    }
   },
   "cell_type": "code",
   "source": [
    "df = None\n",
    "\n",
    "# Attempting to load a CSV file from a Google Drive link into a Pandas DataFrame.\n",
    "try:\n",
    "    # Original URL pointing to Google Drive file shared for viewing.\n",
    "    url = 'https://drive.google.com/file/d/1xx0EV_nLt9shUSFJ7u5qAeeDrinZRnxf/view?usp=sharing'\n",
    "\n",
    "    # Extracting file ID from the original URL to construct a direct download link.\n",
    "    url = 'https://drive.google.com/uc?id=' + url.split('/')[-2]\n",
    "\n",
    "    # Loading the CSV data from the constructed URL into a Pandas DataFrame.\n",
    "    df = pd.read_csv(url)\n",
    "\n",
    "    # Confirmation message upon successful loading of CSV data.\n",
    "    print('Csv and Dataframe loaded.')\n",
    "\n",
    "except Exception as e:\n",
    "    # Handling any exceptions that may occur during the process and printing the error message.\n",
    "    print('Exception occurred: ', str(e))\n"
   ],
   "id": "e5edc7d7e94c98ee",
   "outputs": [
    {
     "name": "stdout",
     "output_type": "stream",
     "text": [
      "Csv and Dataframe loaded.\n"
     ]
    }
   ],
   "execution_count": 303
  },
  {
   "metadata": {
    "ExecuteTime": {
     "end_time": "2024-07-25T03:30:57.425479Z",
     "start_time": "2024-07-25T03:30:57.408306Z"
    }
   },
   "cell_type": "code",
   "source": [
    "# exploring the dataset\n",
    "df.head()"
   ],
   "id": "62ae24e566ad0d92",
   "outputs": [
    {
     "data": {
      "text/plain": [
       "           Brand    Year   Model               Car/Suv  \\\n",
       "0      Ssangyong 2022.00  Rexton  Sutherland Isuzu Ute   \n",
       "1             MG 2022.00     MG3             Hatchback   \n",
       "2            BMW 2022.00    430I                 Coupe   \n",
       "3  Mercedes-Benz 2011.00    E500                 Coupe   \n",
       "4        Renault 2022.00  Arkana                   SUV   \n",
       "\n",
       "                                       Title UsedOrNew Transmission  \\\n",
       "0       2022 Ssangyong Rexton Ultimate (awd)      DEMO    Automatic   \n",
       "1  2022 MG MG3 Auto Excite (with Navigation)      USED    Automatic   \n",
       "2                      2022 BMW 430I M Sport      USED    Automatic   \n",
       "3           2011 Mercedes-Benz E500 Elegance      USED    Automatic   \n",
       "4                 2022 Renault Arkana Intens      USED    Automatic   \n",
       "\n",
       "         Engine DriveType  FuelType FuelConsumption Kilometres   ColourExtInt  \\\n",
       "0  4 cyl, 2.2 L       AWD    Diesel  8.7 L / 100 km       5595  White / Black   \n",
       "1  4 cyl, 1.5 L     Front   Premium  6.7 L / 100 km         16  Black / Black   \n",
       "2    4 cyl, 2 L      Rear   Premium  6.6 L / 100 km       8472   Grey / White   \n",
       "3  8 cyl, 5.5 L      Rear   Premium   11 L / 100 km     136517  White / Brown   \n",
       "4  4 cyl, 1.3 L     Front  Unleaded    6 L / 100 km       1035   Grey / Black   \n",
       "\n",
       "            Location CylindersinEngine   BodyType     Doors     Seats   Price  \n",
       "0     Caringbah, NSW             4 cyl        SUV   4 Doors   7 Seats   51990  \n",
       "1     Brookvale, NSW             4 cyl  Hatchback   5 Doors   5 Seats   19990  \n",
       "2      Sylvania, NSW             4 cyl      Coupe   2 Doors   4 Seats  108988  \n",
       "3  Mount Druitt, NSW             8 cyl      Coupe   2 Doors   4 Seats   32990  \n",
       "4   Castle Hill, NSW             4 cyl        SUV   4 Doors   5 Seats   34990  "
      ],
      "text/html": [
       "<div>\n",
       "<style scoped>\n",
       "    .dataframe tbody tr th:only-of-type {\n",
       "        vertical-align: middle;\n",
       "    }\n",
       "\n",
       "    .dataframe tbody tr th {\n",
       "        vertical-align: top;\n",
       "    }\n",
       "\n",
       "    .dataframe thead th {\n",
       "        text-align: right;\n",
       "    }\n",
       "</style>\n",
       "<table border=\"1\" class=\"dataframe\">\n",
       "  <thead>\n",
       "    <tr style=\"text-align: right;\">\n",
       "      <th></th>\n",
       "      <th>Brand</th>\n",
       "      <th>Year</th>\n",
       "      <th>Model</th>\n",
       "      <th>Car/Suv</th>\n",
       "      <th>Title</th>\n",
       "      <th>UsedOrNew</th>\n",
       "      <th>Transmission</th>\n",
       "      <th>Engine</th>\n",
       "      <th>DriveType</th>\n",
       "      <th>FuelType</th>\n",
       "      <th>FuelConsumption</th>\n",
       "      <th>Kilometres</th>\n",
       "      <th>ColourExtInt</th>\n",
       "      <th>Location</th>\n",
       "      <th>CylindersinEngine</th>\n",
       "      <th>BodyType</th>\n",
       "      <th>Doors</th>\n",
       "      <th>Seats</th>\n",
       "      <th>Price</th>\n",
       "    </tr>\n",
       "  </thead>\n",
       "  <tbody>\n",
       "    <tr>\n",
       "      <th>0</th>\n",
       "      <td>Ssangyong</td>\n",
       "      <td>2022.00</td>\n",
       "      <td>Rexton</td>\n",
       "      <td>Sutherland Isuzu Ute</td>\n",
       "      <td>2022 Ssangyong Rexton Ultimate (awd)</td>\n",
       "      <td>DEMO</td>\n",
       "      <td>Automatic</td>\n",
       "      <td>4 cyl, 2.2 L</td>\n",
       "      <td>AWD</td>\n",
       "      <td>Diesel</td>\n",
       "      <td>8.7 L / 100 km</td>\n",
       "      <td>5595</td>\n",
       "      <td>White / Black</td>\n",
       "      <td>Caringbah, NSW</td>\n",
       "      <td>4 cyl</td>\n",
       "      <td>SUV</td>\n",
       "      <td>4 Doors</td>\n",
       "      <td>7 Seats</td>\n",
       "      <td>51990</td>\n",
       "    </tr>\n",
       "    <tr>\n",
       "      <th>1</th>\n",
       "      <td>MG</td>\n",
       "      <td>2022.00</td>\n",
       "      <td>MG3</td>\n",
       "      <td>Hatchback</td>\n",
       "      <td>2022 MG MG3 Auto Excite (with Navigation)</td>\n",
       "      <td>USED</td>\n",
       "      <td>Automatic</td>\n",
       "      <td>4 cyl, 1.5 L</td>\n",
       "      <td>Front</td>\n",
       "      <td>Premium</td>\n",
       "      <td>6.7 L / 100 km</td>\n",
       "      <td>16</td>\n",
       "      <td>Black / Black</td>\n",
       "      <td>Brookvale, NSW</td>\n",
       "      <td>4 cyl</td>\n",
       "      <td>Hatchback</td>\n",
       "      <td>5 Doors</td>\n",
       "      <td>5 Seats</td>\n",
       "      <td>19990</td>\n",
       "    </tr>\n",
       "    <tr>\n",
       "      <th>2</th>\n",
       "      <td>BMW</td>\n",
       "      <td>2022.00</td>\n",
       "      <td>430I</td>\n",
       "      <td>Coupe</td>\n",
       "      <td>2022 BMW 430I M Sport</td>\n",
       "      <td>USED</td>\n",
       "      <td>Automatic</td>\n",
       "      <td>4 cyl, 2 L</td>\n",
       "      <td>Rear</td>\n",
       "      <td>Premium</td>\n",
       "      <td>6.6 L / 100 km</td>\n",
       "      <td>8472</td>\n",
       "      <td>Grey / White</td>\n",
       "      <td>Sylvania, NSW</td>\n",
       "      <td>4 cyl</td>\n",
       "      <td>Coupe</td>\n",
       "      <td>2 Doors</td>\n",
       "      <td>4 Seats</td>\n",
       "      <td>108988</td>\n",
       "    </tr>\n",
       "    <tr>\n",
       "      <th>3</th>\n",
       "      <td>Mercedes-Benz</td>\n",
       "      <td>2011.00</td>\n",
       "      <td>E500</td>\n",
       "      <td>Coupe</td>\n",
       "      <td>2011 Mercedes-Benz E500 Elegance</td>\n",
       "      <td>USED</td>\n",
       "      <td>Automatic</td>\n",
       "      <td>8 cyl, 5.5 L</td>\n",
       "      <td>Rear</td>\n",
       "      <td>Premium</td>\n",
       "      <td>11 L / 100 km</td>\n",
       "      <td>136517</td>\n",
       "      <td>White / Brown</td>\n",
       "      <td>Mount Druitt, NSW</td>\n",
       "      <td>8 cyl</td>\n",
       "      <td>Coupe</td>\n",
       "      <td>2 Doors</td>\n",
       "      <td>4 Seats</td>\n",
       "      <td>32990</td>\n",
       "    </tr>\n",
       "    <tr>\n",
       "      <th>4</th>\n",
       "      <td>Renault</td>\n",
       "      <td>2022.00</td>\n",
       "      <td>Arkana</td>\n",
       "      <td>SUV</td>\n",
       "      <td>2022 Renault Arkana Intens</td>\n",
       "      <td>USED</td>\n",
       "      <td>Automatic</td>\n",
       "      <td>4 cyl, 1.3 L</td>\n",
       "      <td>Front</td>\n",
       "      <td>Unleaded</td>\n",
       "      <td>6 L / 100 km</td>\n",
       "      <td>1035</td>\n",
       "      <td>Grey / Black</td>\n",
       "      <td>Castle Hill, NSW</td>\n",
       "      <td>4 cyl</td>\n",
       "      <td>SUV</td>\n",
       "      <td>4 Doors</td>\n",
       "      <td>5 Seats</td>\n",
       "      <td>34990</td>\n",
       "    </tr>\n",
       "  </tbody>\n",
       "</table>\n",
       "</div>"
      ]
     },
     "execution_count": 304,
     "metadata": {},
     "output_type": "execute_result"
    }
   ],
   "execution_count": 304
  },
  {
   "metadata": {
    "ExecuteTime": {
     "end_time": "2024-07-25T03:30:57.438413Z",
     "start_time": "2024-07-25T03:30:57.431433Z"
    }
   },
   "cell_type": "code",
   "source": [
    "# verifying the rows and columns in the dataset\n",
    "df.shape"
   ],
   "id": "d00727d77b3e84bb",
   "outputs": [
    {
     "data": {
      "text/plain": [
       "(16734, 19)"
      ]
     },
     "execution_count": 305,
     "metadata": {},
     "output_type": "execute_result"
    }
   ],
   "execution_count": 305
  },
  {
   "metadata": {
    "ExecuteTime": {
     "end_time": "2024-07-25T03:30:57.475381Z",
     "start_time": "2024-07-25T03:30:57.440723Z"
    }
   },
   "cell_type": "code",
   "source": [
    "# verifying the dataset information\n",
    "df.info()"
   ],
   "id": "93bd49b64457c046",
   "outputs": [
    {
     "name": "stdout",
     "output_type": "stream",
     "text": [
      "<class 'pandas.core.frame.DataFrame'>\n",
      "RangeIndex: 16734 entries, 0 to 16733\n",
      "Data columns (total 19 columns):\n",
      " #   Column             Non-Null Count  Dtype  \n",
      "---  ------             --------------  -----  \n",
      " 0   Brand              16733 non-null  object \n",
      " 1   Year               16733 non-null  float64\n",
      " 2   Model              16733 non-null  object \n",
      " 3   Car/Suv            16706 non-null  object \n",
      " 4   Title              16733 non-null  object \n",
      " 5   UsedOrNew          16733 non-null  object \n",
      " 6   Transmission       16733 non-null  object \n",
      " 7   Engine             16733 non-null  object \n",
      " 8   DriveType          16733 non-null  object \n",
      " 9   FuelType           16733 non-null  object \n",
      " 10  FuelConsumption    16733 non-null  object \n",
      " 11  Kilometres         16733 non-null  object \n",
      " 12  ColourExtInt       16733 non-null  object \n",
      " 13  Location           16284 non-null  object \n",
      " 14  CylindersinEngine  16733 non-null  object \n",
      " 15  BodyType           16452 non-null  object \n",
      " 16  Doors              15130 non-null  object \n",
      " 17  Seats              15029 non-null  object \n",
      " 18  Price              16731 non-null  object \n",
      "dtypes: float64(1), object(18)\n",
      "memory usage: 2.4+ MB\n"
     ]
    }
   ],
   "execution_count": 306
  },
  {
   "metadata": {},
   "cell_type": "markdown",
   "source": "#### Checking for missing values",
   "id": "e4d5bb7c8bca7228"
  },
  {
   "metadata": {
    "ExecuteTime": {
     "end_time": "2024-07-25T03:30:57.485443Z",
     "start_time": "2024-07-25T03:30:57.476103Z"
    }
   },
   "cell_type": "code",
   "source": "df.isna().sum()",
   "id": "9727703921535e5e",
   "outputs": [
    {
     "data": {
      "text/plain": [
       "Brand                   1\n",
       "Year                    1\n",
       "Model                   1\n",
       "Car/Suv                28\n",
       "Title                   1\n",
       "UsedOrNew               1\n",
       "Transmission            1\n",
       "Engine                  1\n",
       "DriveType               1\n",
       "FuelType                1\n",
       "FuelConsumption         1\n",
       "Kilometres              1\n",
       "ColourExtInt            1\n",
       "Location              450\n",
       "CylindersinEngine       1\n",
       "BodyType              282\n",
       "Doors                1604\n",
       "Seats                1705\n",
       "Price                   3\n",
       "dtype: int64"
      ]
     },
     "execution_count": 307,
     "metadata": {},
     "output_type": "execute_result"
    }
   ],
   "execution_count": 307
  },
  {
   "metadata": {},
   "cell_type": "markdown",
   "source": "Handling of missing values",
   "id": "9deda53b076e41a9"
  },
  {
   "metadata": {
    "ExecuteTime": {
     "end_time": "2024-07-25T03:30:57.496672Z",
     "start_time": "2024-07-25T03:30:57.485982Z"
    }
   },
   "cell_type": "code",
   "source": [
    "# Calculating the missing values\n",
    "\n",
    "for each in df.columns:\n",
    "    print('Percent of null values', each, ':', (df[each].isnull().mean() * 100).round(2))"
   ],
   "id": "f6abfa95bb9a4c6e",
   "outputs": [
    {
     "name": "stdout",
     "output_type": "stream",
     "text": [
      "Percent of null values Brand : 0.01\n",
      "Percent of null values Year : 0.01\n",
      "Percent of null values Model : 0.01\n",
      "Percent of null values Car/Suv : 0.17\n",
      "Percent of null values Title : 0.01\n",
      "Percent of null values UsedOrNew : 0.01\n",
      "Percent of null values Transmission : 0.01\n",
      "Percent of null values Engine : 0.01\n",
      "Percent of null values DriveType : 0.01\n",
      "Percent of null values FuelType : 0.01\n",
      "Percent of null values FuelConsumption : 0.01\n",
      "Percent of null values Kilometres : 0.01\n",
      "Percent of null values ColourExtInt : 0.01\n",
      "Percent of null values Location : 2.69\n",
      "Percent of null values CylindersinEngine : 0.01\n",
      "Percent of null values BodyType : 1.69\n",
      "Percent of null values Doors : 9.59\n",
      "Percent of null values Seats : 10.19\n",
      "Percent of null values Price : 0.02\n"
     ]
    }
   ],
   "execution_count": 308
  },
  {
   "metadata": {
    "ExecuteTime": {
     "end_time": "2024-07-25T03:30:57.524271Z",
     "start_time": "2024-07-25T03:30:57.497692Z"
    }
   },
   "cell_type": "code",
   "source": [
    "# filling missing values \n",
    "# small => mean\n",
    "# large => mode\n",
    "\n",
    "for column in df.columns:\n",
    "    if df[column].dtype == 'object':\n",
    "        # For string columns, fill missing values with mode\n",
    "        mode_value = df[column].mode().iloc[0]  # Get the mode value as a scalar\n",
    "        df[column].fillna(mode_value, inplace=True)\n",
    "    else:\n",
    "        # For numeric columns, fill missing values with mean\n",
    "        df[column].fillna(df[column].mean(), inplace=True)"
   ],
   "id": "d319fdf78e27aeff",
   "outputs": [],
   "execution_count": 309
  },
  {
   "metadata": {
    "ExecuteTime": {
     "end_time": "2024-07-25T03:30:57.533913Z",
     "start_time": "2024-07-25T03:30:57.524983Z"
    }
   },
   "cell_type": "code",
   "source": [
    "# confirming that missing values does not exist in the dataframe\n",
    "\n",
    "df.isna().sum()"
   ],
   "id": "84ca1c08cf296a00",
   "outputs": [
    {
     "data": {
      "text/plain": [
       "Brand                0\n",
       "Year                 0\n",
       "Model                0\n",
       "Car/Suv              0\n",
       "Title                0\n",
       "UsedOrNew            0\n",
       "Transmission         0\n",
       "Engine               0\n",
       "DriveType            0\n",
       "FuelType             0\n",
       "FuelConsumption      0\n",
       "Kilometres           0\n",
       "ColourExtInt         0\n",
       "Location             0\n",
       "CylindersinEngine    0\n",
       "BodyType             0\n",
       "Doors                0\n",
       "Seats                0\n",
       "Price                0\n",
       "dtype: int64"
      ]
     },
     "execution_count": 310,
     "metadata": {},
     "output_type": "execute_result"
    }
   ],
   "execution_count": 310
  },
  {
   "metadata": {
    "ExecuteTime": {
     "end_time": "2024-07-25T03:30:57.542Z",
     "start_time": "2024-07-25T03:30:57.535653Z"
    }
   },
   "cell_type": "code",
   "source": [
    "# Replace specific values in the 'Price' and 'Kilometres' columns of the DataFrame.\n",
    "\n",
    "# Replace 'POA' (Price on Application) with 0 in the 'Price' column.\n",
    "df['Price'] = df['Price'].replace('POA', 0)\n",
    "\n",
    "# Replace '-' (dash) with 0 in the 'Kilometres' column.\n",
    "df['Kilometres'] = df['Kilometres'].replace('-', 0)\n"
   ],
   "id": "7f633fbeb7b9c37d",
   "outputs": [],
   "execution_count": 311
  },
  {
   "metadata": {
    "ExecuteTime": {
     "end_time": "2024-07-25T03:30:57.565837Z",
     "start_time": "2024-07-25T03:30:57.542805Z"
    }
   },
   "cell_type": "code",
   "source": [
    "# Convert specified columns to integers, handling errors gracefully.\n",
    "\n",
    "# Convert 'Kilometres' column to numeric, coercing errors to NaN, filling NaN with 0, and converting to integer.\n",
    "df['Kilometres'] = pd.to_numeric(df['Kilometres'], errors='coerce').fillna(0).astype(int)\n",
    "\n",
    "# Convert 'Price' column to numeric, coercing errors to NaN, filling NaN with 0, and converting to integer.\n",
    "df['Price'] = pd.to_numeric(df['Price'], errors='coerce').fillna(0).astype(int)\n",
    "\n",
    "# Verify the data types of 'Kilometres' and 'Price' columns after conversion.\n",
    "df[['Kilometres', 'Price']].dtypes\n"
   ],
   "id": "ded18035c289fc20",
   "outputs": [
    {
     "data": {
      "text/plain": [
       "Kilometres    int64\n",
       "Price         int64\n",
       "dtype: object"
      ]
     },
     "execution_count": 312,
     "metadata": {},
     "output_type": "execute_result"
    }
   ],
   "execution_count": 312
  },
  {
   "metadata": {
    "ExecuteTime": {
     "end_time": "2024-07-25T03:30:57.620352Z",
     "start_time": "2024-07-25T03:30:57.566618Z"
    }
   },
   "cell_type": "code",
   "source": [
    "# Define functions to calculate quartiles and inter-quartile range (IQR)\n",
    "def q1(series):\n",
    "    \"\"\"Calculate the first quartile (Q1).\"\"\"\n",
    "    return series.quantile(0.25)\n",
    "\n",
    "\n",
    "def q3(series):\n",
    "    \"\"\"Calculate the third quartile (Q3).\"\"\"\n",
    "    return series.quantile(0.75)\n",
    "\n",
    "\n",
    "def iqr(series):\n",
    "    \"\"\"Calculate the interquartile range (IQR).\"\"\"\n",
    "    return q3(series) - q1(series)\n",
    "\n",
    "\n",
    "def lower_outlier(series):\n",
    "    \"\"\"Calculate the lower outlier bound.\"\"\"\n",
    "    return (q1(series) - 1.5 * iqr(series)).round(2)\n",
    "\n",
    "\n",
    "def upper_outlier(series):\n",
    "    \"\"\"Calculate the upper outlier bound.\"\"\"\n",
    "    return q3(series) + 1.5 * iqr(series)\n",
    "\n",
    "\n",
    "def data_range(series):\n",
    "    \"\"\"Calculate the range of the data.\"\"\"\n",
    "    return series.max() - series.min()\n",
    "\n",
    "\n",
    "def mode(series):\n",
    "    \"\"\"Calculate the mode of the data.\"\"\"\n",
    "    return series.mode()[0]\n",
    "\n",
    "\n",
    "# Define a list of calculations to apply to each column\n",
    "calculations = [\n",
    "    \"min\",  # Minimum value\n",
    "    \"max\",  # Maximum value\n",
    "    \"count\",  # Count of non-null values\n",
    "    \"mean\",  # Mean value\n",
    "    \"median\",  # Median value\n",
    "    lambda x: x.mode()[0],  # Mode value\n",
    "    data_range,  # Range of the data\n",
    "    q1,  # First quartile (Q1)\n",
    "    q3,  # Third quartile (Q3)\n",
    "    iqr,  # Inter-quartile range (IQR)\n",
    "    \"var\",  # Sample Variance\n",
    "    \"std\",  # Sample Standard deviation\n",
    "    lower_outlier,  # Lower outlier bound\n",
    "    upper_outlier  # Upper outlier bound\n",
    "]\n",
    "\n",
    "# Apply the calculations to each column in the dataframe (df)\n",
    "result = df.agg(\n",
    "    {\n",
    "        \"Price\": calculations,  # Apply calculations to the 'Price' column\n",
    "        \"Kilometres\": calculations  # Apply calculations to the 'Kilometres' column\n",
    "    }\n",
    ")\n",
    "\n",
    "# Rename the 'mode' and 'range' rows for clarity\n",
    "result.rename(index={result.index[5]: 'mode'}, inplace=True)  # Rename mode row\n",
    "result.rename(index={result.index[6]: 'range'}, inplace=True)  # Rename range row\n",
    "result.rename(index={result.index[-3]: 'variance'}, inplace=True)  # Rename range row\n",
    "result.rename(index={result.index[-4]: 'standard deviation'}, inplace=True)  # Rename range row\n",
    "\n",
    "\n",
    "# Define a function to format large numbers\n",
    "def format_large_numbers(x):\n",
    "    if abs(x) >= 1e6:\n",
    "        return f'{x:.2e}'  # Scientific notation for numbers >= 1 million\n",
    "    else:\n",
    "        return f'{x:.2f}'  # Normal formatting for smaller numbers\n",
    "\n",
    "\n",
    "# Apply formatting to each cell in the DataFrame\n",
    "result = result.applymap(format_large_numbers)\n",
    "\n",
    "# Display the resulting dataframe\n",
    "result"
   ],
   "id": "515d9c9a3f9fe590",
   "outputs": [
    {
     "data": {
      "text/plain": [
       "                        Price  Kilometres\n",
       "min                      0.00        0.00\n",
       "max                  1.50e+06   533849.00\n",
       "count                16734.00    16734.00\n",
       "mean                 37190.56    96555.00\n",
       "median               29300.00    82352.00\n",
       "mode                 29990.00        0.00\n",
       "range                1.50e+06   533849.00\n",
       "q1                   18990.00    34807.00\n",
       "q3                   43990.00   143738.00\n",
       "iqr                  25000.00   108931.00\n",
       "standard deviation   1.38e+09    6.24e+09\n",
       "variance             37174.87    79011.38\n",
       "lower_outlier       -18510.00  -128589.50\n",
       "upper_outlier        81490.00   307134.50"
      ],
      "text/html": [
       "<div>\n",
       "<style scoped>\n",
       "    .dataframe tbody tr th:only-of-type {\n",
       "        vertical-align: middle;\n",
       "    }\n",
       "\n",
       "    .dataframe tbody tr th {\n",
       "        vertical-align: top;\n",
       "    }\n",
       "\n",
       "    .dataframe thead th {\n",
       "        text-align: right;\n",
       "    }\n",
       "</style>\n",
       "<table border=\"1\" class=\"dataframe\">\n",
       "  <thead>\n",
       "    <tr style=\"text-align: right;\">\n",
       "      <th></th>\n",
       "      <th>Price</th>\n",
       "      <th>Kilometres</th>\n",
       "    </tr>\n",
       "  </thead>\n",
       "  <tbody>\n",
       "    <tr>\n",
       "      <th>min</th>\n",
       "      <td>0.00</td>\n",
       "      <td>0.00</td>\n",
       "    </tr>\n",
       "    <tr>\n",
       "      <th>max</th>\n",
       "      <td>1.50e+06</td>\n",
       "      <td>533849.00</td>\n",
       "    </tr>\n",
       "    <tr>\n",
       "      <th>count</th>\n",
       "      <td>16734.00</td>\n",
       "      <td>16734.00</td>\n",
       "    </tr>\n",
       "    <tr>\n",
       "      <th>mean</th>\n",
       "      <td>37190.56</td>\n",
       "      <td>96555.00</td>\n",
       "    </tr>\n",
       "    <tr>\n",
       "      <th>median</th>\n",
       "      <td>29300.00</td>\n",
       "      <td>82352.00</td>\n",
       "    </tr>\n",
       "    <tr>\n",
       "      <th>mode</th>\n",
       "      <td>29990.00</td>\n",
       "      <td>0.00</td>\n",
       "    </tr>\n",
       "    <tr>\n",
       "      <th>range</th>\n",
       "      <td>1.50e+06</td>\n",
       "      <td>533849.00</td>\n",
       "    </tr>\n",
       "    <tr>\n",
       "      <th>q1</th>\n",
       "      <td>18990.00</td>\n",
       "      <td>34807.00</td>\n",
       "    </tr>\n",
       "    <tr>\n",
       "      <th>q3</th>\n",
       "      <td>43990.00</td>\n",
       "      <td>143738.00</td>\n",
       "    </tr>\n",
       "    <tr>\n",
       "      <th>iqr</th>\n",
       "      <td>25000.00</td>\n",
       "      <td>108931.00</td>\n",
       "    </tr>\n",
       "    <tr>\n",
       "      <th>standard deviation</th>\n",
       "      <td>1.38e+09</td>\n",
       "      <td>6.24e+09</td>\n",
       "    </tr>\n",
       "    <tr>\n",
       "      <th>variance</th>\n",
       "      <td>37174.87</td>\n",
       "      <td>79011.38</td>\n",
       "    </tr>\n",
       "    <tr>\n",
       "      <th>lower_outlier</th>\n",
       "      <td>-18510.00</td>\n",
       "      <td>-128589.50</td>\n",
       "    </tr>\n",
       "    <tr>\n",
       "      <th>upper_outlier</th>\n",
       "      <td>81490.00</td>\n",
       "      <td>307134.50</td>\n",
       "    </tr>\n",
       "  </tbody>\n",
       "</table>\n",
       "</div>"
      ]
     },
     "execution_count": 313,
     "metadata": {},
     "output_type": "execute_result"
    }
   ],
   "execution_count": 313
  },
  {
   "metadata": {},
   "cell_type": "markdown",
   "source": "### Classification Model",
   "id": "dc52d59b681b2648"
  },
  {
   "metadata": {
    "ExecuteTime": {
     "end_time": "2024-07-25T03:30:57.638870Z",
     "start_time": "2024-07-25T03:30:57.621139Z"
    }
   },
   "cell_type": "code",
   "source": [
    "# Separate features (x) and target (y)\n",
    "x = df.drop(columns=['DriveType'])\n",
    "y = df['DriveType']\n",
    "\n",
    "\n",
    "# Define preprocessing function using ColumnTransformer\n",
    "def preprocess_data(x):\n",
    "    \"\"\"\n",
    "    Preprocesses input data 'x' using StandardScaler for numerical features and OneHotEncoder for categorical features.\n",
    "\n",
    "    Parameters:\n",
    "    x (DataFrame): Input DataFrame containing features to be preprocessed.\n",
    "\n",
    "    Returns:\n",
    "    numpy.ndarray: Transformed data after preprocessing.\n",
    "    \"\"\"\n",
    "    numerical_features = ['Year', 'Price']\n",
    "    categorical_features = ['Brand', 'Model', 'Car/Suv', 'Transmission', 'FuelType', 'BodyType']\n",
    "\n",
    "    # Define transformers\n",
    "    numerical_transformer = StandardScaler()\n",
    "    categorical_transformer = OneHotEncoder(drop='first')\n",
    "\n",
    "    # Create preprocessor using ColumnTransformer\n",
    "    preprocessor = ColumnTransformer(\n",
    "        transformers=[\n",
    "            ('num', numerical_transformer, numerical_features),\n",
    "            ('cat', categorical_transformer, categorical_features)\n",
    "        ]\n",
    "    )\n",
    "\n",
    "    # Return transformed data\n",
    "    return preprocessor.fit_transform(x)\n",
    "\n",
    "\n",
    "# Define classification functions\n",
    "def train_random_forest(_x_train, _y_train):\n",
    "    \"\"\"\n",
    "    Trains a Random Forest Classifier using the input training data.\n",
    "\n",
    "    Parameters:\n",
    "    _x_train (numpy.ndarray): Transformed features training data.\n",
    "    _y_train (Series): Target training data.\n",
    "\n",
    "    Returns:\n",
    "    RandomForestClassifier: Trained Random Forest classifier model.\n",
    "    \"\"\"\n",
    "    clf = RandomForestClassifier(random_state=42)\n",
    "    clf.fit(_x_train, _y_train)\n",
    "    return clf\n",
    "\n",
    "\n",
    "def train_svm(_x_train, _y_train):\n",
    "    \"\"\"\n",
    "    Trains a Support Vector Machine (SVM) Classifier using the input training data.\n",
    "\n",
    "    Parameters:\n",
    "    _x_train (numpy.ndarray): Transformed features training data.\n",
    "    _y_train (Series): Target training data.\n",
    "\n",
    "    Returns:\n",
    "    SVC: Trained SVM classifier model.\n",
    "    \"\"\"\n",
    "    clf = SVC(kernel='linear', random_state=42)\n",
    "    clf.fit(_x_train, _y_train)\n",
    "    return clf\n",
    "\n",
    "\n",
    "def evaluate_model(clf, _x_test, _y_test):\n",
    "    \"\"\"\n",
    "    Evaluates the performance of a classifier model using accuracy score on test data.\n",
    "\n",
    "    Parameters:\n",
    "    clf: Trained classifier model.\n",
    "    _x_test (numpy.ndarray): Transformed features test data.\n",
    "    _y_test (Series): Target test data.\n",
    "\n",
    "    Returns:\n",
    "    float: Accuracy score of the model on the test data.\n",
    "    \"\"\"\n",
    "    y_pred = clf.predict(_x_test)\n",
    "    accuracy = accuracy_score(_y_test, y_pred)\n",
    "    return accuracy\n",
    "\n",
    "\n",
    "# Function to plot evaluation results using matplotlib\n",
    "def plot_evaluation_results(_models, _accuracies):\n",
    "    \"\"\"\n",
    "    Plots bar chart comparing accuracy scores of different classifier models.\n",
    "\n",
    "    Parameters:\n",
    "    models (list): List of model names.\n",
    "    accuracies (list): List of accuracy scores corresponding to each model.\n",
    "    \"\"\"\n",
    "    plt.figure(figsize=(8, 5))\n",
    "    plt.bar(_models, _accuracies, color=['blue', 'green'])\n",
    "    plt.xlabel('Models')\n",
    "    plt.ylabel('Accuracy')\n",
    "    plt.title('Classifier Accuracy Comparison')\n",
    "    plt.ylim(0, 1)  # Set y-axis limit from 0 to 1 for accuracy percentage\n",
    "    plt.grid(True)\n",
    "    plt.show()\n",
    "\n",
    "\n",
    "# Function to plot evaluation results using Plotly Express\n",
    "def plot_evaluation_results_line(_models, _accuracies):\n",
    "    \"\"\"\n",
    "    Plots line chart comparing accuracy scores of different classifier models using Plotly Express.\n",
    "\n",
    "    Parameters:\n",
    "    models (list): List of model names.\n",
    "    accuracies (list): List of accuracy scores corresponding to each model.\n",
    "    \"\"\"\n",
    "    fig = px.line(x=_models, y=_accuracies, title='Classifier Accuracy Comparison',\n",
    "                  labels={'x': 'Models', 'y': 'Accuracy'})\n",
    "    fig.show()\n",
    "\n",
    "\n",
    "results = []\n",
    "\n",
    "\n",
    "def run_classifiers_model(test_size):\n",
    "    \"\"\"\n",
    "    Runs Random Forest and SVM classifiers on preprocessed data with a specified test size.\n",
    "    Stores the results in a list and optionally prints accuracy scores.\n",
    "\n",
    "    Parameters:\n",
    "    test_size (float): Proportion of the dataset to include in the test split.\n",
    "\n",
    "    Returns:\n",
    "    None\n",
    "    \"\"\"\n",
    "    # Split data into train and test sets\n",
    "    X_processed = preprocess_data(x)\n",
    "    X_train, X_test, y_train, y_test = train_test_split(X_processed, y, test_size=test_size, random_state=42)\n",
    "\n",
    "    # Train Random Forest and SVM classifiers\n",
    "    rf_model = train_random_forest(X_train, y_train)\n",
    "    svm_model = train_svm(X_train, y_train)\n",
    "\n",
    "    # Evaluate models on the test set\n",
    "    rf_accuracy = evaluate_model(rf_model, X_test, y_test)\n",
    "    svm_accuracy = evaluate_model(svm_model, X_test, y_test)\n",
    "\n",
    "    # Append results to the global list 'results'\n",
    "    results.append({\n",
    "        'Test Size': test_size,\n",
    "        'Random Forest Accuracy': rf_accuracy,\n",
    "        'SVM Accuracy': svm_accuracy\n",
    "    })\n",
    "\n",
    "    # Print accuracy results (optional)\n",
    "    print(f\"Test Size: {test_size}\")\n",
    "    print(f\"Random Forest Classifier Accuracy: {(rf_accuracy * 100).round(2)}%\")\n",
    "    print(f\"SVM Classifier Accuracy: {(svm_accuracy * 100).round(2)}%\")\n",
    "\n",
    "    # Plot evaluation results\n",
    "    models = ['Random Forest', 'SVM']\n",
    "    accuracies = [rf_accuracy, svm_accuracy]\n",
    "    plot_evaluation_results(models, accuracies)\n",
    "    print(\"\\n\")\n",
    "\n",
    "    rf_classifier = RandomForestClassifier(random_state=42)\n",
    "    rf_scores = cross_val_score(rf_classifier, X_train, y_train, cv=5)  # 5-fold cross-validation\n",
    "\n",
    "    svm_classifier = SVC(kernel='linear', random_state=42)\n",
    "    svm_scores = cross_val_score(svm_classifier, X_train, y_train, cv=5)  # 5-fold cross-validation\n",
    "\n",
    "    print(\"Random Forest Classifier Cross-validation scores:\", rf_scores)\n",
    "    print(\"Random Forest Classifier Mean cross-validation score:\", rf_scores.mean())\n",
    "    print(\"\\n\")\n",
    "    print(\"SVM Classifier Cross-validation scores:\", svm_scores)\n",
    "    print(\"SVM Classifier Mean cross-validation score:\", svm_scores.mean())\n"
   ],
   "id": "bd88b6a297740a1c",
   "outputs": [],
   "execution_count": 314
  },
  {
   "metadata": {
    "ExecuteTime": {
     "end_time": "2024-07-25T03:35:04.495557Z",
     "start_time": "2024-07-25T03:32:31.583170Z"
    }
   },
   "cell_type": "code",
   "source": [
    "# Loop through different test sizes and run the classifiers\n",
    "i = 0.2\n",
    "while i <= 0.4:\n",
    "    run_classifiers_model(i)\n",
    "    i = round(i + 0.05, 2)\n",
    "\n",
    "# Create a DataFrame from the results list\n",
    "results_df = pd.DataFrame(results)\n"
   ],
   "id": "37f3a45983d1bbef",
   "outputs": [
    {
     "name": "stdout",
     "output_type": "stream",
     "text": [
      "Test Size: 0.2\n",
      "Random Forest Classifier Accuracy: 88.32%\n",
      "SVM Classifier Accuracy: 86.47%\n"
     ]
    },
    {
     "data": {
      "text/plain": [
       "<Figure size 800x500 with 1 Axes>"
      ],
      "image/png": "[encoded data removed]"
     },
     "metadata": {},
     "output_type": "display_data"
    },
    {
     "name": "stdout",
     "output_type": "stream",
     "text": [
      "\n",
      "\n",
      "Random Forest Classifier Cross-validation scores: [0.87789395 0.88050784 0.87934255 0.87373926 0.87710123]\n",
      "Random Forest Classifier Mean cross-validation score: 0.877716966619919\n",
      "\n",
      "\n",
      "SVM Classifier Cross-validation scores: [0.87229276 0.86109037 0.87448637 0.85842361 0.86103848]\n",
      "SVM Classifier Mean cross-validation score: 0.8654663142979654\n",
      "Test Size: 0.25\n",
      "Random Forest Classifier Accuracy: 87.72%\n",
      "SVM Classifier Accuracy: 86.28%\n"
     ]
    },
    {
     "data": {
      "text/plain": [
       "<Figure size 800x500 with 1 Axes>"
      ],
      "image/png": "[encoded data removed]"
     },
     "metadata": {},
     "output_type": "display_data"
    },
    {
     "name": "stdout",
     "output_type": "stream",
     "text": [
      "\n",
      "\n",
      "Random Forest Classifier Cross-validation scores: [0.87888446 0.87729084 0.87330677 0.87888446 0.88406375]\n",
      "Random Forest Classifier Mean cross-validation score: 0.8784860557768924\n",
      "\n",
      "\n",
      "SVM Classifier Cross-validation scores: [0.8749004  0.86175299 0.87450199 0.85896414 0.86653386]\n",
      "SVM Classifier Mean cross-validation score: 0.8673306772908367\n",
      "Test Size: 0.3\n",
      "Random Forest Classifier Accuracy: 87.87%\n",
      "SVM Classifier Accuracy: 86.82%\n"
     ]
    },
    {
     "data": {
      "text/plain": [
       "<Figure size 800x500 with 1 Axes>"
      ],
      "image/png": "[encoded data removed]"
     },
     "metadata": {},
     "output_type": "display_data"
    },
    {
     "name": "stdout",
     "output_type": "stream",
     "text": [
      "\n",
      "\n",
      "Random Forest Classifier Cross-validation scores: [0.87110542 0.87153222 0.87323944 0.86806149 0.88044406]\n",
      "Random Forest Classifier Mean cross-validation score: 0.872876526295417\n",
      "\n",
      "\n",
      "SVM Classifier Cross-validation scores: [0.87025181 0.86214255 0.86726419 0.85994876 0.86293766]\n",
      "SVM Classifier Mean cross-validation score: 0.8645089958533386\n",
      "Test Size: 0.35\n",
      "Random Forest Classifier Accuracy: 87.71%\n",
      "SVM Classifier Accuracy: 86.75%\n"
     ]
    },
    {
     "data": {
      "text/plain": [
       "<Figure size 800x500 with 1 Axes>"
      ],
      "image/png": "[encoded data removed]"
     },
     "metadata": {},
     "output_type": "display_data"
    },
    {
     "name": "stdout",
     "output_type": "stream",
     "text": [
      "\n",
      "\n",
      "Random Forest Classifier Cross-validation scores: [0.86351103 0.88235294 0.87402299 0.86390805 0.87172414]\n",
      "Random Forest Classifier Mean cross-validation score: 0.8711038286004056\n",
      "\n",
      "\n",
      "SVM Classifier Cross-validation scores: [0.85891544 0.86580882 0.87310345 0.85655172 0.86344828]\n",
      "SVM Classifier Mean cross-validation score: 0.8635655425963489\n",
      "Test Size: 0.4\n",
      "Random Forest Classifier Accuracy: 87.03%\n",
      "SVM Classifier Accuracy: 86.75%\n"
     ]
    },
    {
     "data": {
      "text/plain": [
       "<Figure size 800x500 with 1 Axes>"
      ],
      "image/png": "[encoded data removed]"
     },
     "metadata": {},
     "output_type": "display_data"
    },
    {
     "name": "stdout",
     "output_type": "stream",
     "text": [
      "\n",
      "\n",
      "Random Forest Classifier Cross-validation scores: [0.8690239  0.875      0.8685259  0.86354582 0.86703187]\n",
      "Random Forest Classifier Mean cross-validation score: 0.8686254980079682\n",
      "\n",
      "\n",
      "SVM Classifier Cross-validation scores: [0.85806773 0.87201195 0.8685259  0.85956175 0.85856574]\n",
      "SVM Classifier Mean cross-validation score: 0.8633466135458168\n"
     ]
    }
   ],
   "execution_count": 316
  },
  {
   "metadata": {
    "ExecuteTime": {
     "end_time": "2024-07-25T03:35:04.506616Z",
     "start_time": "2024-07-25T03:35:04.498464Z"
    }
   },
   "cell_type": "code",
   "source": [
    "print(\"Results DataFrame:\")\n",
    "results_df"
   ],
   "id": "86e9eded7a972562",
   "outputs": [
    {
     "name": "stdout",
     "output_type": "stream",
     "text": [
      "Results DataFrame:\n"
     ]
    },
    {
     "data": {
      "text/plain": [
       "   Test Size  Random Forest Accuracy  SVM Accuracy\n",
       "0       0.20                    0.88          0.86\n",
       "1       0.25                    0.88          0.86\n",
       "2       0.30                    0.88          0.87\n",
       "3       0.20                    0.88          0.86\n",
       "4       0.25                    0.88          0.86\n",
       "5       0.30                    0.88          0.87\n",
       "6       0.35                    0.88          0.87\n",
       "7       0.40                    0.87          0.87"
      ],
      "text/html": [
       "<div>\n",
       "<style scoped>\n",
       "    .dataframe tbody tr th:only-of-type {\n",
       "        vertical-align: middle;\n",
       "    }\n",
       "\n",
       "    .dataframe tbody tr th {\n",
       "        vertical-align: top;\n",
       "    }\n",
       "\n",
       "    .dataframe thead th {\n",
       "        text-align: right;\n",
       "    }\n",
       "</style>\n",
       "<table border=\"1\" class=\"dataframe\">\n",
       "  <thead>\n",
       "    <tr style=\"text-align: right;\">\n",
       "      <th></th>\n",
       "      <th>Test Size</th>\n",
       "      <th>Random Forest Accuracy</th>\n",
       "      <th>SVM Accuracy</th>\n",
       "    </tr>\n",
       "  </thead>\n",
       "  <tbody>\n",
       "    <tr>\n",
       "      <th>0</th>\n",
       "      <td>0.20</td>\n",
       "      <td>0.88</td>\n",
       "      <td>0.86</td>\n",
       "    </tr>\n",
       "    <tr>\n",
       "      <th>1</th>\n",
       "      <td>0.25</td>\n",
       "      <td>0.88</td>\n",
       "      <td>0.86</td>\n",
       "    </tr>\n",
       "    <tr>\n",
       "      <th>2</th>\n",
       "      <td>0.30</td>\n",
       "      <td>0.88</td>\n",
       "      <td>0.87</td>\n",
       "    </tr>\n",
       "    <tr>\n",
       "      <th>3</th>\n",
       "      <td>0.20</td>\n",
       "      <td>0.88</td>\n",
       "      <td>0.86</td>\n",
       "    </tr>\n",
       "    <tr>\n",
       "      <th>4</th>\n",
       "      <td>0.25</td>\n",
       "      <td>0.88</td>\n",
       "      <td>0.86</td>\n",
       "    </tr>\n",
       "    <tr>\n",
       "      <th>5</th>\n",
       "      <td>0.30</td>\n",
       "      <td>0.88</td>\n",
       "      <td>0.87</td>\n",
       "    </tr>\n",
       "    <tr>\n",
       "      <th>6</th>\n",
       "      <td>0.35</td>\n",
       "      <td>0.88</td>\n",
       "      <td>0.87</td>\n",
       "    </tr>\n",
       "    <tr>\n",
       "      <th>7</th>\n",
       "      <td>0.40</td>\n",
       "      <td>0.87</td>\n",
       "      <td>0.87</td>\n",
       "    </tr>\n",
       "  </tbody>\n",
       "</table>\n",
       "</div>"
      ]
     },
     "execution_count": 317,
     "metadata": {},
     "output_type": "execute_result"
    }
   ],
   "execution_count": 317
  },
  {
   "metadata": {
    "ExecuteTime": {
     "end_time": "2024-07-25T03:35:04.509453Z",
     "start_time": "2024-07-25T03:35:04.507139Z"
    }
   },
   "cell_type": "code",
   "source": "print(results_df)",
   "id": "5bbe6f6b3359dfb4",
   "outputs": [
    {
     "name": "stdout",
     "output_type": "stream",
     "text": [
      "   Test Size  Random Forest Accuracy  SVM Accuracy\n",
      "0       0.20                    0.88          0.86\n",
      "1       0.25                    0.88          0.86\n",
      "2       0.30                    0.88          0.87\n",
      "3       0.20                    0.88          0.86\n",
      "4       0.25                    0.88          0.86\n",
      "5       0.30                    0.88          0.87\n",
      "6       0.35                    0.88          0.87\n",
      "7       0.40                    0.87          0.87\n"
     ]
    }
   ],
   "execution_count": 318
  },
  {
   "metadata": {},
   "cell_type": "code",
   "source": "",
   "id": "762a03c52786cb35",
   "outputs": [],
   "execution_count": null
  }
 ],
 "metadata": {
  "kernelspec": {
   "display_name": "Python 3",
   "language": "python",
   "name": "python3"
  },
  "language_info": {
   "codemirror_mode": {
    "name": "ipython",
    "version": 2
   },
   "file_extension": ".py",
   "mimetype": "text/x-python",
   "name": "python",
   "nbconvert_exporter": "python",
   "pygments_lexer": "ipython2",
   "version": "2.7.6"
  }
 },
 "nbformat": 4,
 "nbformat_minor": 5
}
