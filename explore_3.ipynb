{
 "cells": [
  {
   "metadata": {},
   "cell_type": "markdown",
   "source": "### Loading the Data",
   "id": "10edb25830f46db6"
  },
  {
   "cell_type": "code",
   "id": "initial_id",
   "metadata": {
    "collapsed": true,
    "ExecuteTime": {
     "end_time": "2024-07-31T03:03:55.245724Z",
     "start_time": "2024-07-31T03:03:55.215236Z"
    }
   },
   "source": [
    "import matplotlib.pyplot as plt\n",
    "import pandas as pd\n",
    "import plotly.express as px\n",
    "from sklearn.compose import ColumnTransformer\n",
    "from sklearn.ensemble import RandomForestClassifier\n",
    "from sklearn.metrics import accuracy_score\n",
    "from sklearn.model_selection import train_test_split\n",
    "from sklearn.preprocessing import StandardScaler, OneHotEncoder\n",
    "from sklearn.svm import SVC"
   ],
   "outputs": [],
   "execution_count": 163
  },
  {
   "metadata": {
    "ExecuteTime": {
     "end_time": "2024-07-31T03:04:00.463270Z",
     "start_time": "2024-07-31T03:03:55.343646Z"
    }
   },
   "cell_type": "code",
   "source": [
    "df = None\n",
    "\n",
    "# Attempting to load a CSV file from a Google Drive link into a Pandas DataFrame.\n",
    "try:\n",
    "    # Original URL pointing to Google Drive file shared for viewing.\n",
    "    url = 'https://drive.google.com/file/d/1xx0EV_nLt9shUSFJ7u5qAeeDrinZRnxf/view?usp=sharing'\n",
    "\n",
    "    # Extracting file ID from the original URL to construct a direct download link.\n",
    "    url = 'https://drive.google.com/uc?id=' + url.split('/')[-2]\n",
    "\n",
    "    # Loading the CSV data from the constructed URL into a Pandas DataFrame.\n",
    "    df = pd.read_csv(url)\n",
    "\n",
    "    # Confirmation message upon successful loading of CSV data.\n",
    "    print('Csv and Dataframe loaded.')\n",
    "\n",
    "except Exception as e:\n",
    "    # Handling any exceptions that may occur during the process and printing the error message.\n",
    "    print('Exception occurred: ', str(e))\n"
   ],
   "id": "e5edc7d7e94c98ee",
   "outputs": [
    {
     "name": "stdout",
     "output_type": "stream",
     "text": [
      "Csv and Dataframe loaded.\n"
     ]
    }
   ],
   "execution_count": 164
  },
  {
   "metadata": {
    "ExecuteTime": {
     "end_time": "2024-07-31T03:04:00.575918Z",
     "start_time": "2024-07-31T03:04:00.472011Z"
    }
   },
   "cell_type": "code",
   "source": [
    "# exploring the dataset\n",
    "df.head()"
   ],
   "id": "62ae24e566ad0d92",
   "outputs": [
    {
     "data": {
      "text/plain": [
       "           Brand    Year   Model               Car/Suv  \\\n",
       "0      Ssangyong  2022.0  Rexton  Sutherland Isuzu Ute   \n",
       "1             MG  2022.0     MG3             Hatchback   \n",
       "2            BMW  2022.0    430I                 Coupe   \n",
       "3  Mercedes-Benz  2011.0    E500                 Coupe   \n",
       "4        Renault  2022.0  Arkana                   SUV   \n",
       "\n",
       "                                       Title UsedOrNew Transmission  \\\n",
       "0       2022 Ssangyong Rexton Ultimate (awd)      DEMO    Automatic   \n",
       "1  2022 MG MG3 Auto Excite (with Navigation)      USED    Automatic   \n",
       "2                      2022 BMW 430I M Sport      USED    Automatic   \n",
       "3           2011 Mercedes-Benz E500 Elegance      USED    Automatic   \n",
       "4                 2022 Renault Arkana Intens      USED    Automatic   \n",
       "\n",
       "         Engine DriveType  FuelType FuelConsumption Kilometres   ColourExtInt  \\\n",
       "0  4 cyl, 2.2 L       AWD    Diesel  8.7 L / 100 km       5595  White / Black   \n",
       "1  4 cyl, 1.5 L     Front   Premium  6.7 L / 100 km         16  Black / Black   \n",
       "2    4 cyl, 2 L      Rear   Premium  6.6 L / 100 km       8472   Grey / White   \n",
       "3  8 cyl, 5.5 L      Rear   Premium   11 L / 100 km     136517  White / Brown   \n",
       "4  4 cyl, 1.3 L     Front  Unleaded    6 L / 100 km       1035   Grey / Black   \n",
       "\n",
       "            Location CylindersinEngine   BodyType     Doors     Seats   Price  \n",
       "0     Caringbah, NSW             4 cyl        SUV   4 Doors   7 Seats   51990  \n",
       "1     Brookvale, NSW             4 cyl  Hatchback   5 Doors   5 Seats   19990  \n",
       "2      Sylvania, NSW             4 cyl      Coupe   2 Doors   4 Seats  108988  \n",
       "3  Mount Druitt, NSW             8 cyl      Coupe   2 Doors   4 Seats   32990  \n",
       "4   Castle Hill, NSW             4 cyl        SUV   4 Doors   5 Seats   34990  "
      ],
      "text/html": [
       "<div>\n",
       "<style scoped>\n",
       "    .dataframe tbody tr th:only-of-type {\n",
       "        vertical-align: middle;\n",
       "    }\n",
       "\n",
       "    .dataframe tbody tr th {\n",
       "        vertical-align: top;\n",
       "    }\n",
       "\n",
       "    .dataframe thead th {\n",
       "        text-align: right;\n",
       "    }\n",
       "</style>\n",
       "<table border=\"1\" class=\"dataframe\">\n",
       "  <thead>\n",
       "    <tr style=\"text-align: right;\">\n",
       "      <th></th>\n",
       "      <th>Brand</th>\n",
       "      <th>Year</th>\n",
       "      <th>Model</th>\n",
       "      <th>Car/Suv</th>\n",
       "      <th>Title</th>\n",
       "      <th>UsedOrNew</th>\n",
       "      <th>Transmission</th>\n",
       "      <th>Engine</th>\n",
       "      <th>DriveType</th>\n",
       "      <th>FuelType</th>\n",
       "      <th>FuelConsumption</th>\n",
       "      <th>Kilometres</th>\n",
       "      <th>ColourExtInt</th>\n",
       "      <th>Location</th>\n",
       "      <th>CylindersinEngine</th>\n",
       "      <th>BodyType</th>\n",
       "      <th>Doors</th>\n",
       "      <th>Seats</th>\n",
       "      <th>Price</th>\n",
       "    </tr>\n",
       "  </thead>\n",
       "  <tbody>\n",
       "    <tr>\n",
       "      <th>0</th>\n",
       "      <td>Ssangyong</td>\n",
       "      <td>2022.0</td>\n",
       "      <td>Rexton</td>\n",
       "      <td>Sutherland Isuzu Ute</td>\n",
       "      <td>2022 Ssangyong Rexton Ultimate (awd)</td>\n",
       "      <td>DEMO</td>\n",
       "      <td>Automatic</td>\n",
       "      <td>4 cyl, 2.2 L</td>\n",
       "      <td>AWD</td>\n",
       "      <td>Diesel</td>\n",
       "      <td>8.7 L / 100 km</td>\n",
       "      <td>5595</td>\n",
       "      <td>White / Black</td>\n",
       "      <td>Caringbah, NSW</td>\n",
       "      <td>4 cyl</td>\n",
       "      <td>SUV</td>\n",
       "      <td>4 Doors</td>\n",
       "      <td>7 Seats</td>\n",
       "      <td>51990</td>\n",
       "    </tr>\n",
       "    <tr>\n",
       "      <th>1</th>\n",
       "      <td>MG</td>\n",
       "      <td>2022.0</td>\n",
       "      <td>MG3</td>\n",
       "      <td>Hatchback</td>\n",
       "      <td>2022 MG MG3 Auto Excite (with Navigation)</td>\n",
       "      <td>USED</td>\n",
       "      <td>Automatic</td>\n",
       "      <td>4 cyl, 1.5 L</td>\n",
       "      <td>Front</td>\n",
       "      <td>Premium</td>\n",
       "      <td>6.7 L / 100 km</td>\n",
       "      <td>16</td>\n",
       "      <td>Black / Black</td>\n",
       "      <td>Brookvale, NSW</td>\n",
       "      <td>4 cyl</td>\n",
       "      <td>Hatchback</td>\n",
       "      <td>5 Doors</td>\n",
       "      <td>5 Seats</td>\n",
       "      <td>19990</td>\n",
       "    </tr>\n",
       "    <tr>\n",
       "      <th>2</th>\n",
       "      <td>BMW</td>\n",
       "      <td>2022.0</td>\n",
       "      <td>430I</td>\n",
       "      <td>Coupe</td>\n",
       "      <td>2022 BMW 430I M Sport</td>\n",
       "      <td>USED</td>\n",
       "      <td>Automatic</td>\n",
       "      <td>4 cyl, 2 L</td>\n",
       "      <td>Rear</td>\n",
       "      <td>Premium</td>\n",
       "      <td>6.6 L / 100 km</td>\n",
       "      <td>8472</td>\n",
       "      <td>Grey / White</td>\n",
       "      <td>Sylvania, NSW</td>\n",
       "      <td>4 cyl</td>\n",
       "      <td>Coupe</td>\n",
       "      <td>2 Doors</td>\n",
       "      <td>4 Seats</td>\n",
       "      <td>108988</td>\n",
       "    </tr>\n",
       "    <tr>\n",
       "      <th>3</th>\n",
       "      <td>Mercedes-Benz</td>\n",
       "      <td>2011.0</td>\n",
       "      <td>E500</td>\n",
       "      <td>Coupe</td>\n",
       "      <td>2011 Mercedes-Benz E500 Elegance</td>\n",
       "      <td>USED</td>\n",
       "      <td>Automatic</td>\n",
       "      <td>8 cyl, 5.5 L</td>\n",
       "      <td>Rear</td>\n",
       "      <td>Premium</td>\n",
       "      <td>11 L / 100 km</td>\n",
       "      <td>136517</td>\n",
       "      <td>White / Brown</td>\n",
       "      <td>Mount Druitt, NSW</td>\n",
       "      <td>8 cyl</td>\n",
       "      <td>Coupe</td>\n",
       "      <td>2 Doors</td>\n",
       "      <td>4 Seats</td>\n",
       "      <td>32990</td>\n",
       "    </tr>\n",
       "    <tr>\n",
       "      <th>4</th>\n",
       "      <td>Renault</td>\n",
       "      <td>2022.0</td>\n",
       "      <td>Arkana</td>\n",
       "      <td>SUV</td>\n",
       "      <td>2022 Renault Arkana Intens</td>\n",
       "      <td>USED</td>\n",
       "      <td>Automatic</td>\n",
       "      <td>4 cyl, 1.3 L</td>\n",
       "      <td>Front</td>\n",
       "      <td>Unleaded</td>\n",
       "      <td>6 L / 100 km</td>\n",
       "      <td>1035</td>\n",
       "      <td>Grey / Black</td>\n",
       "      <td>Castle Hill, NSW</td>\n",
       "      <td>4 cyl</td>\n",
       "      <td>SUV</td>\n",
       "      <td>4 Doors</td>\n",
       "      <td>5 Seats</td>\n",
       "      <td>34990</td>\n",
       "    </tr>\n",
       "  </tbody>\n",
       "</table>\n",
       "</div>"
      ]
     },
     "execution_count": 165,
     "metadata": {},
     "output_type": "execute_result"
    }
   ],
   "execution_count": 165
  },
  {
   "metadata": {
    "ExecuteTime": {
     "end_time": "2024-07-31T03:04:00.581137Z",
     "start_time": "2024-07-31T03:04:00.577331Z"
    }
   },
   "cell_type": "code",
   "source": [
    "# verifying the rows and columns in the dataset\n",
    "df.shape"
   ],
   "id": "d00727d77b3e84bb",
   "outputs": [
    {
     "data": {
      "text/plain": [
       "(16734, 19)"
      ]
     },
     "execution_count": 166,
     "metadata": {},
     "output_type": "execute_result"
    }
   ],
   "execution_count": 166
  },
  {
   "metadata": {
    "ExecuteTime": {
     "end_time": "2024-07-31T03:04:00.680734Z",
     "start_time": "2024-07-31T03:04:00.584253Z"
    }
   },
   "cell_type": "code",
   "source": [
    "# verifying the dataset information\n",
    "df.info()"
   ],
   "id": "93bd49b64457c046",
   "outputs": [
    {
     "name": "stdout",
     "output_type": "stream",
     "text": [
      "<class 'pandas.core.frame.DataFrame'>\n",
      "RangeIndex: 16734 entries, 0 to 16733\n",
      "Data columns (total 19 columns):\n",
      " #   Column             Non-Null Count  Dtype  \n",
      "---  ------             --------------  -----  \n",
      " 0   Brand              16733 non-null  object \n",
      " 1   Year               16733 non-null  float64\n",
      " 2   Model              16733 non-null  object \n",
      " 3   Car/Suv            16706 non-null  object \n",
      " 4   Title              16733 non-null  object \n",
      " 5   UsedOrNew          16733 non-null  object \n",
      " 6   Transmission       16733 non-null  object \n",
      " 7   Engine             16733 non-null  object \n",
      " 8   DriveType          16733 non-null  object \n",
      " 9   FuelType           16733 non-null  object \n",
      " 10  FuelConsumption    16733 non-null  object \n",
      " 11  Kilometres         16733 non-null  object \n",
      " 12  ColourExtInt       16733 non-null  object \n",
      " 13  Location           16284 non-null  object \n",
      " 14  CylindersinEngine  16733 non-null  object \n",
      " 15  BodyType           16452 non-null  object \n",
      " 16  Doors              15130 non-null  object \n",
      " 17  Seats              15029 non-null  object \n",
      " 18  Price              16731 non-null  object \n",
      "dtypes: float64(1), object(18)\n",
      "memory usage: 2.4+ MB\n"
     ]
    }
   ],
   "execution_count": 167
  },
  {
   "metadata": {},
   "cell_type": "markdown",
   "source": "#### Checking for missing values",
   "id": "e4d5bb7c8bca7228"
  },
  {
   "metadata": {
    "ExecuteTime": {
     "end_time": "2024-07-31T03:04:00.718482Z",
     "start_time": "2024-07-31T03:04:00.682257Z"
    }
   },
   "cell_type": "code",
   "source": "df.isna().sum()",
   "id": "9727703921535e5e",
   "outputs": [
    {
     "data": {
      "text/plain": [
       "Brand                   1\n",
       "Year                    1\n",
       "Model                   1\n",
       "Car/Suv                28\n",
       "Title                   1\n",
       "UsedOrNew               1\n",
       "Transmission            1\n",
       "Engine                  1\n",
       "DriveType               1\n",
       "FuelType                1\n",
       "FuelConsumption         1\n",
       "Kilometres              1\n",
       "ColourExtInt            1\n",
       "Location              450\n",
       "CylindersinEngine       1\n",
       "BodyType              282\n",
       "Doors                1604\n",
       "Seats                1705\n",
       "Price                   3\n",
       "dtype: int64"
      ]
     },
     "execution_count": 168,
     "metadata": {},
     "output_type": "execute_result"
    }
   ],
   "execution_count": 168
  },
  {
   "metadata": {},
   "cell_type": "markdown",
   "source": "Handling of missing values",
   "id": "9deda53b076e41a9"
  },
  {
   "metadata": {
    "ExecuteTime": {
     "end_time": "2024-07-31T03:04:00.741853Z",
     "start_time": "2024-07-31T03:04:00.721588Z"
    }
   },
   "cell_type": "code",
   "source": [
    "# Calculating the missing values\n",
    "\n",
    "for each in df.columns:\n",
    "    print('Percent of null values', each, ':', (df[each].isnull().mean() * 100).round(2))"
   ],
   "id": "f6abfa95bb9a4c6e",
   "outputs": [
    {
     "name": "stdout",
     "output_type": "stream",
     "text": [
      "Percent of null values Brand : 0.01\n",
      "Percent of null values Year : 0.01\n",
      "Percent of null values Model : 0.01\n",
      "Percent of null values Car/Suv : 0.17\n",
      "Percent of null values Title : 0.01\n",
      "Percent of null values UsedOrNew : 0.01\n",
      "Percent of null values Transmission : 0.01\n",
      "Percent of null values Engine : 0.01\n",
      "Percent of null values DriveType : 0.01\n",
      "Percent of null values FuelType : 0.01\n",
      "Percent of null values FuelConsumption : 0.01\n",
      "Percent of null values Kilometres : 0.01\n",
      "Percent of null values ColourExtInt : 0.01\n",
      "Percent of null values Location : 2.69\n",
      "Percent of null values CylindersinEngine : 0.01\n",
      "Percent of null values BodyType : 1.69\n",
      "Percent of null values Doors : 9.59\n",
      "Percent of null values Seats : 10.19\n",
      "Percent of null values Price : 0.02\n"
     ]
    }
   ],
   "execution_count": 169
  },
  {
   "metadata": {
    "ExecuteTime": {
     "end_time": "2024-07-31T03:04:00.795944Z",
     "start_time": "2024-07-31T03:04:00.742932Z"
    }
   },
   "cell_type": "code",
   "source": [
    "# filling missing values \n",
    "# small => mean\n",
    "# large => mode\n",
    "\n",
    "for column in df.columns:\n",
    "    if df[column].dtype == 'object':\n",
    "        # For string columns, fill missing values with mode\n",
    "        mode_value = df[column].mode().iloc[0]  # Get the mode value as a scalar\n",
    "        df[column].fillna(mode_value, inplace=True)\n",
    "    else:\n",
    "        # For numeric columns, fill missing values with mean\n",
    "        df[column].fillna(df[column].mean(), inplace=True)"
   ],
   "id": "d319fdf78e27aeff",
   "outputs": [],
   "execution_count": 170
  },
  {
   "metadata": {
    "ExecuteTime": {
     "end_time": "2024-07-31T03:04:00.827241Z",
     "start_time": "2024-07-31T03:04:00.797182Z"
    }
   },
   "cell_type": "code",
   "source": [
    "# confirming that missing values does not exist in the dataframe\n",
    "\n",
    "df.isna().sum()"
   ],
   "id": "84ca1c08cf296a00",
   "outputs": [
    {
     "data": {
      "text/plain": [
       "Brand                0\n",
       "Year                 0\n",
       "Model                0\n",
       "Car/Suv              0\n",
       "Title                0\n",
       "UsedOrNew            0\n",
       "Transmission         0\n",
       "Engine               0\n",
       "DriveType            0\n",
       "FuelType             0\n",
       "FuelConsumption      0\n",
       "Kilometres           0\n",
       "ColourExtInt         0\n",
       "Location             0\n",
       "CylindersinEngine    0\n",
       "BodyType             0\n",
       "Doors                0\n",
       "Seats                0\n",
       "Price                0\n",
       "dtype: int64"
      ]
     },
     "execution_count": 171,
     "metadata": {},
     "output_type": "execute_result"
    }
   ],
   "execution_count": 171
  },
  {
   "metadata": {
    "ExecuteTime": {
     "end_time": "2024-07-31T03:04:00.841275Z",
     "start_time": "2024-07-31T03:04:00.828228Z"
    }
   },
   "cell_type": "code",
   "source": [
    "# Replace specific values in the 'Price' and 'Kilometres' columns of the DataFrame.\n",
    "\n",
    "# Replace 'POA' (Price on Application) with 0 in the 'Price' column.\n",
    "df['Price'] = df['Price'].replace('POA', 0)\n",
    "\n",
    "# Replace '-' (dash) with 0 in the 'Kilometres' column.\n",
    "df['Kilometres'] = df['Kilometres'].replace('-', 0)\n"
   ],
   "id": "7f633fbeb7b9c37d",
   "outputs": [],
   "execution_count": 172
  },
  {
   "metadata": {
    "ExecuteTime": {
     "end_time": "2024-07-31T03:04:00.884903Z",
     "start_time": "2024-07-31T03:04:00.846064Z"
    }
   },
   "cell_type": "code",
   "source": [
    "# Convert specified columns to integers, handling errors gracefully.\n",
    "\n",
    "# Convert 'Kilometres' column to numeric, coercing errors to NaN, filling NaN with 0, and converting to integer.\n",
    "df['Kilometres'] = pd.to_numeric(df['Kilometres'], errors='coerce').fillna(0).astype(int)\n",
    "\n",
    "# Convert 'Price' column to numeric, coercing errors to NaN, filling NaN with 0, and converting to integer.\n",
    "df['Price'] = pd.to_numeric(df['Price'], errors='coerce').fillna(0).astype(int)\n",
    "\n",
    "# Verify the data types of 'Kilometres' and 'Price' columns after conversion.\n",
    "df[['Kilometres', 'Price']].dtypes\n"
   ],
   "id": "ded18035c289fc20",
   "outputs": [
    {
     "data": {
      "text/plain": [
       "Kilometres    int64\n",
       "Price         int64\n",
       "dtype: object"
      ]
     },
     "execution_count": 173,
     "metadata": {},
     "output_type": "execute_result"
    }
   ],
   "execution_count": 173
  },
  {
   "metadata": {
    "ExecuteTime": {
     "end_time": "2024-07-31T03:04:00.952878Z",
     "start_time": "2024-07-31T03:04:00.886585Z"
    }
   },
   "cell_type": "code",
   "source": [
    "# Define functions to calculate quartiles and inter-quartile range (IQR)\n",
    "def q1(series):\n",
    "    \"\"\"Calculate the first quartile (Q1).\"\"\"\n",
    "    return series.quantile(0.25)\n",
    "\n",
    "\n",
    "def q3(series):\n",
    "    \"\"\"Calculate the third quartile (Q3).\"\"\"\n",
    "    return series.quantile(0.75)\n",
    "\n",
    "\n",
    "def iqr(series):\n",
    "    \"\"\"Calculate the interquartile range (IQR).\"\"\"\n",
    "    return q3(series) - q1(series)\n",
    "\n",
    "\n",
    "def lower_outlier(series):\n",
    "    \"\"\"Calculate the lower outlier bound.\"\"\"\n",
    "    return (q1(series) - 1.5 * iqr(series)).round(2)\n",
    "\n",
    "\n",
    "def upper_outlier(series):\n",
    "    \"\"\"Calculate the upper outlier bound.\"\"\"\n",
    "    return q3(series) + 1.5 * iqr(series)\n",
    "\n",
    "\n",
    "def data_range(series):\n",
    "    \"\"\"Calculate the range of the data.\"\"\"\n",
    "    return series.max() - series.min()\n",
    "\n",
    "\n",
    "def mode(series):\n",
    "    \"\"\"Calculate the mode of the data.\"\"\"\n",
    "    return series.mode()[0]\n",
    "\n",
    "\n",
    "# Define a list of calculations to apply to each column\n",
    "calculations = [\n",
    "    \"min\",  # Minimum value\n",
    "    \"max\",  # Maximum value\n",
    "    \"count\",  # Count of non-null values\n",
    "    \"mean\",  # Mean value\n",
    "    \"median\",  # Median value\n",
    "    lambda x: x.mode()[0],  # Mode value\n",
    "    data_range,  # Range of the data\n",
    "    q1,  # First quartile (Q1)\n",
    "    q3,  # Third quartile (Q3)\n",
    "    iqr,  # Inter-quartile range (IQR)\n",
    "    \"var\",  # Sample Variance\n",
    "    \"std\",  # Sample Standard deviation\n",
    "    lower_outlier,  # Lower outlier bound\n",
    "    upper_outlier  # Upper outlier bound\n",
    "]\n",
    "\n",
    "# Apply the calculations to each column in the dataframe (df)\n",
    "result = df.agg(\n",
    "    {\n",
    "        \"Price\": calculations,  # Apply calculations to the 'Price' column\n",
    "        \"Kilometres\": calculations  # Apply calculations to the 'Kilometres' column\n",
    "    }\n",
    ")\n",
    "\n",
    "# Rename the 'mode' and 'range' rows for clarity\n",
    "result.rename(index={result.index[5]: 'mode'}, inplace=True)  # Rename mode row\n",
    "result.rename(index={result.index[6]: 'range'}, inplace=True)  # Rename range row\n",
    "result.rename(index={result.index[-3]: 'variance'}, inplace=True)  # Rename range row\n",
    "result.rename(index={result.index[-4]: 'standard deviation'}, inplace=True)  # Rename range row\n",
    "\n",
    "\n",
    "# Define a function to format large numbers\n",
    "def format_large_numbers(x):\n",
    "    if abs(x) >= 1e6:\n",
    "        return f'{x:.2e}'  # Scientific notation for numbers >= 1 million\n",
    "    else:\n",
    "        return f'{x:.2f}'  # Normal formatting for smaller numbers\n",
    "\n",
    "\n",
    "# Apply formatting to each cell in the DataFrame\n",
    "result = result.applymap(format_large_numbers)\n",
    "\n",
    "# Display the resulting dataframe\n",
    "result"
   ],
   "id": "515d9c9a3f9fe590",
   "outputs": [
    {
     "data": {
      "text/plain": [
       "                        Price  Kilometres\n",
       "min                      0.00        0.00\n",
       "max                  1.50e+06   533849.00\n",
       "count                16734.00    16734.00\n",
       "mean                 37190.56    96555.00\n",
       "median               29300.00    82352.00\n",
       "mode                 29990.00        0.00\n",
       "range                1.50e+06   533849.00\n",
       "q1                   18990.00    34807.00\n",
       "q3                   43990.00   143738.00\n",
       "iqr                  25000.00   108931.00\n",
       "standard deviation   1.38e+09    6.24e+09\n",
       "variance             37174.87    79011.38\n",
       "lower_outlier       -18510.00  -128589.50\n",
       "upper_outlier        81490.00   307134.50"
      ],
      "text/html": [
       "<div>\n",
       "<style scoped>\n",
       "    .dataframe tbody tr th:only-of-type {\n",
       "        vertical-align: middle;\n",
       "    }\n",
       "\n",
       "    .dataframe tbody tr th {\n",
       "        vertical-align: top;\n",
       "    }\n",
       "\n",
       "    .dataframe thead th {\n",
       "        text-align: right;\n",
       "    }\n",
       "</style>\n",
       "<table border=\"1\" class=\"dataframe\">\n",
       "  <thead>\n",
       "    <tr style=\"text-align: right;\">\n",
       "      <th></th>\n",
       "      <th>Price</th>\n",
       "      <th>Kilometres</th>\n",
       "    </tr>\n",
       "  </thead>\n",
       "  <tbody>\n",
       "    <tr>\n",
       "      <th>min</th>\n",
       "      <td>0.00</td>\n",
       "      <td>0.00</td>\n",
       "    </tr>\n",
       "    <tr>\n",
       "      <th>max</th>\n",
       "      <td>1.50e+06</td>\n",
       "      <td>533849.00</td>\n",
       "    </tr>\n",
       "    <tr>\n",
       "      <th>count</th>\n",
       "      <td>16734.00</td>\n",
       "      <td>16734.00</td>\n",
       "    </tr>\n",
       "    <tr>\n",
       "      <th>mean</th>\n",
       "      <td>37190.56</td>\n",
       "      <td>96555.00</td>\n",
       "    </tr>\n",
       "    <tr>\n",
       "      <th>median</th>\n",
       "      <td>29300.00</td>\n",
       "      <td>82352.00</td>\n",
       "    </tr>\n",
       "    <tr>\n",
       "      <th>mode</th>\n",
       "      <td>29990.00</td>\n",
       "      <td>0.00</td>\n",
       "    </tr>\n",
       "    <tr>\n",
       "      <th>range</th>\n",
       "      <td>1.50e+06</td>\n",
       "      <td>533849.00</td>\n",
       "    </tr>\n",
       "    <tr>\n",
       "      <th>q1</th>\n",
       "      <td>18990.00</td>\n",
       "      <td>34807.00</td>\n",
       "    </tr>\n",
       "    <tr>\n",
       "      <th>q3</th>\n",
       "      <td>43990.00</td>\n",
       "      <td>143738.00</td>\n",
       "    </tr>\n",
       "    <tr>\n",
       "      <th>iqr</th>\n",
       "      <td>25000.00</td>\n",
       "      <td>108931.00</td>\n",
       "    </tr>\n",
       "    <tr>\n",
       "      <th>standard deviation</th>\n",
       "      <td>1.38e+09</td>\n",
       "      <td>6.24e+09</td>\n",
       "    </tr>\n",
       "    <tr>\n",
       "      <th>variance</th>\n",
       "      <td>37174.87</td>\n",
       "      <td>79011.38</td>\n",
       "    </tr>\n",
       "    <tr>\n",
       "      <th>lower_outlier</th>\n",
       "      <td>-18510.00</td>\n",
       "      <td>-128589.50</td>\n",
       "    </tr>\n",
       "    <tr>\n",
       "      <th>upper_outlier</th>\n",
       "      <td>81490.00</td>\n",
       "      <td>307134.50</td>\n",
       "    </tr>\n",
       "  </tbody>\n",
       "</table>\n",
       "</div>"
      ]
     },
     "execution_count": 174,
     "metadata": {},
     "output_type": "execute_result"
    }
   ],
   "execution_count": 174
  },
  {
   "metadata": {},
   "cell_type": "markdown",
   "source": "### Classification Model",
   "id": "dc52d59b681b2648"
  },
  {
   "metadata": {
    "ExecuteTime": {
     "end_time": "2024-07-31T03:04:00.957400Z",
     "start_time": "2024-07-31T03:04:00.954091Z"
    }
   },
   "cell_type": "code",
   "source": "df.columns",
   "id": "a0649486cb788a7",
   "outputs": [
    {
     "data": {
      "text/plain": [
       "Index(['Brand', 'Year', 'Model', 'Car/Suv', 'Title', 'UsedOrNew',\n",
       "       'Transmission', 'Engine', 'DriveType', 'FuelType', 'FuelConsumption',\n",
       "       'Kilometres', 'ColourExtInt', 'Location', 'CylindersinEngine',\n",
       "       'BodyType', 'Doors', 'Seats', 'Price'],\n",
       "      dtype='object')"
      ]
     },
     "execution_count": 175,
     "metadata": {},
     "output_type": "execute_result"
    }
   ],
   "execution_count": 175
  },
  {
   "metadata": {
    "ExecuteTime": {
     "end_time": "2024-07-31T03:04:00.960674Z",
     "start_time": "2024-07-31T03:04:00.958345Z"
    }
   },
   "cell_type": "code",
   "source": [
    "# # Separate features (x) and target (y)\n",
    "# x = df.drop(columns=['DriveType'])\n",
    "# y = df['DriveType']"
   ],
   "id": "7e4a9ce964e91cce",
   "outputs": [],
   "execution_count": 176
  },
  {
   "metadata": {
    "ExecuteTime": {
     "end_time": "2024-07-31T03:04:00.972246Z",
     "start_time": "2024-07-31T03:04:00.961859Z"
    }
   },
   "cell_type": "code",
   "source": [
    "x = df.drop(columns=['DriveType']).columns\n",
    "', '.join(list(x))\n",
    "len(x)"
   ],
   "id": "e25b0f3e7e44a20a",
   "outputs": [
    {
     "data": {
      "text/plain": [
       "18"
      ]
     },
     "execution_count": 177,
     "metadata": {},
     "output_type": "execute_result"
    }
   ],
   "execution_count": 177
  },
  {
   "metadata": {
    "ExecuteTime": {
     "end_time": "2024-07-31T03:04:00.982321Z",
     "start_time": "2024-07-31T03:04:00.973353Z"
    }
   },
   "cell_type": "code",
   "source": "df.head()",
   "id": "e4078d45b8c02e8a",
   "outputs": [
    {
     "data": {
      "text/plain": [
       "           Brand    Year   Model               Car/Suv  \\\n",
       "0      Ssangyong  2022.0  Rexton  Sutherland Isuzu Ute   \n",
       "1             MG  2022.0     MG3             Hatchback   \n",
       "2            BMW  2022.0    430I                 Coupe   \n",
       "3  Mercedes-Benz  2011.0    E500                 Coupe   \n",
       "4        Renault  2022.0  Arkana                   SUV   \n",
       "\n",
       "                                       Title UsedOrNew Transmission  \\\n",
       "0       2022 Ssangyong Rexton Ultimate (awd)      DEMO    Automatic   \n",
       "1  2022 MG MG3 Auto Excite (with Navigation)      USED    Automatic   \n",
       "2                      2022 BMW 430I M Sport      USED    Automatic   \n",
       "3           2011 Mercedes-Benz E500 Elegance      USED    Automatic   \n",
       "4                 2022 Renault Arkana Intens      USED    Automatic   \n",
       "\n",
       "         Engine DriveType  FuelType FuelConsumption  Kilometres  \\\n",
       "0  4 cyl, 2.2 L       AWD    Diesel  8.7 L / 100 km        5595   \n",
       "1  4 cyl, 1.5 L     Front   Premium  6.7 L / 100 km          16   \n",
       "2    4 cyl, 2 L      Rear   Premium  6.6 L / 100 km        8472   \n",
       "3  8 cyl, 5.5 L      Rear   Premium   11 L / 100 km      136517   \n",
       "4  4 cyl, 1.3 L     Front  Unleaded    6 L / 100 km        1035   \n",
       "\n",
       "    ColourExtInt           Location CylindersinEngine   BodyType     Doors  \\\n",
       "0  White / Black     Caringbah, NSW             4 cyl        SUV   4 Doors   \n",
       "1  Black / Black     Brookvale, NSW             4 cyl  Hatchback   5 Doors   \n",
       "2   Grey / White      Sylvania, NSW             4 cyl      Coupe   2 Doors   \n",
       "3  White / Brown  Mount Druitt, NSW             8 cyl      Coupe   2 Doors   \n",
       "4   Grey / Black   Castle Hill, NSW             4 cyl        SUV   4 Doors   \n",
       "\n",
       "      Seats   Price  \n",
       "0   7 Seats   51990  \n",
       "1   5 Seats   19990  \n",
       "2   4 Seats  108988  \n",
       "3   4 Seats   32990  \n",
       "4   5 Seats   34990  "
      ],
      "text/html": [
       "<div>\n",
       "<style scoped>\n",
       "    .dataframe tbody tr th:only-of-type {\n",
       "        vertical-align: middle;\n",
       "    }\n",
       "\n",
       "    .dataframe tbody tr th {\n",
       "        vertical-align: top;\n",
       "    }\n",
       "\n",
       "    .dataframe thead th {\n",
       "        text-align: right;\n",
       "    }\n",
       "</style>\n",
       "<table border=\"1\" class=\"dataframe\">\n",
       "  <thead>\n",
       "    <tr style=\"text-align: right;\">\n",
       "      <th></th>\n",
       "      <th>Brand</th>\n",
       "      <th>Year</th>\n",
       "      <th>Model</th>\n",
       "      <th>Car/Suv</th>\n",
       "      <th>Title</th>\n",
       "      <th>UsedOrNew</th>\n",
       "      <th>Transmission</th>\n",
       "      <th>Engine</th>\n",
       "      <th>DriveType</th>\n",
       "      <th>FuelType</th>\n",
       "      <th>FuelConsumption</th>\n",
       "      <th>Kilometres</th>\n",
       "      <th>ColourExtInt</th>\n",
       "      <th>Location</th>\n",
       "      <th>CylindersinEngine</th>\n",
       "      <th>BodyType</th>\n",
       "      <th>Doors</th>\n",
       "      <th>Seats</th>\n",
       "      <th>Price</th>\n",
       "    </tr>\n",
       "  </thead>\n",
       "  <tbody>\n",
       "    <tr>\n",
       "      <th>0</th>\n",
       "      <td>Ssangyong</td>\n",
       "      <td>2022.0</td>\n",
       "      <td>Rexton</td>\n",
       "      <td>Sutherland Isuzu Ute</td>\n",
       "      <td>2022 Ssangyong Rexton Ultimate (awd)</td>\n",
       "      <td>DEMO</td>\n",
       "      <td>Automatic</td>\n",
       "      <td>4 cyl, 2.2 L</td>\n",
       "      <td>AWD</td>\n",
       "      <td>Diesel</td>\n",
       "      <td>8.7 L / 100 km</td>\n",
       "      <td>5595</td>\n",
       "      <td>White / Black</td>\n",
       "      <td>Caringbah, NSW</td>\n",
       "      <td>4 cyl</td>\n",
       "      <td>SUV</td>\n",
       "      <td>4 Doors</td>\n",
       "      <td>7 Seats</td>\n",
       "      <td>51990</td>\n",
       "    </tr>\n",
       "    <tr>\n",
       "      <th>1</th>\n",
       "      <td>MG</td>\n",
       "      <td>2022.0</td>\n",
       "      <td>MG3</td>\n",
       "      <td>Hatchback</td>\n",
       "      <td>2022 MG MG3 Auto Excite (with Navigation)</td>\n",
       "      <td>USED</td>\n",
       "      <td>Automatic</td>\n",
       "      <td>4 cyl, 1.5 L</td>\n",
       "      <td>Front</td>\n",
       "      <td>Premium</td>\n",
       "      <td>6.7 L / 100 km</td>\n",
       "      <td>16</td>\n",
       "      <td>Black / Black</td>\n",
       "      <td>Brookvale, NSW</td>\n",
       "      <td>4 cyl</td>\n",
       "      <td>Hatchback</td>\n",
       "      <td>5 Doors</td>\n",
       "      <td>5 Seats</td>\n",
       "      <td>19990</td>\n",
       "    </tr>\n",
       "    <tr>\n",
       "      <th>2</th>\n",
       "      <td>BMW</td>\n",
       "      <td>2022.0</td>\n",
       "      <td>430I</td>\n",
       "      <td>Coupe</td>\n",
       "      <td>2022 BMW 430I M Sport</td>\n",
       "      <td>USED</td>\n",
       "      <td>Automatic</td>\n",
       "      <td>4 cyl, 2 L</td>\n",
       "      <td>Rear</td>\n",
       "      <td>Premium</td>\n",
       "      <td>6.6 L / 100 km</td>\n",
       "      <td>8472</td>\n",
       "      <td>Grey / White</td>\n",
       "      <td>Sylvania, NSW</td>\n",
       "      <td>4 cyl</td>\n",
       "      <td>Coupe</td>\n",
       "      <td>2 Doors</td>\n",
       "      <td>4 Seats</td>\n",
       "      <td>108988</td>\n",
       "    </tr>\n",
       "    <tr>\n",
       "      <th>3</th>\n",
       "      <td>Mercedes-Benz</td>\n",
       "      <td>2011.0</td>\n",
       "      <td>E500</td>\n",
       "      <td>Coupe</td>\n",
       "      <td>2011 Mercedes-Benz E500 Elegance</td>\n",
       "      <td>USED</td>\n",
       "      <td>Automatic</td>\n",
       "      <td>8 cyl, 5.5 L</td>\n",
       "      <td>Rear</td>\n",
       "      <td>Premium</td>\n",
       "      <td>11 L / 100 km</td>\n",
       "      <td>136517</td>\n",
       "      <td>White / Brown</td>\n",
       "      <td>Mount Druitt, NSW</td>\n",
       "      <td>8 cyl</td>\n",
       "      <td>Coupe</td>\n",
       "      <td>2 Doors</td>\n",
       "      <td>4 Seats</td>\n",
       "      <td>32990</td>\n",
       "    </tr>\n",
       "    <tr>\n",
       "      <th>4</th>\n",
       "      <td>Renault</td>\n",
       "      <td>2022.0</td>\n",
       "      <td>Arkana</td>\n",
       "      <td>SUV</td>\n",
       "      <td>2022 Renault Arkana Intens</td>\n",
       "      <td>USED</td>\n",
       "      <td>Automatic</td>\n",
       "      <td>4 cyl, 1.3 L</td>\n",
       "      <td>Front</td>\n",
       "      <td>Unleaded</td>\n",
       "      <td>6 L / 100 km</td>\n",
       "      <td>1035</td>\n",
       "      <td>Grey / Black</td>\n",
       "      <td>Castle Hill, NSW</td>\n",
       "      <td>4 cyl</td>\n",
       "      <td>SUV</td>\n",
       "      <td>4 Doors</td>\n",
       "      <td>5 Seats</td>\n",
       "      <td>34990</td>\n",
       "    </tr>\n",
       "  </tbody>\n",
       "</table>\n",
       "</div>"
      ]
     },
     "execution_count": 178,
     "metadata": {},
     "output_type": "execute_result"
    }
   ],
   "execution_count": 178
  },
  {
   "metadata": {
    "ExecuteTime": {
     "end_time": "2024-07-31T03:04:01.003901Z",
     "start_time": "2024-07-31T03:04:00.983483Z"
    }
   },
   "cell_type": "code",
   "source": "df[['Brand', 'Year', 'Transmission', 'Engine', 'FuelType', 'Price', 'CylindersinEngine', 'BodyType']].head()",
   "id": "29f2ccab1690b85",
   "outputs": [
    {
     "data": {
      "text/plain": [
       "           Brand    Year Transmission        Engine  FuelType   Price  \\\n",
       "0      Ssangyong  2022.0    Automatic  4 cyl, 2.2 L    Diesel   51990   \n",
       "1             MG  2022.0    Automatic  4 cyl, 1.5 L   Premium   19990   \n",
       "2            BMW  2022.0    Automatic    4 cyl, 2 L   Premium  108988   \n",
       "3  Mercedes-Benz  2011.0    Automatic  8 cyl, 5.5 L   Premium   32990   \n",
       "4        Renault  2022.0    Automatic  4 cyl, 1.3 L  Unleaded   34990   \n",
       "\n",
       "  CylindersinEngine   BodyType  \n",
       "0             4 cyl        SUV  \n",
       "1             4 cyl  Hatchback  \n",
       "2             4 cyl      Coupe  \n",
       "3             8 cyl      Coupe  \n",
       "4             4 cyl        SUV  "
      ],
      "text/html": [
       "<div>\n",
       "<style scoped>\n",
       "    .dataframe tbody tr th:only-of-type {\n",
       "        vertical-align: middle;\n",
       "    }\n",
       "\n",
       "    .dataframe tbody tr th {\n",
       "        vertical-align: top;\n",
       "    }\n",
       "\n",
       "    .dataframe thead th {\n",
       "        text-align: right;\n",
       "    }\n",
       "</style>\n",
       "<table border=\"1\" class=\"dataframe\">\n",
       "  <thead>\n",
       "    <tr style=\"text-align: right;\">\n",
       "      <th></th>\n",
       "      <th>Brand</th>\n",
       "      <th>Year</th>\n",
       "      <th>Transmission</th>\n",
       "      <th>Engine</th>\n",
       "      <th>FuelType</th>\n",
       "      <th>Price</th>\n",
       "      <th>CylindersinEngine</th>\n",
       "      <th>BodyType</th>\n",
       "    </tr>\n",
       "  </thead>\n",
       "  <tbody>\n",
       "    <tr>\n",
       "      <th>0</th>\n",
       "      <td>Ssangyong</td>\n",
       "      <td>2022.0</td>\n",
       "      <td>Automatic</td>\n",
       "      <td>4 cyl, 2.2 L</td>\n",
       "      <td>Diesel</td>\n",
       "      <td>51990</td>\n",
       "      <td>4 cyl</td>\n",
       "      <td>SUV</td>\n",
       "    </tr>\n",
       "    <tr>\n",
       "      <th>1</th>\n",
       "      <td>MG</td>\n",
       "      <td>2022.0</td>\n",
       "      <td>Automatic</td>\n",
       "      <td>4 cyl, 1.5 L</td>\n",
       "      <td>Premium</td>\n",
       "      <td>19990</td>\n",
       "      <td>4 cyl</td>\n",
       "      <td>Hatchback</td>\n",
       "    </tr>\n",
       "    <tr>\n",
       "      <th>2</th>\n",
       "      <td>BMW</td>\n",
       "      <td>2022.0</td>\n",
       "      <td>Automatic</td>\n",
       "      <td>4 cyl, 2 L</td>\n",
       "      <td>Premium</td>\n",
       "      <td>108988</td>\n",
       "      <td>4 cyl</td>\n",
       "      <td>Coupe</td>\n",
       "    </tr>\n",
       "    <tr>\n",
       "      <th>3</th>\n",
       "      <td>Mercedes-Benz</td>\n",
       "      <td>2011.0</td>\n",
       "      <td>Automatic</td>\n",
       "      <td>8 cyl, 5.5 L</td>\n",
       "      <td>Premium</td>\n",
       "      <td>32990</td>\n",
       "      <td>8 cyl</td>\n",
       "      <td>Coupe</td>\n",
       "    </tr>\n",
       "    <tr>\n",
       "      <th>4</th>\n",
       "      <td>Renault</td>\n",
       "      <td>2022.0</td>\n",
       "      <td>Automatic</td>\n",
       "      <td>4 cyl, 1.3 L</td>\n",
       "      <td>Unleaded</td>\n",
       "      <td>34990</td>\n",
       "      <td>4 cyl</td>\n",
       "      <td>SUV</td>\n",
       "    </tr>\n",
       "  </tbody>\n",
       "</table>\n",
       "</div>"
      ]
     },
     "execution_count": 179,
     "metadata": {},
     "output_type": "execute_result"
    }
   ],
   "execution_count": 179
  },
  {
   "metadata": {
    "ExecuteTime": {
     "end_time": "2024-07-31T03:04:01.012445Z",
     "start_time": "2024-07-31T03:04:01.005685Z"
    }
   },
   "cell_type": "code",
   "source": "df['Brand'].nunique()",
   "id": "510bfcfa0649359b",
   "outputs": [
    {
     "data": {
      "text/plain": [
       "76"
      ]
     },
     "execution_count": 180,
     "metadata": {},
     "output_type": "execute_result"
    }
   ],
   "execution_count": 180
  },
  {
   "metadata": {
    "ExecuteTime": {
     "end_time": "2024-07-31T03:04:01.021019Z",
     "start_time": "2024-07-31T03:04:01.013337Z"
    }
   },
   "cell_type": "code",
   "source": "df['DriveType'].unique()",
   "id": "a753fcdd56486879",
   "outputs": [
    {
     "data": {
      "text/plain": [
       "array(['AWD', 'Front', 'Rear', 'Other', '4WD'], dtype=object)"
      ]
     },
     "execution_count": 181,
     "metadata": {},
     "output_type": "execute_result"
    }
   ],
   "execution_count": 181
  },
  {
   "metadata": {
    "ExecuteTime": {
     "end_time": "2024-07-31T03:35:35.506109Z",
     "start_time": "2024-07-31T03:35:35.482837Z"
    }
   },
   "cell_type": "code",
   "source": [
    "def get_x_y(selection=\"all\"):\n",
    "    _x = None\n",
    "    _y = df['DriveType']\n",
    "    if selection == \"all\":\n",
    "        _x = df.drop(columns=['DriveType'])\n",
    "    elif selection == \"nine\":\n",
    "        _x = df[['Brand', 'Year', 'Car/Suv', 'Transmission', 'Engine', 'FuelType', 'Price', 'CylindersinEngine',\n",
    "                 'BodyType']]\n",
    "    elif selection == \"seven\":\n",
    "        _x = df[['Year', 'Transmission', 'Engine', 'FuelType', 'Price', 'CylindersinEngine', 'BodyType']]\n",
    "    return _x, _y\n",
    "\n",
    "\n",
    "def preprocess_data(_x):\n",
    "    \"\"\"\n",
    "    Preprocesses input data 'x' using StandardScaler for numerical features and OneHotEncoder for categorical features.\n",
    "\n",
    "    Parameters:\n",
    "    x (DataFrame): Input DataFrame containing features to be preprocessed.\n",
    "\n",
    "    Returns:\n",
    "    numpy.ndarray: Transformed data after preprocessing.\n",
    "    \"\"\"\n",
    "    numerical_features = ['Year', 'Price']\n",
    "    categorical_features = list(set(_x) - set(numerical_features))\n",
    "\n",
    "    # Define transformers\n",
    "    numerical_transformer = StandardScaler()\n",
    "    categorical_transformer = OneHotEncoder(drop='first')\n",
    "\n",
    "    # Create preprocessor using ColumnTransformer\n",
    "    preprocessor = ColumnTransformer(\n",
    "        transformers=[\n",
    "            ('num', numerical_transformer, numerical_features),\n",
    "            ('cat', categorical_transformer, categorical_features)\n",
    "        ]\n",
    "    )\n",
    "\n",
    "    # Return transformed data\n",
    "    return preprocessor.fit_transform(_x)\n",
    "\n",
    "\n",
    "# Define classification functions\n",
    "def train_random_forest(_x_train, _y_train):\n",
    "    \"\"\"\n",
    "    Trains a Random Forest Classifier using the input training data.\n",
    "\n",
    "    Parameters:\n",
    "    _x_train (numpy.ndarray): Transformed features training data.\n",
    "    _y_train (Series): Target training data.\n",
    "\n",
    "    Returns:\n",
    "    RandomForestClassifier: Trained Random Forest classifier model.\n",
    "    \"\"\"\n",
    "    clf = RandomForestClassifier(random_state=42)\n",
    "    clf.fit(_x_train, _y_train)\n",
    "    return clf\n",
    "\n",
    "\n",
    "def train_svm(_x_train, _y_train):\n",
    "    \"\"\"\n",
    "    Trains a Support Vector Machine (SVM) Classifier using the input training data.\n",
    "\n",
    "    Parameters:\n",
    "    _x_train (numpy.ndarray): Transformed features training data.\n",
    "    _y_train (Series): Target training data.\n",
    "\n",
    "    Returns:\n",
    "    SVC: Trained SVM classifier model.\n",
    "    \"\"\"\n",
    "    clf = SVC(kernel='linear', random_state=42)\n",
    "    clf.fit(_x_train, _y_train)\n",
    "    return clf\n",
    "\n",
    "\n",
    "def evaluate_model(clf, _x_test, _y_test):\n",
    "    \"\"\"\n",
    "    Evaluates the performance of a classifier model using accuracy score on test data.\n",
    "\n",
    "    Parameters:\n",
    "    clf: Trained classifier model.\n",
    "    _x_test (numpy.ndarray): Transformed features test data.\n",
    "    _y_test (Series): Target test data.\n",
    "\n",
    "    Returns:\n",
    "    float: Accuracy score of the model on the test data.\n",
    "    int: the index of the predicted data.\n",
    "    \"\"\"\n",
    "    y_pred = clf.predict(_x_test)\n",
    "    accuracy = accuracy_score(_y_test, y_pred)\n",
    "    return accuracy, y_pred\n",
    "\n",
    "\n",
    "# Function to plot evaluation results using matplotlib\n",
    "def plot_evaluation_results(_models, _accuracies):\n",
    "    \"\"\"\n",
    "    Plots bar chart comparing accuracy scores of different classifier models.\n",
    "\n",
    "    Parameters:\n",
    "    models (list): List of model names.\n",
    "    accuracies (list): List of accuracy scores corresponding to each model.\n",
    "    \"\"\"\n",
    "    plt.figure(figsize=(8, 5))\n",
    "    plt.bar(_models, _accuracies, color=['blue', 'green'])\n",
    "    plt.xlabel('Models')\n",
    "    plt.ylabel('Accuracy')\n",
    "    plt.title('Classifier Accuracy Comparison')\n",
    "    plt.ylim(0, 1)  # Set y-axis limit from 0 to 1 for accuracy percentage\n",
    "    plt.grid(True)\n",
    "    plt.show()\n",
    "\n",
    "\n",
    "# Function to plot evaluation results using Plotly Express\n",
    "def plot_evaluation_results_line(_models, _accuracies):\n",
    "    \"\"\"\n",
    "    Plots line chart comparing accuracy scores of different classifier models using Plotly Express.\n",
    "\n",
    "    Parameters:\n",
    "    models (list): List of model names.\n",
    "    accuracies (list): List of accuracy scores corresponding to each model.\n",
    "    \"\"\"\n",
    "    fig = px.line(x=_models, y=_accuracies, title='Classifier Accuracy Comparison',\n",
    "                  labels={'x': 'Models', 'y': 'Accuracy'})\n",
    "    fig.show()\n",
    "\n",
    "\n",
    "results = []\n",
    "\n",
    "\n",
    "def run_classifiers_model(test_size, _x, _y):\n",
    "    \"\"\"\n",
    "    Runs Random Forest and SVM classifiers on preprocessed data with a specified test size.\n",
    "    Stores the results in a list and optionally prints accuracy scores.\n",
    "\n",
    "    Parameters:\n",
    "    test_size (float): Proportion of the dataset to include in the test split.\n",
    "\n",
    "    Returns:\n",
    "    None\n",
    "    \"\"\"\n",
    "    # Split data into train and test sets\n",
    "    X_processed = preprocess_data(_x)\n",
    "    X_train, X_test, y_train, y_test = train_test_split(X_processed, _y, test_size=test_size, random_state=42)\n",
    "\n",
    "    # Train Random Forest and SVM classifiers\n",
    "    rf_model = train_random_forest(X_train, y_train)\n",
    "    svm_model = train_svm(X_train, y_train)\n",
    "\n",
    "    # Evaluate models on the test set\n",
    "    rf_accuracy, rf_y_pred = evaluate_model(rf_model, X_test, y_test)\n",
    "    svm_accuracy, svm_y_pred = evaluate_model(svm_model, X_test, y_test)\n",
    "\n",
    "    rf_mislabeled_count = (y_test.values.ravel() != rf_y_pred).sum()\n",
    "    svm_mislabeled_count = (y_test.values.ravel() != svm_y_pred).sum()\n",
    "\n",
    "    test_size_count = X_test.shape[0]\n",
    "\n",
    "    print(f\"Features used for this model are: \\n{', '.join(_x.columns)}, \\nTarget = {_y.name}\\n\")\n",
    "    print(f\"Train Size: {(1 - test_size) * 100} and Test Size: {test_size * 100}\\n\")\n",
    "    print(\n",
    "        f\"Random Forest Classifier : Number of mislabeled points out of a total {test_size_count} points : {rf_mislabeled_count}\")\n",
    "    print(\n",
    "        f\"SVM Classifier : Number of mislabeled points out of a total {test_size_count} points : {svm_mislabeled_count}\")\n",
    "\n",
    "    # Append results to the global list 'results'\n",
    "    results.append({\n",
    "        'FeatureSize': len(_x.columns),\n",
    "        'TestSize': test_size_count,\n",
    "        'TestSize(%)': round(test_size * 100, 2),\n",
    "        'RandomForestAccuracy(%)': round(rf_accuracy * 100, 2),\n",
    "        'SVMAccuracy(%)': round(svm_accuracy * 100, 2),\n",
    "        'MislabeledPoints(RF)': rf_mislabeled_count,\n",
    "        'MislabeledPoints(SVM)': svm_mislabeled_count\n",
    "    })\n",
    "\n",
    "    # Plot evaluation results\n",
    "    models = ['Random Forest', 'SVM']\n",
    "    accuracies = [rf_accuracy, svm_accuracy]\n",
    "    plot_evaluation_results(models, accuracies)\n",
    "    print(\"\\n\")\n",
    "\n",
    "    _best_model = None\n",
    "    _best_model_name = None\n",
    "    _best_model_accuracy = 0\n",
    "\n",
    "    if rf_accuracy > svm_accuracy:\n",
    "        _best_model_accuracy = rf_accuracy\n",
    "        _best_model_name = 'Random Forest'\n",
    "        _best_model = rf_model\n",
    "    else:\n",
    "        _best_model_accuracy = svm_accuracy\n",
    "        _best_model_name = 'Support Vector Machine'\n",
    "        _best_model = svm_model\n",
    "\n",
    "    return _best_model, _best_model_name, _best_model_accuracy\n"
   ],
   "id": "bd88b6a297740a1c",
   "outputs": [],
   "execution_count": 203
  },
  {
   "metadata": {
    "ExecuteTime": {
     "end_time": "2024-07-31T03:35:36.442108Z",
     "start_time": "2024-07-31T03:35:36.435807Z"
    }
   },
   "cell_type": "code",
   "source": [
    "best_model = None\n",
    "best_model_name = None\n",
    "best_model_accuracy = 0"
   ],
   "id": "2e1d0a4e16bf9a6a",
   "outputs": [],
   "execution_count": 204
  },
  {
   "metadata": {
    "ExecuteTime": {
     "end_time": "2024-07-31T03:39:04.518053Z",
     "start_time": "2024-07-31T03:35:37.439438Z"
    }
   },
   "cell_type": "code",
   "source": [
    "# Loop through different test sizes and different feature size and run the classifiers\n",
    "test_sizes = [0.3, 0.25, 0.2, 0.15]\n",
    "feature_sizes = [\"all\", \"nine\", \"seven\"]\n",
    "\n",
    "for t_size in test_sizes:\n",
    "    for f_size in feature_sizes:\n",
    "        x, y = get_x_y(f_size)\n",
    "        _b_model, _b_model_name, _b_model_accuracy = run_classifiers_model(t_size, x, y)\n",
    "\n",
    "        # if _b_model_accuracy > best_model_accuracy:\n",
    "        #     best_model_accuracy = _b_model_accuracy\n",
    "        #     best_model_name = _b_model_name\n",
    "        #     best_model = _b_model\n",
    "\n",
    "# Create a DataFrame from the results list\n",
    "results_df = pd.DataFrame(results)"
   ],
   "id": "37f3a45983d1bbef",
   "outputs": [
    {
     "name": "stdout",
     "output_type": "stream",
     "text": [
      "Features used for this model are: \n",
      "Brand, Year, Model, Car/Suv, Title, UsedOrNew, Transmission, Engine, FuelType, FuelConsumption, Kilometres, ColourExtInt, Location, CylindersinEngine, BodyType, Doors, Seats, Price, \n",
      "Target = DriveType\n",
      "\n",
      "Train Size: 70.0 and Test Size: 30.0\n",
      "\n",
      "Random Forest Classifier : Number of mislabeled points out of a total 5021 points : 314\n",
      "SVM Classifier : Number of mislabeled points out of a total 5021 points : 308\n"
     ]
    },
    {
     "data": {
      "text/plain": [
       "<Figure size 800x500 with 1 Axes>"
      ],
      "image/png": "[encoded data removed]"
     },
     "metadata": {},
     "output_type": "display_data"
    },
    {
     "name": "stdout",
     "output_type": "stream",
     "text": [
      "\n",
      "\n",
      "Features used for this model are: \n",
      "Brand, Year, Car/Suv, Transmission, Engine, FuelType, Price, CylindersinEngine, BodyType, \n",
      "Target = DriveType\n",
      "\n",
      "Train Size: 70.0 and Test Size: 30.0\n",
      "\n",
      "Random Forest Classifier : Number of mislabeled points out of a total 5021 points : 527\n",
      "SVM Classifier : Number of mislabeled points out of a total 5021 points : 752\n"
     ]
    },
    {
     "data": {
      "text/plain": [
       "<Figure size 800x500 with 1 Axes>"
      ],
      "image/png": "[encoded data removed]"
     },
     "metadata": {},
     "output_type": "display_data"
    },
    {
     "name": "stdout",
     "output_type": "stream",
     "text": [
      "\n",
      "\n",
      "Features used for this model are: \n",
      "Year, Transmission, Engine, FuelType, Price, CylindersinEngine, BodyType, \n",
      "Target = DriveType\n",
      "\n",
      "Train Size: 70.0 and Test Size: 30.0\n",
      "\n",
      "Random Forest Classifier : Number of mislabeled points out of a total 5021 points : 896\n",
      "SVM Classifier : Number of mislabeled points out of a total 5021 points : 1123\n"
     ]
    },
    {
     "data": {
      "text/plain": [
       "<Figure size 800x500 with 1 Axes>"
      ],
      "image/png": "[encoded data removed]"
     },
     "metadata": {},
     "output_type": "display_data"
    },
    {
     "name": "stdout",
     "output_type": "stream",
     "text": [
      "\n",
      "\n",
      "Features used for this model are: \n",
      "Brand, Year, Model, Car/Suv, Title, UsedOrNew, Transmission, Engine, FuelType, FuelConsumption, Kilometres, ColourExtInt, Location, CylindersinEngine, BodyType, Doors, Seats, Price, \n",
      "Target = DriveType\n",
      "\n",
      "Train Size: 75.0 and Test Size: 25.0\n",
      "\n",
      "Random Forest Classifier : Number of mislabeled points out of a total 4184 points : 247\n",
      "SVM Classifier : Number of mislabeled points out of a total 4184 points : 242\n"
     ]
    },
    {
     "data": {
      "text/plain": [
       "<Figure size 800x500 with 1 Axes>"
      ],
      "image/png": "[encoded data removed]"
     },
     "metadata": {},
     "output_type": "display_data"
    },
    {
     "name": "stdout",
     "output_type": "stream",
     "text": [
      "\n",
      "\n",
      "Features used for this model are: \n",
      "Brand, Year, Car/Suv, Transmission, Engine, FuelType, Price, CylindersinEngine, BodyType, \n",
      "Target = DriveType\n",
      "\n",
      "Train Size: 75.0 and Test Size: 25.0\n",
      "\n",
      "Random Forest Classifier : Number of mislabeled points out of a total 4184 points : 437\n",
      "SVM Classifier : Number of mislabeled points out of a total 4184 points : 631\n"
     ]
    },
    {
     "data": {
      "text/plain": [
       "<Figure size 800x500 with 1 Axes>"
      ],
      "image/png": "[encoded data removed]"
     },
     "metadata": {},
     "output_type": "display_data"
    },
    {
     "name": "stdout",
     "output_type": "stream",
     "text": [
      "\n",
      "\n",
      "Features used for this model are: \n",
      "Year, Transmission, Engine, FuelType, Price, CylindersinEngine, BodyType, \n",
      "Target = DriveType\n",
      "\n",
      "Train Size: 75.0 and Test Size: 25.0\n",
      "\n",
      "Random Forest Classifier : Number of mislabeled points out of a total 4184 points : 735\n",
      "SVM Classifier : Number of mislabeled points out of a total 4184 points : 937\n"
     ]
    },
    {
     "data": {
      "text/plain": [
       "<Figure size 800x500 with 1 Axes>"
      ],
      "image/png": "[encoded data removed]"
     },
     "metadata": {},
     "output_type": "display_data"
    },
    {
     "name": "stdout",
     "output_type": "stream",
     "text": [
      "\n",
      "\n",
      "Features used for this model are: \n",
      "Brand, Year, Model, Car/Suv, Title, UsedOrNew, Transmission, Engine, FuelType, FuelConsumption, Kilometres, ColourExtInt, Location, CylindersinEngine, BodyType, Doors, Seats, Price, \n",
      "Target = DriveType\n",
      "\n",
      "Train Size: 80.0 and Test Size: 20.0\n",
      "\n",
      "Random Forest Classifier : Number of mislabeled points out of a total 3347 points : 194\n",
      "SVM Classifier : Number of mislabeled points out of a total 3347 points : 178\n"
     ]
    },
    {
     "data": {
      "text/plain": [
       "<Figure size 800x500 with 1 Axes>"
      ],
      "image/png": "[encoded data removed]"
     },
     "metadata": {},
     "output_type": "display_data"
    },
    {
     "name": "stdout",
     "output_type": "stream",
     "text": [
      "\n",
      "\n",
      "Features used for this model are: \n",
      "Brand, Year, Car/Suv, Transmission, Engine, FuelType, Price, CylindersinEngine, BodyType, \n",
      "Target = DriveType\n",
      "\n",
      "Train Size: 80.0 and Test Size: 20.0\n",
      "\n",
      "Random Forest Classifier : Number of mislabeled points out of a total 3347 points : 350\n",
      "SVM Classifier : Number of mislabeled points out of a total 3347 points : 493\n"
     ]
    },
    {
     "data": {
      "text/plain": [
       "<Figure size 800x500 with 1 Axes>"
      ],
      "image/png": "[encoded data removed]"
     },
     "metadata": {},
     "output_type": "display_data"
    },
    {
     "name": "stdout",
     "output_type": "stream",
     "text": [
      "\n",
      "\n",
      "Features used for this model are: \n",
      "Year, Transmission, Engine, FuelType, Price, CylindersinEngine, BodyType, \n",
      "Target = DriveType\n",
      "\n",
      "Train Size: 80.0 and Test Size: 20.0\n",
      "\n",
      "Random Forest Classifier : Number of mislabeled points out of a total 3347 points : 575\n",
      "SVM Classifier : Number of mislabeled points out of a total 3347 points : 751\n"
     ]
    },
    {
     "data": {
      "text/plain": [
       "<Figure size 800x500 with 1 Axes>"
      ],
      "image/png": "[encoded data removed]"
     },
     "metadata": {},
     "output_type": "display_data"
    },
    {
     "name": "stdout",
     "output_type": "stream",
     "text": [
      "\n",
      "\n",
      "Features used for this model are: \n",
      "Brand, Year, Model, Car/Suv, Title, UsedOrNew, Transmission, Engine, FuelType, FuelConsumption, Kilometres, ColourExtInt, Location, CylindersinEngine, BodyType, Doors, Seats, Price, \n",
      "Target = DriveType\n",
      "\n",
      "Train Size: 85.0 and Test Size: 15.0\n",
      "\n",
      "Random Forest Classifier : Number of mislabeled points out of a total 2511 points : 135\n",
      "SVM Classifier : Number of mislabeled points out of a total 2511 points : 138\n"
     ]
    },
    {
     "data": {
      "text/plain": [
       "<Figure size 800x500 with 1 Axes>"
      ],
      "image/png": "[encoded data removed]"
     },
     "metadata": {},
     "output_type": "display_data"
    },
    {
     "name": "stdout",
     "output_type": "stream",
     "text": [
      "\n",
      "\n",
      "Features used for this model are: \n",
      "Brand, Year, Car/Suv, Transmission, Engine, FuelType, Price, CylindersinEngine, BodyType, \n",
      "Target = DriveType\n",
      "\n",
      "Train Size: 85.0 and Test Size: 15.0\n",
      "\n",
      "Random Forest Classifier : Number of mislabeled points out of a total 2511 points : 255\n",
      "SVM Classifier : Number of mislabeled points out of a total 2511 points : 384\n"
     ]
    },
    {
     "data": {
      "text/plain": [
       "<Figure size 800x500 with 1 Axes>"
      ],
      "image/png": "[encoded data removed]"
     },
     "metadata": {},
     "output_type": "display_data"
    },
    {
     "name": "stdout",
     "output_type": "stream",
     "text": [
      "\n",
      "\n",
      "Features used for this model are: \n",
      "Year, Transmission, Engine, FuelType, Price, CylindersinEngine, BodyType, \n",
      "Target = DriveType\n",
      "\n",
      "Train Size: 85.0 and Test Size: 15.0\n",
      "\n",
      "Random Forest Classifier : Number of mislabeled points out of a total 2511 points : 431\n",
      "SVM Classifier : Number of mislabeled points out of a total 2511 points : 559\n"
     ]
    },
    {
     "data": {
      "text/plain": [
       "<Figure size 800x500 with 1 Axes>"
      ],
      "image/png": "[encoded data removed]"
     },
     "metadata": {},
     "output_type": "display_data"
    },
    {
     "name": "stdout",
     "output_type": "stream",
     "text": [
      "\n",
      "\n"
     ]
    }
   ],
   "execution_count": 205
  },
  {
   "metadata": {
    "ExecuteTime": {
     "end_time": "2024-07-31T03:39:04.545617Z",
     "start_time": "2024-07-31T03:39:04.523525Z"
    }
   },
   "cell_type": "code",
   "source": [
    "print(\"Results DataFrame:\")\n",
    "results_df"
   ],
   "id": "86e9eded7a972562",
   "outputs": [
    {
     "name": "stdout",
     "output_type": "stream",
     "text": [
      "Results DataFrame:\n"
     ]
    },
    {
     "data": {
      "text/plain": [
       "    FeatureSize  TestSize  TestSize(%)  RandomForestAccuracy(%)  \\\n",
       "0            18      5021         30.0                    93.75   \n",
       "1             9      5021         30.0                    89.50   \n",
       "2             7      5021         30.0                    82.15   \n",
       "3            18      4184         25.0                    94.10   \n",
       "4             9      4184         25.0                    89.56   \n",
       "5             7      4184         25.0                    82.43   \n",
       "6            18      3347         20.0                    94.20   \n",
       "7             9      3347         20.0                    89.54   \n",
       "8             7      3347         20.0                    82.82   \n",
       "9            18      2511         15.0                    94.62   \n",
       "10            9      2511         15.0                    89.84   \n",
       "11            7      2511         15.0                    82.84   \n",
       "\n",
       "    SVMAccuracy(%)  MislabeledPoints(RF)  MislabeledPoints(SVM)  \n",
       "0            93.87                   314                    308  \n",
       "1            85.02                   527                    752  \n",
       "2            77.63                   896                   1123  \n",
       "3            94.22                   247                    242  \n",
       "4            84.92                   437                    631  \n",
       "5            77.61                   735                    937  \n",
       "6            94.68                   194                    178  \n",
       "7            85.27                   350                    493  \n",
       "8            77.56                   575                    751  \n",
       "9            94.50                   135                    138  \n",
       "10           84.71                   255                    384  \n",
       "11           77.74                   431                    559  "
      ],
      "text/html": [
       "<div>\n",
       "<style scoped>\n",
       "    .dataframe tbody tr th:only-of-type {\n",
       "        vertical-align: middle;\n",
       "    }\n",
       "\n",
       "    .dataframe tbody tr th {\n",
       "        vertical-align: top;\n",
       "    }\n",
       "\n",
       "    .dataframe thead th {\n",
       "        text-align: right;\n",
       "    }\n",
       "</style>\n",
       "<table border=\"1\" class=\"dataframe\">\n",
       "  <thead>\n",
       "    <tr style=\"text-align: right;\">\n",
       "      <th></th>\n",
       "      <th>FeatureSize</th>\n",
       "      <th>TestSize</th>\n",
       "      <th>TestSize(%)</th>\n",
       "      <th>RandomForestAccuracy(%)</th>\n",
       "      <th>SVMAccuracy(%)</th>\n",
       "      <th>MislabeledPoints(RF)</th>\n",
       "      <th>MislabeledPoints(SVM)</th>\n",
       "    </tr>\n",
       "  </thead>\n",
       "  <tbody>\n",
       "    <tr>\n",
       "      <th>0</th>\n",
       "      <td>18</td>\n",
       "      <td>5021</td>\n",
       "      <td>30.0</td>\n",
       "      <td>93.75</td>\n",
       "      <td>93.87</td>\n",
       "      <td>314</td>\n",
       "      <td>308</td>\n",
       "    </tr>\n",
       "    <tr>\n",
       "      <th>1</th>\n",
       "      <td>9</td>\n",
       "      <td>5021</td>\n",
       "      <td>30.0</td>\n",
       "      <td>89.50</td>\n",
       "      <td>85.02</td>\n",
       "      <td>527</td>\n",
       "      <td>752</td>\n",
       "    </tr>\n",
       "    <tr>\n",
       "      <th>2</th>\n",
       "      <td>7</td>\n",
       "      <td>5021</td>\n",
       "      <td>30.0</td>\n",
       "      <td>82.15</td>\n",
       "      <td>77.63</td>\n",
       "      <td>896</td>\n",
       "      <td>1123</td>\n",
       "    </tr>\n",
       "    <tr>\n",
       "      <th>3</th>\n",
       "      <td>18</td>\n",
       "      <td>4184</td>\n",
       "      <td>25.0</td>\n",
       "      <td>94.10</td>\n",
       "      <td>94.22</td>\n",
       "      <td>247</td>\n",
       "      <td>242</td>\n",
       "    </tr>\n",
       "    <tr>\n",
       "      <th>4</th>\n",
       "      <td>9</td>\n",
       "      <td>4184</td>\n",
       "      <td>25.0</td>\n",
       "      <td>89.56</td>\n",
       "      <td>84.92</td>\n",
       "      <td>437</td>\n",
       "      <td>631</td>\n",
       "    </tr>\n",
       "    <tr>\n",
       "      <th>5</th>\n",
       "      <td>7</td>\n",
       "      <td>4184</td>\n",
       "      <td>25.0</td>\n",
       "      <td>82.43</td>\n",
       "      <td>77.61</td>\n",
       "      <td>735</td>\n",
       "      <td>937</td>\n",
       "    </tr>\n",
       "    <tr>\n",
       "      <th>6</th>\n",
       "      <td>18</td>\n",
       "      <td>3347</td>\n",
       "      <td>20.0</td>\n",
       "      <td>94.20</td>\n",
       "      <td>94.68</td>\n",
       "      <td>194</td>\n",
       "      <td>178</td>\n",
       "    </tr>\n",
       "    <tr>\n",
       "      <th>7</th>\n",
       "      <td>9</td>\n",
       "      <td>3347</td>\n",
       "      <td>20.0</td>\n",
       "      <td>89.54</td>\n",
       "      <td>85.27</td>\n",
       "      <td>350</td>\n",
       "      <td>493</td>\n",
       "    </tr>\n",
       "    <tr>\n",
       "      <th>8</th>\n",
       "      <td>7</td>\n",
       "      <td>3347</td>\n",
       "      <td>20.0</td>\n",
       "      <td>82.82</td>\n",
       "      <td>77.56</td>\n",
       "      <td>575</td>\n",
       "      <td>751</td>\n",
       "    </tr>\n",
       "    <tr>\n",
       "      <th>9</th>\n",
       "      <td>18</td>\n",
       "      <td>2511</td>\n",
       "      <td>15.0</td>\n",
       "      <td>94.62</td>\n",
       "      <td>94.50</td>\n",
       "      <td>135</td>\n",
       "      <td>138</td>\n",
       "    </tr>\n",
       "    <tr>\n",
       "      <th>10</th>\n",
       "      <td>9</td>\n",
       "      <td>2511</td>\n",
       "      <td>15.0</td>\n",
       "      <td>89.84</td>\n",
       "      <td>84.71</td>\n",
       "      <td>255</td>\n",
       "      <td>384</td>\n",
       "    </tr>\n",
       "    <tr>\n",
       "      <th>11</th>\n",
       "      <td>7</td>\n",
       "      <td>2511</td>\n",
       "      <td>15.0</td>\n",
       "      <td>82.84</td>\n",
       "      <td>77.74</td>\n",
       "      <td>431</td>\n",
       "      <td>559</td>\n",
       "    </tr>\n",
       "  </tbody>\n",
       "</table>\n",
       "</div>"
      ]
     },
     "execution_count": 206,
     "metadata": {},
     "output_type": "execute_result"
    }
   ],
   "execution_count": 206
  }
 ],
 "metadata": {
  "kernelspec": {
   "display_name": "Python 3",
   "language": "python",
   "name": "python3"
  },
  "language_info": {
   "codemirror_mode": {
    "name": "ipython",
    "version": 2
   },
   "file_extension": ".py",
   "mimetype": "text/x-python",
   "name": "python",
   "nbconvert_exporter": "python",
   "pygments_lexer": "ipython2",
   "version": "2.7.6"
  }
 },
 "nbformat": 4,
 "nbformat_minor": 5
}
